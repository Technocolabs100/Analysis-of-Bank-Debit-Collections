{
  "nbformat": 4,
  "cells": [
    {
      "cell_type": "markdown",
      "metadata": {
        "id": "view-in-github",
        "colab_type": "text"
      },
      "source": [
        "<a href=\"https://colab.research.google.com/github/anas1IA/Analysis-of-Bank-Debit-Collections/blob/test_features/ANAS_NOURI_PROJECT.ipynb\" target=\"_parent\"><img src=\"https://colab.research.google.com/assets/colab-badge.svg\" alt=\"Open In Colab\"/></a>"
      ]
    },
    {
      "cell_type": "code",
      "source": [
        "import pandas as pd\n",
        "import numpy as np\n",
        "from matplotlib import pyplot as plt\n",
        "%matplotlib inline\n",
        "from scipy import stats\n",
        "import statsmodels.api as sm"
      ],
      "metadata": {
        "id": "qjl2-plbGmow"
      },
      "execution_count": 33,
      "outputs": []
    },
    {
      "cell_type": "markdown",
      "metadata": {
        "dc": {
          "key": "4"
        },
        "editable": false,
        "deletable": false,
        "tags": [
          "context"
        ],
        "run_control": {
          "frozen": true
        },
        "id": "-Wi2UccveXcM"
      },
      "source": [
        "## 1. Regression discontinuity: banking recovery\n",
        "\n"
      ]
    },
    {
      "execution_count": 34,
      "outputs": [
        {
          "output_type": "execute_result",
          "data": {
            "text/plain": [
              "        id  expected_recovery_amount  actual_recovery_amount  \\\n",
              "0     2030                       194              263.540000   \n",
              "1     1150                       486              416.090000   \n",
              "2      380                       527              429.350000   \n",
              "3     1838                       536              296.990000   \n",
              "4     1995                       541              346.385000   \n",
              "...    ...                       ...                     ...   \n",
              "1877   361                      9785            15388.195990   \n",
              "1878   196                      9857             9709.909257   \n",
              "1879   313                      9859            30209.181790   \n",
              "1880  1781                      9920            20386.232190   \n",
              "1881   522                      9964            16706.305920   \n",
              "\n",
              "     recovery_strategy  age     sex  \n",
              "0     Level 0 Recovery   19    Male  \n",
              "1     Level 0 Recovery   25  Female  \n",
              "2     Level 0 Recovery   27    Male  \n",
              "3     Level 0 Recovery   25    Male  \n",
              "4     Level 0 Recovery   34    Male  \n",
              "...                ...  ...     ...  \n",
              "1877  Level 4 Recovery   65  Female  \n",
              "1878  Level 4 Recovery   68  Female  \n",
              "1879  Level 4 Recovery   58  Female  \n",
              "1880  Level 4 Recovery   67  Female  \n",
              "1881  Level 4 Recovery   53    Male  \n",
              "\n",
              "[1882 rows x 6 columns]"
            ],
            "text/html": [
              "\n",
              "\n",
              "  <div id=\"df-00dc029d-aa96-43f0-b40c-89dadefd32f8\">\n",
              "    <div class=\"colab-df-container\">\n",
              "      <div>\n",
              "<style scoped>\n",
              "    .dataframe tbody tr th:only-of-type {\n",
              "        vertical-align: middle;\n",
              "    }\n",
              "\n",
              "    .dataframe tbody tr th {\n",
              "        vertical-align: top;\n",
              "    }\n",
              "\n",
              "    .dataframe thead th {\n",
              "        text-align: right;\n",
              "    }\n",
              "</style>\n",
              "<table border=\"1\" class=\"dataframe\">\n",
              "  <thead>\n",
              "    <tr style=\"text-align: right;\">\n",
              "      <th></th>\n",
              "      <th>id</th>\n",
              "      <th>expected_recovery_amount</th>\n",
              "      <th>actual_recovery_amount</th>\n",
              "      <th>recovery_strategy</th>\n",
              "      <th>age</th>\n",
              "      <th>sex</th>\n",
              "    </tr>\n",
              "  </thead>\n",
              "  <tbody>\n",
              "    <tr>\n",
              "      <th>0</th>\n",
              "      <td>2030</td>\n",
              "      <td>194</td>\n",
              "      <td>263.540000</td>\n",
              "      <td>Level 0 Recovery</td>\n",
              "      <td>19</td>\n",
              "      <td>Male</td>\n",
              "    </tr>\n",
              "    <tr>\n",
              "      <th>1</th>\n",
              "      <td>1150</td>\n",
              "      <td>486</td>\n",
              "      <td>416.090000</td>\n",
              "      <td>Level 0 Recovery</td>\n",
              "      <td>25</td>\n",
              "      <td>Female</td>\n",
              "    </tr>\n",
              "    <tr>\n",
              "      <th>2</th>\n",
              "      <td>380</td>\n",
              "      <td>527</td>\n",
              "      <td>429.350000</td>\n",
              "      <td>Level 0 Recovery</td>\n",
              "      <td>27</td>\n",
              "      <td>Male</td>\n",
              "    </tr>\n",
              "    <tr>\n",
              "      <th>3</th>\n",
              "      <td>1838</td>\n",
              "      <td>536</td>\n",
              "      <td>296.990000</td>\n",
              "      <td>Level 0 Recovery</td>\n",
              "      <td>25</td>\n",
              "      <td>Male</td>\n",
              "    </tr>\n",
              "    <tr>\n",
              "      <th>4</th>\n",
              "      <td>1995</td>\n",
              "      <td>541</td>\n",
              "      <td>346.385000</td>\n",
              "      <td>Level 0 Recovery</td>\n",
              "      <td>34</td>\n",
              "      <td>Male</td>\n",
              "    </tr>\n",
              "    <tr>\n",
              "      <th>...</th>\n",
              "      <td>...</td>\n",
              "      <td>...</td>\n",
              "      <td>...</td>\n",
              "      <td>...</td>\n",
              "      <td>...</td>\n",
              "      <td>...</td>\n",
              "    </tr>\n",
              "    <tr>\n",
              "      <th>1877</th>\n",
              "      <td>361</td>\n",
              "      <td>9785</td>\n",
              "      <td>15388.195990</td>\n",
              "      <td>Level 4 Recovery</td>\n",
              "      <td>65</td>\n",
              "      <td>Female</td>\n",
              "    </tr>\n",
              "    <tr>\n",
              "      <th>1878</th>\n",
              "      <td>196</td>\n",
              "      <td>9857</td>\n",
              "      <td>9709.909257</td>\n",
              "      <td>Level 4 Recovery</td>\n",
              "      <td>68</td>\n",
              "      <td>Female</td>\n",
              "    </tr>\n",
              "    <tr>\n",
              "      <th>1879</th>\n",
              "      <td>313</td>\n",
              "      <td>9859</td>\n",
              "      <td>30209.181790</td>\n",
              "      <td>Level 4 Recovery</td>\n",
              "      <td>58</td>\n",
              "      <td>Female</td>\n",
              "    </tr>\n",
              "    <tr>\n",
              "      <th>1880</th>\n",
              "      <td>1781</td>\n",
              "      <td>9920</td>\n",
              "      <td>20386.232190</td>\n",
              "      <td>Level 4 Recovery</td>\n",
              "      <td>67</td>\n",
              "      <td>Female</td>\n",
              "    </tr>\n",
              "    <tr>\n",
              "      <th>1881</th>\n",
              "      <td>522</td>\n",
              "      <td>9964</td>\n",
              "      <td>16706.305920</td>\n",
              "      <td>Level 4 Recovery</td>\n",
              "      <td>53</td>\n",
              "      <td>Male</td>\n",
              "    </tr>\n",
              "  </tbody>\n",
              "</table>\n",
              "<p>1882 rows × 6 columns</p>\n",
              "</div>\n",
              "      <button class=\"colab-df-convert\" onclick=\"convertToInteractive('df-00dc029d-aa96-43f0-b40c-89dadefd32f8')\"\n",
              "              title=\"Convert this dataframe to an interactive table.\"\n",
              "              style=\"display:none;\">\n",
              "\n",
              "  <svg xmlns=\"http://www.w3.org/2000/svg\" height=\"24px\"viewBox=\"0 0 24 24\"\n",
              "       width=\"24px\">\n",
              "    <path d=\"M0 0h24v24H0V0z\" fill=\"none\"/>\n",
              "    <path d=\"M18.56 5.44l.94 2.06.94-2.06 2.06-.94-2.06-.94-.94-2.06-.94 2.06-2.06.94zm-11 1L8.5 8.5l.94-2.06 2.06-.94-2.06-.94L8.5 2.5l-.94 2.06-2.06.94zm10 10l.94 2.06.94-2.06 2.06-.94-2.06-.94-.94-2.06-.94 2.06-2.06.94z\"/><path d=\"M17.41 7.96l-1.37-1.37c-.4-.4-.92-.59-1.43-.59-.52 0-1.04.2-1.43.59L10.3 9.45l-7.72 7.72c-.78.78-.78 2.05 0 2.83L4 21.41c.39.39.9.59 1.41.59.51 0 1.02-.2 1.41-.59l7.78-7.78 2.81-2.81c.8-.78.8-2.07 0-2.86zM5.41 20L4 18.59l7.72-7.72 1.47 1.35L5.41 20z\"/>\n",
              "  </svg>\n",
              "      </button>\n",
              "\n",
              "\n",
              "\n",
              "    <div id=\"df-3569b787-6f90-4415-a2c2-3c1bfd4735d7\">\n",
              "      <button class=\"colab-df-quickchart\" onclick=\"quickchart('df-3569b787-6f90-4415-a2c2-3c1bfd4735d7')\"\n",
              "              title=\"Suggest charts.\"\n",
              "              style=\"display:none;\">\n",
              "\n",
              "<svg xmlns=\"http://www.w3.org/2000/svg\" height=\"24px\"viewBox=\"0 0 24 24\"\n",
              "     width=\"24px\">\n",
              "    <g>\n",
              "        <path d=\"M19 3H5c-1.1 0-2 .9-2 2v14c0 1.1.9 2 2 2h14c1.1 0 2-.9 2-2V5c0-1.1-.9-2-2-2zM9 17H7v-7h2v7zm4 0h-2V7h2v10zm4 0h-2v-4h2v4z\"/>\n",
              "    </g>\n",
              "</svg>\n",
              "      </button>\n",
              "    </div>\n",
              "\n",
              "<style>\n",
              "  .colab-df-quickchart {\n",
              "    background-color: #E8F0FE;\n",
              "    border: none;\n",
              "    border-radius: 50%;\n",
              "    cursor: pointer;\n",
              "    display: none;\n",
              "    fill: #1967D2;\n",
              "    height: 32px;\n",
              "    padding: 0 0 0 0;\n",
              "    width: 32px;\n",
              "  }\n",
              "\n",
              "  .colab-df-quickchart:hover {\n",
              "    background-color: #E2EBFA;\n",
              "    box-shadow: 0px 1px 2px rgba(60, 64, 67, 0.3), 0px 1px 3px 1px rgba(60, 64, 67, 0.15);\n",
              "    fill: #174EA6;\n",
              "  }\n",
              "\n",
              "  [theme=dark] .colab-df-quickchart {\n",
              "    background-color: #3B4455;\n",
              "    fill: #D2E3FC;\n",
              "  }\n",
              "\n",
              "  [theme=dark] .colab-df-quickchart:hover {\n",
              "    background-color: #434B5C;\n",
              "    box-shadow: 0px 1px 3px 1px rgba(0, 0, 0, 0.15);\n",
              "    filter: drop-shadow(0px 1px 2px rgba(0, 0, 0, 0.3));\n",
              "    fill: #FFFFFF;\n",
              "  }\n",
              "</style>\n",
              "\n",
              "    <script>\n",
              "      async function quickchart(key) {\n",
              "        const containerElement = document.querySelector('#' + key);\n",
              "        const charts = await google.colab.kernel.invokeFunction(\n",
              "            'suggestCharts', [key], {});\n",
              "      }\n",
              "    </script>\n",
              "\n",
              "      <script>\n",
              "\n",
              "function displayQuickchartButton(domScope) {\n",
              "  let quickchartButtonEl =\n",
              "    domScope.querySelector('#df-3569b787-6f90-4415-a2c2-3c1bfd4735d7 button.colab-df-quickchart');\n",
              "  quickchartButtonEl.style.display =\n",
              "    google.colab.kernel.accessAllowed ? 'block' : 'none';\n",
              "}\n",
              "\n",
              "        displayQuickchartButton(document);\n",
              "      </script>\n",
              "      <style>\n",
              "    .colab-df-container {\n",
              "      display:flex;\n",
              "      flex-wrap:wrap;\n",
              "      gap: 12px;\n",
              "    }\n",
              "\n",
              "    .colab-df-convert {\n",
              "      background-color: #E8F0FE;\n",
              "      border: none;\n",
              "      border-radius: 50%;\n",
              "      cursor: pointer;\n",
              "      display: none;\n",
              "      fill: #1967D2;\n",
              "      height: 32px;\n",
              "      padding: 0 0 0 0;\n",
              "      width: 32px;\n",
              "    }\n",
              "\n",
              "    .colab-df-convert:hover {\n",
              "      background-color: #E2EBFA;\n",
              "      box-shadow: 0px 1px 2px rgba(60, 64, 67, 0.3), 0px 1px 3px 1px rgba(60, 64, 67, 0.15);\n",
              "      fill: #174EA6;\n",
              "    }\n",
              "\n",
              "    [theme=dark] .colab-df-convert {\n",
              "      background-color: #3B4455;\n",
              "      fill: #D2E3FC;\n",
              "    }\n",
              "\n",
              "    [theme=dark] .colab-df-convert:hover {\n",
              "      background-color: #434B5C;\n",
              "      box-shadow: 0px 1px 3px 1px rgba(0, 0, 0, 0.15);\n",
              "      filter: drop-shadow(0px 1px 2px rgba(0, 0, 0, 0.3));\n",
              "      fill: #FFFFFF;\n",
              "    }\n",
              "  </style>\n",
              "\n",
              "      <script>\n",
              "        const buttonEl =\n",
              "          document.querySelector('#df-00dc029d-aa96-43f0-b40c-89dadefd32f8 button.colab-df-convert');\n",
              "        buttonEl.style.display =\n",
              "          google.colab.kernel.accessAllowed ? 'block' : 'none';\n",
              "\n",
              "        async function convertToInteractive(key) {\n",
              "          const element = document.querySelector('#df-00dc029d-aa96-43f0-b40c-89dadefd32f8');\n",
              "          const dataTable =\n",
              "            await google.colab.kernel.invokeFunction('convertToInteractive',\n",
              "                                                     [key], {});\n",
              "          if (!dataTable) return;\n",
              "\n",
              "          const docLinkHtml = 'Like what you see? Visit the ' +\n",
              "            '<a target=\"_blank\" href=https://colab.research.google.com/notebooks/data_table.ipynb>data table notebook</a>'\n",
              "            + ' to learn more about interactive tables.';\n",
              "          element.innerHTML = '';\n",
              "          dataTable['output_type'] = 'display_data';\n",
              "          await google.colab.output.renderOutput(dataTable, element);\n",
              "          const docLink = document.createElement('div');\n",
              "          docLink.innerHTML = docLinkHtml;\n",
              "          element.appendChild(docLink);\n",
              "        }\n",
              "      </script>\n",
              "    </div>\n",
              "  </div>\n"
            ]
          },
          "metadata": {},
          "execution_count": 34
        }
      ],
      "cell_type": "code",
      "metadata": {
        "trusted": true,
        "dc": {
          "key": "4"
        },
        "tags": [
          "sample_code"
        ],
        "id": "uJWGu5CAeXck",
        "outputId": "555618d9-89c4-4b69-bf3f-352ec27c96d3",
        "colab": {
          "base_uri": "https://localhost:8080/",
          "height": 487
        }
      },
      "source": [
        "\n",
        "data = pd.read_csv('bank_data.csv')\n",
        "data"
      ]
    },
    {
      "cell_type": "markdown",
      "metadata": {
        "dc": {
          "key": "11"
        },
        "editable": false,
        "deletable": false,
        "tags": [
          "context"
        ],
        "run_control": {
          "frozen": true
        },
        "id": "Fxa5H6eHeXcv"
      },
      "source": [
        "## 2. Graphical exploratory data analysis\n",
        "\n"
      ]
    },
    {
      "execution_count": 35,
      "outputs": [
        {
          "output_type": "display_data",
          "data": {
            "text/plain": [
              "<Figure size 640x480 with 1 Axes>"
            ],
            "image/png": "[encoded data removed]"
          },
          "metadata": {}
        }
      ],
      "cell_type": "code",
      "metadata": {
        "trusted": true,
        "dc": {
          "key": "11"
        },
        "tags": [
          "sample_code"
        ],
        "id": "Dkdzm_JDeXcx",
        "outputId": "209785fd-9a4f-455c-a3d4-34bb2a717596",
        "colab": {
          "base_uri": "https://localhost:8080/",
          "height": 455
        }
      },
      "source": [
        "# Scatter plot of Age vs. Expected Recovery Amount\n",
        "plt.scatter(x=data['expected_recovery_amount'], y=data['age'], c=\"g\", s=2)\n",
        "plt.xlim(0, 2000)\n",
        "plt.ylim(0, 60)\n",
        "plt.xlabel('Expected Recovery Amount')\n",
        "plt.ylabel('Age')\n",
        "plt.show()"
      ]
    },
    {
      "cell_type": "markdown",
      "metadata": {
        "dc": {
          "key": "18"
        },
        "editable": false,
        "deletable": false,
        "tags": [
          "context"
        ],
        "run_control": {
          "frozen": true
        },
        "id": "o8L4Ms_KeXc0"
      },
      "source": [
        "## 3. Statistical test:  age vs. expected recovery amount\n"
      ]
    },
    {
      "execution_count": 36,
      "outputs": [
        {
          "output_type": "execute_result",
          "data": {
            "text/plain": [
              "KruskalResult(statistic=3.4572342749517513, pvalue=0.06297556896097407)"
            ]
          },
          "metadata": {},
          "execution_count": 36
        }
      ],
      "cell_type": "code",
      "metadata": {
        "trusted": true,
        "dc": {
          "key": "18"
        },
        "tags": [
          "sample_code"
        ],
        "id": "2JDJvbMieXc2",
        "outputId": "2d58068d-01e8-4cc3-b8a7-799749dd809d",
        "colab": {
          "base_uri": "https://localhost:8080/"
        }
      },
      "source": [
        "\n",
        "# Compute average age just below and above the threshold\n",
        "Expect_900_1100 = data.loc[(data['expected_recovery_amount']<1100) &\n",
        "                      (data['expected_recovery_amount']>=900)]\n",
        "b_recovery_strategy = Expect_900_1100.groupby(['recovery_strategy'])\n",
        "b_recovery_strategy['age'].describe().unstack()\n",
        "\n",
        "# Perform Kruskal-Wallis test\n",
        "Level_0_age = Expect_900_1100.loc[data['recovery_strategy']==\"Level 0 Recovery\"]['age']\n",
        "Level_1_age = Expect_900_1100.loc[data['recovery_strategy']==\"Level 1 Recovery\"]['age']\n",
        "stats.kruskal(Level_0_age, Level_1_age)"
      ]
    },
    {
      "cell_type": "markdown",
      "metadata": {
        "dc": {
          "key": "26"
        },
        "editable": false,
        "deletable": false,
        "tags": [
          "context"
        ],
        "run_control": {
          "frozen": true
        },
        "id": "q2rJ7nbDeXc5"
      },
      "source": [
        "## 4. Statistical test:  sex vs. expected recovery amount\n"
      ]
    },
    {
      "execution_count": 37,
      "outputs": [
        {
          "output_type": "stream",
          "name": "stdout",
          "text": [
            "sex                Female  Male\n",
            "recovery_strategy              \n",
            "Level 0 Recovery      108   139\n",
            "Level 1 Recovery      316   354\n",
            "0.3941650543686612\n"
          ]
        }
      ],
      "cell_type": "code",
      "metadata": {
        "trusted": true,
        "dc": {
          "key": "26"
        },
        "tags": [
          "sample_code"
        ],
        "id": "Yurd6KcDeXc7",
        "outputId": "ed1fc3f8-d5d4-4911-a033-c859a9c45d26",
        "colab": {
          "base_uri": "https://localhost:8080/"
        }
      },
      "source": [
        "# Number of customers in each category\n",
        "cross = pd.crosstab(data.loc[(data['expected_recovery_amount']<2000) &\n",
        "                              (data['expected_recovery_amount']>=0)]['recovery_strategy'],\n",
        "                       data['sex'])\n",
        "print(cross)\n",
        "\n",
        "# Chi-square test\n",
        "chi2_stat, p_val, dof, ex = stats.chi2_contingency(cross)\n",
        "print(p_val)"
      ]
    },
    {
      "cell_type": "markdown",
      "metadata": {
        "dc": {
          "key": "33"
        },
        "editable": false,
        "deletable": false,
        "tags": [
          "context"
        ],
        "run_control": {
          "frozen": true
        },
        "id": "cBhNkH6LeXc-"
      },
      "source": [
        "## 5. Exploratory graphical analysis: recovery amount\n"
      ]
    },
    {
      "execution_count": 38,
      "outputs": [
        {
          "output_type": "display_data",
          "data": {
            "text/plain": [
              "<Figure size 640x480 with 1 Axes>"
            ],
            "image/png": "[encoded data removed]"
          },
          "metadata": {}
        }
      ],
      "cell_type": "code",
      "metadata": {
        "trusted": true,
        "dc": {
          "key": "33"
        },
        "tags": [
          "sample_code"
        ],
        "id": "19VN6Q5AeXc_",
        "outputId": "f2b4751f-c218-44a0-bf23-09267ec58530",
        "colab": {
          "base_uri": "https://localhost:8080/",
          "height": 455
        }
      },
      "source": [
        "# Scatter plot of Actual Recovery Amount vs. Expected Recovery Amount\n",
        "plt.scatter(x=data['expected_recovery_amount'], y=data['actual_recovery_amount'], c=\"g\", s=2)\n",
        "plt.xlim(900, 1100)\n",
        "plt.ylim(0, 2000)\n",
        "plt.xlabel(\"Expected Recovery Amount\")\n",
        "plt.ylabel(\"Actual Recovery Amount\")\n",
        "plt.show()"
      ]
    },
    {
      "cell_type": "markdown",
      "metadata": {
        "dc": {
          "key": "40"
        },
        "editable": false,
        "deletable": false,
        "tags": [
          "context"
        ],
        "run_control": {
          "frozen": true
        },
        "id": "eUBWIeWgeXdD"
      },
      "source": [
        "## 6. Statistical analysis:  recovery amount\n"
      ]
    },
    {
      "execution_count": 39,
      "outputs": [
        {
          "output_type": "stream",
          "name": "stdout",
          "text": [
            "KruskalResult(statistic=65.37966302528878, pvalue=6.177308752803109e-16)\n"
          ]
        },
        {
          "output_type": "execute_result",
          "data": {
            "text/plain": [
              "KruskalResult(statistic=30.246000000000038, pvalue=3.80575314300276e-08)"
            ]
          },
          "metadata": {},
          "execution_count": 39
        }
      ],
      "cell_type": "code",
      "metadata": {
        "trusted": true,
        "dc": {
          "key": "40"
        },
        "tags": [
          "sample_code"
        ],
        "id": "7xpnM6gpeXdF",
        "outputId": "3fe0ad53-08b9-44f9-f23b-098581b06062",
        "colab": {
          "base_uri": "https://localhost:8080/"
        }
      },
      "source": [
        "# Compute average actual recovery amount just below and above the threshold\n",
        "b_recovery_strategy['actual_recovery_amount'].describe().unstack()\n",
        "\n",
        "# Perform Kruskal-Wallis test\n",
        "Level_0_actual = Expect_900_1100.loc[data['recovery_strategy']=='Level 0 Recovery']['actual_recovery_amount']\n",
        "Level_1_actual = Expect_900_1100.loc[data['recovery_strategy']=='Level 1 Recovery']['actual_recovery_amount']\n",
        "print(stats.kruskal(Level_0_actual, Level_1_actual))\n",
        "\n",
        "# Repeat for a smaller range of $950 to $1050\n",
        "Expect_950_1050  = data.loc[(data['expected_recovery_amount']<1050) &\n",
        "                      (data['expected_recovery_amount']>=950)]\n",
        "Level_0_actual = Expect_950_1050.loc[data['recovery_strategy']=='Level 0 Recovery']['actual_recovery_amount']\n",
        "Level_1_actual = Expect_950_1050.loc[data['recovery_strategy']=='Level 1 Recovery']['actual_recovery_amount']\n",
        "stats.kruskal(Level_0_actual, Level_1_actual)"
      ]
    },
    {
      "cell_type": "markdown",
      "metadata": {
        "dc": {
          "key": "48"
        },
        "editable": false,
        "deletable": false,
        "tags": [
          "context"
        ],
        "run_control": {
          "frozen": true
        },
        "id": "2Yf0_1g4eXdG"
      },
      "source": [
        "## 7. Regression modeling: no threshold\n"
      ]
    },
    {
      "execution_count": 40,
      "outputs": [
        {
          "output_type": "execute_result",
          "data": {
            "text/plain": [
              "<class 'statsmodels.iolib.summary.Summary'>\n",
              "\"\"\"\n",
              "                              OLS Regression Results                              \n",
              "==================================================================================\n",
              "Dep. Variable:     actual_recovery_amount   R-squared:                       0.261\n",
              "Model:                                OLS   Adj. R-squared:                  0.256\n",
              "Method:                     Least Squares   F-statistic:                     63.78\n",
              "Date:                    Tue, 25 Jul 2023   Prob (F-statistic):           1.56e-13\n",
              "Time:                            17:32:07   Log-Likelihood:                -1278.9\n",
              "No. Observations:                     183   AIC:                             2562.\n",
              "Df Residuals:                         181   BIC:                             2568.\n",
              "Df Model:                               1                                         \n",
              "Covariance Type:                nonrobust                                         \n",
              "============================================================================================\n",
              "                               coef    std err          t      P>|t|      [0.025      0.975]\n",
              "--------------------------------------------------------------------------------------------\n",
              "const                    -1978.7597    347.741     -5.690      0.000   -2664.907   -1292.612\n",
              "expected_recovery_amount     2.7577      0.345      7.986      0.000       2.076       3.439\n",
              "==============================================================================\n",
              "Omnibus:                       64.493   Durbin-Watson:                   1.777\n",
              "Prob(Omnibus):                  0.000   Jarque-Bera (JB):              185.818\n",
              "Skew:                           1.463   Prob(JB):                     4.47e-41\n",
              "Kurtosis:                       6.977   Cond. No.                     1.80e+04\n",
              "==============================================================================\n",
              "\n",
              "Notes:\n",
              "[1] Standard Errors assume that the covariance matrix of the errors is correctly specified.\n",
              "[2] The condition number is large, 1.8e+04. This might indicate that there are\n",
              "strong multicollinearity or other numerical problems.\n",
              "\"\"\""
            ],
            "text/html": [
              "<table class=\"simpletable\">\n",
              "<caption>OLS Regression Results</caption>\n",
              "<tr>\n",
              "  <th>Dep. Variable:</th>    <td>actual_recovery_amount</td> <th>  R-squared:         </th> <td>   0.261</td>\n",
              "</tr>\n",
              "<tr>\n",
              "  <th>Model:</th>                      <td>OLS</td>          <th>  Adj. R-squared:    </th> <td>   0.256</td>\n",
              "</tr>\n",
              "<tr>\n",
              "  <th>Method:</th>                <td>Least Squares</td>     <th>  F-statistic:       </th> <td>   63.78</td>\n",
              "</tr>\n",
              "<tr>\n",
              "  <th>Date:</th>                <td>Tue, 25 Jul 2023</td>    <th>  Prob (F-statistic):</th> <td>1.56e-13</td>\n",
              "</tr>\n",
              "<tr>\n",
              "  <th>Time:</th>                    <td>17:32:07</td>        <th>  Log-Likelihood:    </th> <td> -1278.9</td>\n",
              "</tr>\n",
              "<tr>\n",
              "  <th>No. Observations:</th>         <td>   183</td>         <th>  AIC:               </th> <td>   2562.</td>\n",
              "</tr>\n",
              "<tr>\n",
              "  <th>Df Residuals:</th>             <td>   181</td>         <th>  BIC:               </th> <td>   2568.</td>\n",
              "</tr>\n",
              "<tr>\n",
              "  <th>Df Model:</th>                 <td>     1</td>         <th>                     </th>     <td> </td>   \n",
              "</tr>\n",
              "<tr>\n",
              "  <th>Covariance Type:</th>         <td>nonrobust</td>       <th>                     </th>     <td> </td>   \n",
              "</tr>\n",
              "</table>\n",
              "<table class=\"simpletable\">\n",
              "<tr>\n",
              "              <td></td>                <th>coef</th>     <th>std err</th>      <th>t</th>      <th>P>|t|</th>  <th>[0.025</th>    <th>0.975]</th>  \n",
              "</tr>\n",
              "<tr>\n",
              "  <th>const</th>                    <td>-1978.7597</td> <td>  347.741</td> <td>   -5.690</td> <td> 0.000</td> <td>-2664.907</td> <td>-1292.612</td>\n",
              "</tr>\n",
              "<tr>\n",
              "  <th>expected_recovery_amount</th> <td>    2.7577</td> <td>    0.345</td> <td>    7.986</td> <td> 0.000</td> <td>    2.076</td> <td>    3.439</td>\n",
              "</tr>\n",
              "</table>\n",
              "<table class=\"simpletable\">\n",
              "<tr>\n",
              "  <th>Omnibus:</th>       <td>64.493</td> <th>  Durbin-Watson:     </th> <td>   1.777</td>\n",
              "</tr>\n",
              "<tr>\n",
              "  <th>Prob(Omnibus):</th> <td> 0.000</td> <th>  Jarque-Bera (JB):  </th> <td> 185.818</td>\n",
              "</tr>\n",
              "<tr>\n",
              "  <th>Skew:</th>          <td> 1.463</td> <th>  Prob(JB):          </th> <td>4.47e-41</td>\n",
              "</tr>\n",
              "<tr>\n",
              "  <th>Kurtosis:</th>      <td> 6.977</td> <th>  Cond. No.          </th> <td>1.80e+04</td>\n",
              "</tr>\n",
              "</table><br/><br/>Notes:<br/>[1] Standard Errors assume that the covariance matrix of the errors is correctly specified.<br/>[2] The condition number is large, 1.8e+04. This might indicate that there are<br/>strong multicollinearity or other numerical problems."
            ]
          },
          "metadata": {},
          "execution_count": 40
        }
      ],
      "cell_type": "code",
      "metadata": {
        "trusted": true,
        "dc": {
          "key": "48"
        },
        "tags": [
          "sample_code"
        ],
        "id": "1ItNX7yzeXdH",
        "outputId": "b72f4ebd-04ff-4c99-abb3-4e4a4b2623ca",
        "colab": {
          "base_uri": "https://localhost:8080/",
          "height": 483
        }
      },
      "source": [
        "\n",
        "X = Expect_900_1100['expected_recovery_amount']\n",
        "y =Expect_900_1100['actual_recovery_amount']\n",
        "X = sm.add_constant(X)\n",
        "\n",
        "# Build linear regression model\n",
        "model = sm.OLS(y, X).fit()\n",
        "predictions = model.predict(X)\n",
        "model.summary()"
      ]
    },
    {
      "cell_type": "markdown",
      "metadata": {
        "dc": {
          "key": "55"
        },
        "editable": false,
        "deletable": false,
        "tags": [
          "context"
        ],
        "run_control": {
          "frozen": true
        },
        "id": "R0KXj7gaeXdI"
      },
      "source": [
        "## 8. Regression modeling: adding true threshold\n"
      ]
    },
    {
      "execution_count": 41,
      "outputs": [
        {
          "output_type": "execute_result",
          "data": {
            "text/plain": [
              "<class 'statsmodels.iolib.summary.Summary'>\n",
              "\"\"\"\n",
              "                              OLS Regression Results                              \n",
              "==================================================================================\n",
              "Dep. Variable:     actual_recovery_amount   R-squared:                       0.261\n",
              "Model:                                OLS   Adj. R-squared:                  0.256\n",
              "Method:                     Least Squares   F-statistic:                     63.78\n",
              "Date:                    Tue, 25 Jul 2023   Prob (F-statistic):           1.56e-13\n",
              "Time:                            17:32:07   Log-Likelihood:                -1278.9\n",
              "No. Observations:                     183   AIC:                             2562.\n",
              "Df Residuals:                         181   BIC:                             2568.\n",
              "Df Model:                               1                                         \n",
              "Covariance Type:                nonrobust                                         \n",
              "============================================================================================\n",
              "                               coef    std err          t      P>|t|      [0.025      0.975]\n",
              "--------------------------------------------------------------------------------------------\n",
              "const                    -1978.7597    347.741     -5.690      0.000   -2664.907   -1292.612\n",
              "expected_recovery_amount     2.7577      0.345      7.986      0.000       2.076       3.439\n",
              "==============================================================================\n",
              "Omnibus:                       64.493   Durbin-Watson:                   1.777\n",
              "Prob(Omnibus):                  0.000   Jarque-Bera (JB):              185.818\n",
              "Skew:                           1.463   Prob(JB):                     4.47e-41\n",
              "Kurtosis:                       6.977   Cond. No.                     1.80e+04\n",
              "==============================================================================\n",
              "\n",
              "Notes:\n",
              "[1] Standard Errors assume that the covariance matrix of the errors is correctly specified.\n",
              "[2] The condition number is large, 1.8e+04. This might indicate that there are\n",
              "strong multicollinearity or other numerical problems.\n",
              "\"\"\""
            ],
            "text/html": [
              "<table class=\"simpletable\">\n",
              "<caption>OLS Regression Results</caption>\n",
              "<tr>\n",
              "  <th>Dep. Variable:</th>    <td>actual_recovery_amount</td> <th>  R-squared:         </th> <td>   0.261</td>\n",
              "</tr>\n",
              "<tr>\n",
              "  <th>Model:</th>                      <td>OLS</td>          <th>  Adj. R-squared:    </th> <td>   0.256</td>\n",
              "</tr>\n",
              "<tr>\n",
              "  <th>Method:</th>                <td>Least Squares</td>     <th>  F-statistic:       </th> <td>   63.78</td>\n",
              "</tr>\n",
              "<tr>\n",
              "  <th>Date:</th>                <td>Tue, 25 Jul 2023</td>    <th>  Prob (F-statistic):</th> <td>1.56e-13</td>\n",
              "</tr>\n",
              "<tr>\n",
              "  <th>Time:</th>                    <td>17:32:07</td>        <th>  Log-Likelihood:    </th> <td> -1278.9</td>\n",
              "</tr>\n",
              "<tr>\n",
              "  <th>No. Observations:</th>         <td>   183</td>         <th>  AIC:               </th> <td>   2562.</td>\n",
              "</tr>\n",
              "<tr>\n",
              "  <th>Df Residuals:</th>             <td>   181</td>         <th>  BIC:               </th> <td>   2568.</td>\n",
              "</tr>\n",
              "<tr>\n",
              "  <th>Df Model:</th>                 <td>     1</td>         <th>                     </th>     <td> </td>   \n",
              "</tr>\n",
              "<tr>\n",
              "  <th>Covariance Type:</th>         <td>nonrobust</td>       <th>                     </th>     <td> </td>   \n",
              "</tr>\n",
              "</table>\n",
              "<table class=\"simpletable\">\n",
              "<tr>\n",
              "              <td></td>                <th>coef</th>     <th>std err</th>      <th>t</th>      <th>P>|t|</th>  <th>[0.025</th>    <th>0.975]</th>  \n",
              "</tr>\n",
              "<tr>\n",
              "  <th>const</th>                    <td>-1978.7597</td> <td>  347.741</td> <td>   -5.690</td> <td> 0.000</td> <td>-2664.907</td> <td>-1292.612</td>\n",
              "</tr>\n",
              "<tr>\n",
              "  <th>expected_recovery_amount</th> <td>    2.7577</td> <td>    0.345</td> <td>    7.986</td> <td> 0.000</td> <td>    2.076</td> <td>    3.439</td>\n",
              "</tr>\n",
              "</table>\n",
              "<table class=\"simpletable\">\n",
              "<tr>\n",
              "  <th>Omnibus:</th>       <td>64.493</td> <th>  Durbin-Watson:     </th> <td>   1.777</td>\n",
              "</tr>\n",
              "<tr>\n",
              "  <th>Prob(Omnibus):</th> <td> 0.000</td> <th>  Jarque-Bera (JB):  </th> <td> 185.818</td>\n",
              "</tr>\n",
              "<tr>\n",
              "  <th>Skew:</th>          <td> 1.463</td> <th>  Prob(JB):          </th> <td>4.47e-41</td>\n",
              "</tr>\n",
              "<tr>\n",
              "  <th>Kurtosis:</th>      <td> 6.977</td> <th>  Cond. No.          </th> <td>1.80e+04</td>\n",
              "</tr>\n",
              "</table><br/><br/>Notes:<br/>[1] Standard Errors assume that the covariance matrix of the errors is correctly specified.<br/>[2] The condition number is large, 1.8e+04. This might indicate that there are<br/>strong multicollinearity or other numerical problems."
            ]
          },
          "metadata": {},
          "execution_count": 41
        }
      ],
      "cell_type": "code",
      "metadata": {
        "trusted": true,
        "dc": {
          "key": "55"
        },
        "tags": [
          "sample_code"
        ],
        "id": "rjzCdIEeeXdJ",
        "outputId": "0a2da4fb-8a98-462f-95a4-9d141802c27b",
        "colab": {
          "base_uri": "https://localhost:8080/",
          "height": 483
        }
      },
      "source": [
        "# Create indicator (0 or 1) for expected recovery amount >= $1000\n",
        "data['indicator_1000'] = np.where(df['expected_recovery_amount']<1000, 0, 1)\n",
        "era_900_1100 = data.loc[(data['expected_recovery_amount']<1100) &\n",
        "                      (data['expected_recovery_amount']>=900)]\n",
        "\n",
        "X = Expect_900_1100['expected_recovery_amount']\n",
        "y = Expect_900_1100['actual_recovery_amount']\n",
        "X = sm.add_constant(X)\n",
        "# Build linear regression model\n",
        "model = sm.OLS(y,X).fit()\n",
        "model.summary()"
      ]
    },
    {
      "cell_type": "markdown",
      "metadata": {
        "dc": {
          "key": "62"
        },
        "editable": false,
        "deletable": false,
        "tags": [
          "context"
        ],
        "run_control": {
          "frozen": true
        },
        "id": "qiIXwexBeXdK"
      },
      "source": [
        "## 9. Regression modeling: adjusting the window\n"
      ]
    },
    {
      "execution_count": 42,
      "outputs": [
        {
          "output_type": "execute_result",
          "data": {
            "text/plain": [
              "<class 'statsmodels.iolib.summary.Summary'>\n",
              "\"\"\"\n",
              "                              OLS Regression Results                              \n",
              "==================================================================================\n",
              "Dep. Variable:     actual_recovery_amount   R-squared:                       0.283\n",
              "Model:                                OLS   Adj. R-squared:                  0.269\n",
              "Method:                     Least Squares   F-statistic:                     18.99\n",
              "Date:                    Tue, 25 Jul 2023   Prob (F-statistic):           1.12e-07\n",
              "Time:                            17:32:07   Log-Likelihood:                -692.92\n",
              "No. Observations:                      99   AIC:                             1392.\n",
              "Df Residuals:                          96   BIC:                             1400.\n",
              "Df Model:                               2                                         \n",
              "Covariance Type:                nonrobust                                         \n",
              "============================================================================================\n",
              "                               coef    std err          t      P>|t|      [0.025      0.975]\n",
              "--------------------------------------------------------------------------------------------\n",
              "const                     -279.5243   1840.707     -0.152      0.880   -3933.298    3374.250\n",
              "expected_recovery_amount     0.9189      1.886      0.487      0.627      -2.825       4.663\n",
              "indicator_1000             286.5337    111.352      2.573      0.012      65.502     507.566\n",
              "==============================================================================\n",
              "Omnibus:                       39.302   Durbin-Watson:                   1.955\n",
              "Prob(Omnibus):                  0.000   Jarque-Bera (JB):               82.258\n",
              "Skew:                           1.564   Prob(JB):                     1.37e-18\n",
              "Kurtosis:                       6.186   Cond. No.                     6.81e+04\n",
              "==============================================================================\n",
              "\n",
              "Notes:\n",
              "[1] Standard Errors assume that the covariance matrix of the errors is correctly specified.\n",
              "[2] The condition number is large, 6.81e+04. This might indicate that there are\n",
              "strong multicollinearity or other numerical problems.\n",
              "\"\"\""
            ],
            "text/html": [
              "<table class=\"simpletable\">\n",
              "<caption>OLS Regression Results</caption>\n",
              "<tr>\n",
              "  <th>Dep. Variable:</th>    <td>actual_recovery_amount</td> <th>  R-squared:         </th> <td>   0.283</td>\n",
              "</tr>\n",
              "<tr>\n",
              "  <th>Model:</th>                      <td>OLS</td>          <th>  Adj. R-squared:    </th> <td>   0.269</td>\n",
              "</tr>\n",
              "<tr>\n",
              "  <th>Method:</th>                <td>Least Squares</td>     <th>  F-statistic:       </th> <td>   18.99</td>\n",
              "</tr>\n",
              "<tr>\n",
              "  <th>Date:</th>                <td>Tue, 25 Jul 2023</td>    <th>  Prob (F-statistic):</th> <td>1.12e-07</td>\n",
              "</tr>\n",
              "<tr>\n",
              "  <th>Time:</th>                    <td>17:32:07</td>        <th>  Log-Likelihood:    </th> <td> -692.92</td>\n",
              "</tr>\n",
              "<tr>\n",
              "  <th>No. Observations:</th>         <td>    99</td>         <th>  AIC:               </th> <td>   1392.</td>\n",
              "</tr>\n",
              "<tr>\n",
              "  <th>Df Residuals:</th>             <td>    96</td>         <th>  BIC:               </th> <td>   1400.</td>\n",
              "</tr>\n",
              "<tr>\n",
              "  <th>Df Model:</th>                 <td>     2</td>         <th>                     </th>     <td> </td>   \n",
              "</tr>\n",
              "<tr>\n",
              "  <th>Covariance Type:</th>         <td>nonrobust</td>       <th>                     </th>     <td> </td>   \n",
              "</tr>\n",
              "</table>\n",
              "<table class=\"simpletable\">\n",
              "<tr>\n",
              "              <td></td>                <th>coef</th>     <th>std err</th>      <th>t</th>      <th>P>|t|</th>  <th>[0.025</th>    <th>0.975]</th>  \n",
              "</tr>\n",
              "<tr>\n",
              "  <th>const</th>                    <td> -279.5243</td> <td> 1840.707</td> <td>   -0.152</td> <td> 0.880</td> <td>-3933.298</td> <td> 3374.250</td>\n",
              "</tr>\n",
              "<tr>\n",
              "  <th>expected_recovery_amount</th> <td>    0.9189</td> <td>    1.886</td> <td>    0.487</td> <td> 0.627</td> <td>   -2.825</td> <td>    4.663</td>\n",
              "</tr>\n",
              "<tr>\n",
              "  <th>indicator_1000</th>           <td>  286.5337</td> <td>  111.352</td> <td>    2.573</td> <td> 0.012</td> <td>   65.502</td> <td>  507.566</td>\n",
              "</tr>\n",
              "</table>\n",
              "<table class=\"simpletable\">\n",
              "<tr>\n",
              "  <th>Omnibus:</th>       <td>39.302</td> <th>  Durbin-Watson:     </th> <td>   1.955</td>\n",
              "</tr>\n",
              "<tr>\n",
              "  <th>Prob(Omnibus):</th> <td> 0.000</td> <th>  Jarque-Bera (JB):  </th> <td>  82.258</td>\n",
              "</tr>\n",
              "<tr>\n",
              "  <th>Skew:</th>          <td> 1.564</td> <th>  Prob(JB):          </th> <td>1.37e-18</td>\n",
              "</tr>\n",
              "<tr>\n",
              "  <th>Kurtosis:</th>      <td> 6.186</td> <th>  Cond. No.          </th> <td>6.81e+04</td>\n",
              "</tr>\n",
              "</table><br/><br/>Notes:<br/>[1] Standard Errors assume that the covariance matrix of the errors is correctly specified.<br/>[2] The condition number is large, 6.81e+04. This might indicate that there are<br/>strong multicollinearity or other numerical problems."
            ]
          },
          "metadata": {},
          "execution_count": 42
        }
      ],
      "cell_type": "code",
      "metadata": {
        "trusted": true,
        "dc": {
          "key": "62"
        },
        "tags": [
          "sample_code"
        ],
        "id": "teGumolWeXdK",
        "outputId": "8416ac91-98a0-4ddb-e966-d93c03f76871",
        "colab": {
          "base_uri": "https://localhost:8080/",
          "height": 504
        }
      },
      "source": [
        "# Redefine era_950_1050 so the indicator variable is included\n",
        "Expect_950_1050 = data.loc[(data['expected_recovery_amount']<1050) &\n",
        "                      (data['expected_recovery_amount']>=950)]\n",
        "\n",
        "\n",
        "X = Expect_950_1050[['expected_recovery_amount','indicator_1000']]\n",
        "y = Expect_950_1050['actual_recovery_amount']\n",
        "X = sm.add_constant(X)\n",
        "\n",
        "# Build linear regression model\n",
        "model = sm.OLS(y,X).fit()\n",
        "\n",
        "# Print the model summary\n",
        "model.summary()"
      ]
    }
  ],
  "metadata": {
    "kernelspec": {
      "name": "python3",
      "language": "python",
      "display_name": "Python 3"
    },
    "language_info": {
      "name": "python",
      "pygments_lexer": "ipython3",
      "mimetype": "text/x-python",
      "version": "3.5.2",
      "codemirror_mode": {
        "name": "ipython",
        "version": 3
      },
      "nbconvert_exporter": "python",
      "file_extension": ".py"
    },
    "colab": {
      "provenance": [],
      "include_colab_link": true
    }
  },
  "nbformat_minor": 0
}