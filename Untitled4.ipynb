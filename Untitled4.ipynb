{
  "nbformat": 4,
  "nbformat_minor": 0,
  "metadata": {
    "colab": {
      "provenance": [],
      "authorship_tag": "ABX9TyNIJaUG3Z56k8Uu40HeQU3F",
      "include_colab_link": true
    },
    "kernelspec": {
      "name": "python3",
      "display_name": "Python 3"
    },
    "language_info": {
      "name": "python"
    }
  },
  "cells": [
    {
      "cell_type": "markdown",
      "metadata": {
        "id": "view-in-github",
        "colab_type": "text"
      },
      "source": [
        "<a href=\"https://colab.research.google.com/github/anas1IA/Analysis-of-Bank-Debit-Collections/blob/main/Untitled4.ipynb\" target=\"_parent\"><img src=\"https://colab.research.google.com/assets/colab-badge.svg\" alt=\"Open In Colab\"/></a>"
      ]
    },
    {
      "cell_type": "code",
      "execution_count": null,
      "metadata": {
        "colab": {
          "base_uri": "https://localhost:8080/"
        },
        "id": "LwBHTyluckb6",
        "outputId": "d4323773-0978-45ce-c93b-ae6aba55d301"
      },
      "outputs": [
        {
          "output_type": "stream",
          "name": "stdout",
          "text": [
            "Looking in indexes: https://pypi.org/simple, https://us-python.pkg.dev/colab-wheels/public/simple/\n",
            "Requirement already satisfied: praw in /usr/local/lib/python3.10/dist-packages (7.7.0)\n",
            "Requirement already satisfied: prawcore<3,>=2.1 in /usr/local/lib/python3.10/dist-packages (from praw) (2.3.0)\n",
            "Requirement already satisfied: update-checker>=0.18 in /usr/local/lib/python3.10/dist-packages (from praw) (0.18.0)\n",
            "Requirement already satisfied: websocket-client>=0.54.0 in /usr/local/lib/python3.10/dist-packages (from praw) (1.5.1)\n",
            "Requirement already satisfied: requests<3.0,>=2.6.0 in /usr/local/lib/python3.10/dist-packages (from prawcore<3,>=2.1->praw) (2.27.1)\n",
            "Requirement already satisfied: urllib3<1.27,>=1.21.1 in /usr/local/lib/python3.10/dist-packages (from requests<3.0,>=2.6.0->prawcore<3,>=2.1->praw) (1.26.15)\n",
            "Requirement already satisfied: certifi>=2017.4.17 in /usr/local/lib/python3.10/dist-packages (from requests<3.0,>=2.6.0->prawcore<3,>=2.1->praw) (2022.12.7)\n",
            "Requirement already satisfied: charset-normalizer~=2.0.0 in /usr/local/lib/python3.10/dist-packages (from requests<3.0,>=2.6.0->prawcore<3,>=2.1->praw) (2.0.12)\n",
            "Requirement already satisfied: idna<4,>=2.5 in /usr/local/lib/python3.10/dist-packages (from requests<3.0,>=2.6.0->prawcore<3,>=2.1->praw) (3.4)\n"
          ]
        }
      ],
      "source": [
        "import requests\n",
        "import requests.auth\n",
        "from rich import print\n",
        "!pip install praw"
      ]
    },
    {
      "cell_type": "code",
      "source": [
        "import praw"
      ],
      "metadata": {
        "id": "BzbAivd4Ldij"
      },
      "execution_count": null,
      "outputs": []
    },
    {
      "cell_type": "code",
      "source": [
        "reddit = praw.Reddit(\n",
        "    client_id=\"RTxP9memP4eXwMeMoOZ8dQ\",\n",
        "    client_secret=\"9zWKnIFusqzDTGNSKuQYt8xHQFYoZA\",\n",
        "     password=\"ANAS1999\",\n",
        "    user_agent=\"NewHope by u/Sad-Cauliflower-8525 \",\n",
        "    username=\"Sad-Cauliflower-8525 \", check_for_async=False\n",
        ")\n",
        "#print(reddit.auth.url(scopes=[\"identity\"], state=\"PROBLEM\", duration=\"permanent\"))"
      ],
      "metadata": {
        "id": "mQPSR7ITKN56"
      },
      "execution_count": null,
      "outputs": []
    },
    {
      "cell_type": "code",
      "source": [
        "print(reddit.user.me())"
      ],
      "metadata": {
        "colab": {
          "base_uri": "https://localhost:8080/",
          "height": 312
        },
        "id": "j0dwM-7Kpv-K",
        "outputId": "2447ec63-b693-40ec-b80e-d3233331a5b8"
      },
      "execution_count": null,
      "outputs": [
        {
          "output_type": "error",
          "ename": "ResponseException",
          "evalue": "ignored",
          "traceback": [
            "\u001b[0;31m---------------------------------------------------------------------------\u001b[0m",
            "\u001b[0;31mResponseException\u001b[0m                         Traceback (most recent call last)",
            "\u001b[0;32m<ipython-input-102-3f50bf9a6ec5>\u001b[0m in \u001b[0;36m<cell line: 1>\u001b[0;34m()\u001b[0m\n\u001b[0;32m----> 1\u001b[0;31m \u001b[0mprint\u001b[0m\u001b[0;34m(\u001b[0m\u001b[0mreddit\u001b[0m\u001b[0;34m.\u001b[0m\u001b[0muser\u001b[0m\u001b[0;34m.\u001b[0m\u001b[0mme\u001b[0m\u001b[0;34m(\u001b[0m\u001b[0;34m)\u001b[0m\u001b[0;34m)\u001b[0m\u001b[0;34m\u001b[0m\u001b[0;34m\u001b[0m\u001b[0m\n\u001b[0m",
            "\u001b[0;32m/usr/local/lib/python3.10/dist-packages/praw/util/deprecate_args.py\u001b[0m in \u001b[0;36mwrapped\u001b[0;34m(*args, **kwargs)\u001b[0m\n\u001b[1;32m     41\u001b[0m                     \u001b[0mstacklevel\u001b[0m\u001b[0;34m=\u001b[0m\u001b[0;36m2\u001b[0m\u001b[0;34m,\u001b[0m\u001b[0;34m\u001b[0m\u001b[0;34m\u001b[0m\u001b[0m\n\u001b[1;32m     42\u001b[0m                 )\n\u001b[0;32m---> 43\u001b[0;31m             \u001b[0;32mreturn\u001b[0m \u001b[0mfunc\u001b[0m\u001b[0;34m(\u001b[0m\u001b[0;34m**\u001b[0m\u001b[0mdict\u001b[0m\u001b[0;34m(\u001b[0m\u001b[0mzip\u001b[0m\u001b[0;34m(\u001b[0m\u001b[0m_old_args\u001b[0m\u001b[0;34m,\u001b[0m \u001b[0margs\u001b[0m\u001b[0;34m)\u001b[0m\u001b[0;34m)\u001b[0m\u001b[0;34m,\u001b[0m \u001b[0;34m**\u001b[0m\u001b[0mkwargs\u001b[0m\u001b[0;34m)\u001b[0m\u001b[0;34m\u001b[0m\u001b[0;34m\u001b[0m\u001b[0m\n\u001b[0m\u001b[1;32m     44\u001b[0m \u001b[0;34m\u001b[0m\u001b[0m\n\u001b[1;32m     45\u001b[0m         \u001b[0;32mreturn\u001b[0m \u001b[0mwrapped\u001b[0m\u001b[0;34m\u001b[0m\u001b[0;34m\u001b[0m\u001b[0m\n",
            "\u001b[0;32m/usr/local/lib/python3.10/dist-packages/praw/models/user.py\u001b[0m in \u001b[0;36mme\u001b[0;34m(self, use_cache)\u001b[0m\n\u001b[1;32m    166\u001b[0m             \u001b[0;32mraise\u001b[0m \u001b[0mReadOnlyException\u001b[0m\u001b[0;34m(\u001b[0m\u001b[0;34m\"`user.me()` does not work in read_only mode\"\u001b[0m\u001b[0;34m)\u001b[0m\u001b[0;34m\u001b[0m\u001b[0;34m\u001b[0m\u001b[0m\n\u001b[1;32m    167\u001b[0m         \u001b[0;32mif\u001b[0m \u001b[0;34m\"_me\"\u001b[0m \u001b[0;32mnot\u001b[0m \u001b[0;32min\u001b[0m \u001b[0mself\u001b[0m\u001b[0;34m.\u001b[0m\u001b[0m__dict__\u001b[0m \u001b[0;32mor\u001b[0m \u001b[0;32mnot\u001b[0m \u001b[0muse_cache\u001b[0m\u001b[0;34m:\u001b[0m\u001b[0;34m\u001b[0m\u001b[0;34m\u001b[0m\u001b[0m\n\u001b[0;32m--> 168\u001b[0;31m             \u001b[0muser_data\u001b[0m \u001b[0;34m=\u001b[0m \u001b[0mself\u001b[0m\u001b[0;34m.\u001b[0m\u001b[0m_reddit\u001b[0m\u001b[0;34m.\u001b[0m\u001b[0mget\u001b[0m\u001b[0;34m(\u001b[0m\u001b[0mAPI_PATH\u001b[0m\u001b[0;34m[\u001b[0m\u001b[0;34m\"me\"\u001b[0m\u001b[0;34m]\u001b[0m\u001b[0;34m)\u001b[0m\u001b[0;34m\u001b[0m\u001b[0;34m\u001b[0m\u001b[0m\n\u001b[0m\u001b[1;32m    169\u001b[0m             \u001b[0mself\u001b[0m\u001b[0;34m.\u001b[0m\u001b[0m_me\u001b[0m \u001b[0;34m=\u001b[0m \u001b[0mRedditor\u001b[0m\u001b[0;34m(\u001b[0m\u001b[0mself\u001b[0m\u001b[0;34m.\u001b[0m\u001b[0m_reddit\u001b[0m\u001b[0;34m,\u001b[0m \u001b[0m_data\u001b[0m\u001b[0;34m=\u001b[0m\u001b[0muser_data\u001b[0m\u001b[0;34m)\u001b[0m\u001b[0;34m\u001b[0m\u001b[0;34m\u001b[0m\u001b[0m\n\u001b[1;32m    170\u001b[0m         \u001b[0;32mreturn\u001b[0m \u001b[0mself\u001b[0m\u001b[0;34m.\u001b[0m\u001b[0m_me\u001b[0m\u001b[0;34m\u001b[0m\u001b[0;34m\u001b[0m\u001b[0m\n",
            "\u001b[0;32m/usr/local/lib/python3.10/dist-packages/praw/util/deprecate_args.py\u001b[0m in \u001b[0;36mwrapped\u001b[0;34m(*args, **kwargs)\u001b[0m\n\u001b[1;32m     41\u001b[0m                     \u001b[0mstacklevel\u001b[0m\u001b[0;34m=\u001b[0m\u001b[0;36m2\u001b[0m\u001b[0;34m,\u001b[0m\u001b[0;34m\u001b[0m\u001b[0;34m\u001b[0m\u001b[0m\n\u001b[1;32m     42\u001b[0m                 )\n\u001b[0;32m---> 43\u001b[0;31m             \u001b[0;32mreturn\u001b[0m \u001b[0mfunc\u001b[0m\u001b[0;34m(\u001b[0m\u001b[0;34m**\u001b[0m\u001b[0mdict\u001b[0m\u001b[0;34m(\u001b[0m\u001b[0mzip\u001b[0m\u001b[0;34m(\u001b[0m\u001b[0m_old_args\u001b[0m\u001b[0;34m,\u001b[0m \u001b[0margs\u001b[0m\u001b[0;34m)\u001b[0m\u001b[0;34m)\u001b[0m\u001b[0;34m,\u001b[0m \u001b[0;34m**\u001b[0m\u001b[0mkwargs\u001b[0m\u001b[0;34m)\u001b[0m\u001b[0;34m\u001b[0m\u001b[0;34m\u001b[0m\u001b[0m\n\u001b[0m\u001b[1;32m     44\u001b[0m \u001b[0;34m\u001b[0m\u001b[0m\n\u001b[1;32m     45\u001b[0m         \u001b[0;32mreturn\u001b[0m \u001b[0mwrapped\u001b[0m\u001b[0;34m\u001b[0m\u001b[0;34m\u001b[0m\u001b[0m\n",
            "\u001b[0;32m/usr/local/lib/python3.10/dist-packages/praw/reddit.py\u001b[0m in \u001b[0;36mget\u001b[0;34m(self, path, params)\u001b[0m\n\u001b[1;32m    710\u001b[0m \u001b[0;34m\u001b[0m\u001b[0m\n\u001b[1;32m    711\u001b[0m         \"\"\"\n\u001b[0;32m--> 712\u001b[0;31m         \u001b[0;32mreturn\u001b[0m \u001b[0mself\u001b[0m\u001b[0;34m.\u001b[0m\u001b[0m_objectify_request\u001b[0m\u001b[0;34m(\u001b[0m\u001b[0mmethod\u001b[0m\u001b[0;34m=\u001b[0m\u001b[0;34m\"GET\"\u001b[0m\u001b[0;34m,\u001b[0m \u001b[0mparams\u001b[0m\u001b[0;34m=\u001b[0m\u001b[0mparams\u001b[0m\u001b[0;34m,\u001b[0m \u001b[0mpath\u001b[0m\u001b[0;34m=\u001b[0m\u001b[0mpath\u001b[0m\u001b[0;34m)\u001b[0m\u001b[0;34m\u001b[0m\u001b[0;34m\u001b[0m\u001b[0m\n\u001b[0m\u001b[1;32m    713\u001b[0m \u001b[0;34m\u001b[0m\u001b[0m\n\u001b[1;32m    714\u001b[0m     \u001b[0;34m@\u001b[0m\u001b[0m_deprecate_args\u001b[0m\u001b[0;34m(\u001b[0m\u001b[0;34m\"fullnames\"\u001b[0m\u001b[0;34m,\u001b[0m \u001b[0;34m\"url\"\u001b[0m\u001b[0;34m,\u001b[0m \u001b[0;34m\"subreddits\"\u001b[0m\u001b[0;34m)\u001b[0m\u001b[0;34m\u001b[0m\u001b[0;34m\u001b[0m\u001b[0m\n",
            "\u001b[0;32m/usr/local/lib/python3.10/dist-packages/praw/reddit.py\u001b[0m in \u001b[0;36m_objectify_request\u001b[0;34m(self, data, files, json, method, params, path)\u001b[0m\n\u001b[1;32m    515\u001b[0m         \"\"\"\n\u001b[1;32m    516\u001b[0m         return self._objector.objectify(\n\u001b[0;32m--> 517\u001b[0;31m             self.request(\n\u001b[0m\u001b[1;32m    518\u001b[0m                 \u001b[0mdata\u001b[0m\u001b[0;34m=\u001b[0m\u001b[0mdata\u001b[0m\u001b[0;34m,\u001b[0m\u001b[0;34m\u001b[0m\u001b[0;34m\u001b[0m\u001b[0m\n\u001b[1;32m    519\u001b[0m                 \u001b[0mfiles\u001b[0m\u001b[0;34m=\u001b[0m\u001b[0mfiles\u001b[0m\u001b[0;34m,\u001b[0m\u001b[0;34m\u001b[0m\u001b[0;34m\u001b[0m\u001b[0m\n",
            "\u001b[0;32m/usr/local/lib/python3.10/dist-packages/praw/util/deprecate_args.py\u001b[0m in \u001b[0;36mwrapped\u001b[0;34m(*args, **kwargs)\u001b[0m\n\u001b[1;32m     41\u001b[0m                     \u001b[0mstacklevel\u001b[0m\u001b[0;34m=\u001b[0m\u001b[0;36m2\u001b[0m\u001b[0;34m,\u001b[0m\u001b[0;34m\u001b[0m\u001b[0;34m\u001b[0m\u001b[0m\n\u001b[1;32m     42\u001b[0m                 )\n\u001b[0;32m---> 43\u001b[0;31m             \u001b[0;32mreturn\u001b[0m \u001b[0mfunc\u001b[0m\u001b[0;34m(\u001b[0m\u001b[0;34m**\u001b[0m\u001b[0mdict\u001b[0m\u001b[0;34m(\u001b[0m\u001b[0mzip\u001b[0m\u001b[0;34m(\u001b[0m\u001b[0m_old_args\u001b[0m\u001b[0;34m,\u001b[0m \u001b[0margs\u001b[0m\u001b[0;34m)\u001b[0m\u001b[0;34m)\u001b[0m\u001b[0;34m,\u001b[0m \u001b[0;34m**\u001b[0m\u001b[0mkwargs\u001b[0m\u001b[0;34m)\u001b[0m\u001b[0;34m\u001b[0m\u001b[0;34m\u001b[0m\u001b[0m\n\u001b[0m\u001b[1;32m     44\u001b[0m \u001b[0;34m\u001b[0m\u001b[0m\n\u001b[1;32m     45\u001b[0m         \u001b[0;32mreturn\u001b[0m \u001b[0mwrapped\u001b[0m\u001b[0;34m\u001b[0m\u001b[0;34m\u001b[0m\u001b[0m\n",
            "\u001b[0;32m/usr/local/lib/python3.10/dist-packages/praw/reddit.py\u001b[0m in \u001b[0;36mrequest\u001b[0;34m(self, data, files, json, method, params, path)\u001b[0m\n\u001b[1;32m    939\u001b[0m             \u001b[0;32mraise\u001b[0m \u001b[0mClientException\u001b[0m\u001b[0;34m(\u001b[0m\u001b[0;34m\"At most one of 'data' or 'json' is supported.\"\u001b[0m\u001b[0;34m)\u001b[0m\u001b[0;34m\u001b[0m\u001b[0;34m\u001b[0m\u001b[0m\n\u001b[1;32m    940\u001b[0m         \u001b[0;32mtry\u001b[0m\u001b[0;34m:\u001b[0m\u001b[0;34m\u001b[0m\u001b[0;34m\u001b[0m\u001b[0m\n\u001b[0;32m--> 941\u001b[0;31m             return self._core.request(\n\u001b[0m\u001b[1;32m    942\u001b[0m                 \u001b[0mdata\u001b[0m\u001b[0;34m=\u001b[0m\u001b[0mdata\u001b[0m\u001b[0;34m,\u001b[0m\u001b[0;34m\u001b[0m\u001b[0;34m\u001b[0m\u001b[0m\n\u001b[1;32m    943\u001b[0m                 \u001b[0mfiles\u001b[0m\u001b[0;34m=\u001b[0m\u001b[0mfiles\u001b[0m\u001b[0;34m,\u001b[0m\u001b[0;34m\u001b[0m\u001b[0;34m\u001b[0m\u001b[0m\n",
            "\u001b[0;32m/usr/local/lib/python3.10/dist-packages/prawcore/sessions.py\u001b[0m in \u001b[0;36mrequest\u001b[0;34m(self, method, path, data, files, json, params, timeout)\u001b[0m\n\u001b[1;32m    328\u001b[0m             \u001b[0mjson\u001b[0m\u001b[0;34m[\u001b[0m\u001b[0;34m\"api_type\"\u001b[0m\u001b[0;34m]\u001b[0m \u001b[0;34m=\u001b[0m \u001b[0;34m\"json\"\u001b[0m\u001b[0;34m\u001b[0m\u001b[0;34m\u001b[0m\u001b[0m\n\u001b[1;32m    329\u001b[0m         \u001b[0murl\u001b[0m \u001b[0;34m=\u001b[0m \u001b[0murljoin\u001b[0m\u001b[0;34m(\u001b[0m\u001b[0mself\u001b[0m\u001b[0;34m.\u001b[0m\u001b[0m_requestor\u001b[0m\u001b[0;34m.\u001b[0m\u001b[0moauth_url\u001b[0m\u001b[0;34m,\u001b[0m \u001b[0mpath\u001b[0m\u001b[0;34m)\u001b[0m\u001b[0;34m\u001b[0m\u001b[0;34m\u001b[0m\u001b[0m\n\u001b[0;32m--> 330\u001b[0;31m         return self._request_with_retries(\n\u001b[0m\u001b[1;32m    331\u001b[0m             \u001b[0mdata\u001b[0m\u001b[0;34m=\u001b[0m\u001b[0mdata\u001b[0m\u001b[0;34m,\u001b[0m\u001b[0;34m\u001b[0m\u001b[0;34m\u001b[0m\u001b[0m\n\u001b[1;32m    332\u001b[0m             \u001b[0mfiles\u001b[0m\u001b[0;34m=\u001b[0m\u001b[0mfiles\u001b[0m\u001b[0;34m,\u001b[0m\u001b[0;34m\u001b[0m\u001b[0;34m\u001b[0m\u001b[0m\n",
            "\u001b[0;32m/usr/local/lib/python3.10/dist-packages/prawcore/sessions.py\u001b[0m in \u001b[0;36m_request_with_retries\u001b[0;34m(self, data, files, json, method, params, timeout, url, retry_strategy_state)\u001b[0m\n\u001b[1;32m    226\u001b[0m         \u001b[0mretry_strategy_state\u001b[0m\u001b[0;34m.\u001b[0m\u001b[0msleep\u001b[0m\u001b[0;34m(\u001b[0m\u001b[0;34m)\u001b[0m\u001b[0;34m\u001b[0m\u001b[0;34m\u001b[0m\u001b[0m\n\u001b[1;32m    227\u001b[0m         \u001b[0mself\u001b[0m\u001b[0;34m.\u001b[0m\u001b[0m_log_request\u001b[0m\u001b[0;34m(\u001b[0m\u001b[0mdata\u001b[0m\u001b[0;34m,\u001b[0m \u001b[0mmethod\u001b[0m\u001b[0;34m,\u001b[0m \u001b[0mparams\u001b[0m\u001b[0;34m,\u001b[0m \u001b[0murl\u001b[0m\u001b[0;34m)\u001b[0m\u001b[0;34m\u001b[0m\u001b[0;34m\u001b[0m\u001b[0m\n\u001b[0;32m--> 228\u001b[0;31m         response, saved_exception = self._make_request(\n\u001b[0m\u001b[1;32m    229\u001b[0m             \u001b[0mdata\u001b[0m\u001b[0;34m,\u001b[0m\u001b[0;34m\u001b[0m\u001b[0;34m\u001b[0m\u001b[0m\n\u001b[1;32m    230\u001b[0m             \u001b[0mfiles\u001b[0m\u001b[0;34m,\u001b[0m\u001b[0;34m\u001b[0m\u001b[0;34m\u001b[0m\u001b[0m\n",
            "\u001b[0;32m/usr/local/lib/python3.10/dist-packages/prawcore/sessions.py\u001b[0m in \u001b[0;36m_make_request\u001b[0;34m(self, data, files, json, method, params, retry_strategy_state, timeout, url)\u001b[0m\n\u001b[1;32m    183\u001b[0m     ):\n\u001b[1;32m    184\u001b[0m         \u001b[0;32mtry\u001b[0m\u001b[0;34m:\u001b[0m\u001b[0;34m\u001b[0m\u001b[0;34m\u001b[0m\u001b[0m\n\u001b[0;32m--> 185\u001b[0;31m             response = self._rate_limiter.call(\n\u001b[0m\u001b[1;32m    186\u001b[0m                 \u001b[0mself\u001b[0m\u001b[0;34m.\u001b[0m\u001b[0m_requestor\u001b[0m\u001b[0;34m.\u001b[0m\u001b[0mrequest\u001b[0m\u001b[0;34m,\u001b[0m\u001b[0;34m\u001b[0m\u001b[0;34m\u001b[0m\u001b[0m\n\u001b[1;32m    187\u001b[0m                 \u001b[0mself\u001b[0m\u001b[0;34m.\u001b[0m\u001b[0m_set_header_callback\u001b[0m\u001b[0;34m,\u001b[0m\u001b[0;34m\u001b[0m\u001b[0;34m\u001b[0m\u001b[0m\n",
            "\u001b[0;32m/usr/local/lib/python3.10/dist-packages/prawcore/rate_limit.py\u001b[0m in \u001b[0;36mcall\u001b[0;34m(self, request_function, set_header_callback, *args, **kwargs)\u001b[0m\n\u001b[1;32m     31\u001b[0m         \"\"\"\n\u001b[1;32m     32\u001b[0m         \u001b[0mself\u001b[0m\u001b[0;34m.\u001b[0m\u001b[0mdelay\u001b[0m\u001b[0;34m(\u001b[0m\u001b[0;34m)\u001b[0m\u001b[0;34m\u001b[0m\u001b[0;34m\u001b[0m\u001b[0m\n\u001b[0;32m---> 33\u001b[0;31m         \u001b[0mkwargs\u001b[0m\u001b[0;34m[\u001b[0m\u001b[0;34m\"headers\"\u001b[0m\u001b[0;34m]\u001b[0m \u001b[0;34m=\u001b[0m \u001b[0mset_header_callback\u001b[0m\u001b[0;34m(\u001b[0m\u001b[0;34m)\u001b[0m\u001b[0;34m\u001b[0m\u001b[0;34m\u001b[0m\u001b[0m\n\u001b[0m\u001b[1;32m     34\u001b[0m         \u001b[0mresponse\u001b[0m \u001b[0;34m=\u001b[0m \u001b[0mrequest_function\u001b[0m\u001b[0;34m(\u001b[0m\u001b[0;34m*\u001b[0m\u001b[0margs\u001b[0m\u001b[0;34m,\u001b[0m \u001b[0;34m**\u001b[0m\u001b[0mkwargs\u001b[0m\u001b[0;34m)\u001b[0m\u001b[0;34m\u001b[0m\u001b[0;34m\u001b[0m\u001b[0m\n\u001b[1;32m     35\u001b[0m         \u001b[0mself\u001b[0m\u001b[0;34m.\u001b[0m\u001b[0mupdate\u001b[0m\u001b[0;34m(\u001b[0m\u001b[0mresponse\u001b[0m\u001b[0;34m.\u001b[0m\u001b[0mheaders\u001b[0m\u001b[0;34m)\u001b[0m\u001b[0;34m\u001b[0m\u001b[0;34m\u001b[0m\u001b[0m\n",
            "\u001b[0;32m/usr/local/lib/python3.10/dist-packages/prawcore/sessions.py\u001b[0m in \u001b[0;36m_set_header_callback\u001b[0;34m(self)\u001b[0m\n\u001b[1;32m    281\u001b[0m             \u001b[0mself\u001b[0m\u001b[0;34m.\u001b[0m\u001b[0m_authorizer\u001b[0m\u001b[0;34m,\u001b[0m \u001b[0;34m\"refresh\"\u001b[0m\u001b[0;34m\u001b[0m\u001b[0;34m\u001b[0m\u001b[0m\n\u001b[1;32m    282\u001b[0m         ):\n\u001b[0;32m--> 283\u001b[0;31m             \u001b[0mself\u001b[0m\u001b[0;34m.\u001b[0m\u001b[0m_authorizer\u001b[0m\u001b[0;34m.\u001b[0m\u001b[0mrefresh\u001b[0m\u001b[0;34m(\u001b[0m\u001b[0;34m)\u001b[0m\u001b[0;34m\u001b[0m\u001b[0;34m\u001b[0m\u001b[0m\n\u001b[0m\u001b[1;32m    284\u001b[0m         \u001b[0;32mreturn\u001b[0m \u001b[0;34m{\u001b[0m\u001b[0;34m\"Authorization\"\u001b[0m\u001b[0;34m:\u001b[0m \u001b[0;34mf\"bearer {self._authorizer.access_token}\"\u001b[0m\u001b[0;34m}\u001b[0m\u001b[0;34m\u001b[0m\u001b[0;34m\u001b[0m\u001b[0m\n\u001b[1;32m    285\u001b[0m \u001b[0;34m\u001b[0m\u001b[0m\n",
            "\u001b[0;32m/usr/local/lib/python3.10/dist-packages/prawcore/auth.py\u001b[0m in \u001b[0;36mrefresh\u001b[0;34m(self)\u001b[0m\n\u001b[1;32m    423\u001b[0m         \u001b[0;32mif\u001b[0m \u001b[0mtwo_factor_code\u001b[0m\u001b[0;34m:\u001b[0m\u001b[0;34m\u001b[0m\u001b[0;34m\u001b[0m\u001b[0m\n\u001b[1;32m    424\u001b[0m             \u001b[0madditional_kwargs\u001b[0m\u001b[0;34m[\u001b[0m\u001b[0;34m\"otp\"\u001b[0m\u001b[0;34m]\u001b[0m \u001b[0;34m=\u001b[0m \u001b[0mtwo_factor_code\u001b[0m\u001b[0;34m\u001b[0m\u001b[0;34m\u001b[0m\u001b[0m\n\u001b[0;32m--> 425\u001b[0;31m         self._request_token(\n\u001b[0m\u001b[1;32m    426\u001b[0m             \u001b[0mgrant_type\u001b[0m\u001b[0;34m=\u001b[0m\u001b[0;34m\"password\"\u001b[0m\u001b[0;34m,\u001b[0m\u001b[0;34m\u001b[0m\u001b[0;34m\u001b[0m\u001b[0m\n\u001b[1;32m    427\u001b[0m             \u001b[0musername\u001b[0m\u001b[0;34m=\u001b[0m\u001b[0mself\u001b[0m\u001b[0;34m.\u001b[0m\u001b[0m_username\u001b[0m\u001b[0;34m,\u001b[0m\u001b[0;34m\u001b[0m\u001b[0;34m\u001b[0m\u001b[0m\n",
            "\u001b[0;32m/usr/local/lib/python3.10/dist-packages/prawcore/auth.py\u001b[0m in \u001b[0;36m_request_token\u001b[0;34m(self, **data)\u001b[0m\n\u001b[1;32m    153\u001b[0m         )\n\u001b[1;32m    154\u001b[0m         \u001b[0mpre_request_time\u001b[0m \u001b[0;34m=\u001b[0m \u001b[0mtime\u001b[0m\u001b[0;34m.\u001b[0m\u001b[0mtime\u001b[0m\u001b[0;34m(\u001b[0m\u001b[0;34m)\u001b[0m\u001b[0;34m\u001b[0m\u001b[0;34m\u001b[0m\u001b[0m\n\u001b[0;32m--> 155\u001b[0;31m         \u001b[0mresponse\u001b[0m \u001b[0;34m=\u001b[0m \u001b[0mself\u001b[0m\u001b[0;34m.\u001b[0m\u001b[0m_authenticator\u001b[0m\u001b[0;34m.\u001b[0m\u001b[0m_post\u001b[0m\u001b[0;34m(\u001b[0m\u001b[0murl\u001b[0m\u001b[0;34m,\u001b[0m \u001b[0;34m**\u001b[0m\u001b[0mdata\u001b[0m\u001b[0;34m)\u001b[0m\u001b[0;34m\u001b[0m\u001b[0;34m\u001b[0m\u001b[0m\n\u001b[0m\u001b[1;32m    156\u001b[0m         \u001b[0mpayload\u001b[0m \u001b[0;34m=\u001b[0m \u001b[0mresponse\u001b[0m\u001b[0;34m.\u001b[0m\u001b[0mjson\u001b[0m\u001b[0;34m(\u001b[0m\u001b[0;34m)\u001b[0m\u001b[0;34m\u001b[0m\u001b[0;34m\u001b[0m\u001b[0m\n\u001b[1;32m    157\u001b[0m         \u001b[0;32mif\u001b[0m \u001b[0;34m\"error\"\u001b[0m \u001b[0;32min\u001b[0m \u001b[0mpayload\u001b[0m\u001b[0;34m:\u001b[0m  \u001b[0;31m# Why are these OKAY responses?\u001b[0m\u001b[0;34m\u001b[0m\u001b[0;34m\u001b[0m\u001b[0m\n",
            "\u001b[0;32m/usr/local/lib/python3.10/dist-packages/prawcore/auth.py\u001b[0m in \u001b[0;36m_post\u001b[0;34m(self, url, success_status, **data)\u001b[0m\n\u001b[1;32m     36\u001b[0m         )\n\u001b[1;32m     37\u001b[0m         \u001b[0;32mif\u001b[0m \u001b[0mresponse\u001b[0m\u001b[0;34m.\u001b[0m\u001b[0mstatus_code\u001b[0m \u001b[0;34m!=\u001b[0m \u001b[0msuccess_status\u001b[0m\u001b[0;34m:\u001b[0m\u001b[0;34m\u001b[0m\u001b[0;34m\u001b[0m\u001b[0m\n\u001b[0;32m---> 38\u001b[0;31m             \u001b[0;32mraise\u001b[0m \u001b[0mResponseException\u001b[0m\u001b[0;34m(\u001b[0m\u001b[0mresponse\u001b[0m\u001b[0;34m)\u001b[0m\u001b[0;34m\u001b[0m\u001b[0;34m\u001b[0m\u001b[0m\n\u001b[0m\u001b[1;32m     39\u001b[0m         \u001b[0;32mreturn\u001b[0m \u001b[0mresponse\u001b[0m\u001b[0;34m\u001b[0m\u001b[0;34m\u001b[0m\u001b[0m\n\u001b[1;32m     40\u001b[0m \u001b[0;34m\u001b[0m\u001b[0m\n",
            "\u001b[0;31mResponseException\u001b[0m: received 401 HTTP response"
          ]
        }
      ]
    },
    {
      "cell_type": "code",
      "source": [
        "redirect_uri=\"http://localhost:8888\","
      ],
      "metadata": {
        "id": "xu2r62ucU0p3"
      },
      "execution_count": null,
      "outputs": []
    },
    {
      "cell_type": "code",
      "source": [
        "client_id=\"RTxP9memP4eXwMeMoOZ8dQ\""
      ],
      "metadata": {
        "id": "ldxzDq_QKM4t"
      },
      "execution_count": null,
      "outputs": []
    },
    {
      "cell_type": "code",
      "source": [
        "client_secret=\"\t9zWKnIFusqzDTGNSKuQYt8xHQFYoZA\""
      ],
      "metadata": {
        "id": "sf6Tla7pc-IV"
      },
      "execution_count": null,
      "outputs": []
    },
    {
      "cell_type": "code",
      "source": [
        "client_auth=requests.auth.HTTPBasicAuth(client_id,client_secret)"
      ],
      "metadata": {
        "id": "_QsYlXXndChE"
      },
      "execution_count": null,
      "outputs": []
    },
    {
      "cell_type": "code",
      "source": [
        "data={'grant_type':'password',\n",
        "          'username':'Sad-Cauliflower-8525 ',\n",
        "           'password':'ANAS1999'\n",
        "}"
      ],
      "metadata": {
        "id": "SJlGdnGTdOOi"
      },
      "execution_count": null,
      "outputs": []
    },
    {
      "cell_type": "code",
      "source": [
        "headers={'User-agent':'A red automation script 1.1 by u/Sad-Cauliflower-8525 '}"
      ],
      "metadata": {
        "id": "ILr1mkKudtpg"
      },
      "execution_count": null,
      "outputs": []
    },
    {
      "cell_type": "markdown",
      "source": [],
      "metadata": {
        "id": "0ZOXjmQnSMl7"
      }
    },
    {
      "cell_type": "code",
      "source": [],
      "metadata": {
        "id": "hCx01rWHKCFP"
      },
      "execution_count": null,
      "outputs": []
    },
    {
      "cell_type": "code",
      "source": [],
      "metadata": {
        "id": "QhbM1tq0KMHu"
      },
      "execution_count": null,
      "outputs": []
    },
    {
      "cell_type": "code",
      "source": [
        "res = requests.post('https://www.reddit.com/api/v1/access_token',\n",
        "                    auth=client_auth, data=data, headers=headers)\n"
      ],
      "metadata": {
        "id": "vztwVJQZebyj"
      },
      "execution_count": null,
      "outputs": []
    },
    {
      "cell_type": "code",
      "source": [
        "import numpy as np\n",
        "import seaborn as sns\n",
        "import matplotlib.pyplot as plt"
      ],
      "metadata": {
        "id": "TUzF8vmoU-MC"
      },
      "execution_count": null,
      "outputs": []
    },
    {
      "cell_type": "code",
      "source": [
        "from sklearn.preprocessing import MinMaxScaler\n",
        "\n",
        "# Generate random exponential data with 1000 samples\n",
        "original_data = np.random.exponential(size=1000)\n",
        "# Min-max scale the data between 0 and 1\n",
        "scaler = MinMaxScaler(feature_range=(0, 1))\n",
        "scaled_data = scaler.fit_transform(original_data.reshape(-1, 1))\n",
        "\n",
        "# plot both together to compare\n",
        "fig, ax = plt.subplots(1, 2, figsize=(15, 3))\n",
        "sns.histplot(original_data, ax=ax[0], kde=True, legend=False)\n",
        "ax[0].set_title(\"Original Data\")\n",
        "sns.histplot(scaled_data, ax=ax[1], kde=True, legend=False)\n",
        "ax[1].set_title(\"Scaled data\")\n",
        "plt.show()"
      ],
      "metadata": {
        "id": "NetMPxk1fAel",
        "colab": {
          "base_uri": "https://localhost:8080/",
          "height": 304
        },
        "outputId": "7960aba0-1c62-4638-9e96-0e0c77258d9b"
      },
      "execution_count": null,
      "outputs": [
        {
          "output_type": "stream",
          "name": "stdout",
          "text": [
            "1000\n"
          ]
        },
        {
          "output_type": "display_data",
          "data": {
            "text/plain": [
              "<Figure size 1500x300 with 2 Axes>"
            ],
            "image/png": "[encoded data removed]"
          },
          "metadata": {}
        }
      ]
    },
    {
      "cell_type": "code",
      "source": [],
      "metadata": {
        "id": "tgl0evXuu-Xk"
      },
      "execution_count": null,
      "outputs": []
    },
    {
      "cell_type": "code",
      "source": [
        "import pandas as pd\n",
        "pd.DataFrame({\"amas\": [1,2,3,3],\n",
        "              \"ayoub\": ['ahmed','anas','montasir','asmae']},\n",
        "              index=['A','B','c','d'])\n"
      ],
      "metadata": {
        "id": "1xay0DCTfk21",
        "colab": {
          "base_uri": "https://localhost:8080/",
          "height": 175
        },
        "outputId": "d660c4b7-c9ec-4c82-b671-f029accc5011"
      },
      "execution_count": null,
      "outputs": [
        {
          "output_type": "execute_result",
          "data": {
            "text/plain": [
              "   amas     ayoub\n",
              "A     1     ahmed\n",
              "B     2      anas\n",
              "c     3  montasir\n",
              "d     3     asmae"
            ],
            "text/html": [
              "\n",
              "  <div id=\"df-1f1f5c13-b4cf-4398-9886-828cc4c2e0a4\">\n",
              "    <div class=\"colab-df-container\">\n",
              "      <div>\n",
              "<style scoped>\n",
              "    .dataframe tbody tr th:only-of-type {\n",
              "        vertical-align: middle;\n",
              "    }\n",
              "\n",
              "    .dataframe tbody tr th {\n",
              "        vertical-align: top;\n",
              "    }\n",
              "\n",
              "    .dataframe thead th {\n",
              "        text-align: right;\n",
              "    }\n",
              "</style>\n",
              "<table border=\"1\" class=\"dataframe\">\n",
              "  <thead>\n",
              "    <tr style=\"text-align: right;\">\n",
              "      <th></th>\n",
              "      <th>amas</th>\n",
              "      <th>ayoub</th>\n",
              "    </tr>\n",
              "  </thead>\n",
              "  <tbody>\n",
              "    <tr>\n",
              "      <th>A</th>\n",
              "      <td>1</td>\n",
              "      <td>ahmed</td>\n",
              "    </tr>\n",
              "    <tr>\n",
              "      <th>B</th>\n",
              "      <td>2</td>\n",
              "      <td>anas</td>\n",
              "    </tr>\n",
              "    <tr>\n",
              "      <th>c</th>\n",
              "      <td>3</td>\n",
              "      <td>montasir</td>\n",
              "    </tr>\n",
              "    <tr>\n",
              "      <th>d</th>\n",
              "      <td>3</td>\n",
              "      <td>asmae</td>\n",
              "    </tr>\n",
              "  </tbody>\n",
              "</table>\n",
              "</div>\n",
              "      <button class=\"colab-df-convert\" onclick=\"convertToInteractive('df-1f1f5c13-b4cf-4398-9886-828cc4c2e0a4')\"\n",
              "              title=\"Convert this dataframe to an interactive table.\"\n",
              "              style=\"display:none;\">\n",
              "        \n",
              "  <svg xmlns=\"http://www.w3.org/2000/svg\" height=\"24px\"viewBox=\"0 0 24 24\"\n",
              "       width=\"24px\">\n",
              "    <path d=\"M0 0h24v24H0V0z\" fill=\"none\"/>\n",
              "    <path d=\"M18.56 5.44l.94 2.06.94-2.06 2.06-.94-2.06-.94-.94-2.06-.94 2.06-2.06.94zm-11 1L8.5 8.5l.94-2.06 2.06-.94-2.06-.94L8.5 2.5l-.94 2.06-2.06.94zm10 10l.94 2.06.94-2.06 2.06-.94-2.06-.94-.94-2.06-.94 2.06-2.06.94z\"/><path d=\"M17.41 7.96l-1.37-1.37c-.4-.4-.92-.59-1.43-.59-.52 0-1.04.2-1.43.59L10.3 9.45l-7.72 7.72c-.78.78-.78 2.05 0 2.83L4 21.41c.39.39.9.59 1.41.59.51 0 1.02-.2 1.41-.59l7.78-7.78 2.81-2.81c.8-.78.8-2.07 0-2.86zM5.41 20L4 18.59l7.72-7.72 1.47 1.35L5.41 20z\"/>\n",
              "  </svg>\n",
              "      </button>\n",
              "      \n",
              "  <style>\n",
              "    .colab-df-container {\n",
              "      display:flex;\n",
              "      flex-wrap:wrap;\n",
              "      gap: 12px;\n",
              "    }\n",
              "\n",
              "    .colab-df-convert {\n",
              "      background-color: #E8F0FE;\n",
              "      border: none;\n",
              "      border-radius: 50%;\n",
              "      cursor: pointer;\n",
              "      display: none;\n",
              "      fill: #1967D2;\n",
              "      height: 32px;\n",
              "      padding: 0 0 0 0;\n",
              "      width: 32px;\n",
              "    }\n",
              "\n",
              "    .colab-df-convert:hover {\n",
              "      background-color: #E2EBFA;\n",
              "      box-shadow: 0px 1px 2px rgba(60, 64, 67, 0.3), 0px 1px 3px 1px rgba(60, 64, 67, 0.15);\n",
              "      fill: #174EA6;\n",
              "    }\n",
              "\n",
              "    [theme=dark] .colab-df-convert {\n",
              "      background-color: #3B4455;\n",
              "      fill: #D2E3FC;\n",
              "    }\n",
              "\n",
              "    [theme=dark] .colab-df-convert:hover {\n",
              "      background-color: #434B5C;\n",
              "      box-shadow: 0px 1px 3px 1px rgba(0, 0, 0, 0.15);\n",
              "      filter: drop-shadow(0px 1px 2px rgba(0, 0, 0, 0.3));\n",
              "      fill: #FFFFFF;\n",
              "    }\n",
              "  </style>\n",
              "\n",
              "      <script>\n",
              "        const buttonEl =\n",
              "          document.querySelector('#df-1f1f5c13-b4cf-4398-9886-828cc4c2e0a4 button.colab-df-convert');\n",
              "        buttonEl.style.display =\n",
              "          google.colab.kernel.accessAllowed ? 'block' : 'none';\n",
              "\n",
              "        async function convertToInteractive(key) {\n",
              "          const element = document.querySelector('#df-1f1f5c13-b4cf-4398-9886-828cc4c2e0a4');\n",
              "          const dataTable =\n",
              "            await google.colab.kernel.invokeFunction('convertToInteractive',\n",
              "                                                     [key], {});\n",
              "          if (!dataTable) return;\n",
              "\n",
              "          const docLinkHtml = 'Like what you see? Visit the ' +\n",
              "            '<a target=\"_blank\" href=https://colab.research.google.com/notebooks/data_table.ipynb>data table notebook</a>'\n",
              "            + ' to learn more about interactive tables.';\n",
              "          element.innerHTML = '';\n",
              "          dataTable['output_type'] = 'display_data';\n",
              "          await google.colab.output.renderOutput(dataTable, element);\n",
              "          const docLink = document.createElement('div');\n",
              "          docLink.innerHTML = docLinkHtml;\n",
              "          element.appendChild(docLink);\n",
              "        }\n",
              "      </script>\n",
              "    </div>\n",
              "  </div>\n",
              "  "
            ]
          },
          "metadata": {},
          "execution_count": 10
        }
      ]
    },
    {
      "cell_type": "code",
      "source": [
        "#dictionaire\n",
        "list={}\n",
        "list[1]=\"two\"\n",
        "list['b']=\"order\"\n",
        "print(list)"
      ],
      "metadata": {
        "id": "2G68pdRVk7qC",
        "colab": {
          "base_uri": "https://localhost:8080/"
        },
        "outputId": "43dddff7-45f5-41e5-aeed-6c9daa79ba52"
      },
      "execution_count": null,
      "outputs": [
        {
          "output_type": "stream",
          "name": "stdout",
          "text": [
            "{1: 'two', 'b': 'order'}\n"
          ]
        }
      ]
    },
    {
      "cell_type": "code",
      "source": [
        "print(list.items())\n",
        "print(list.keys())\n",
        "print(list.values())"
      ],
      "metadata": {
        "colab": {
          "base_uri": "https://localhost:8080/"
        },
        "id": "qBB3oiUkz6f0",
        "outputId": "fecb3c95-9ea1-495c-c38c-cd7daa018aa8"
      },
      "execution_count": null,
      "outputs": [
        {
          "output_type": "stream",
          "name": "stdout",
          "text": [
            "dict_items([(1, 'two'), ('b', 'order')])\n",
            "dict_keys([1, 'b'])\n"
          ]
        }
      ]
    },
    {
      "cell_type": "code",
      "source": [
        "m=[1,2,3,4]\n",
        "def ls(l):\n",
        "   h=[]\n",
        "   for i in range(0,len(l)):\n",
        "     h.append(l.pop())\n",
        "   return h\n",
        "ls(m)\n"
      ],
      "metadata": {
        "id": "LMuTuC6hfyNs",
        "colab": {
          "base_uri": "https://localhost:8080/"
        },
        "outputId": "bf543684-8105-4f9c-eb6b-e4cff2358237"
      },
      "execution_count": null,
      "outputs": [
        {
          "output_type": "execute_result",
          "data": {
            "text/plain": [
              "[4, 3, 2, 1]"
            ]
          },
          "metadata": {},
          "execution_count": 40
        }
      ]
    },
    {
      "cell_type": "code",
      "source": [
        "ord('c')-ord('a')+1"
      ],
      "metadata": {
        "id": "Z7ED4nNI6m0d",
        "colab": {
          "base_uri": "https://localhost:8080/"
        },
        "outputId": "9f0416a2-2fba-48c7-e732-587c4e26969d"
      },
      "execution_count": null,
      "outputs": [
        {
          "output_type": "execute_result",
          "data": {
            "text/plain": [
              "3"
            ]
          },
          "metadata": {},
          "execution_count": 47
        }
      ]
    },
    {
      "cell_type": "code",
      "source": [
        "def position(alphabet):\n",
        "    return ord(alphabet)-ord(\"a\")+1"
      ],
      "metadata": {
        "id": "qeSlI9S5C3Hx"
      },
      "execution_count": null,
      "outputs": []
    },
    {
      "cell_type": "code",
      "source": [
        "def post(alp):\n",
        "   if int(alp)==alp\n",
        "      return alp\n",
        "   return ord(alp)-ord('a')+1"
      ],
      "metadata": {
        "id": "70Us-k_0Da1O"
      },
      "execution_count": null,
      "outputs": []
    },
    {
      "cell_type": "code",
      "source": [
        "sumMul(2, 9)   ==> 2 + 4 + 6 + 8 = 20\n",
        "sumMul(3, 13)  ==> 3 + 6 + 9 + 12 = 30\n",
        "sumMul(4, 123) ==> 4 + 8 + 12 + ... = 1860\n",
        "sumMul(4, -7)  ==> \"INVALID\""
      ],
      "metadata": {
        "colab": {
          "base_uri": "https://localhost:8080/"
        },
        "id": "nxFf2Mi3EUDq",
        "outputId": "9f639ff0-9dcf-4f33-b0fd-cd4ab656a613"
      },
      "execution_count": null,
      "outputs": [
        {
          "output_type": "execute_result",
          "data": {
            "text/plain": [
              "90"
            ]
          },
          "metadata": {},
          "execution_count": 68
        }
      ]
    },
    {
      "cell_type": "code",
      "source": [
        "import pandas as pd\n",
        "covid=pd.read_csv('covid_data.csv')\n",
        "covid"
      ],
      "metadata": {
        "colab": {
          "base_uri": "https://localhost:8080/",
          "height": 678
        },
        "id": "GA4DEvW5TOEV",
        "outputId": "910b1ae0-3ad7-4e98-beac-f8a99fefc3e7"
      },
      "execution_count": null,
      "outputs": [
        {
          "output_type": "execute_result",
          "data": {
            "text/plain": [
              "         Continent                Country  Population  Cases.New  \\\n",
              "0    North-America               Anguilla     15230.0        NaN   \n",
              "1    North-America  Saint-Pierre-Miquelon      5759.0        NaN   \n",
              "2           Africa           Saint-Helena      6115.0        NaN   \n",
              "3    South-America       Falkland-Islands      3539.0        NaN   \n",
              "4    North-America             Montserrat      4965.0        NaN   \n",
              "..             ...                    ...         ...        ...   \n",
              "233  North-America          North-America         NaN        NaN   \n",
              "234        Oceania                Oceania         NaN        1.0   \n",
              "235           Asia                   Asia         NaN     1557.0   \n",
              "236         Europe                 Europe         NaN       19.0   \n",
              "237            All                    All         NaN     1577.0   \n",
              "\n",
              "     Cases.Active  Cases.Critical  Cases.Recovered  Cases.1M_pop  Cases.Total  \\\n",
              "0            13.0             4.0           3879.0      256336.0         3904   \n",
              "1          1001.0             1.0           2449.0      599410.0         3452   \n",
              "2          2164.0             NaN              2.0      354211.0         2166   \n",
              "3             0.0             NaN           1930.0      545352.0         1930   \n",
              "4            19.0             NaN           1376.0      282578.0         1403   \n",
              "..            ...             ...              ...           ...          ...   \n",
              "233     2374661.0          5945.0      123016875.0           NaN    127029174   \n",
              "234      115418.0            69.0       14394010.0           NaN     14538634   \n",
              "235    14783321.0         15097.0      201956901.0           NaN    218288029   \n",
              "236     1804016.0          5511.0      245815297.0           NaN    249686413   \n",
              "237    20552838.0         37266.0      663756499.0       88675.0    691207603   \n",
              "\n",
              "     Deaths.New  Deaths.1M_pop  Deaths.Total  Tests.1M_pop  Tests.Total  \\\n",
              "0           NaN          788.0          12.0     3373736.0      51382.0   \n",
              "1           NaN          347.0           2.0     4410488.0      25400.0   \n",
              "2           NaN            NaN           NaN           NaN          NaN   \n",
              "3           NaN            NaN           NaN     2439107.0       8632.0   \n",
              "4           NaN         1611.0           8.0     3577442.0      17762.0   \n",
              "..          ...            ...           ...           ...          ...   \n",
              "233         NaN            NaN     1637638.0           NaN          NaN   \n",
              "234         NaN            NaN       29206.0           NaN          NaN   \n",
              "235         NaN            NaN     1547807.0           NaN          NaN   \n",
              "236         NaN            NaN     2067100.0           NaN          NaN   \n",
              "237         0.0          885.0     6898266.0           NaN          NaN   \n",
              "\n",
              "            Day                       Time  \n",
              "0    2023-07-07  2023-07-07T17:30:09+00:00  \n",
              "1    2023-07-07  2023-07-07T17:30:09+00:00  \n",
              "2    2023-07-07  2023-07-07T17:30:09+00:00  \n",
              "3    2023-07-07  2023-07-07T17:30:09+00:00  \n",
              "4    2023-07-07  2023-07-07T17:30:09+00:00  \n",
              "..          ...                        ...  \n",
              "233  2023-07-07  2023-07-07T17:30:05+00:00  \n",
              "234  2023-07-07  2023-07-07T17:30:05+00:00  \n",
              "235  2023-07-07  2023-07-07T17:30:05+00:00  \n",
              "236  2023-07-07  2023-07-07T17:30:05+00:00  \n",
              "237  2023-07-07  2023-07-07T17:30:05+00:00  \n",
              "\n",
              "[238 rows x 16 columns]"
            ],
            "text/html": [
              "\n",
              "  <div id=\"df-edadfb33-5fb2-47df-a6a6-3131ac1bb4ed\">\n",
              "    <div class=\"colab-df-container\">\n",
              "      <div>\n",
              "<style scoped>\n",
              "    .dataframe tbody tr th:only-of-type {\n",
              "        vertical-align: middle;\n",
              "    }\n",
              "\n",
              "    .dataframe tbody tr th {\n",
              "        vertical-align: top;\n",
              "    }\n",
              "\n",
              "    .dataframe thead th {\n",
              "        text-align: right;\n",
              "    }\n",
              "</style>\n",
              "<table border=\"1\" class=\"dataframe\">\n",
              "  <thead>\n",
              "    <tr style=\"text-align: right;\">\n",
              "      <th></th>\n",
              "      <th>Continent</th>\n",
              "      <th>Country</th>\n",
              "      <th>Population</th>\n",
              "      <th>Cases.New</th>\n",
              "      <th>Cases.Active</th>\n",
              "      <th>Cases.Critical</th>\n",
              "      <th>Cases.Recovered</th>\n",
              "      <th>Cases.1M_pop</th>\n",
              "      <th>Cases.Total</th>\n",
              "      <th>Deaths.New</th>\n",
              "      <th>Deaths.1M_pop</th>\n",
              "      <th>Deaths.Total</th>\n",
              "      <th>Tests.1M_pop</th>\n",
              "      <th>Tests.Total</th>\n",
              "      <th>Day</th>\n",
              "      <th>Time</th>\n",
              "    </tr>\n",
              "  </thead>\n",
              "  <tbody>\n",
              "    <tr>\n",
              "      <th>0</th>\n",
              "      <td>North-America</td>\n",
              "      <td>Anguilla</td>\n",
              "      <td>15230.0</td>\n",
              "      <td>NaN</td>\n",
              "      <td>13.0</td>\n",
              "      <td>4.0</td>\n",
              "      <td>3879.0</td>\n",
              "      <td>256336.0</td>\n",
              "      <td>3904</td>\n",
              "      <td>NaN</td>\n",
              "      <td>788.0</td>\n",
              "      <td>12.0</td>\n",
              "      <td>3373736.0</td>\n",
              "      <td>51382.0</td>\n",
              "      <td>2023-07-07</td>\n",
              "      <td>2023-07-07T17:30:09+00:00</td>\n",
              "    </tr>\n",
              "    <tr>\n",
              "      <th>1</th>\n",
              "      <td>North-America</td>\n",
              "      <td>Saint-Pierre-Miquelon</td>\n",
              "      <td>5759.0</td>\n",
              "      <td>NaN</td>\n",
              "      <td>1001.0</td>\n",
              "      <td>1.0</td>\n",
              "      <td>2449.0</td>\n",
              "      <td>599410.0</td>\n",
              "      <td>3452</td>\n",
              "      <td>NaN</td>\n",
              "      <td>347.0</td>\n",
              "      <td>2.0</td>\n",
              "      <td>4410488.0</td>\n",
              "      <td>25400.0</td>\n",
              "      <td>2023-07-07</td>\n",
              "      <td>2023-07-07T17:30:09+00:00</td>\n",
              "    </tr>\n",
              "    <tr>\n",
              "      <th>2</th>\n",
              "      <td>Africa</td>\n",
              "      <td>Saint-Helena</td>\n",
              "      <td>6115.0</td>\n",
              "      <td>NaN</td>\n",
              "      <td>2164.0</td>\n",
              "      <td>NaN</td>\n",
              "      <td>2.0</td>\n",
              "      <td>354211.0</td>\n",
              "      <td>2166</td>\n",
              "      <td>NaN</td>\n",
              "      <td>NaN</td>\n",
              "      <td>NaN</td>\n",
              "      <td>NaN</td>\n",
              "      <td>NaN</td>\n",
              "      <td>2023-07-07</td>\n",
              "      <td>2023-07-07T17:30:09+00:00</td>\n",
              "    </tr>\n",
              "    <tr>\n",
              "      <th>3</th>\n",
              "      <td>South-America</td>\n",
              "      <td>Falkland-Islands</td>\n",
              "      <td>3539.0</td>\n",
              "      <td>NaN</td>\n",
              "      <td>0.0</td>\n",
              "      <td>NaN</td>\n",
              "      <td>1930.0</td>\n",
              "      <td>545352.0</td>\n",
              "      <td>1930</td>\n",
              "      <td>NaN</td>\n",
              "      <td>NaN</td>\n",
              "      <td>NaN</td>\n",
              "      <td>2439107.0</td>\n",
              "      <td>8632.0</td>\n",
              "      <td>2023-07-07</td>\n",
              "      <td>2023-07-07T17:30:09+00:00</td>\n",
              "    </tr>\n",
              "    <tr>\n",
              "      <th>4</th>\n",
              "      <td>North-America</td>\n",
              "      <td>Montserrat</td>\n",
              "      <td>4965.0</td>\n",
              "      <td>NaN</td>\n",
              "      <td>19.0</td>\n",
              "      <td>NaN</td>\n",
              "      <td>1376.0</td>\n",
              "      <td>282578.0</td>\n",
              "      <td>1403</td>\n",
              "      <td>NaN</td>\n",
              "      <td>1611.0</td>\n",
              "      <td>8.0</td>\n",
              "      <td>3577442.0</td>\n",
              "      <td>17762.0</td>\n",
              "      <td>2023-07-07</td>\n",
              "      <td>2023-07-07T17:30:09+00:00</td>\n",
              "    </tr>\n",
              "    <tr>\n",
              "      <th>...</th>\n",
              "      <td>...</td>\n",
              "      <td>...</td>\n",
              "      <td>...</td>\n",
              "      <td>...</td>\n",
              "      <td>...</td>\n",
              "      <td>...</td>\n",
              "      <td>...</td>\n",
              "      <td>...</td>\n",
              "      <td>...</td>\n",
              "      <td>...</td>\n",
              "      <td>...</td>\n",
              "      <td>...</td>\n",
              "      <td>...</td>\n",
              "      <td>...</td>\n",
              "      <td>...</td>\n",
              "      <td>...</td>\n",
              "    </tr>\n",
              "    <tr>\n",
              "      <th>233</th>\n",
              "      <td>North-America</td>\n",
              "      <td>North-America</td>\n",
              "      <td>NaN</td>\n",
              "      <td>NaN</td>\n",
              "      <td>2374661.0</td>\n",
              "      <td>5945.0</td>\n",
              "      <td>123016875.0</td>\n",
              "      <td>NaN</td>\n",
              "      <td>127029174</td>\n",
              "      <td>NaN</td>\n",
              "      <td>NaN</td>\n",
              "      <td>1637638.0</td>\n",
              "      <td>NaN</td>\n",
              "      <td>NaN</td>\n",
              "      <td>2023-07-07</td>\n",
              "      <td>2023-07-07T17:30:05+00:00</td>\n",
              "    </tr>\n",
              "    <tr>\n",
              "      <th>234</th>\n",
              "      <td>Oceania</td>\n",
              "      <td>Oceania</td>\n",
              "      <td>NaN</td>\n",
              "      <td>1.0</td>\n",
              "      <td>115418.0</td>\n",
              "      <td>69.0</td>\n",
              "      <td>14394010.0</td>\n",
              "      <td>NaN</td>\n",
              "      <td>14538634</td>\n",
              "      <td>NaN</td>\n",
              "      <td>NaN</td>\n",
              "      <td>29206.0</td>\n",
              "      <td>NaN</td>\n",
              "      <td>NaN</td>\n",
              "      <td>2023-07-07</td>\n",
              "      <td>2023-07-07T17:30:05+00:00</td>\n",
              "    </tr>\n",
              "    <tr>\n",
              "      <th>235</th>\n",
              "      <td>Asia</td>\n",
              "      <td>Asia</td>\n",
              "      <td>NaN</td>\n",
              "      <td>1557.0</td>\n",
              "      <td>14783321.0</td>\n",
              "      <td>15097.0</td>\n",
              "      <td>201956901.0</td>\n",
              "      <td>NaN</td>\n",
              "      <td>218288029</td>\n",
              "      <td>NaN</td>\n",
              "      <td>NaN</td>\n",
              "      <td>1547807.0</td>\n",
              "      <td>NaN</td>\n",
              "      <td>NaN</td>\n",
              "      <td>2023-07-07</td>\n",
              "      <td>2023-07-07T17:30:05+00:00</td>\n",
              "    </tr>\n",
              "    <tr>\n",
              "      <th>236</th>\n",
              "      <td>Europe</td>\n",
              "      <td>Europe</td>\n",
              "      <td>NaN</td>\n",
              "      <td>19.0</td>\n",
              "      <td>1804016.0</td>\n",
              "      <td>5511.0</td>\n",
              "      <td>245815297.0</td>\n",
              "      <td>NaN</td>\n",
              "      <td>249686413</td>\n",
              "      <td>NaN</td>\n",
              "      <td>NaN</td>\n",
              "      <td>2067100.0</td>\n",
              "      <td>NaN</td>\n",
              "      <td>NaN</td>\n",
              "      <td>2023-07-07</td>\n",
              "      <td>2023-07-07T17:30:05+00:00</td>\n",
              "    </tr>\n",
              "    <tr>\n",
              "      <th>237</th>\n",
              "      <td>All</td>\n",
              "      <td>All</td>\n",
              "      <td>NaN</td>\n",
              "      <td>1577.0</td>\n",
              "      <td>20552838.0</td>\n",
              "      <td>37266.0</td>\n",
              "      <td>663756499.0</td>\n",
              "      <td>88675.0</td>\n",
              "      <td>691207603</td>\n",
              "      <td>0.0</td>\n",
              "      <td>885.0</td>\n",
              "      <td>6898266.0</td>\n",
              "      <td>NaN</td>\n",
              "      <td>NaN</td>\n",
              "      <td>2023-07-07</td>\n",
              "      <td>2023-07-07T17:30:05+00:00</td>\n",
              "    </tr>\n",
              "  </tbody>\n",
              "</table>\n",
              "<p>238 rows × 16 columns</p>\n",
              "</div>\n",
              "      <button class=\"colab-df-convert\" onclick=\"convertToInteractive('df-edadfb33-5fb2-47df-a6a6-3131ac1bb4ed')\"\n",
              "              title=\"Convert this dataframe to an interactive table.\"\n",
              "              style=\"display:none;\">\n",
              "        \n",
              "  <svg xmlns=\"http://www.w3.org/2000/svg\" height=\"24px\"viewBox=\"0 0 24 24\"\n",
              "       width=\"24px\">\n",
              "    <path d=\"M0 0h24v24H0V0z\" fill=\"none\"/>\n",
              "    <path d=\"M18.56 5.44l.94 2.06.94-2.06 2.06-.94-2.06-.94-.94-2.06-.94 2.06-2.06.94zm-11 1L8.5 8.5l.94-2.06 2.06-.94-2.06-.94L8.5 2.5l-.94 2.06-2.06.94zm10 10l.94 2.06.94-2.06 2.06-.94-2.06-.94-.94-2.06-.94 2.06-2.06.94z\"/><path d=\"M17.41 7.96l-1.37-1.37c-.4-.4-.92-.59-1.43-.59-.52 0-1.04.2-1.43.59L10.3 9.45l-7.72 7.72c-.78.78-.78 2.05 0 2.83L4 21.41c.39.39.9.59 1.41.59.51 0 1.02-.2 1.41-.59l7.78-7.78 2.81-2.81c.8-.78.8-2.07 0-2.86zM5.41 20L4 18.59l7.72-7.72 1.47 1.35L5.41 20z\"/>\n",
              "  </svg>\n",
              "      </button>\n",
              "      \n",
              "  <style>\n",
              "    .colab-df-container {\n",
              "      display:flex;\n",
              "      flex-wrap:wrap;\n",
              "      gap: 12px;\n",
              "    }\n",
              "\n",
              "    .colab-df-convert {\n",
              "      background-color: #E8F0FE;\n",
              "      border: none;\n",
              "      border-radius: 50%;\n",
              "      cursor: pointer;\n",
              "      display: none;\n",
              "      fill: #1967D2;\n",
              "      height: 32px;\n",
              "      padding: 0 0 0 0;\n",
              "      width: 32px;\n",
              "    }\n",
              "\n",
              "    .colab-df-convert:hover {\n",
              "      background-color: #E2EBFA;\n",
              "      box-shadow: 0px 1px 2px rgba(60, 64, 67, 0.3), 0px 1px 3px 1px rgba(60, 64, 67, 0.15);\n",
              "      fill: #174EA6;\n",
              "    }\n",
              "\n",
              "    [theme=dark] .colab-df-convert {\n",
              "      background-color: #3B4455;\n",
              "      fill: #D2E3FC;\n",
              "    }\n",
              "\n",
              "    [theme=dark] .colab-df-convert:hover {\n",
              "      background-color: #434B5C;\n",
              "      box-shadow: 0px 1px 3px 1px rgba(0, 0, 0, 0.15);\n",
              "      filter: drop-shadow(0px 1px 2px rgba(0, 0, 0, 0.3));\n",
              "      fill: #FFFFFF;\n",
              "    }\n",
              "  </style>\n",
              "\n",
              "      <script>\n",
              "        const buttonEl =\n",
              "          document.querySelector('#df-edadfb33-5fb2-47df-a6a6-3131ac1bb4ed button.colab-df-convert');\n",
              "        buttonEl.style.display =\n",
              "          google.colab.kernel.accessAllowed ? 'block' : 'none';\n",
              "\n",
              "        async function convertToInteractive(key) {\n",
              "          const element = document.querySelector('#df-edadfb33-5fb2-47df-a6a6-3131ac1bb4ed');\n",
              "          const dataTable =\n",
              "            await google.colab.kernel.invokeFunction('convertToInteractive',\n",
              "                                                     [key], {});\n",
              "          if (!dataTable) return;\n",
              "\n",
              "          const docLinkHtml = 'Like what you see? Visit the ' +\n",
              "            '<a target=\"_blank\" href=https://colab.research.google.com/notebooks/data_table.ipynb>data table notebook</a>'\n",
              "            + ' to learn more about interactive tables.';\n",
              "          element.innerHTML = '';\n",
              "          dataTable['output_type'] = 'display_data';\n",
              "          await google.colab.output.renderOutput(dataTable, element);\n",
              "          const docLink = document.createElement('div');\n",
              "          docLink.innerHTML = docLinkHtml;\n",
              "          element.appendChild(docLink);\n",
              "        }\n",
              "      </script>\n",
              "    </div>\n",
              "  </div>\n",
              "  "
            ]
          },
          "metadata": {},
          "execution_count": 16
        }
      ]
    },
    {
      "cell_type": "code",
      "source": [
        "covid.describe()"
      ],
      "metadata": {
        "colab": {
          "base_uri": "https://localhost:8080/",
          "height": 364
        },
        "id": "1FmZIce8yTBE",
        "outputId": "889c4d35-4b9d-45da-b8c1-f1edf6b200d5"
      },
      "execution_count": null,
      "outputs": [
        {
          "output_type": "execute_result",
          "data": {
            "text/plain": [
              "         Population    Cases.New  Cases.Active  Cases.Critical  \\\n",
              "count  2.290000e+02   111.000000  2.180000e+02      130.000000   \n",
              "mean   3.469404e+07   214.918919  2.195988e+05      623.861538   \n",
              "std    1.386374e+08   544.987875  1.722985e+06     3669.044268   \n",
              "min    7.990000e+02     1.000000  0.000000e+00        1.000000   \n",
              "25%    4.454310e+05     7.000000  4.525000e+01        4.000000   \n",
              "50%    5.797805e+06    23.000000  9.225000e+02       12.500000   \n",
              "75%    2.210284e+07   105.000000  9.979000e+03       52.750000   \n",
              "max    1.448471e+09  4490.000000  2.055284e+07    37266.000000   \n",
              "\n",
              "       Cases.Recovered   Cases.1M_pop   Cases.Total  Deaths.New  \\\n",
              "count     2.160000e+02     230.000000  2.380000e+02   35.000000   \n",
              "mean      9.030436e+06  198232.439130  8.712698e+06    8.028571   \n",
              "std       5.129814e+07  200149.367416  5.093251e+07   16.707669   \n",
              "min       2.000000e+00      16.000000  9.000000e+00    0.000000   \n",
              "25%       2.378000e+04   17877.000000  2.667775e+04    1.000000   \n",
              "50%       2.594205e+05  126361.000000  2.269655e+05    2.000000   \n",
              "75%       1.793834e+06  322602.250000  1.557395e+06    4.000000   \n",
              "max       6.637565e+08  713686.000000  6.912076e+08   86.000000   \n",
              "\n",
              "       Deaths.1M_pop  Deaths.Total  Tests.1M_pop   Tests.Total  \n",
              "count     225.000000  2.330000e+02  2.130000e+02  2.130000e+02  \n",
              "mean     1255.986667  8.881881e+04  2.140122e+06  3.285101e+07  \n",
              "std      1289.427861  5.077829e+05  3.639239e+06  1.193558e+08  \n",
              "min         2.000000  1.000000e+00  5.093000e+03  7.850000e+03  \n",
              "25%       175.000000  2.250000e+02  1.972150e+05  3.478150e+05  \n",
              "50%       837.000000  2.570000e+03  8.851190e+05  2.226216e+06  \n",
              "75%      2059.000000  1.805700e+04  2.439107e+06  1.308345e+07  \n",
              "max      6552.000000  6.898266e+06  2.330212e+07  1.180836e+09  "
            ],
            "text/html": [
              "\n",
              "  <div id=\"df-f480b820-d1bd-43a7-a594-453f5cb52b96\">\n",
              "    <div class=\"colab-df-container\">\n",
              "      <div>\n",
              "<style scoped>\n",
              "    .dataframe tbody tr th:only-of-type {\n",
              "        vertical-align: middle;\n",
              "    }\n",
              "\n",
              "    .dataframe tbody tr th {\n",
              "        vertical-align: top;\n",
              "    }\n",
              "\n",
              "    .dataframe thead th {\n",
              "        text-align: right;\n",
              "    }\n",
              "</style>\n",
              "<table border=\"1\" class=\"dataframe\">\n",
              "  <thead>\n",
              "    <tr style=\"text-align: right;\">\n",
              "      <th></th>\n",
              "      <th>Population</th>\n",
              "      <th>Cases.New</th>\n",
              "      <th>Cases.Active</th>\n",
              "      <th>Cases.Critical</th>\n",
              "      <th>Cases.Recovered</th>\n",
              "      <th>Cases.1M_pop</th>\n",
              "      <th>Cases.Total</th>\n",
              "      <th>Deaths.New</th>\n",
              "      <th>Deaths.1M_pop</th>\n",
              "      <th>Deaths.Total</th>\n",
              "      <th>Tests.1M_pop</th>\n",
              "      <th>Tests.Total</th>\n",
              "    </tr>\n",
              "  </thead>\n",
              "  <tbody>\n",
              "    <tr>\n",
              "      <th>count</th>\n",
              "      <td>2.290000e+02</td>\n",
              "      <td>111.000000</td>\n",
              "      <td>2.180000e+02</td>\n",
              "      <td>130.000000</td>\n",
              "      <td>2.160000e+02</td>\n",
              "      <td>230.000000</td>\n",
              "      <td>2.380000e+02</td>\n",
              "      <td>35.000000</td>\n",
              "      <td>225.000000</td>\n",
              "      <td>2.330000e+02</td>\n",
              "      <td>2.130000e+02</td>\n",
              "      <td>2.130000e+02</td>\n",
              "    </tr>\n",
              "    <tr>\n",
              "      <th>mean</th>\n",
              "      <td>3.469404e+07</td>\n",
              "      <td>214.918919</td>\n",
              "      <td>2.195988e+05</td>\n",
              "      <td>623.861538</td>\n",
              "      <td>9.030436e+06</td>\n",
              "      <td>198232.439130</td>\n",
              "      <td>8.712698e+06</td>\n",
              "      <td>8.028571</td>\n",
              "      <td>1255.986667</td>\n",
              "      <td>8.881881e+04</td>\n",
              "      <td>2.140122e+06</td>\n",
              "      <td>3.285101e+07</td>\n",
              "    </tr>\n",
              "    <tr>\n",
              "      <th>std</th>\n",
              "      <td>1.386374e+08</td>\n",
              "      <td>544.987875</td>\n",
              "      <td>1.722985e+06</td>\n",
              "      <td>3669.044268</td>\n",
              "      <td>5.129814e+07</td>\n",
              "      <td>200149.367416</td>\n",
              "      <td>5.093251e+07</td>\n",
              "      <td>16.707669</td>\n",
              "      <td>1289.427861</td>\n",
              "      <td>5.077829e+05</td>\n",
              "      <td>3.639239e+06</td>\n",
              "      <td>1.193558e+08</td>\n",
              "    </tr>\n",
              "    <tr>\n",
              "      <th>min</th>\n",
              "      <td>7.990000e+02</td>\n",
              "      <td>1.000000</td>\n",
              "      <td>0.000000e+00</td>\n",
              "      <td>1.000000</td>\n",
              "      <td>2.000000e+00</td>\n",
              "      <td>16.000000</td>\n",
              "      <td>9.000000e+00</td>\n",
              "      <td>0.000000</td>\n",
              "      <td>2.000000</td>\n",
              "      <td>1.000000e+00</td>\n",
              "      <td>5.093000e+03</td>\n",
              "      <td>7.850000e+03</td>\n",
              "    </tr>\n",
              "    <tr>\n",
              "      <th>25%</th>\n",
              "      <td>4.454310e+05</td>\n",
              "      <td>7.000000</td>\n",
              "      <td>4.525000e+01</td>\n",
              "      <td>4.000000</td>\n",
              "      <td>2.378000e+04</td>\n",
              "      <td>17877.000000</td>\n",
              "      <td>2.667775e+04</td>\n",
              "      <td>1.000000</td>\n",
              "      <td>175.000000</td>\n",
              "      <td>2.250000e+02</td>\n",
              "      <td>1.972150e+05</td>\n",
              "      <td>3.478150e+05</td>\n",
              "    </tr>\n",
              "    <tr>\n",
              "      <th>50%</th>\n",
              "      <td>5.797805e+06</td>\n",
              "      <td>23.000000</td>\n",
              "      <td>9.225000e+02</td>\n",
              "      <td>12.500000</td>\n",
              "      <td>2.594205e+05</td>\n",
              "      <td>126361.000000</td>\n",
              "      <td>2.269655e+05</td>\n",
              "      <td>2.000000</td>\n",
              "      <td>837.000000</td>\n",
              "      <td>2.570000e+03</td>\n",
              "      <td>8.851190e+05</td>\n",
              "      <td>2.226216e+06</td>\n",
              "    </tr>\n",
              "    <tr>\n",
              "      <th>75%</th>\n",
              "      <td>2.210284e+07</td>\n",
              "      <td>105.000000</td>\n",
              "      <td>9.979000e+03</td>\n",
              "      <td>52.750000</td>\n",
              "      <td>1.793834e+06</td>\n",
              "      <td>322602.250000</td>\n",
              "      <td>1.557395e+06</td>\n",
              "      <td>4.000000</td>\n",
              "      <td>2059.000000</td>\n",
              "      <td>1.805700e+04</td>\n",
              "      <td>2.439107e+06</td>\n",
              "      <td>1.308345e+07</td>\n",
              "    </tr>\n",
              "    <tr>\n",
              "      <th>max</th>\n",
              "      <td>1.448471e+09</td>\n",
              "      <td>4490.000000</td>\n",
              "      <td>2.055284e+07</td>\n",
              "      <td>37266.000000</td>\n",
              "      <td>6.637565e+08</td>\n",
              "      <td>713686.000000</td>\n",
              "      <td>6.912076e+08</td>\n",
              "      <td>86.000000</td>\n",
              "      <td>6552.000000</td>\n",
              "      <td>6.898266e+06</td>\n",
              "      <td>2.330212e+07</td>\n",
              "      <td>1.180836e+09</td>\n",
              "    </tr>\n",
              "  </tbody>\n",
              "</table>\n",
              "</div>\n",
              "      <button class=\"colab-df-convert\" onclick=\"convertToInteractive('df-f480b820-d1bd-43a7-a594-453f5cb52b96')\"\n",
              "              title=\"Convert this dataframe to an interactive table.\"\n",
              "              style=\"display:none;\">\n",
              "        \n",
              "  <svg xmlns=\"http://www.w3.org/2000/svg\" height=\"24px\"viewBox=\"0 0 24 24\"\n",
              "       width=\"24px\">\n",
              "    <path d=\"M0 0h24v24H0V0z\" fill=\"none\"/>\n",
              "    <path d=\"M18.56 5.44l.94 2.06.94-2.06 2.06-.94-2.06-.94-.94-2.06-.94 2.06-2.06.94zm-11 1L8.5 8.5l.94-2.06 2.06-.94-2.06-.94L8.5 2.5l-.94 2.06-2.06.94zm10 10l.94 2.06.94-2.06 2.06-.94-2.06-.94-.94-2.06-.94 2.06-2.06.94z\"/><path d=\"M17.41 7.96l-1.37-1.37c-.4-.4-.92-.59-1.43-.59-.52 0-1.04.2-1.43.59L10.3 9.45l-7.72 7.72c-.78.78-.78 2.05 0 2.83L4 21.41c.39.39.9.59 1.41.59.51 0 1.02-.2 1.41-.59l7.78-7.78 2.81-2.81c.8-.78.8-2.07 0-2.86zM5.41 20L4 18.59l7.72-7.72 1.47 1.35L5.41 20z\"/>\n",
              "  </svg>\n",
              "      </button>\n",
              "      \n",
              "  <style>\n",
              "    .colab-df-container {\n",
              "      display:flex;\n",
              "      flex-wrap:wrap;\n",
              "      gap: 12px;\n",
              "    }\n",
              "\n",
              "    .colab-df-convert {\n",
              "      background-color: #E8F0FE;\n",
              "      border: none;\n",
              "      border-radius: 50%;\n",
              "      cursor: pointer;\n",
              "      display: none;\n",
              "      fill: #1967D2;\n",
              "      height: 32px;\n",
              "      padding: 0 0 0 0;\n",
              "      width: 32px;\n",
              "    }\n",
              "\n",
              "    .colab-df-convert:hover {\n",
              "      background-color: #E2EBFA;\n",
              "      box-shadow: 0px 1px 2px rgba(60, 64, 67, 0.3), 0px 1px 3px 1px rgba(60, 64, 67, 0.15);\n",
              "      fill: #174EA6;\n",
              "    }\n",
              "\n",
              "    [theme=dark] .colab-df-convert {\n",
              "      background-color: #3B4455;\n",
              "      fill: #D2E3FC;\n",
              "    }\n",
              "\n",
              "    [theme=dark] .colab-df-convert:hover {\n",
              "      background-color: #434B5C;\n",
              "      box-shadow: 0px 1px 3px 1px rgba(0, 0, 0, 0.15);\n",
              "      filter: drop-shadow(0px 1px 2px rgba(0, 0, 0, 0.3));\n",
              "      fill: #FFFFFF;\n",
              "    }\n",
              "  </style>\n",
              "\n",
              "      <script>\n",
              "        const buttonEl =\n",
              "          document.querySelector('#df-f480b820-d1bd-43a7-a594-453f5cb52b96 button.colab-df-convert');\n",
              "        buttonEl.style.display =\n",
              "          google.colab.kernel.accessAllowed ? 'block' : 'none';\n",
              "\n",
              "        async function convertToInteractive(key) {\n",
              "          const element = document.querySelector('#df-f480b820-d1bd-43a7-a594-453f5cb52b96');\n",
              "          const dataTable =\n",
              "            await google.colab.kernel.invokeFunction('convertToInteractive',\n",
              "                                                     [key], {});\n",
              "          if (!dataTable) return;\n",
              "\n",
              "          const docLinkHtml = 'Like what you see? Visit the ' +\n",
              "            '<a target=\"_blank\" href=https://colab.research.google.com/notebooks/data_table.ipynb>data table notebook</a>'\n",
              "            + ' to learn more about interactive tables.';\n",
              "          element.innerHTML = '';\n",
              "          dataTable['output_type'] = 'display_data';\n",
              "          await google.colab.output.renderOutput(dataTable, element);\n",
              "          const docLink = document.createElement('div');\n",
              "          docLink.innerHTML = docLinkHtml;\n",
              "          element.appendChild(docLink);\n",
              "        }\n",
              "      </script>\n",
              "    </div>\n",
              "  </div>\n",
              "  "
            ]
          },
          "metadata": {},
          "execution_count": 18
        }
      ]
    },
    {
      "cell_type": "code",
      "source": [
        "m=covid.mean()[0]\n",
        "m"
      ],
      "metadata": {
        "colab": {
          "base_uri": "https://localhost:8080/"
        },
        "id": "urndP1NXzLvK",
        "outputId": "7a62d52e-3c38-4d59-f220-9d4e978e2ef2"
      },
      "execution_count": null,
      "outputs": [
        {
          "output_type": "stream",
          "name": "stderr",
          "text": [
            "<ipython-input-26-24b6c61fb025>:1: FutureWarning: The default value of numeric_only in DataFrame.mean is deprecated. In a future version, it will default to False. In addition, specifying 'numeric_only=None' is deprecated. Select only valid columns or specify the value of numeric_only to silence this warning.\n",
            "  m=covid.mean()[0]\n"
          ]
        },
        {
          "output_type": "execute_result",
          "data": {
            "text/plain": [
              "34694039.873362444"
            ]
          },
          "metadata": {},
          "execution_count": 26
        }
      ]
    },
    {
      "cell_type": "code",
      "source": [
        "#Maps\n",
        "def remean_points(row):\n",
        "  row['Population']=row['Population']-m\n",
        "  return row\n",
        "covid.apply(remean_points,axis='columns')\n",
        "\n",
        "\n"
      ],
      "metadata": {
        "colab": {
          "base_uri": "https://localhost:8080/",
          "height": 678
        },
        "id": "FCHO1L3CzdoS",
        "outputId": "4a892e23-224b-4e3b-82df-adf40d505a1e"
      },
      "execution_count": null,
      "outputs": [
        {
          "output_type": "execute_result",
          "data": {
            "text/plain": [
              "         Continent                Country    Population  Cases.New  \\\n",
              "0    North-America               Anguilla -3.467881e+07        NaN   \n",
              "1    North-America  Saint-Pierre-Miquelon -3.468828e+07        NaN   \n",
              "2           Africa           Saint-Helena -3.468792e+07        NaN   \n",
              "3    South-America       Falkland-Islands -3.469050e+07        NaN   \n",
              "4    North-America             Montserrat -3.468907e+07        NaN   \n",
              "..             ...                    ...           ...        ...   \n",
              "233  North-America          North-America           NaN        NaN   \n",
              "234        Oceania                Oceania           NaN        1.0   \n",
              "235           Asia                   Asia           NaN     1557.0   \n",
              "236         Europe                 Europe           NaN       19.0   \n",
              "237            All                    All           NaN     1577.0   \n",
              "\n",
              "     Cases.Active  Cases.Critical  Cases.Recovered  Cases.1M_pop  Cases.Total  \\\n",
              "0            13.0             4.0           3879.0      256336.0         3904   \n",
              "1          1001.0             1.0           2449.0      599410.0         3452   \n",
              "2          2164.0             NaN              2.0      354211.0         2166   \n",
              "3             0.0             NaN           1930.0      545352.0         1930   \n",
              "4            19.0             NaN           1376.0      282578.0         1403   \n",
              "..            ...             ...              ...           ...          ...   \n",
              "233     2374661.0          5945.0      123016875.0           NaN    127029174   \n",
              "234      115418.0            69.0       14394010.0           NaN     14538634   \n",
              "235    14783321.0         15097.0      201956901.0           NaN    218288029   \n",
              "236     1804016.0          5511.0      245815297.0           NaN    249686413   \n",
              "237    20552838.0         37266.0      663756499.0       88675.0    691207603   \n",
              "\n",
              "     Deaths.New  Deaths.1M_pop  Deaths.Total  Tests.1M_pop  Tests.Total  \\\n",
              "0           NaN          788.0          12.0     3373736.0      51382.0   \n",
              "1           NaN          347.0           2.0     4410488.0      25400.0   \n",
              "2           NaN            NaN           NaN           NaN          NaN   \n",
              "3           NaN            NaN           NaN     2439107.0       8632.0   \n",
              "4           NaN         1611.0           8.0     3577442.0      17762.0   \n",
              "..          ...            ...           ...           ...          ...   \n",
              "233         NaN            NaN     1637638.0           NaN          NaN   \n",
              "234         NaN            NaN       29206.0           NaN          NaN   \n",
              "235         NaN            NaN     1547807.0           NaN          NaN   \n",
              "236         NaN            NaN     2067100.0           NaN          NaN   \n",
              "237         0.0          885.0     6898266.0           NaN          NaN   \n",
              "\n",
              "            Day                       Time  \n",
              "0    2023-07-07  2023-07-07T17:30:09+00:00  \n",
              "1    2023-07-07  2023-07-07T17:30:09+00:00  \n",
              "2    2023-07-07  2023-07-07T17:30:09+00:00  \n",
              "3    2023-07-07  2023-07-07T17:30:09+00:00  \n",
              "4    2023-07-07  2023-07-07T17:30:09+00:00  \n",
              "..          ...                        ...  \n",
              "233  2023-07-07  2023-07-07T17:30:05+00:00  \n",
              "234  2023-07-07  2023-07-07T17:30:05+00:00  \n",
              "235  2023-07-07  2023-07-07T17:30:05+00:00  \n",
              "236  2023-07-07  2023-07-07T17:30:05+00:00  \n",
              "237  2023-07-07  2023-07-07T17:30:05+00:00  \n",
              "\n",
              "[238 rows x 16 columns]"
            ],
            "text/html": [
              "\n",
              "  <div id=\"df-88623432-cc00-4c65-9530-a11dcb6e6ba7\">\n",
              "    <div class=\"colab-df-container\">\n",
              "      <div>\n",
              "<style scoped>\n",
              "    .dataframe tbody tr th:only-of-type {\n",
              "        vertical-align: middle;\n",
              "    }\n",
              "\n",
              "    .dataframe tbody tr th {\n",
              "        vertical-align: top;\n",
              "    }\n",
              "\n",
              "    .dataframe thead th {\n",
              "        text-align: right;\n",
              "    }\n",
              "</style>\n",
              "<table border=\"1\" class=\"dataframe\">\n",
              "  <thead>\n",
              "    <tr style=\"text-align: right;\">\n",
              "      <th></th>\n",
              "      <th>Continent</th>\n",
              "      <th>Country</th>\n",
              "      <th>Population</th>\n",
              "      <th>Cases.New</th>\n",
              "      <th>Cases.Active</th>\n",
              "      <th>Cases.Critical</th>\n",
              "      <th>Cases.Recovered</th>\n",
              "      <th>Cases.1M_pop</th>\n",
              "      <th>Cases.Total</th>\n",
              "      <th>Deaths.New</th>\n",
              "      <th>Deaths.1M_pop</th>\n",
              "      <th>Deaths.Total</th>\n",
              "      <th>Tests.1M_pop</th>\n",
              "      <th>Tests.Total</th>\n",
              "      <th>Day</th>\n",
              "      <th>Time</th>\n",
              "    </tr>\n",
              "  </thead>\n",
              "  <tbody>\n",
              "    <tr>\n",
              "      <th>0</th>\n",
              "      <td>North-America</td>\n",
              "      <td>Anguilla</td>\n",
              "      <td>-3.467881e+07</td>\n",
              "      <td>NaN</td>\n",
              "      <td>13.0</td>\n",
              "      <td>4.0</td>\n",
              "      <td>3879.0</td>\n",
              "      <td>256336.0</td>\n",
              "      <td>3904</td>\n",
              "      <td>NaN</td>\n",
              "      <td>788.0</td>\n",
              "      <td>12.0</td>\n",
              "      <td>3373736.0</td>\n",
              "      <td>51382.0</td>\n",
              "      <td>2023-07-07</td>\n",
              "      <td>2023-07-07T17:30:09+00:00</td>\n",
              "    </tr>\n",
              "    <tr>\n",
              "      <th>1</th>\n",
              "      <td>North-America</td>\n",
              "      <td>Saint-Pierre-Miquelon</td>\n",
              "      <td>-3.468828e+07</td>\n",
              "      <td>NaN</td>\n",
              "      <td>1001.0</td>\n",
              "      <td>1.0</td>\n",
              "      <td>2449.0</td>\n",
              "      <td>599410.0</td>\n",
              "      <td>3452</td>\n",
              "      <td>NaN</td>\n",
              "      <td>347.0</td>\n",
              "      <td>2.0</td>\n",
              "      <td>4410488.0</td>\n",
              "      <td>25400.0</td>\n",
              "      <td>2023-07-07</td>\n",
              "      <td>2023-07-07T17:30:09+00:00</td>\n",
              "    </tr>\n",
              "    <tr>\n",
              "      <th>2</th>\n",
              "      <td>Africa</td>\n",
              "      <td>Saint-Helena</td>\n",
              "      <td>-3.468792e+07</td>\n",
              "      <td>NaN</td>\n",
              "      <td>2164.0</td>\n",
              "      <td>NaN</td>\n",
              "      <td>2.0</td>\n",
              "      <td>354211.0</td>\n",
              "      <td>2166</td>\n",
              "      <td>NaN</td>\n",
              "      <td>NaN</td>\n",
              "      <td>NaN</td>\n",
              "      <td>NaN</td>\n",
              "      <td>NaN</td>\n",
              "      <td>2023-07-07</td>\n",
              "      <td>2023-07-07T17:30:09+00:00</td>\n",
              "    </tr>\n",
              "    <tr>\n",
              "      <th>3</th>\n",
              "      <td>South-America</td>\n",
              "      <td>Falkland-Islands</td>\n",
              "      <td>-3.469050e+07</td>\n",
              "      <td>NaN</td>\n",
              "      <td>0.0</td>\n",
              "      <td>NaN</td>\n",
              "      <td>1930.0</td>\n",
              "      <td>545352.0</td>\n",
              "      <td>1930</td>\n",
              "      <td>NaN</td>\n",
              "      <td>NaN</td>\n",
              "      <td>NaN</td>\n",
              "      <td>2439107.0</td>\n",
              "      <td>8632.0</td>\n",
              "      <td>2023-07-07</td>\n",
              "      <td>2023-07-07T17:30:09+00:00</td>\n",
              "    </tr>\n",
              "    <tr>\n",
              "      <th>4</th>\n",
              "      <td>North-America</td>\n",
              "      <td>Montserrat</td>\n",
              "      <td>-3.468907e+07</td>\n",
              "      <td>NaN</td>\n",
              "      <td>19.0</td>\n",
              "      <td>NaN</td>\n",
              "      <td>1376.0</td>\n",
              "      <td>282578.0</td>\n",
              "      <td>1403</td>\n",
              "      <td>NaN</td>\n",
              "      <td>1611.0</td>\n",
              "      <td>8.0</td>\n",
              "      <td>3577442.0</td>\n",
              "      <td>17762.0</td>\n",
              "      <td>2023-07-07</td>\n",
              "      <td>2023-07-07T17:30:09+00:00</td>\n",
              "    </tr>\n",
              "    <tr>\n",
              "      <th>...</th>\n",
              "      <td>...</td>\n",
              "      <td>...</td>\n",
              "      <td>...</td>\n",
              "      <td>...</td>\n",
              "      <td>...</td>\n",
              "      <td>...</td>\n",
              "      <td>...</td>\n",
              "      <td>...</td>\n",
              "      <td>...</td>\n",
              "      <td>...</td>\n",
              "      <td>...</td>\n",
              "      <td>...</td>\n",
              "      <td>...</td>\n",
              "      <td>...</td>\n",
              "      <td>...</td>\n",
              "      <td>...</td>\n",
              "    </tr>\n",
              "    <tr>\n",
              "      <th>233</th>\n",
              "      <td>North-America</td>\n",
              "      <td>North-America</td>\n",
              "      <td>NaN</td>\n",
              "      <td>NaN</td>\n",
              "      <td>2374661.0</td>\n",
              "      <td>5945.0</td>\n",
              "      <td>123016875.0</td>\n",
              "      <td>NaN</td>\n",
              "      <td>127029174</td>\n",
              "      <td>NaN</td>\n",
              "      <td>NaN</td>\n",
              "      <td>1637638.0</td>\n",
              "      <td>NaN</td>\n",
              "      <td>NaN</td>\n",
              "      <td>2023-07-07</td>\n",
              "      <td>2023-07-07T17:30:05+00:00</td>\n",
              "    </tr>\n",
              "    <tr>\n",
              "      <th>234</th>\n",
              "      <td>Oceania</td>\n",
              "      <td>Oceania</td>\n",
              "      <td>NaN</td>\n",
              "      <td>1.0</td>\n",
              "      <td>115418.0</td>\n",
              "      <td>69.0</td>\n",
              "      <td>14394010.0</td>\n",
              "      <td>NaN</td>\n",
              "      <td>14538634</td>\n",
              "      <td>NaN</td>\n",
              "      <td>NaN</td>\n",
              "      <td>29206.0</td>\n",
              "      <td>NaN</td>\n",
              "      <td>NaN</td>\n",
              "      <td>2023-07-07</td>\n",
              "      <td>2023-07-07T17:30:05+00:00</td>\n",
              "    </tr>\n",
              "    <tr>\n",
              "      <th>235</th>\n",
              "      <td>Asia</td>\n",
              "      <td>Asia</td>\n",
              "      <td>NaN</td>\n",
              "      <td>1557.0</td>\n",
              "      <td>14783321.0</td>\n",
              "      <td>15097.0</td>\n",
              "      <td>201956901.0</td>\n",
              "      <td>NaN</td>\n",
              "      <td>218288029</td>\n",
              "      <td>NaN</td>\n",
              "      <td>NaN</td>\n",
              "      <td>1547807.0</td>\n",
              "      <td>NaN</td>\n",
              "      <td>NaN</td>\n",
              "      <td>2023-07-07</td>\n",
              "      <td>2023-07-07T17:30:05+00:00</td>\n",
              "    </tr>\n",
              "    <tr>\n",
              "      <th>236</th>\n",
              "      <td>Europe</td>\n",
              "      <td>Europe</td>\n",
              "      <td>NaN</td>\n",
              "      <td>19.0</td>\n",
              "      <td>1804016.0</td>\n",
              "      <td>5511.0</td>\n",
              "      <td>245815297.0</td>\n",
              "      <td>NaN</td>\n",
              "      <td>249686413</td>\n",
              "      <td>NaN</td>\n",
              "      <td>NaN</td>\n",
              "      <td>2067100.0</td>\n",
              "      <td>NaN</td>\n",
              "      <td>NaN</td>\n",
              "      <td>2023-07-07</td>\n",
              "      <td>2023-07-07T17:30:05+00:00</td>\n",
              "    </tr>\n",
              "    <tr>\n",
              "      <th>237</th>\n",
              "      <td>All</td>\n",
              "      <td>All</td>\n",
              "      <td>NaN</td>\n",
              "      <td>1577.0</td>\n",
              "      <td>20552838.0</td>\n",
              "      <td>37266.0</td>\n",
              "      <td>663756499.0</td>\n",
              "      <td>88675.0</td>\n",
              "      <td>691207603</td>\n",
              "      <td>0.0</td>\n",
              "      <td>885.0</td>\n",
              "      <td>6898266.0</td>\n",
              "      <td>NaN</td>\n",
              "      <td>NaN</td>\n",
              "      <td>2023-07-07</td>\n",
              "      <td>2023-07-07T17:30:05+00:00</td>\n",
              "    </tr>\n",
              "  </tbody>\n",
              "</table>\n",
              "<p>238 rows × 16 columns</p>\n",
              "</div>\n",
              "      <button class=\"colab-df-convert\" onclick=\"convertToInteractive('df-88623432-cc00-4c65-9530-a11dcb6e6ba7')\"\n",
              "              title=\"Convert this dataframe to an interactive table.\"\n",
              "              style=\"display:none;\">\n",
              "        \n",
              "  <svg xmlns=\"http://www.w3.org/2000/svg\" height=\"24px\"viewBox=\"0 0 24 24\"\n",
              "       width=\"24px\">\n",
              "    <path d=\"M0 0h24v24H0V0z\" fill=\"none\"/>\n",
              "    <path d=\"M18.56 5.44l.94 2.06.94-2.06 2.06-.94-2.06-.94-.94-2.06-.94 2.06-2.06.94zm-11 1L8.5 8.5l.94-2.06 2.06-.94-2.06-.94L8.5 2.5l-.94 2.06-2.06.94zm10 10l.94 2.06.94-2.06 2.06-.94-2.06-.94-.94-2.06-.94 2.06-2.06.94z\"/><path d=\"M17.41 7.96l-1.37-1.37c-.4-.4-.92-.59-1.43-.59-.52 0-1.04.2-1.43.59L10.3 9.45l-7.72 7.72c-.78.78-.78 2.05 0 2.83L4 21.41c.39.39.9.59 1.41.59.51 0 1.02-.2 1.41-.59l7.78-7.78 2.81-2.81c.8-.78.8-2.07 0-2.86zM5.41 20L4 18.59l7.72-7.72 1.47 1.35L5.41 20z\"/>\n",
              "  </svg>\n",
              "      </button>\n",
              "      \n",
              "  <style>\n",
              "    .colab-df-container {\n",
              "      display:flex;\n",
              "      flex-wrap:wrap;\n",
              "      gap: 12px;\n",
              "    }\n",
              "\n",
              "    .colab-df-convert {\n",
              "      background-color: #E8F0FE;\n",
              "      border: none;\n",
              "      border-radius: 50%;\n",
              "      cursor: pointer;\n",
              "      display: none;\n",
              "      fill: #1967D2;\n",
              "      height: 32px;\n",
              "      padding: 0 0 0 0;\n",
              "      width: 32px;\n",
              "    }\n",
              "\n",
              "    .colab-df-convert:hover {\n",
              "      background-color: #E2EBFA;\n",
              "      box-shadow: 0px 1px 2px rgba(60, 64, 67, 0.3), 0px 1px 3px 1px rgba(60, 64, 67, 0.15);\n",
              "      fill: #174EA6;\n",
              "    }\n",
              "\n",
              "    [theme=dark] .colab-df-convert {\n",
              "      background-color: #3B4455;\n",
              "      fill: #D2E3FC;\n",
              "    }\n",
              "\n",
              "    [theme=dark] .colab-df-convert:hover {\n",
              "      background-color: #434B5C;\n",
              "      box-shadow: 0px 1px 3px 1px rgba(0, 0, 0, 0.15);\n",
              "      filter: drop-shadow(0px 1px 2px rgba(0, 0, 0, 0.3));\n",
              "      fill: #FFFFFF;\n",
              "    }\n",
              "  </style>\n",
              "\n",
              "      <script>\n",
              "        const buttonEl =\n",
              "          document.querySelector('#df-88623432-cc00-4c65-9530-a11dcb6e6ba7 button.colab-df-convert');\n",
              "        buttonEl.style.display =\n",
              "          google.colab.kernel.accessAllowed ? 'block' : 'none';\n",
              "\n",
              "        async function convertToInteractive(key) {\n",
              "          const element = document.querySelector('#df-88623432-cc00-4c65-9530-a11dcb6e6ba7');\n",
              "          const dataTable =\n",
              "            await google.colab.kernel.invokeFunction('convertToInteractive',\n",
              "                                                     [key], {});\n",
              "          if (!dataTable) return;\n",
              "\n",
              "          const docLinkHtml = 'Like what you see? Visit the ' +\n",
              "            '<a target=\"_blank\" href=https://colab.research.google.com/notebooks/data_table.ipynb>data table notebook</a>'\n",
              "            + ' to learn more about interactive tables.';\n",
              "          element.innerHTML = '';\n",
              "          dataTable['output_type'] = 'display_data';\n",
              "          await google.colab.output.renderOutput(dataTable, element);\n",
              "          const docLink = document.createElement('div');\n",
              "          docLink.innerHTML = docLinkHtml;\n",
              "          element.appendChild(docLink);\n",
              "        }\n",
              "      </script>\n",
              "    </div>\n",
              "  </div>\n",
              "  "
            ]
          },
          "metadata": {},
          "execution_count": 39
        }
      ]
    },
    {
      "cell_type": "code",
      "source": [],
      "metadata": {
        "id": "sum0Alk4HHfQ"
      },
      "execution_count": null,
      "outputs": []
    },
    {
      "cell_type": "code",
      "source": [],
      "metadata": {
        "id": "RwhJqQgUHJhn"
      },
      "execution_count": null,
      "outputs": []
    },
    {
      "cell_type": "code",
      "source": [
        "covid.groupby('Population').Population.count()"
      ],
      "metadata": {
        "colab": {
          "base_uri": "https://localhost:8080/"
        },
        "id": "zqMVqDZa7jOS",
        "outputId": "11ec0cae-c8db-4c1b-a6af-5596f628d698"
      },
      "execution_count": null,
      "outputs": [
        {
          "output_type": "execute_result",
          "data": {
            "text/plain": [
              "Population\n",
              "7.990000e+02    1\n",
              "1.378000e+03    1\n",
              "1.622000e+03    1\n",
              "3.539000e+03    1\n",
              "4.965000e+03    1\n",
              "               ..\n",
              "2.294890e+08    1\n",
              "2.791345e+08    1\n",
              "3.348053e+08    1\n",
              "1.406632e+09    1\n",
              "1.448471e+09    1\n",
              "Name: Population, Length: 229, dtype: int64"
            ]
          },
          "metadata": {},
          "execution_count": 48
        }
      ]
    },
    {
      "cell_type": "code",
      "source": [
        "def position(alphabet):\n",
        "    if isinstance(alphabet, int):\n",
        "        return f\"Position of alphabet: {alphabet}\"\n",
        "    c= ord(alphabet)-ord('a')+1\n",
        "    return f\"Position of alphabet: {c}\""
      ],
      "metadata": {
        "id": "wMvqeGTd1Qe1"
      },
      "execution_count": null,
      "outputs": []
    },
    {
      "cell_type": "code",
      "source": [
        "position('v')"
      ],
      "metadata": {
        "colab": {
          "base_uri": "https://localhost:8080/",
          "height": 36
        },
        "id": "jSHHVAOF1UOH",
        "outputId": "ee6fa282-e226-4a06-d923-30f48d51bf52"
      },
      "execution_count": null,
      "outputs": [
        {
          "output_type": "execute_result",
          "data": {
            "text/plain": [
              "'Position of alphabet: 22'"
            ],
            "application/vnd.google.colaboratory.intrinsic+json": {
              "type": "string"
            }
          },
          "metadata": {},
          "execution_count": 7
        }
      ]
    },
    {
      "cell_type": "code",
      "source": [
        "sumMul(2, 9)   ==> 2 + 4 + 6 + 8 = 20\n",
        "sumMul(3, 13)  ==> 3 + 6 + 9 + 12 = 30\n",
        "sumMul(4, 123) ==> 4 + 8 + 12 + ... = 1860\n",
        "sumMul(4, -7)  ==> \"INVALID\""
      ],
      "metadata": {
        "id": "fE1XlcxJHKcU"
      },
      "execution_count": null,
      "outputs": []
    },
    {
      "cell_type": "code",
      "source": [
        "def sum_mul(n, m):\n",
        "  n=int(input(\"entre une numbre poitive\"))\n",
        "  m=int(input(\"entre une numbre poitive\"))\n",
        "\n"
      ],
      "metadata": {
        "id": "05MAaIH9HLiU"
      },
      "execution_count": null,
      "outputs": []
    },
    {
      "cell_type": "code",
      "source": [
        "def sign(x, first_element_zero=False):\n",
        "    signs = (-1) ** (x < 0)\n",
        "    if first_element_zero:\n",
        "        signs[0] = 0\n",
        "    return signs\n",
        "\n",
        "# Example 1: Without forcing the first element to zero\n",
        "arr1 = [-2, 3, -1, 0, 5, -4]\n",
        "result1 = sign(arr1)\n",
        "print(result1)  # Output: [1 1 1 0 1 1]\n",
        "\n",
        "# Example 2: With forcing the first element to zero\n",
        "arr2 = [2, -3, 1, 0, -5, 4]\n",
        "result2 = sign(arr2, first_element_zero=True)\n",
        "print(result2)  # Output: [0 1 1 0 1 1]\n"
      ],
      "metadata": {
        "colab": {
          "base_uri": "https://localhost:8080/",
          "height": 372
        },
        "id": "njgNnwrcvASK",
        "outputId": "df61ad94-0267-4ad5-a561-fedf8b263642"
      },
      "execution_count": null,
      "outputs": [
        {
          "output_type": "error",
          "ename": "TypeError",
          "evalue": "ignored",
          "traceback": [
            "\u001b[0;31m---------------------------------------------------------------------------\u001b[0m",
            "\u001b[0;31mTypeError\u001b[0m                                 Traceback (most recent call last)",
            "\u001b[0;32m<ipython-input-3-73d5970bc4b2>\u001b[0m in \u001b[0;36m<cell line: 9>\u001b[0;34m()\u001b[0m\n\u001b[1;32m      7\u001b[0m \u001b[0;31m# Example 1: Without forcing the first element to zero\u001b[0m\u001b[0;34m\u001b[0m\u001b[0;34m\u001b[0m\u001b[0m\n\u001b[1;32m      8\u001b[0m \u001b[0marr1\u001b[0m \u001b[0;34m=\u001b[0m \u001b[0;34m[\u001b[0m\u001b[0;34m-\u001b[0m\u001b[0;36m2\u001b[0m\u001b[0;34m,\u001b[0m \u001b[0;36m3\u001b[0m\u001b[0;34m,\u001b[0m \u001b[0;34m-\u001b[0m\u001b[0;36m1\u001b[0m\u001b[0;34m,\u001b[0m \u001b[0;36m0\u001b[0m\u001b[0;34m,\u001b[0m \u001b[0;36m5\u001b[0m\u001b[0;34m,\u001b[0m \u001b[0;34m-\u001b[0m\u001b[0;36m4\u001b[0m\u001b[0;34m]\u001b[0m\u001b[0;34m\u001b[0m\u001b[0;34m\u001b[0m\u001b[0m\n\u001b[0;32m----> 9\u001b[0;31m \u001b[0mresult1\u001b[0m \u001b[0;34m=\u001b[0m \u001b[0msign\u001b[0m\u001b[0;34m(\u001b[0m\u001b[0marr1\u001b[0m\u001b[0;34m)\u001b[0m\u001b[0;34m\u001b[0m\u001b[0;34m\u001b[0m\u001b[0m\n\u001b[0m\u001b[1;32m     10\u001b[0m \u001b[0mprint\u001b[0m\u001b[0;34m(\u001b[0m\u001b[0mresult1\u001b[0m\u001b[0;34m)\u001b[0m  \u001b[0;31m# Output: [1 1 1 0 1 1]\u001b[0m\u001b[0;34m\u001b[0m\u001b[0;34m\u001b[0m\u001b[0m\n\u001b[1;32m     11\u001b[0m \u001b[0;34m\u001b[0m\u001b[0m\n",
            "\u001b[0;32m<ipython-input-3-73d5970bc4b2>\u001b[0m in \u001b[0;36msign\u001b[0;34m(x, first_element_zero)\u001b[0m\n\u001b[1;32m      1\u001b[0m \u001b[0;32mdef\u001b[0m \u001b[0msign\u001b[0m\u001b[0;34m(\u001b[0m\u001b[0mx\u001b[0m\u001b[0;34m,\u001b[0m \u001b[0mfirst_element_zero\u001b[0m\u001b[0;34m=\u001b[0m\u001b[0;32mFalse\u001b[0m\u001b[0;34m)\u001b[0m\u001b[0;34m:\u001b[0m\u001b[0;34m\u001b[0m\u001b[0;34m\u001b[0m\u001b[0m\n\u001b[0;32m----> 2\u001b[0;31m     \u001b[0msigns\u001b[0m \u001b[0;34m=\u001b[0m \u001b[0;34m(\u001b[0m\u001b[0;34m-\u001b[0m\u001b[0;36m1\u001b[0m\u001b[0;34m)\u001b[0m \u001b[0;34m**\u001b[0m \u001b[0;34m(\u001b[0m\u001b[0mx\u001b[0m \u001b[0;34m<\u001b[0m \u001b[0;36m0\u001b[0m\u001b[0;34m)\u001b[0m\u001b[0;34m\u001b[0m\u001b[0;34m\u001b[0m\u001b[0m\n\u001b[0m\u001b[1;32m      3\u001b[0m     \u001b[0;32mif\u001b[0m \u001b[0mfirst_element_zero\u001b[0m\u001b[0;34m:\u001b[0m\u001b[0;34m\u001b[0m\u001b[0;34m\u001b[0m\u001b[0m\n\u001b[1;32m      4\u001b[0m         \u001b[0msigns\u001b[0m\u001b[0;34m[\u001b[0m\u001b[0;36m0\u001b[0m\u001b[0;34m]\u001b[0m \u001b[0;34m=\u001b[0m \u001b[0;36m0\u001b[0m\u001b[0;34m\u001b[0m\u001b[0;34m\u001b[0m\u001b[0m\n\u001b[1;32m      5\u001b[0m     \u001b[0;32mreturn\u001b[0m \u001b[0msigns\u001b[0m\u001b[0;34m\u001b[0m\u001b[0;34m\u001b[0m\u001b[0m\n",
            "\u001b[0;31mTypeError\u001b[0m: '<' not supported between instances of 'list' and 'int'"
          ]
        }
      ]
    },
    {
      "cell_type": "code",
      "source": [
        "import numpy as np\n",
        "\n",
        "def sign(x, first_element_zero=False):\n",
        "    signs = (-1)**(np.array(x) < 0)\n",
        "    if first_element_zero:\n",
        "        signs[0] = 0\n",
        "    return signs\n"
      ],
      "metadata": {
        "id": "xWcqytVbwkk0"
      },
      "execution_count": null,
      "outputs": []
    },
    {
      "cell_type": "code",
      "source": [
        "arr1 = [-2, 3, -1, 0, 5, -4]\n",
        "result1 = sign(arr1)\n",
        "print(result1)  # Output: [1 1 1 0 1 1]\n",
        "\n",
        "# Example 2: With forcing the first element to zero\n",
        "arr2 = [2, -3, 1, 0, -5, 4]\n",
        "result2 = sign(arr2, first_element_zero=True)\n",
        "print(result2)  # Output: [0 1 1 0 1 1]"
      ],
      "metadata": {
        "colab": {
          "base_uri": "https://localhost:8080/"
        },
        "id": "pdhb-lvPwxBB",
        "outputId": "e1e95e6b-a42f-4707-85bf-e24ff0228f3e"
      },
      "execution_count": null,
      "outputs": [
        {
          "output_type": "stream",
          "name": "stdout",
          "text": [
            "[-1  1 -1  1  1 -1]\n",
            "[ 0 -1  1  1 -1  1]\n"
          ]
        }
      ]
    },
    {
      "cell_type": "markdown",
      "source": [
        "# New Section"
      ],
      "metadata": {
        "id": "aF3npgsJx0a2"
      }
    }
  ]
}