{
 "cells": [
  {
   "cell_type": "markdown",
   "id": "98b31bab",
   "metadata": {},
   "source": [
    "# Which Debts Are Worth the Bank's Effort?"
   ]
  },
  {
   "cell_type": "markdown",
   "id": "a351c48d",
   "metadata": {},
   "source": [
    "### Project Description\n",
    "After a debt has been legally declared \"uncollectable\" by a bank, the account is considered to be \"charged-off.\" But that doesn't mean the bank simply walks away from the debt. They still want to collect some of the money they are owed. In this project, you will look at a situation where a bank assigned delinquent customers to different recovery strategies based on the expected amount the bank believed it would recover from the customer. The goal for the data scientist is to determine in this non-random assignment whether the incremental amount the bank earns exceeded the additional cost of assigning customers to a higher recovery strategy.\n",
    "Threshold assignments like this also one occur in medicine (above a certain temperature you get medicine), education (above a certain test score students get admitted to a special class), other areas of finance (above a certain wealth customers get different levels of service), and public sector (below a certain income someone is eligible for housing benefits). Regression discontinuity is an intuitive and useful analysis method in any situation of a threshold assignment."
   ]
  },
  {
   "cell_type": "raw",
   "id": "f516244e",
   "metadata": {},
   "source": [
    "The big question: does the extra amount that is recovered at the higher strategy level exceed the extra $50 in costs? In other words, was there a jump (also called a \"discontinuity\") of more than $50 in the amount recovered at the higher strategy level?"
   ]
  },
  {
   "cell_type": "code",
   "execution_count": 2,
   "id": "0358fad5",
   "metadata": {},
   "outputs": [],
   "source": [
    "# IMPORT LIBRAIRIES\n",
    "import pandas as pd\n",
    "import numpy as np\n",
    "import matplotlib.pyplot as plt\n",
    "import seaborn as sns"
   ]
  },
  {
   "cell_type": "code",
   "execution_count": 5,
   "id": "aa7b5574",
   "metadata": {},
   "outputs": [],
   "source": [
    "data=pd.read_csv(\"bank_data.csv\",index_col=0)"
   ]
  },
  {
   "cell_type": "code",
   "execution_count": 10,
   "id": "0cac5d72",
   "metadata": {},
   "outputs": [
    {
     "data": {
      "text/html": [
       "<div>\n",
       "<style scoped>\n",
       "    .dataframe tbody tr th:only-of-type {\n",
       "        vertical-align: middle;\n",
       "    }\n",
       "\n",
       "    .dataframe tbody tr th {\n",
       "        vertical-align: top;\n",
       "    }\n",
       "\n",
       "    .dataframe thead th {\n",
       "        text-align: right;\n",
       "    }\n",
       "</style>\n",
       "<table border=\"1\" class=\"dataframe\">\n",
       "  <thead>\n",
       "    <tr style=\"text-align: right;\">\n",
       "      <th></th>\n",
       "      <th>expected_recovery_amount</th>\n",
       "      <th>actual_recovery_amount</th>\n",
       "      <th>recovery_strategy</th>\n",
       "      <th>age</th>\n",
       "      <th>sex</th>\n",
       "    </tr>\n",
       "    <tr>\n",
       "      <th>id</th>\n",
       "      <th></th>\n",
       "      <th></th>\n",
       "      <th></th>\n",
       "      <th></th>\n",
       "      <th></th>\n",
       "    </tr>\n",
       "  </thead>\n",
       "  <tbody>\n",
       "    <tr>\n",
       "      <th>2030</th>\n",
       "      <td>194</td>\n",
       "      <td>263.540</td>\n",
       "      <td>Level 0 Recovery</td>\n",
       "      <td>19</td>\n",
       "      <td>Male</td>\n",
       "    </tr>\n",
       "    <tr>\n",
       "      <th>1150</th>\n",
       "      <td>486</td>\n",
       "      <td>416.090</td>\n",
       "      <td>Level 0 Recovery</td>\n",
       "      <td>25</td>\n",
       "      <td>Female</td>\n",
       "    </tr>\n",
       "    <tr>\n",
       "      <th>380</th>\n",
       "      <td>527</td>\n",
       "      <td>429.350</td>\n",
       "      <td>Level 0 Recovery</td>\n",
       "      <td>27</td>\n",
       "      <td>Male</td>\n",
       "    </tr>\n",
       "    <tr>\n",
       "      <th>1838</th>\n",
       "      <td>536</td>\n",
       "      <td>296.990</td>\n",
       "      <td>Level 0 Recovery</td>\n",
       "      <td>25</td>\n",
       "      <td>Male</td>\n",
       "    </tr>\n",
       "    <tr>\n",
       "      <th>1995</th>\n",
       "      <td>541</td>\n",
       "      <td>346.385</td>\n",
       "      <td>Level 0 Recovery</td>\n",
       "      <td>34</td>\n",
       "      <td>Male</td>\n",
       "    </tr>\n",
       "  </tbody>\n",
       "</table>\n",
       "</div>"
      ],
      "text/plain": [
       "      expected_recovery_amount  actual_recovery_amount recovery_strategy  age  \\\n",
       "id                                                                              \n",
       "2030                       194                 263.540  Level 0 Recovery   19   \n",
       "1150                       486                 416.090  Level 0 Recovery   25   \n",
       "380                        527                 429.350  Level 0 Recovery   27   \n",
       "1838                       536                 296.990  Level 0 Recovery   25   \n",
       "1995                       541                 346.385  Level 0 Recovery   34   \n",
       "\n",
       "         sex  \n",
       "id            \n",
       "2030    Male  \n",
       "1150  Female  \n",
       "380     Male  \n",
       "1838    Male  \n",
       "1995    Male  "
      ]
     },
     "execution_count": 10,
     "metadata": {},
     "output_type": "execute_result"
    }
   ],
   "source": [
    "data.head()"
   ]
  },
  {
   "cell_type": "code",
   "execution_count": 15,
   "id": "ec5bbd99",
   "metadata": {},
   "outputs": [
    {
     "name": "stdout",
     "output_type": "stream",
     "text": [
      "<class 'pandas.core.frame.DataFrame'>\n",
      "Int64Index: 1882 entries, 2030 to 522\n",
      "Data columns (total 5 columns):\n",
      " #   Column                    Non-Null Count  Dtype  \n",
      "---  ------                    --------------  -----  \n",
      " 0   expected_recovery_amount  1882 non-null   int64  \n",
      " 1   actual_recovery_amount    1882 non-null   float64\n",
      " 2   recovery_strategy         1882 non-null   object \n",
      " 3   age                       1882 non-null   int64  \n",
      " 4   sex                       1882 non-null   object \n",
      "dtypes: float64(1), int64(2), object(2)\n",
      "memory usage: 88.2+ KB\n"
     ]
    }
   ],
   "source": [
    "data.info()"
   ]
  },
  {
   "cell_type": "markdown",
   "id": "757bd7f5",
   "metadata": {},
   "source": [
    "### Statistical test: age vs. expected recovery amount\n"
   ]
  },
  {
   "cell_type": "raw",
   "id": "de1089fa",
   "metadata": {},
   "source": [
    "We want to convince ourselves that variables such as age and sex are similar above and below the $1000 Expected Recovery Amount threshold. This is important because we want to be able to conclude that differences in the actual recovery amount are due to the higher Recovery Strategy and not due to some other difference like age or sex.\n",
    "The scatter plot of age versus Expected Recovery Amount did not show an obvious jump around $1000. We will be more confident in our conclusions if we do statistical analysis examining the average age of the customers just above and just below the threshold. We can start by exploring the range from $900 to $1100."
   ]
  },
  {
   "cell_type": "code",
   "execution_count": 96,
   "id": "917ccae2",
   "metadata": {},
   "outputs": [
    {
     "name": "stdout",
     "output_type": "stream",
     "text": [
      "The average age of the customers just above the threshold is  28.7\n",
      "The average age of the customers just below the threshold is  27.2\n",
      "THE DIFFERENCE IS  1.5\n",
      "p_value of kruskal test = 0.05 =>There is statistically significant evidence of differences between the groups\n"
     ]
    }
   ],
   "source": [
    "#SPLITING THE TEST INTO TWO PARTS\n",
    "threshold=1000\n",
    "above_threshold=data[(data[\"expected_recovery_amount\"]>=threshold) & (data[\"expected_recovery_amount\"]<=1100)]\n",
    "below_threshold=data[(data[\"expected_recovery_amount\"]<threshold) & (data[\"expected_recovery_amount\"]>=900)]\n",
    "\n",
    "#calculating the diiference between the average age of each list\n",
    "above_threshold_age=round(above_threshold[\"age\"].sum()/len(above_threshold),1)\n",
    "below_threshold_age=round(below_threshold[\"age\"].sum()/len(below_threshold),1)\n",
    "\n",
    "from scipy.stats import kruskal\n",
    "statistic, p_value = kruskal(above_threshold[\"age\"][:-8],below_threshold[\"age\"])\n",
    "\n",
    "\n",
    "print(\"The average age of the customers just above the threshold is \",above_threshold_age)\n",
    "print(\"The average age of the customers just below the threshold is \",below_threshold_age)\n",
    "print(\"THE DIFFERENCE IS \",abs(above_threshold_age-below_threshold_age))\n",
    "print(\"p_value of kruskal test =\",round(p_value,2))"
   ]
  },
  {
   "cell_type": "markdown",
   "id": "b829068f",
   "metadata": {},
   "source": [
    "There is statistically significant evidence of differences between the groups\n",
    "\n",
    "Age is similar above and below the $1000 Expected Recovery Amount threshold."
   ]
  },
  {
   "cell_type": "markdown",
   "id": "d4aea6ee",
   "metadata": {},
   "source": [
    "### Statistical test: sex vs. expected recovery amount\n"
   ]
  },
  {
   "cell_type": "raw",
   "id": "ebec64b5",
   "metadata": {},
   "source": [
    "We were able to convince ourselves that there is no major jump in the average customer age just above and just below the $1000 threshold by doing a statistical test as well as exploring it graphically with a scatter plot.\n",
    "We want to also test that the percentage of customers that are male does not jump as well across the $1000 threshold. We can start by exploring the range of $900 to $1100 and later adjust this range."
   ]
  },
  {
   "cell_type": "code",
   "execution_count": 81,
   "id": "515bd018",
   "metadata": {},
   "outputs": [
    {
     "name": "stdout",
     "output_type": "stream",
     "text": [
      "The average male of the customers just above the threshold is  60.0 %\n",
      "The average male of the customers just below the threshold is  60.0 %\n"
     ]
    }
   ],
   "source": [
    "above_threshold_male=round(above_threshold[above_threshold[\"sex\"]==\"Male\"].count()[4]/len(above_threshold),1)\n",
    "below_threshold_male=round(below_threshold[below_threshold[\"sex\"]==\"Male\"].count()[4]/len(below_threshold),1)\n",
    "print(\"The average male of the customers just above the threshold is \",above_threshold_male*100,\"%\")\n",
    "print(\"The average male of the customers just below the threshold is \",below_threshold_male*100,\"%\")\n"
   ]
  },
  {
   "cell_type": "markdown",
   "id": "4c994fca",
   "metadata": {},
   "source": [
    "Sex is similar above and below the $1000 Expected Recovery Amount threshold."
   ]
  },
  {
   "cell_type": "markdown",
   "id": "8eed2ef7",
   "metadata": {},
   "source": [
    "### Exploratory graphical analysis: recovery amount\n"
   ]
  },
  {
   "cell_type": "markdown",
   "id": "6587cfb4",
   "metadata": {},
   "source": [
    "We are now reasonably confident that customers just above and just below the $1000 threshold are, on average, similar in terms of their average age and the percentage that are male.\n"
   ]
  },
  {
   "cell_type": "markdown",
   "id": "e74dfe63",
   "metadata": {},
   "source": [
    "It is now time to focus on the key outcome of interest, the actual recovery amount.\n",
    "A first step in examining the relationship between the actual recovery amount and the expected recovery amount is to develop a scatter plot where we want to focus our attention at the range just below and just above the threshold. Specifically, we will develop a scatter plot of Expected Recovery Amount (Y) vs. Actual Recovery Amount (X) for Expected Recovery Amounts between $$900  to $1100. This range covers Levels 0 and 1."
   ]
  },
  {
   "cell_type": "markdown",
   "id": "08267050",
   "metadata": {},
   "source": [
    " A key question is whether or not we see a discontinuity (jump) around the $1000 threshold.\n"
   ]
  },
  {
   "cell_type": "code",
   "execution_count": 84,
   "id": "ae5b67da",
   "metadata": {},
   "outputs": [
    {
     "data": {
      "image/png": "[encoded data removed]",
      "text/plain": [
       "<Figure size 800x600 with 1 Axes>"
      ]
     },
     "metadata": {},
     "output_type": "display_data"
    }
   ],
   "source": [
    "range_min = 900\n",
    "range_max = 1100\n",
    "data_range = data[(data['expected_recovery_amount'] >= range_min) & (data['expected_recovery_amount'] <= range_max)]\n",
    "\n",
    "\n",
    "plt.figure(figsize=(8, 6))\n",
    "plt.scatter(data_range['expected_recovery_amount'], data_range['actual_recovery_amount'], alpha=0.5)\n",
    "plt.xlabel('Expected Recovery Amount ($)')\n",
    "plt.ylabel('Actual Recovery Amount ($)')\n",
    "plt.title('Expected Recovery Amount vs. Actual Recovery Amount')\n",
    "plt.grid(True)\n",
    "plt.show()"
   ]
  },
  {
   "cell_type": "markdown",
   "id": "cefcde48",
   "metadata": {},
   "source": [
    "WE SEE A DICONTINUITY AROUND THE $1000."
   ]
  },
  {
   "cell_type": "markdown",
   "id": "92d23d18",
   "metadata": {},
   "source": [
    "### Statistical analysis: recovery amount"
   ]
  },
  {
   "cell_type": "code",
   "execution_count": 97,
   "id": "11b764f2",
   "metadata": {},
   "outputs": [
    {
     "name": "stdout",
     "output_type": "stream",
     "text": [
      "For the wider window (900 to 1100): There is statistically significant evidence of differences in actual recovery amount above the $1000 threshold.\n",
      "For the narrower window (950 to 1050): There is statistically significant evidence of differences in actual recovery amount above the $1000 threshold.\n"
     ]
    }
   ],
   "source": [
    "from scipy.stats import kruskal\n",
    "\n",
    "# Step 1: Filter Data for the Desired Windows\n",
    "# For the wider window of $900 to $1100\n",
    "data_window_1 = data[(data['expected_recovery_amount'] >= 900) & (data['expected_recovery_amount'] <= 1100)]\n",
    "\n",
    "# For the narrower window of $950 to $1050\n",
    "data_window_2 = data[(data['expected_recovery_amount'] >= 950) & (data['expected_recovery_amount'] <= 1050)]\n",
    "\n",
    "# Step 2: Extract Actual Recovery Amounts for Each Group\n",
    "actual_recovery_window_1 = data_window_1['actual_recovery_amount']\n",
    "actual_recovery_window_2 = data_window_2['actual_recovery_amount']\n",
    "below_threshold_values = below_threshold['actual_recovery_amount']\n",
    "\n",
    "# Step 3: Apply the Kruskal-Wallis Test\n",
    "statistic_1, p_value_1 = kruskal(actual_recovery_window_1, below_threshold_values)\n",
    "statistic_2, p_value_2 = kruskal(actual_recovery_window_2, below_threshold_values)\n",
    "\n",
    "# Step 4: Interpret the Results\n",
    "if p_value_1 < 0.05:\n",
    "    print(\"For the wider window (900 to 1100): There is statistically significant evidence of differences in actual recovery amount above the $1000 threshold.\")\n",
    "else:\n",
    "    print(\"For the wider window (900 to 1100): There is no statistically significant evidence of differences in actual recovery amount above the $1000 threshold.\")\n",
    "\n",
    "if p_value_2 < 0.05:\n",
    "    print(\"For the narrower window (950 to 1050): There is statistically significant evidence of differences in actual recovery amount above the $1000 threshold.\")\n",
    "else:\n",
    "    print(\"For the narrower window (950 to 1050): There is no statistically significant evidence of differences in actual recovery amount above the $1000 threshold.\")\n"
   ]
  },
  {
   "cell_type": "markdown",
   "id": "938178c1",
   "metadata": {},
   "source": [
    "### Regression modeling: no threshold"
   ]
  },
  {
   "cell_type": "code",
   "execution_count": 107,
   "id": "83ca13e3",
   "metadata": {},
   "outputs": [
    {
     "name": "stdout",
     "output_type": "stream",
     "text": [
      "Model Coefficients:\n",
      "Intercept (β0): -1918.454942525362\n",
      "Slope (β1): 2.6955998470300733\n",
      "R-squared: 0.2525016112411571\n"
     ]
    }
   ],
   "source": [
    "from sklearn.linear_model import LinearRegression\n",
    "\n",
    "\n",
    "\n",
    "#Extract Actual Recovery Amount and Expected Recovery Amount\n",
    "X = data_window_1['expected_recovery_amount'].values.reshape(-1, 1)\n",
    "y = data_window_1['actual_recovery_amount']\n",
    "\n",
    "#Create and Fit the Linear Regression Model\n",
    "model_without_threshold = LinearRegression()\n",
    "model_without_threshold.fit(X, y)\n",
    "\n",
    "#Print the Model Coefficients\n",
    "print(\"Model Coefficients:\")\n",
    "print(\"Intercept (β0):\", model_without_threshold.intercept_)\n",
    "print(\"Slope (β1):\", model_without_threshold.coef_[0])\n",
    "r_squared = model_without_threshold.score(X, y)\n",
    "print(\"R-squared:\", r_squared)\n"
   ]
  },
  {
   "cell_type": "markdown",
   "id": "d82e1913",
   "metadata": {},
   "source": [
    "This model confirms that there is a positive linear relationship between the actual recovery amount and the expected recovery amount in the range of $900 to $1100. However, this model does not consider the threshold at $1000, and to investigate the impact of the program at that threshold, we will proceed with building the second model that includes the threshold indicator variable as described earlier."
   ]
  },
  {
   "cell_type": "markdown",
   "id": "4997a185",
   "metadata": {},
   "source": [
    "### Regression modeling: no threshold"
   ]
  },
  {
   "cell_type": "markdown",
   "id": "f3fe557f",
   "metadata": {},
   "source": [
    "From the first model, we see that the regression coefficient is statistically significant for the expected recovery amount and the adjusted R-squared value was about 0.26. As we saw from the graph, on average the actual recovery amount increases as the expected recovery amount increases. We could add polynomial terms of expected recovery amount (such as the squared value of expected recovery amount) to the model but, for the purposes of this practice, let's stick with using just the linear term.\n",
    "\n",
    "The second model adds an indicator of the true threshold to the model. If there was no impact of the higher recovery strategy on the actual recovery amount, then we would expect that the relationship between the expected recovery amount and the actual recovery amount would be continuous."
   ]
  },
  {
   "cell_type": "code",
   "execution_count": 106,
   "id": "247edea8",
   "metadata": {},
   "outputs": [
    {
     "name": "stdout",
     "output_type": "stream",
     "text": [
      "                              OLS Regression Results                              \n",
      "==================================================================================\n",
      "Dep. Variable:     actual_recovery_amount   R-squared:                       0.309\n",
      "Model:                                OLS   Adj. R-squared:                  0.301\n",
      "Method:                     Least Squares   F-statistic:                     40.43\n",
      "Date:                    Wed, 19 Jul 2023   Prob (F-statistic):           3.06e-15\n",
      "Time:                            14:31:54   Log-Likelihood:                -1279.3\n",
      "No. Observations:                     184   AIC:                             2565.\n",
      "Df Residuals:                         181   BIC:                             2574.\n",
      "Df Model:                               2                                         \n",
      "Covariance Type:                nonrobust                                         \n",
      "============================================================================================\n",
      "                               coef    std err          t      P>|t|      [0.025      0.975]\n",
      "--------------------------------------------------------------------------------------------\n",
      "const                       98.8272    622.659      0.159      0.874   -1129.777    1327.431\n",
      "expected_recovery_amount     0.5430      0.651      0.834      0.406      -0.742       1.828\n",
      "above_threshold            284.0296     73.988      3.839      0.000     138.041     430.019\n",
      "==============================================================================\n",
      "Omnibus:                       66.386   Durbin-Watson:                   1.921\n",
      "Prob(Omnibus):                  0.000   Jarque-Bera (JB):              188.158\n",
      "Skew:                           1.512   Prob(JB):                     1.39e-41\n",
      "Kurtosis:                       6.924   Cond. No.                     3.35e+04\n",
      "==============================================================================\n",
      "\n",
      "Notes:\n",
      "[1] Standard Errors assume that the covariance matrix of the errors is correctly specified.\n",
      "[2] The condition number is large, 3.35e+04. This might indicate that there are\n",
      "strong multicollinearity or other numerical problems.\n"
     ]
    },
    {
     "name": "stderr",
     "output_type": "stream",
     "text": [
      "C:\\Users\\ayoub\\AppData\\Local\\Temp\\ipykernel_18364\\3139410909.py:4: SettingWithCopyWarning: \n",
      "A value is trying to be set on a copy of a slice from a DataFrame.\n",
      "Try using .loc[row_indexer,col_indexer] = value instead\n",
      "\n",
      "See the caveats in the documentation: https://pandas.pydata.org/pandas-docs/stable/user_guide/indexing.html#returning-a-view-versus-a-copy\n",
      "  data_range_threshold['above_threshold'] = (data_range_threshold['expected_recovery_amount'] >= 1000).astype(int)\n"
     ]
    }
   ],
   "source": [
    "import statsmodels.api as sm\n",
    "\n",
    "# Step 1: Create the Indicator Variable for Threshold\n",
    "data_range_threshold['above_threshold'] = (data_range_threshold['expected_recovery_amount'] >= 1000).astype(int)\n",
    "\n",
    "# Step 2: Fit the Linear Regression Model with Indicator Variable\n",
    "X_with_threshold = data_range_threshold[['expected_recovery_amount', 'above_threshold']]\n",
    "X_with_threshold = sm.add_constant(X_with_threshold)  # Add constant for intercept\n",
    "y_with_threshold = data_range_threshold['actual_recovery_amount']\n",
    "\n",
    "model_with_threshold = sm.OLS(y_with_threshold, X_with_threshold).fit()\n",
    "\n",
    "# Step 3: Print the Model Summary\n",
    "print(model_with_threshold.summary())\n",
    "\n"
   ]
  },
  {
   "cell_type": "raw",
   "id": "d0b3a60b",
   "metadata": {},
   "source": [
    "The results suggest that the indicator variable above_threshold has a statistically significant impact on the actual recovery amount, while the expected recovery amount alone does not show a significant relationship. This supports the hypothesis that there is a discontinuity or jump in the relationship between the expected recovery amount and the actual recovery amount at the $1000 threshold. The model indicates that being above the threshold is associated with an increase in the actual recovery amount by approximately $284 compared to being below the threshold."
   ]
  },
  {
   "cell_type": "markdown",
   "id": "be9ce5c8",
   "metadata": {},
   "source": [
    "### Regression modeling: adjusting the window"
   ]
  },
  {
   "cell_type": "raw",
   "id": "86c8bdaf",
   "metadata": {},
   "source": [
    "The regression coefficient for the true threshold was statistically significant with an estimated impact of around $278 and a 95 percent confidence interval of $132 to $424. This is much larger than the incremental cost of running the higher recovery strategy which was $50 per customer. At this point, we are feeling reasonably confident that the higher recovery strategy is worth the additional costs of the program for customers just above and just below the threshold.\n",
    "\n",
    "Before showing this to our managers, we want to convince ourselves that this result wasn't due just to us choosing a window of $900 to $1100 for the expected recovery amount. If the higher recovery strategy really had an impact of an extra few hundred dollars, then we should see a similar regression coefficient if we choose a slightly bigger or a slightly smaller window for the expected recovery amount. Let's repeat this analysis for the window of expected recovery amount from $950 to $1050 to see if we get similar results."
   ]
  },
  {
   "cell_type": "code",
   "execution_count": 108,
   "id": "5c67a90a",
   "metadata": {},
   "outputs": [
    {
     "name": "stdout",
     "output_type": "stream",
     "text": [
      "                              OLS Regression Results                              \n",
      "==================================================================================\n",
      "Dep. Variable:     actual_recovery_amount   R-squared:                       0.287\n",
      "Model:                                OLS   Adj. R-squared:                  0.273\n",
      "Method:                     Least Squares   F-statistic:                     19.55\n",
      "Date:                    Wed, 19 Jul 2023   Prob (F-statistic):           7.33e-08\n",
      "Time:                            14:47:37   Log-Likelihood:                -699.42\n",
      "No. Observations:                     100   AIC:                             1405.\n",
      "Df Residuals:                          97   BIC:                             1413.\n",
      "Df Model:                               2                                         \n",
      "Covariance Type:                nonrobust                                         \n",
      "============================================================================================\n",
      "                               coef    std err          t      P>|t|      [0.025      0.975]\n",
      "--------------------------------------------------------------------------------------------\n",
      "const                     -310.8225   1808.751     -0.172      0.864   -3900.692    3279.047\n",
      "expected_recovery_amount     0.9510      1.854      0.513      0.609      -2.728       4.630\n",
      "above_threshold            285.5160    110.391      2.586      0.011      66.421     504.611\n",
      "==============================================================================\n",
      "Omnibus:                       39.881   Durbin-Watson:                   1.955\n",
      "Prob(Omnibus):                  0.000   Jarque-Bera (JB):               84.700\n",
      "Skew:                           1.568   Prob(JB):                     4.05e-19\n",
      "Kurtosis:                       6.239   Cond. No.                     6.76e+04\n",
      "==============================================================================\n",
      "\n",
      "Notes:\n",
      "[1] Standard Errors assume that the covariance matrix of the errors is correctly specified.\n",
      "[2] The condition number is large, 6.76e+04. This might indicate that there are\n",
      "strong multicollinearity or other numerical problems.\n"
     ]
    },
    {
     "name": "stderr",
     "output_type": "stream",
     "text": [
      "C:\\Users\\ayoub\\AppData\\Local\\Temp\\ipykernel_18364\\1416073348.py:4: SettingWithCopyWarning: \n",
      "A value is trying to be set on a copy of a slice from a DataFrame.\n",
      "Try using .loc[row_indexer,col_indexer] = value instead\n",
      "\n",
      "See the caveats in the documentation: https://pandas.pydata.org/pandas-docs/stable/user_guide/indexing.html#returning-a-view-versus-a-copy\n",
      "  data_window_2['above_threshold'] = (data_window_2['expected_recovery_amount'] >= 1000).astype(int)\n"
     ]
    }
   ],
   "source": [
    "import statsmodels.api as sm\n",
    "\n",
    "# Step 1: Create the Indicator Variable for Threshold\n",
    "data_window_2['above_threshold'] = (data_window_2['expected_recovery_amount'] >= 1000).astype(int)\n",
    "\n",
    "# Step 2: Fit the Linear Regression Model with Indicator Variable\n",
    "X_with_threshold_window_2 = data_window_2[['expected_recovery_amount', 'above_threshold']]\n",
    "X_with_threshold_window_2 = sm.add_constant(X_with_threshold_window_2)  # Add constant for intercept\n",
    "y_with_threshold_window_2 = data_window_2['actual_recovery_amount']\n",
    "\n",
    "model_with_threshold_window_2 = sm.OLS(y_with_threshold_window_2, X_with_threshold_window_2).fit()\n",
    "\n",
    "# Step 3: Print the Model Summary\n",
    "print(model_with_threshold_window_2.summary())\n"
   ]
  },
  {
   "cell_type": "raw",
   "id": "d1260093",
   "metadata": {},
   "source": [
    " The consistent and statistically significant coefficient for the true threshold (above_threshold) in both windows ($900 to $1100 and $950 to $1050) provides evidence that the higher recovery strategy has a significant impact on the actual recovery amount for customers just above and just below the threshold. The estimated impact in both windows is in the range of a few hundred dollars, which is much larger than the incremental cost of the higher recovery strategy ($50 per customer). \n",
    " \n",
    " Therefore, this analysis supports the conclusion that the higher recovery strategy is likely worth the additional costs for customers near the threshold."
   ]
  }
 ],
 "metadata": {
  "kernelspec": {
   "display_name": "Python 3 (ipykernel)",
   "language": "python",
   "name": "python3"
  },
  "language_info": {
   "codemirror_mode": {
    "name": "ipython",
    "version": 3
   },
   "file_extension": ".py",
   "mimetype": "text/x-python",
   "name": "python",
   "nbconvert_exporter": "python",
   "pygments_lexer": "ipython3",
   "version": "3.10.9"
  }
 },
 "nbformat": 4,
 "nbformat_minor": 5
}
