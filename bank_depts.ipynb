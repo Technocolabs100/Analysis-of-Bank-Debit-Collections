{
  "nbformat": 4,
  "nbformat_minor": 0,
  "metadata": {
    "colab": {
      "provenance": []
    },
    "kernelspec": {
      "name": "python3",
      "display_name": "Python 3"
    },
    "language_info": {
      "name": "python"
    }
  },
  "cells": [
    {
      "cell_type": "markdown",
      "source": [
        "**Technocolabs Softwares Internship mini project: Bank Depts**"
      ],
      "metadata": {
        "id": "bgYkIREyQ0WO"
      }
    },
    {
      "cell_type": "markdown",
      "source": [
        "Problem Statement:\n",
        "After a debt has been legally declared \"uncollectable\" by a bank, the account is considered to be \"charged-off.\" But that doesn't mean the bank simply walks away from the debt. They still want to collect some of the money they are owed. In this project, you will look at a situation where a bank assigned delinquent customers to different recovery strategies based on the expected amount the bank believed it would recover from the customer. The goal for the data scientist is to determine in this non-random assignment whether the incremental amount the bank earns exceeded the additional cost of assigning customers to a higher recovery strategy.\n",
        "Threshold assignments like this also one occur in medicine (above a certain temperature you get medicine), education (above a certain test score students get admitted to a special class), other areas of finance (above a certain wealth customers get different levels of service), and public sector (below a certain income someone is eligible for housing benefits). Regression discontinuity is an intuitive and useful analysis method in any situation of a threshold assignment."
      ],
      "metadata": {
        "id": "xubP6SdORgi1"
      }
    },
    {
      "cell_type": "markdown",
      "source": [
        "Importing Libraries"
      ],
      "metadata": {
        "id": "pkWgCy0WUaAH"
      }
    },
    {
      "cell_type": "code",
      "source": [
        "import numpy as np\n",
        "import pandas as pd\n",
        "\n",
        "# Data Visualisation Libraries\n",
        "import matplotlib.pyplot as plt\n",
        "import seaborn as sns\n",
        "\n",
        "# Train Test Split\n",
        "from sklearn.model_selection import train_test_split\n",
        "\n",
        "# Metrics\n",
        "from sklearn.metrics import mean_absolute_error as MAE\n",
        "from sklearn.metrics import mean_squared_error as MSE\n",
        "from sklearn.metrics import r2_score as R2\n",
        "\n",
        "\n",
        "# ML Models\n",
        "from sklearn.linear_model import LinearRegression\n",
        "from sklearn.ensemble import RandomForestRegressor\n"
      ],
      "metadata": {
        "id": "GxyBt7hDS4Ol"
      },
      "execution_count": 94,
      "outputs": []
    },
    {
      "cell_type": "markdown",
      "source": [
        "Now that we loaded the libraries that we are going to need during the imple;entation of this project, let's load our Data and take a look at it"
      ],
      "metadata": {
        "id": "FCvWsQKxVa8n"
      }
    },
    {
      "cell_type": "code",
      "source": [
        "#load the data\n",
        "from google.colab import files\n",
        "\n",
        "uploaded = files.upload()\n",
        "\n",
        "bank_data = pd.read_csv(next(iter(uploaded.keys())))\n"
      ],
      "metadata": {
        "colab": {
          "base_uri": "https://localhost:8080/",
          "height": 73
        },
        "id": "z9pwbJV-Vnuz",
        "outputId": "aedf8909-b72e-45aa-d101-ea33296fd9a5"
      },
      "execution_count": 95,
      "outputs": [
        {
          "output_type": "display_data",
          "data": {
            "text/plain": [
              "<IPython.core.display.HTML object>"
            ],
            "text/html": [
              "\n",
              "     <input type=\"file\" id=\"files-1c7f36ec-61a6-46a7-b1ca-5ce3e7ac7c6d\" name=\"files[]\" multiple disabled\n",
              "        style=\"border:none\" />\n",
              "     <output id=\"result-1c7f36ec-61a6-46a7-b1ca-5ce3e7ac7c6d\">\n",
              "      Upload widget is only available when the cell has been executed in the\n",
              "      current browser session. Please rerun this cell to enable.\n",
              "      </output>\n",
              "      <script>// Copyright 2017 Google LLC\n",
              "//\n",
              "// Licensed under the Apache License, Version 2.0 (the \"License\");\n",
              "// you may not use this file except in compliance with the License.\n",
              "// You may obtain a copy of the License at\n",
              "//\n",
              "//      http://www.apache.org/licenses/LICENSE-2.0\n",
              "//\n",
              "// Unless required by applicable law or agreed to in writing, software\n",
              "// distributed under the License is distributed on an \"AS IS\" BASIS,\n",
              "// WITHOUT WARRANTIES OR CONDITIONS OF ANY KIND, either express or implied.\n",
              "// See the License for the specific language governing permissions and\n",
              "// limitations under the License.\n",
              "\n",
              "/**\n",
              " * @fileoverview Helpers for google.colab Python module.\n",
              " */\n",
              "(function(scope) {\n",
              "function span(text, styleAttributes = {}) {\n",
              "  const element = document.createElement('span');\n",
              "  element.textContent = text;\n",
              "  for (const key of Object.keys(styleAttributes)) {\n",
              "    element.style[key] = styleAttributes[key];\n",
              "  }\n",
              "  return element;\n",
              "}\n",
              "\n",
              "// Max number of bytes which will be uploaded at a time.\n",
              "const MAX_PAYLOAD_SIZE = 100 * 1024;\n",
              "\n",
              "function _uploadFiles(inputId, outputId) {\n",
              "  const steps = uploadFilesStep(inputId, outputId);\n",
              "  const outputElement = document.getElementById(outputId);\n",
              "  // Cache steps on the outputElement to make it available for the next call\n",
              "  // to uploadFilesContinue from Python.\n",
              "  outputElement.steps = steps;\n",
              "\n",
              "  return _uploadFilesContinue(outputId);\n",
              "}\n",
              "\n",
              "// This is roughly an async generator (not supported in the browser yet),\n",
              "// where there are multiple asynchronous steps and the Python side is going\n",
              "// to poll for completion of each step.\n",
              "// This uses a Promise to block the python side on completion of each step,\n",
              "// then passes the result of the previous step as the input to the next step.\n",
              "function _uploadFilesContinue(outputId) {\n",
              "  const outputElement = document.getElementById(outputId);\n",
              "  const steps = outputElement.steps;\n",
              "\n",
              "  const next = steps.next(outputElement.lastPromiseValue);\n",
              "  return Promise.resolve(next.value.promise).then((value) => {\n",
              "    // Cache the last promise value to make it available to the next\n",
              "    // step of the generator.\n",
              "    outputElement.lastPromiseValue = value;\n",
              "    return next.value.response;\n",
              "  });\n",
              "}\n",
              "\n",
              "/**\n",
              " * Generator function which is called between each async step of the upload\n",
              " * process.\n",
              " * @param {string} inputId Element ID of the input file picker element.\n",
              " * @param {string} outputId Element ID of the output display.\n",
              " * @return {!Iterable<!Object>} Iterable of next steps.\n",
              " */\n",
              "function* uploadFilesStep(inputId, outputId) {\n",
              "  const inputElement = document.getElementById(inputId);\n",
              "  inputElement.disabled = false;\n",
              "\n",
              "  const outputElement = document.getElementById(outputId);\n",
              "  outputElement.innerHTML = '';\n",
              "\n",
              "  const pickedPromise = new Promise((resolve) => {\n",
              "    inputElement.addEventListener('change', (e) => {\n",
              "      resolve(e.target.files);\n",
              "    });\n",
              "  });\n",
              "\n",
              "  const cancel = document.createElement('button');\n",
              "  inputElement.parentElement.appendChild(cancel);\n",
              "  cancel.textContent = 'Cancel upload';\n",
              "  const cancelPromise = new Promise((resolve) => {\n",
              "    cancel.onclick = () => {\n",
              "      resolve(null);\n",
              "    };\n",
              "  });\n",
              "\n",
              "  // Wait for the user to pick the files.\n",
              "  const files = yield {\n",
              "    promise: Promise.race([pickedPromise, cancelPromise]),\n",
              "    response: {\n",
              "      action: 'starting',\n",
              "    }\n",
              "  };\n",
              "\n",
              "  cancel.remove();\n",
              "\n",
              "  // Disable the input element since further picks are not allowed.\n",
              "  inputElement.disabled = true;\n",
              "\n",
              "  if (!files) {\n",
              "    return {\n",
              "      response: {\n",
              "        action: 'complete',\n",
              "      }\n",
              "    };\n",
              "  }\n",
              "\n",
              "  for (const file of files) {\n",
              "    const li = document.createElement('li');\n",
              "    li.append(span(file.name, {fontWeight: 'bold'}));\n",
              "    li.append(span(\n",
              "        `(${file.type || 'n/a'}) - ${file.size} bytes, ` +\n",
              "        `last modified: ${\n",
              "            file.lastModifiedDate ? file.lastModifiedDate.toLocaleDateString() :\n",
              "                                    'n/a'} - `));\n",
              "    const percent = span('0% done');\n",
              "    li.appendChild(percent);\n",
              "\n",
              "    outputElement.appendChild(li);\n",
              "\n",
              "    const fileDataPromise = new Promise((resolve) => {\n",
              "      const reader = new FileReader();\n",
              "      reader.onload = (e) => {\n",
              "        resolve(e.target.result);\n",
              "      };\n",
              "      reader.readAsArrayBuffer(file);\n",
              "    });\n",
              "    // Wait for the data to be ready.\n",
              "    let fileData = yield {\n",
              "      promise: fileDataPromise,\n",
              "      response: {\n",
              "        action: 'continue',\n",
              "      }\n",
              "    };\n",
              "\n",
              "    // Use a chunked sending to avoid message size limits. See b/62115660.\n",
              "    let position = 0;\n",
              "    do {\n",
              "      const length = Math.min(fileData.byteLength - position, MAX_PAYLOAD_SIZE);\n",
              "      const chunk = new Uint8Array(fileData, position, length);\n",
              "      position += length;\n",
              "\n",
              "      const base64 = btoa(String.fromCharCode.apply(null, chunk));\n",
              "      yield {\n",
              "        response: {\n",
              "          action: 'append',\n",
              "          file: file.name,\n",
              "          data: base64,\n",
              "        },\n",
              "      };\n",
              "\n",
              "      let percentDone = fileData.byteLength === 0 ?\n",
              "          100 :\n",
              "          Math.round((position / fileData.byteLength) * 100);\n",
              "      percent.textContent = `${percentDone}% done`;\n",
              "\n",
              "    } while (position < fileData.byteLength);\n",
              "  }\n",
              "\n",
              "  // All done.\n",
              "  yield {\n",
              "    response: {\n",
              "      action: 'complete',\n",
              "    }\n",
              "  };\n",
              "}\n",
              "\n",
              "scope.google = scope.google || {};\n",
              "scope.google.colab = scope.google.colab || {};\n",
              "scope.google.colab._files = {\n",
              "  _uploadFiles,\n",
              "  _uploadFilesContinue,\n",
              "};\n",
              "})(self);\n",
              "</script> "
            ]
          },
          "metadata": {}
        },
        {
          "output_type": "stream",
          "name": "stdout",
          "text": [
            "Saving bank_data.csv to bank_data (1).csv\n"
          ]
        }
      ]
    },
    {
      "cell_type": "code",
      "source": [
        "#first look at the data\n",
        "\n",
        "bank_data.head(10)"
      ],
      "metadata": {
        "colab": {
          "base_uri": "https://localhost:8080/",
          "height": 363
        },
        "id": "LFet-G_oWr7e",
        "outputId": "ef0e5ac4-5772-4803-85ec-b7488616e7e2"
      },
      "execution_count": 96,
      "outputs": [
        {
          "output_type": "execute_result",
          "data": {
            "text/plain": [
              "     id  expected_recovery_amount  actual_recovery_amount recovery_strategy  \\\n",
              "0  2030                       194                 263.540  Level 0 Recovery   \n",
              "1  1150                       486                 416.090  Level 0 Recovery   \n",
              "2   380                       527                 429.350  Level 0 Recovery   \n",
              "3  1838                       536                 296.990  Level 0 Recovery   \n",
              "4  1995                       541                 346.385  Level 0 Recovery   \n",
              "5   731                       548                 520.710  Level 0 Recovery   \n",
              "6   221                       549                 221.585  Level 0 Recovery   \n",
              "7  1932                       560                 373.720  Level 0 Recovery   \n",
              "8  1828                       562                 201.865  Level 0 Recovery   \n",
              "9  2001                       565                 504.885  Level 0 Recovery   \n",
              "\n",
              "   age     sex  \n",
              "0   19    Male  \n",
              "1   25  Female  \n",
              "2   27    Male  \n",
              "3   25    Male  \n",
              "4   34    Male  \n",
              "5   35    Male  \n",
              "6   33    Male  \n",
              "7   19  Female  \n",
              "8   22  Female  \n",
              "9   27    Male  "
            ],
            "text/html": [
              "\n",
              "\n",
              "  <div id=\"df-459b7e3e-988b-4fad-838f-6af014229846\">\n",
              "    <div class=\"colab-df-container\">\n",
              "      <div>\n",
              "<style scoped>\n",
              "    .dataframe tbody tr th:only-of-type {\n",
              "        vertical-align: middle;\n",
              "    }\n",
              "\n",
              "    .dataframe tbody tr th {\n",
              "        vertical-align: top;\n",
              "    }\n",
              "\n",
              "    .dataframe thead th {\n",
              "        text-align: right;\n",
              "    }\n",
              "</style>\n",
              "<table border=\"1\" class=\"dataframe\">\n",
              "  <thead>\n",
              "    <tr style=\"text-align: right;\">\n",
              "      <th></th>\n",
              "      <th>id</th>\n",
              "      <th>expected_recovery_amount</th>\n",
              "      <th>actual_recovery_amount</th>\n",
              "      <th>recovery_strategy</th>\n",
              "      <th>age</th>\n",
              "      <th>sex</th>\n",
              "    </tr>\n",
              "  </thead>\n",
              "  <tbody>\n",
              "    <tr>\n",
              "      <th>0</th>\n",
              "      <td>2030</td>\n",
              "      <td>194</td>\n",
              "      <td>263.540</td>\n",
              "      <td>Level 0 Recovery</td>\n",
              "      <td>19</td>\n",
              "      <td>Male</td>\n",
              "    </tr>\n",
              "    <tr>\n",
              "      <th>1</th>\n",
              "      <td>1150</td>\n",
              "      <td>486</td>\n",
              "      <td>416.090</td>\n",
              "      <td>Level 0 Recovery</td>\n",
              "      <td>25</td>\n",
              "      <td>Female</td>\n",
              "    </tr>\n",
              "    <tr>\n",
              "      <th>2</th>\n",
              "      <td>380</td>\n",
              "      <td>527</td>\n",
              "      <td>429.350</td>\n",
              "      <td>Level 0 Recovery</td>\n",
              "      <td>27</td>\n",
              "      <td>Male</td>\n",
              "    </tr>\n",
              "    <tr>\n",
              "      <th>3</th>\n",
              "      <td>1838</td>\n",
              "      <td>536</td>\n",
              "      <td>296.990</td>\n",
              "      <td>Level 0 Recovery</td>\n",
              "      <td>25</td>\n",
              "      <td>Male</td>\n",
              "    </tr>\n",
              "    <tr>\n",
              "      <th>4</th>\n",
              "      <td>1995</td>\n",
              "      <td>541</td>\n",
              "      <td>346.385</td>\n",
              "      <td>Level 0 Recovery</td>\n",
              "      <td>34</td>\n",
              "      <td>Male</td>\n",
              "    </tr>\n",
              "    <tr>\n",
              "      <th>5</th>\n",
              "      <td>731</td>\n",
              "      <td>548</td>\n",
              "      <td>520.710</td>\n",
              "      <td>Level 0 Recovery</td>\n",
              "      <td>35</td>\n",
              "      <td>Male</td>\n",
              "    </tr>\n",
              "    <tr>\n",
              "      <th>6</th>\n",
              "      <td>221</td>\n",
              "      <td>549</td>\n",
              "      <td>221.585</td>\n",
              "      <td>Level 0 Recovery</td>\n",
              "      <td>33</td>\n",
              "      <td>Male</td>\n",
              "    </tr>\n",
              "    <tr>\n",
              "      <th>7</th>\n",
              "      <td>1932</td>\n",
              "      <td>560</td>\n",
              "      <td>373.720</td>\n",
              "      <td>Level 0 Recovery</td>\n",
              "      <td>19</td>\n",
              "      <td>Female</td>\n",
              "    </tr>\n",
              "    <tr>\n",
              "      <th>8</th>\n",
              "      <td>1828</td>\n",
              "      <td>562</td>\n",
              "      <td>201.865</td>\n",
              "      <td>Level 0 Recovery</td>\n",
              "      <td>22</td>\n",
              "      <td>Female</td>\n",
              "    </tr>\n",
              "    <tr>\n",
              "      <th>9</th>\n",
              "      <td>2001</td>\n",
              "      <td>565</td>\n",
              "      <td>504.885</td>\n",
              "      <td>Level 0 Recovery</td>\n",
              "      <td>27</td>\n",
              "      <td>Male</td>\n",
              "    </tr>\n",
              "  </tbody>\n",
              "</table>\n",
              "</div>\n",
              "      <button class=\"colab-df-convert\" onclick=\"convertToInteractive('df-459b7e3e-988b-4fad-838f-6af014229846')\"\n",
              "              title=\"Convert this dataframe to an interactive table.\"\n",
              "              style=\"display:none;\">\n",
              "\n",
              "  <svg xmlns=\"http://www.w3.org/2000/svg\" height=\"24px\"viewBox=\"0 0 24 24\"\n",
              "       width=\"24px\">\n",
              "    <path d=\"M0 0h24v24H0V0z\" fill=\"none\"/>\n",
              "    <path d=\"M18.56 5.44l.94 2.06.94-2.06 2.06-.94-2.06-.94-.94-2.06-.94 2.06-2.06.94zm-11 1L8.5 8.5l.94-2.06 2.06-.94-2.06-.94L8.5 2.5l-.94 2.06-2.06.94zm10 10l.94 2.06.94-2.06 2.06-.94-2.06-.94-.94-2.06-.94 2.06-2.06.94z\"/><path d=\"M17.41 7.96l-1.37-1.37c-.4-.4-.92-.59-1.43-.59-.52 0-1.04.2-1.43.59L10.3 9.45l-7.72 7.72c-.78.78-.78 2.05 0 2.83L4 21.41c.39.39.9.59 1.41.59.51 0 1.02-.2 1.41-.59l7.78-7.78 2.81-2.81c.8-.78.8-2.07 0-2.86zM5.41 20L4 18.59l7.72-7.72 1.47 1.35L5.41 20z\"/>\n",
              "  </svg>\n",
              "      </button>\n",
              "\n",
              "\n",
              "\n",
              "    <div id=\"df-39fe8dd4-0b4e-419a-bf1e-8eea50b78d8c\">\n",
              "      <button class=\"colab-df-quickchart\" onclick=\"quickchart('df-39fe8dd4-0b4e-419a-bf1e-8eea50b78d8c')\"\n",
              "              title=\"Suggest charts.\"\n",
              "              style=\"display:none;\">\n",
              "\n",
              "<svg xmlns=\"http://www.w3.org/2000/svg\" height=\"24px\"viewBox=\"0 0 24 24\"\n",
              "     width=\"24px\">\n",
              "    <g>\n",
              "        <path d=\"M19 3H5c-1.1 0-2 .9-2 2v14c0 1.1.9 2 2 2h14c1.1 0 2-.9 2-2V5c0-1.1-.9-2-2-2zM9 17H7v-7h2v7zm4 0h-2V7h2v10zm4 0h-2v-4h2v4z\"/>\n",
              "    </g>\n",
              "</svg>\n",
              "      </button>\n",
              "    </div>\n",
              "\n",
              "<style>\n",
              "  .colab-df-quickchart {\n",
              "    background-color: #E8F0FE;\n",
              "    border: none;\n",
              "    border-radius: 50%;\n",
              "    cursor: pointer;\n",
              "    display: none;\n",
              "    fill: #1967D2;\n",
              "    height: 32px;\n",
              "    padding: 0 0 0 0;\n",
              "    width: 32px;\n",
              "  }\n",
              "\n",
              "  .colab-df-quickchart:hover {\n",
              "    background-color: #E2EBFA;\n",
              "    box-shadow: 0px 1px 2px rgba(60, 64, 67, 0.3), 0px 1px 3px 1px rgba(60, 64, 67, 0.15);\n",
              "    fill: #174EA6;\n",
              "  }\n",
              "\n",
              "  [theme=dark] .colab-df-quickchart {\n",
              "    background-color: #3B4455;\n",
              "    fill: #D2E3FC;\n",
              "  }\n",
              "\n",
              "  [theme=dark] .colab-df-quickchart:hover {\n",
              "    background-color: #434B5C;\n",
              "    box-shadow: 0px 1px 3px 1px rgba(0, 0, 0, 0.15);\n",
              "    filter: drop-shadow(0px 1px 2px rgba(0, 0, 0, 0.3));\n",
              "    fill: #FFFFFF;\n",
              "  }\n",
              "</style>\n",
              "\n",
              "    <script>\n",
              "      async function quickchart(key) {\n",
              "        const containerElement = document.querySelector('#' + key);\n",
              "        const charts = await google.colab.kernel.invokeFunction(\n",
              "            'suggestCharts', [key], {});\n",
              "      }\n",
              "    </script>\n",
              "\n",
              "      <script>\n",
              "\n",
              "function displayQuickchartButton(domScope) {\n",
              "  let quickchartButtonEl =\n",
              "    domScope.querySelector('#df-39fe8dd4-0b4e-419a-bf1e-8eea50b78d8c button.colab-df-quickchart');\n",
              "  quickchartButtonEl.style.display =\n",
              "    google.colab.kernel.accessAllowed ? 'block' : 'none';\n",
              "}\n",
              "\n",
              "        displayQuickchartButton(document);\n",
              "      </script>\n",
              "      <style>\n",
              "    .colab-df-container {\n",
              "      display:flex;\n",
              "      flex-wrap:wrap;\n",
              "      gap: 12px;\n",
              "    }\n",
              "\n",
              "    .colab-df-convert {\n",
              "      background-color: #E8F0FE;\n",
              "      border: none;\n",
              "      border-radius: 50%;\n",
              "      cursor: pointer;\n",
              "      display: none;\n",
              "      fill: #1967D2;\n",
              "      height: 32px;\n",
              "      padding: 0 0 0 0;\n",
              "      width: 32px;\n",
              "    }\n",
              "\n",
              "    .colab-df-convert:hover {\n",
              "      background-color: #E2EBFA;\n",
              "      box-shadow: 0px 1px 2px rgba(60, 64, 67, 0.3), 0px 1px 3px 1px rgba(60, 64, 67, 0.15);\n",
              "      fill: #174EA6;\n",
              "    }\n",
              "\n",
              "    [theme=dark] .colab-df-convert {\n",
              "      background-color: #3B4455;\n",
              "      fill: #D2E3FC;\n",
              "    }\n",
              "\n",
              "    [theme=dark] .colab-df-convert:hover {\n",
              "      background-color: #434B5C;\n",
              "      box-shadow: 0px 1px 3px 1px rgba(0, 0, 0, 0.15);\n",
              "      filter: drop-shadow(0px 1px 2px rgba(0, 0, 0, 0.3));\n",
              "      fill: #FFFFFF;\n",
              "    }\n",
              "  </style>\n",
              "\n",
              "      <script>\n",
              "        const buttonEl =\n",
              "          document.querySelector('#df-459b7e3e-988b-4fad-838f-6af014229846 button.colab-df-convert');\n",
              "        buttonEl.style.display =\n",
              "          google.colab.kernel.accessAllowed ? 'block' : 'none';\n",
              "\n",
              "        async function convertToInteractive(key) {\n",
              "          const element = document.querySelector('#df-459b7e3e-988b-4fad-838f-6af014229846');\n",
              "          const dataTable =\n",
              "            await google.colab.kernel.invokeFunction('convertToInteractive',\n",
              "                                                     [key], {});\n",
              "          if (!dataTable) return;\n",
              "\n",
              "          const docLinkHtml = 'Like what you see? Visit the ' +\n",
              "            '<a target=\"_blank\" href=https://colab.research.google.com/notebooks/data_table.ipynb>data table notebook</a>'\n",
              "            + ' to learn more about interactive tables.';\n",
              "          element.innerHTML = '';\n",
              "          dataTable['output_type'] = 'display_data';\n",
              "          await google.colab.output.renderOutput(dataTable, element);\n",
              "          const docLink = document.createElement('div');\n",
              "          docLink.innerHTML = docLinkHtml;\n",
              "          element.appendChild(docLink);\n",
              "        }\n",
              "      </script>\n",
              "    </div>\n",
              "  </div>\n"
            ]
          },
          "metadata": {},
          "execution_count": 96
        }
      ]
    },
    {
      "cell_type": "code",
      "source": [
        "# The shape of ou Data set\n",
        "bank_data.shape"
      ],
      "metadata": {
        "colab": {
          "base_uri": "https://localhost:8080/"
        },
        "id": "6QoFM0wmh2ul",
        "outputId": "8cf5e020-11a7-4885-d81c-e52e2199bc77"
      },
      "execution_count": 97,
      "outputs": [
        {
          "output_type": "execute_result",
          "data": {
            "text/plain": [
              "(1882, 6)"
            ]
          },
          "metadata": {},
          "execution_count": 97
        }
      ]
    },
    {
      "cell_type": "markdown",
      "source": [
        "Regression Discontinuity: Banking recovery\\\n",
        "Key variables :\n",
        "\n",
        "*   expected recovery amount\n",
        "*   recovery strategy level\n",
        "*   actual recovery amount\n",
        "*   age\n",
        "*   sexe\n",
        "\n",
        "Levels and threshold:\n",
        "\n",
        "*   Level 0: Expected recovery amounts >  0$ & <= 1000$\n",
        "*   Level 1: Expected recovery amounts >  1000$ & <= 2000$\n",
        "*   The threshold of $1000 separates Level 0 from Level\n",
        "\n",
        "let's see how many customers in every recovery level and the thereshold of 1000$\n"
      ],
      "metadata": {
        "id": "yUlhPdHWegBc"
      }
    },
    {
      "cell_type": "code",
      "source": [
        "bank_data['recovery_strategy'].value_counts()"
      ],
      "metadata": {
        "colab": {
          "base_uri": "https://localhost:8080/"
        },
        "id": "_y-sG4mMmuZR",
        "outputId": "5bfbc56d-e9db-417f-f84f-66ba534c7a57"
      },
      "execution_count": 98,
      "outputs": [
        {
          "output_type": "execute_result",
          "data": {
            "text/plain": [
              "Level 1 Recovery    670\n",
              "Level 3 Recovery    368\n",
              "Level 2 Recovery    333\n",
              "Level 4 Recovery    264\n",
              "Level 0 Recovery    247\n",
              "Name: recovery_strategy, dtype: int64"
            ]
          },
          "metadata": {},
          "execution_count": 98
        }
      ]
    },
    {
      "cell_type": "code",
      "source": [
        "bank_data['recovery_strategy'].value_counts().plot(kind='bar')\n"
      ],
      "metadata": {
        "colab": {
          "base_uri": "https://localhost:8080/",
          "height": 572
        },
        "id": "B83VSm7ElSsD",
        "outputId": "f27bca1d-e6cd-480e-95e1-af7216543776"
      },
      "execution_count": 99,
      "outputs": [
        {
          "output_type": "execute_result",
          "data": {
            "text/plain": [
              "<Axes: >"
            ]
          },
          "metadata": {},
          "execution_count": 99
        },
        {
          "output_type": "display_data",
          "data": {
            "text/plain": [
              "<Figure size 640x480 with 1 Axes>"
            ],
            "image/png": "[encoded data removed]"
          },
          "metadata": {}
        }
      ]
    },
    {
      "cell_type": "markdown",
      "source": [
        "Now Let's select a sample of customers that fall within a narrow range around the threshold (betweeen 900$ & 1100$)"
      ],
      "metadata": {
        "id": "LRBjRlzxlN_e"
      }
    },
    {
      "cell_type": "code",
      "source": [
        "sample = bank_data[(bank_data['expected_recovery_amount'] >= 900) & (bank_data['expected_recovery_amount'] <= 1100)]\n",
        "\n",
        "# Print the number of customers in the sample\n",
        "print(\"Number of customers in the sample:\", len(sample))\n",
        "\n",
        "# you can plot the distribution of expected recovery amounts in the sample\n",
        "\n",
        "plt.hist(sample['expected_recovery_amount'], bins=10)\n",
        "plt.xlabel('Expected Recovery Amount')\n",
        "plt.ylabel('Frequency')\n",
        "plt.title('Distribution of Expected Recovery Amounts')\n",
        "plt.show()"
      ],
      "metadata": {
        "colab": {
          "base_uri": "https://localhost:8080/",
          "height": 497
        },
        "id": "Ef52-vece3jJ",
        "outputId": "f23698c1-2896-4008-e066-62f5aa43c583"
      },
      "execution_count": 100,
      "outputs": [
        {
          "output_type": "stream",
          "name": "stdout",
          "text": [
            "Number of customers in the sample: 184\n"
          ]
        },
        {
          "output_type": "display_data",
          "data": {
            "text/plain": [
              "<Figure size 640x480 with 1 Axes>"
            ],
            "image/png": "[encoded data removed]"
          },
          "metadata": {}
        }
      ]
    },
    {
      "cell_type": "code",
      "source": [
        "sample.head()"
      ],
      "metadata": {
        "colab": {
          "base_uri": "https://localhost:8080/",
          "height": 206
        },
        "id": "MVMkudvrgqLg",
        "outputId": "f3878464-d596-45a1-f986-ad7e286627fe"
      },
      "execution_count": 101,
      "outputs": [
        {
          "output_type": "execute_result",
          "data": {
            "text/plain": [
              "       id  expected_recovery_amount  actual_recovery_amount recovery_strategy  \\\n",
              "158   520                       900                 504.790  Level 0 Recovery   \n",
              "159  1036                       900                 539.535  Level 0 Recovery   \n",
              "160  1383                       900                 554.745  Level 0 Recovery   \n",
              "161   998                       901                 887.005  Level 0 Recovery   \n",
              "162  1351                       903                 667.035  Level 0 Recovery   \n",
              "\n",
              "     age     sex  \n",
              "158   34    Male  \n",
              "159   34  Female  \n",
              "160   24    Male  \n",
              "161   32    Male  \n",
              "162   28    Male  "
            ],
            "text/html": [
              "\n",
              "\n",
              "  <div id=\"df-c37cd559-c0c0-410b-8034-6a2e63660f2c\">\n",
              "    <div class=\"colab-df-container\">\n",
              "      <div>\n",
              "<style scoped>\n",
              "    .dataframe tbody tr th:only-of-type {\n",
              "        vertical-align: middle;\n",
              "    }\n",
              "\n",
              "    .dataframe tbody tr th {\n",
              "        vertical-align: top;\n",
              "    }\n",
              "\n",
              "    .dataframe thead th {\n",
              "        text-align: right;\n",
              "    }\n",
              "</style>\n",
              "<table border=\"1\" class=\"dataframe\">\n",
              "  <thead>\n",
              "    <tr style=\"text-align: right;\">\n",
              "      <th></th>\n",
              "      <th>id</th>\n",
              "      <th>expected_recovery_amount</th>\n",
              "      <th>actual_recovery_amount</th>\n",
              "      <th>recovery_strategy</th>\n",
              "      <th>age</th>\n",
              "      <th>sex</th>\n",
              "    </tr>\n",
              "  </thead>\n",
              "  <tbody>\n",
              "    <tr>\n",
              "      <th>158</th>\n",
              "      <td>520</td>\n",
              "      <td>900</td>\n",
              "      <td>504.790</td>\n",
              "      <td>Level 0 Recovery</td>\n",
              "      <td>34</td>\n",
              "      <td>Male</td>\n",
              "    </tr>\n",
              "    <tr>\n",
              "      <th>159</th>\n",
              "      <td>1036</td>\n",
              "      <td>900</td>\n",
              "      <td>539.535</td>\n",
              "      <td>Level 0 Recovery</td>\n",
              "      <td>34</td>\n",
              "      <td>Female</td>\n",
              "    </tr>\n",
              "    <tr>\n",
              "      <th>160</th>\n",
              "      <td>1383</td>\n",
              "      <td>900</td>\n",
              "      <td>554.745</td>\n",
              "      <td>Level 0 Recovery</td>\n",
              "      <td>24</td>\n",
              "      <td>Male</td>\n",
              "    </tr>\n",
              "    <tr>\n",
              "      <th>161</th>\n",
              "      <td>998</td>\n",
              "      <td>901</td>\n",
              "      <td>887.005</td>\n",
              "      <td>Level 0 Recovery</td>\n",
              "      <td>32</td>\n",
              "      <td>Male</td>\n",
              "    </tr>\n",
              "    <tr>\n",
              "      <th>162</th>\n",
              "      <td>1351</td>\n",
              "      <td>903</td>\n",
              "      <td>667.035</td>\n",
              "      <td>Level 0 Recovery</td>\n",
              "      <td>28</td>\n",
              "      <td>Male</td>\n",
              "    </tr>\n",
              "  </tbody>\n",
              "</table>\n",
              "</div>\n",
              "      <button class=\"colab-df-convert\" onclick=\"convertToInteractive('df-c37cd559-c0c0-410b-8034-6a2e63660f2c')\"\n",
              "              title=\"Convert this dataframe to an interactive table.\"\n",
              "              style=\"display:none;\">\n",
              "\n",
              "  <svg xmlns=\"http://www.w3.org/2000/svg\" height=\"24px\"viewBox=\"0 0 24 24\"\n",
              "       width=\"24px\">\n",
              "    <path d=\"M0 0h24v24H0V0z\" fill=\"none\"/>\n",
              "    <path d=\"M18.56 5.44l.94 2.06.94-2.06 2.06-.94-2.06-.94-.94-2.06-.94 2.06-2.06.94zm-11 1L8.5 8.5l.94-2.06 2.06-.94-2.06-.94L8.5 2.5l-.94 2.06-2.06.94zm10 10l.94 2.06.94-2.06 2.06-.94-2.06-.94-.94-2.06-.94 2.06-2.06.94z\"/><path d=\"M17.41 7.96l-1.37-1.37c-.4-.4-.92-.59-1.43-.59-.52 0-1.04.2-1.43.59L10.3 9.45l-7.72 7.72c-.78.78-.78 2.05 0 2.83L4 21.41c.39.39.9.59 1.41.59.51 0 1.02-.2 1.41-.59l7.78-7.78 2.81-2.81c.8-.78.8-2.07 0-2.86zM5.41 20L4 18.59l7.72-7.72 1.47 1.35L5.41 20z\"/>\n",
              "  </svg>\n",
              "      </button>\n",
              "\n",
              "\n",
              "\n",
              "    <div id=\"df-a1f6cddf-a463-4f31-a6d2-55b110a0cc12\">\n",
              "      <button class=\"colab-df-quickchart\" onclick=\"quickchart('df-a1f6cddf-a463-4f31-a6d2-55b110a0cc12')\"\n",
              "              title=\"Suggest charts.\"\n",
              "              style=\"display:none;\">\n",
              "\n",
              "<svg xmlns=\"http://www.w3.org/2000/svg\" height=\"24px\"viewBox=\"0 0 24 24\"\n",
              "     width=\"24px\">\n",
              "    <g>\n",
              "        <path d=\"M19 3H5c-1.1 0-2 .9-2 2v14c0 1.1.9 2 2 2h14c1.1 0 2-.9 2-2V5c0-1.1-.9-2-2-2zM9 17H7v-7h2v7zm4 0h-2V7h2v10zm4 0h-2v-4h2v4z\"/>\n",
              "    </g>\n",
              "</svg>\n",
              "      </button>\n",
              "    </div>\n",
              "\n",
              "<style>\n",
              "  .colab-df-quickchart {\n",
              "    background-color: #E8F0FE;\n",
              "    border: none;\n",
              "    border-radius: 50%;\n",
              "    cursor: pointer;\n",
              "    display: none;\n",
              "    fill: #1967D2;\n",
              "    height: 32px;\n",
              "    padding: 0 0 0 0;\n",
              "    width: 32px;\n",
              "  }\n",
              "\n",
              "  .colab-df-quickchart:hover {\n",
              "    background-color: #E2EBFA;\n",
              "    box-shadow: 0px 1px 2px rgba(60, 64, 67, 0.3), 0px 1px 3px 1px rgba(60, 64, 67, 0.15);\n",
              "    fill: #174EA6;\n",
              "  }\n",
              "\n",
              "  [theme=dark] .colab-df-quickchart {\n",
              "    background-color: #3B4455;\n",
              "    fill: #D2E3FC;\n",
              "  }\n",
              "\n",
              "  [theme=dark] .colab-df-quickchart:hover {\n",
              "    background-color: #434B5C;\n",
              "    box-shadow: 0px 1px 3px 1px rgba(0, 0, 0, 0.15);\n",
              "    filter: drop-shadow(0px 1px 2px rgba(0, 0, 0, 0.3));\n",
              "    fill: #FFFFFF;\n",
              "  }\n",
              "</style>\n",
              "\n",
              "    <script>\n",
              "      async function quickchart(key) {\n",
              "        const containerElement = document.querySelector('#' + key);\n",
              "        const charts = await google.colab.kernel.invokeFunction(\n",
              "            'suggestCharts', [key], {});\n",
              "      }\n",
              "    </script>\n",
              "\n",
              "      <script>\n",
              "\n",
              "function displayQuickchartButton(domScope) {\n",
              "  let quickchartButtonEl =\n",
              "    domScope.querySelector('#df-a1f6cddf-a463-4f31-a6d2-55b110a0cc12 button.colab-df-quickchart');\n",
              "  quickchartButtonEl.style.display =\n",
              "    google.colab.kernel.accessAllowed ? 'block' : 'none';\n",
              "}\n",
              "\n",
              "        displayQuickchartButton(document);\n",
              "      </script>\n",
              "      <style>\n",
              "    .colab-df-container {\n",
              "      display:flex;\n",
              "      flex-wrap:wrap;\n",
              "      gap: 12px;\n",
              "    }\n",
              "\n",
              "    .colab-df-convert {\n",
              "      background-color: #E8F0FE;\n",
              "      border: none;\n",
              "      border-radius: 50%;\n",
              "      cursor: pointer;\n",
              "      display: none;\n",
              "      fill: #1967D2;\n",
              "      height: 32px;\n",
              "      padding: 0 0 0 0;\n",
              "      width: 32px;\n",
              "    }\n",
              "\n",
              "    .colab-df-convert:hover {\n",
              "      background-color: #E2EBFA;\n",
              "      box-shadow: 0px 1px 2px rgba(60, 64, 67, 0.3), 0px 1px 3px 1px rgba(60, 64, 67, 0.15);\n",
              "      fill: #174EA6;\n",
              "    }\n",
              "\n",
              "    [theme=dark] .colab-df-convert {\n",
              "      background-color: #3B4455;\n",
              "      fill: #D2E3FC;\n",
              "    }\n",
              "\n",
              "    [theme=dark] .colab-df-convert:hover {\n",
              "      background-color: #434B5C;\n",
              "      box-shadow: 0px 1px 3px 1px rgba(0, 0, 0, 0.15);\n",
              "      filter: drop-shadow(0px 1px 2px rgba(0, 0, 0, 0.3));\n",
              "      fill: #FFFFFF;\n",
              "    }\n",
              "  </style>\n",
              "\n",
              "      <script>\n",
              "        const buttonEl =\n",
              "          document.querySelector('#df-c37cd559-c0c0-410b-8034-6a2e63660f2c button.colab-df-convert');\n",
              "        buttonEl.style.display =\n",
              "          google.colab.kernel.accessAllowed ? 'block' : 'none';\n",
              "\n",
              "        async function convertToInteractive(key) {\n",
              "          const element = document.querySelector('#df-c37cd559-c0c0-410b-8034-6a2e63660f2c');\n",
              "          const dataTable =\n",
              "            await google.colab.kernel.invokeFunction('convertToInteractive',\n",
              "                                                     [key], {});\n",
              "          if (!dataTable) return;\n",
              "\n",
              "          const docLinkHtml = 'Like what you see? Visit the ' +\n",
              "            '<a target=\"_blank\" href=https://colab.research.google.com/notebooks/data_table.ipynb>data table notebook</a>'\n",
              "            + ' to learn more about interactive tables.';\n",
              "          element.innerHTML = '';\n",
              "          dataTable['output_type'] = 'display_data';\n",
              "          await google.colab.output.renderOutput(dataTable, element);\n",
              "          const docLink = document.createElement('div');\n",
              "          docLink.innerHTML = docLinkHtml;\n",
              "          element.appendChild(docLink);\n",
              "        }\n",
              "      </script>\n",
              "    </div>\n",
              "  </div>\n"
            ]
          },
          "metadata": {},
          "execution_count": 101
        }
      ]
    },
    {
      "cell_type": "markdown",
      "source": [
        "let's Create scatter plots to examine the relationship between the expected recovery amount (X-axis) and the actual recovery amount (Y-axis) for the selected sample."
      ],
      "metadata": {
        "id": "658UWU1djYC9"
      }
    },
    {
      "cell_type": "code",
      "source": [
        "print(\"let's take a look on the relation between the expected recovery amount and the actual recovery amount\")\n",
        "\n",
        "plt.scatter(sample[\"expected_recovery_amount\"], sample[\"actual_recovery_amount\"])\n",
        "plt.xlabel(\"expected\")\n",
        "plt.ylabel(\"actual\")\n",
        "plt.title(\"Relationship between Expected recovery amount and the actual recovery amount\")\n",
        "plt.show"
      ],
      "metadata": {
        "colab": {
          "base_uri": "https://localhost:8080/",
          "height": 515
        },
        "id": "LJxx_PhXjgYA",
        "outputId": "ebecf98a-a5ef-41b7-eb2d-a535a1056d2c"
      },
      "execution_count": 102,
      "outputs": [
        {
          "output_type": "stream",
          "name": "stdout",
          "text": [
            "let's take a look on the relation between the expected recovery amount and the actual recovery amount\n"
          ]
        },
        {
          "output_type": "execute_result",
          "data": {
            "text/plain": [
              "<function matplotlib.pyplot.show(close=None, block=None)>"
            ]
          },
          "metadata": {},
          "execution_count": 102
        },
        {
          "output_type": "display_data",
          "data": {
            "text/plain": [
              "<Figure size 640x480 with 1 Axes>"
            ],
            "image/png": "[encoded data removed]"
          },
          "metadata": {}
        }
      ]
    },
    {
      "cell_type": "markdown",
      "source": [
        "Here, we can see that there is a big difference between the expected recovery amount and the actual recovery amount for some customers(expected recovery amount between 900 and 1100)"
      ],
      "metadata": {
        "id": "1ZvGC1p-kjDq"
      }
    },
    {
      "cell_type": "markdown",
      "source": [
        "Data Cleaning"
      ],
      "metadata": {
        "id": "dkIjae2FVaRb"
      }
    },
    {
      "cell_type": "code",
      "source": [
        "missings_values= bank_data.isnull().sum()\n",
        "missings_values"
      ],
      "metadata": {
        "colab": {
          "base_uri": "https://localhost:8080/"
        },
        "id": "uXHDM2nvVavH",
        "outputId": "5111d576-9bd2-46bd-e2ed-c0e5f6645447"
      },
      "execution_count": 104,
      "outputs": [
        {
          "output_type": "execute_result",
          "data": {
            "text/plain": [
              "id                          0\n",
              "expected_recovery_amount    0\n",
              "actual_recovery_amount      0\n",
              "recovery_strategy           0\n",
              "age                         0\n",
              "sex                         0\n",
              "dtype: int64"
            ]
          },
          "metadata": {},
          "execution_count": 104
        }
      ]
    },
    {
      "cell_type": "code",
      "source": [
        "bank_data.duplicated().sum()"
      ],
      "metadata": {
        "colab": {
          "base_uri": "https://localhost:8080/"
        },
        "id": "jKmTAciVW3Ao",
        "outputId": "631be1df-3d51-4c6f-bd83-928b7a4b7efe"
      },
      "execution_count": 105,
      "outputs": [
        {
          "output_type": "execute_result",
          "data": {
            "text/plain": [
              "0"
            ]
          },
          "metadata": {},
          "execution_count": 105
        }
      ]
    },
    {
      "cell_type": "code",
      "source": [
        "strategies=bank_data['recovery_strategy'].unique()\n",
        "strategies"
      ],
      "metadata": {
        "colab": {
          "base_uri": "https://localhost:8080/"
        },
        "id": "VmAYCH5bY78n",
        "outputId": "018adeca-f4b1-47eb-90cf-d047b435efb6"
      },
      "execution_count": 106,
      "outputs": [
        {
          "output_type": "execute_result",
          "data": {
            "text/plain": [
              "array(['Level 0 Recovery', 'Level 1 Recovery', 'Level 2 Recovery',\n",
              "       'Level 3 Recovery', 'Level 4 Recovery'], dtype=object)"
            ]
          },
          "metadata": {},
          "execution_count": 106
        }
      ]
    },
    {
      "cell_type": "markdown",
      "source": [
        "Statistical test: age vs. expected recovery amount"
      ],
      "metadata": {
        "id": "3NHwOfUjb3xx"
      }
    },
    {
      "cell_type": "code",
      "source": [
        "#let's do a scatter plot of age as a fucntion of the expected recovery amount\n",
        "\n",
        "plt.scatter(bank_data['age'], bank_data['expected_recovery_amount'])\n",
        "plt.xlabel('Age')\n",
        "plt.ylabel('Expected recovery amount')\n",
        "plt.title('age vs expected recovery amount')\n",
        "plt.show()"
      ],
      "metadata": {
        "colab": {
          "base_uri": "https://localhost:8080/",
          "height": 480
        },
        "id": "31EvwxEXcCs9",
        "outputId": "82de1aac-b43a-45fe-98b7-1d6c69a2064e"
      },
      "execution_count": 107,
      "outputs": [
        {
          "output_type": "display_data",
          "data": {
            "text/plain": [
              "<Figure size 640x480 with 1 Axes>"
            ],
            "image/png": "[encoded data removed]"
          },
          "metadata": {}
        }
      ]
    },
    {
      "cell_type": "markdown",
      "source": [
        "As u can see, the greater the age is, the greater the expected recovery amount.\n",
        "\n",
        "Now we will be covering a statistical test above and bellow the threshold of 1000$ (900$  -- 1100$), We already created a subset named Sample, we will be working on that subset for the moment"
      ],
      "metadata": {
        "id": "LzHCniChed9r"
      }
    },
    {
      "cell_type": "code",
      "source": [],
      "metadata": {
        "id": "RrW1pMQ9evPd"
      },
      "execution_count": 107,
      "outputs": []
    },
    {
      "cell_type": "code",
      "source": [
        "sample.head()"
      ],
      "metadata": {
        "colab": {
          "base_uri": "https://localhost:8080/",
          "height": 206
        },
        "id": "SrzxV3t3e3_p",
        "outputId": "b6bc838f-401c-44c8-a9ce-c2590ee303a1"
      },
      "execution_count": 108,
      "outputs": [
        {
          "output_type": "execute_result",
          "data": {
            "text/plain": [
              "       id  expected_recovery_amount  actual_recovery_amount recovery_strategy  \\\n",
              "158   520                       900                 504.790  Level 0 Recovery   \n",
              "159  1036                       900                 539.535  Level 0 Recovery   \n",
              "160  1383                       900                 554.745  Level 0 Recovery   \n",
              "161   998                       901                 887.005  Level 0 Recovery   \n",
              "162  1351                       903                 667.035  Level 0 Recovery   \n",
              "\n",
              "     age     sex  \n",
              "158   34    Male  \n",
              "159   34  Female  \n",
              "160   24    Male  \n",
              "161   32    Male  \n",
              "162   28    Male  "
            ],
            "text/html": [
              "\n",
              "\n",
              "  <div id=\"df-1c1305f3-3cb3-4e03-8cbd-5d5a1766a134\">\n",
              "    <div class=\"colab-df-container\">\n",
              "      <div>\n",
              "<style scoped>\n",
              "    .dataframe tbody tr th:only-of-type {\n",
              "        vertical-align: middle;\n",
              "    }\n",
              "\n",
              "    .dataframe tbody tr th {\n",
              "        vertical-align: top;\n",
              "    }\n",
              "\n",
              "    .dataframe thead th {\n",
              "        text-align: right;\n",
              "    }\n",
              "</style>\n",
              "<table border=\"1\" class=\"dataframe\">\n",
              "  <thead>\n",
              "    <tr style=\"text-align: right;\">\n",
              "      <th></th>\n",
              "      <th>id</th>\n",
              "      <th>expected_recovery_amount</th>\n",
              "      <th>actual_recovery_amount</th>\n",
              "      <th>recovery_strategy</th>\n",
              "      <th>age</th>\n",
              "      <th>sex</th>\n",
              "    </tr>\n",
              "  </thead>\n",
              "  <tbody>\n",
              "    <tr>\n",
              "      <th>158</th>\n",
              "      <td>520</td>\n",
              "      <td>900</td>\n",
              "      <td>504.790</td>\n",
              "      <td>Level 0 Recovery</td>\n",
              "      <td>34</td>\n",
              "      <td>Male</td>\n",
              "    </tr>\n",
              "    <tr>\n",
              "      <th>159</th>\n",
              "      <td>1036</td>\n",
              "      <td>900</td>\n",
              "      <td>539.535</td>\n",
              "      <td>Level 0 Recovery</td>\n",
              "      <td>34</td>\n",
              "      <td>Female</td>\n",
              "    </tr>\n",
              "    <tr>\n",
              "      <th>160</th>\n",
              "      <td>1383</td>\n",
              "      <td>900</td>\n",
              "      <td>554.745</td>\n",
              "      <td>Level 0 Recovery</td>\n",
              "      <td>24</td>\n",
              "      <td>Male</td>\n",
              "    </tr>\n",
              "    <tr>\n",
              "      <th>161</th>\n",
              "      <td>998</td>\n",
              "      <td>901</td>\n",
              "      <td>887.005</td>\n",
              "      <td>Level 0 Recovery</td>\n",
              "      <td>32</td>\n",
              "      <td>Male</td>\n",
              "    </tr>\n",
              "    <tr>\n",
              "      <th>162</th>\n",
              "      <td>1351</td>\n",
              "      <td>903</td>\n",
              "      <td>667.035</td>\n",
              "      <td>Level 0 Recovery</td>\n",
              "      <td>28</td>\n",
              "      <td>Male</td>\n",
              "    </tr>\n",
              "  </tbody>\n",
              "</table>\n",
              "</div>\n",
              "      <button class=\"colab-df-convert\" onclick=\"convertToInteractive('df-1c1305f3-3cb3-4e03-8cbd-5d5a1766a134')\"\n",
              "              title=\"Convert this dataframe to an interactive table.\"\n",
              "              style=\"display:none;\">\n",
              "\n",
              "  <svg xmlns=\"http://www.w3.org/2000/svg\" height=\"24px\"viewBox=\"0 0 24 24\"\n",
              "       width=\"24px\">\n",
              "    <path d=\"M0 0h24v24H0V0z\" fill=\"none\"/>\n",
              "    <path d=\"M18.56 5.44l.94 2.06.94-2.06 2.06-.94-2.06-.94-.94-2.06-.94 2.06-2.06.94zm-11 1L8.5 8.5l.94-2.06 2.06-.94-2.06-.94L8.5 2.5l-.94 2.06-2.06.94zm10 10l.94 2.06.94-2.06 2.06-.94-2.06-.94-.94-2.06-.94 2.06-2.06.94z\"/><path d=\"M17.41 7.96l-1.37-1.37c-.4-.4-.92-.59-1.43-.59-.52 0-1.04.2-1.43.59L10.3 9.45l-7.72 7.72c-.78.78-.78 2.05 0 2.83L4 21.41c.39.39.9.59 1.41.59.51 0 1.02-.2 1.41-.59l7.78-7.78 2.81-2.81c.8-.78.8-2.07 0-2.86zM5.41 20L4 18.59l7.72-7.72 1.47 1.35L5.41 20z\"/>\n",
              "  </svg>\n",
              "      </button>\n",
              "\n",
              "\n",
              "\n",
              "    <div id=\"df-5d139b01-7a5a-44f6-a706-f68a4b3826d7\">\n",
              "      <button class=\"colab-df-quickchart\" onclick=\"quickchart('df-5d139b01-7a5a-44f6-a706-f68a4b3826d7')\"\n",
              "              title=\"Suggest charts.\"\n",
              "              style=\"display:none;\">\n",
              "\n",
              "<svg xmlns=\"http://www.w3.org/2000/svg\" height=\"24px\"viewBox=\"0 0 24 24\"\n",
              "     width=\"24px\">\n",
              "    <g>\n",
              "        <path d=\"M19 3H5c-1.1 0-2 .9-2 2v14c0 1.1.9 2 2 2h14c1.1 0 2-.9 2-2V5c0-1.1-.9-2-2-2zM9 17H7v-7h2v7zm4 0h-2V7h2v10zm4 0h-2v-4h2v4z\"/>\n",
              "    </g>\n",
              "</svg>\n",
              "      </button>\n",
              "    </div>\n",
              "\n",
              "<style>\n",
              "  .colab-df-quickchart {\n",
              "    background-color: #E8F0FE;\n",
              "    border: none;\n",
              "    border-radius: 50%;\n",
              "    cursor: pointer;\n",
              "    display: none;\n",
              "    fill: #1967D2;\n",
              "    height: 32px;\n",
              "    padding: 0 0 0 0;\n",
              "    width: 32px;\n",
              "  }\n",
              "\n",
              "  .colab-df-quickchart:hover {\n",
              "    background-color: #E2EBFA;\n",
              "    box-shadow: 0px 1px 2px rgba(60, 64, 67, 0.3), 0px 1px 3px 1px rgba(60, 64, 67, 0.15);\n",
              "    fill: #174EA6;\n",
              "  }\n",
              "\n",
              "  [theme=dark] .colab-df-quickchart {\n",
              "    background-color: #3B4455;\n",
              "    fill: #D2E3FC;\n",
              "  }\n",
              "\n",
              "  [theme=dark] .colab-df-quickchart:hover {\n",
              "    background-color: #434B5C;\n",
              "    box-shadow: 0px 1px 3px 1px rgba(0, 0, 0, 0.15);\n",
              "    filter: drop-shadow(0px 1px 2px rgba(0, 0, 0, 0.3));\n",
              "    fill: #FFFFFF;\n",
              "  }\n",
              "</style>\n",
              "\n",
              "    <script>\n",
              "      async function quickchart(key) {\n",
              "        const containerElement = document.querySelector('#' + key);\n",
              "        const charts = await google.colab.kernel.invokeFunction(\n",
              "            'suggestCharts', [key], {});\n",
              "      }\n",
              "    </script>\n",
              "\n",
              "      <script>\n",
              "\n",
              "function displayQuickchartButton(domScope) {\n",
              "  let quickchartButtonEl =\n",
              "    domScope.querySelector('#df-5d139b01-7a5a-44f6-a706-f68a4b3826d7 button.colab-df-quickchart');\n",
              "  quickchartButtonEl.style.display =\n",
              "    google.colab.kernel.accessAllowed ? 'block' : 'none';\n",
              "}\n",
              "\n",
              "        displayQuickchartButton(document);\n",
              "      </script>\n",
              "      <style>\n",
              "    .colab-df-container {\n",
              "      display:flex;\n",
              "      flex-wrap:wrap;\n",
              "      gap: 12px;\n",
              "    }\n",
              "\n",
              "    .colab-df-convert {\n",
              "      background-color: #E8F0FE;\n",
              "      border: none;\n",
              "      border-radius: 50%;\n",
              "      cursor: pointer;\n",
              "      display: none;\n",
              "      fill: #1967D2;\n",
              "      height: 32px;\n",
              "      padding: 0 0 0 0;\n",
              "      width: 32px;\n",
              "    }\n",
              "\n",
              "    .colab-df-convert:hover {\n",
              "      background-color: #E2EBFA;\n",
              "      box-shadow: 0px 1px 2px rgba(60, 64, 67, 0.3), 0px 1px 3px 1px rgba(60, 64, 67, 0.15);\n",
              "      fill: #174EA6;\n",
              "    }\n",
              "\n",
              "    [theme=dark] .colab-df-convert {\n",
              "      background-color: #3B4455;\n",
              "      fill: #D2E3FC;\n",
              "    }\n",
              "\n",
              "    [theme=dark] .colab-df-convert:hover {\n",
              "      background-color: #434B5C;\n",
              "      box-shadow: 0px 1px 3px 1px rgba(0, 0, 0, 0.15);\n",
              "      filter: drop-shadow(0px 1px 2px rgba(0, 0, 0, 0.3));\n",
              "      fill: #FFFFFF;\n",
              "    }\n",
              "  </style>\n",
              "\n",
              "      <script>\n",
              "        const buttonEl =\n",
              "          document.querySelector('#df-1c1305f3-3cb3-4e03-8cbd-5d5a1766a134 button.colab-df-convert');\n",
              "        buttonEl.style.display =\n",
              "          google.colab.kernel.accessAllowed ? 'block' : 'none';\n",
              "\n",
              "        async function convertToInteractive(key) {\n",
              "          const element = document.querySelector('#df-1c1305f3-3cb3-4e03-8cbd-5d5a1766a134');\n",
              "          const dataTable =\n",
              "            await google.colab.kernel.invokeFunction('convertToInteractive',\n",
              "                                                     [key], {});\n",
              "          if (!dataTable) return;\n",
              "\n",
              "          const docLinkHtml = 'Like what you see? Visit the ' +\n",
              "            '<a target=\"_blank\" href=https://colab.research.google.com/notebooks/data_table.ipynb>data table notebook</a>'\n",
              "            + ' to learn more about interactive tables.';\n",
              "          element.innerHTML = '';\n",
              "          dataTable['output_type'] = 'display_data';\n",
              "          await google.colab.output.renderOutput(dataTable, element);\n",
              "          const docLink = document.createElement('div');\n",
              "          docLink.innerHTML = docLinkHtml;\n",
              "          element.appendChild(docLink);\n",
              "        }\n",
              "      </script>\n",
              "    </div>\n",
              "  </div>\n"
            ]
          },
          "metadata": {},
          "execution_count": 108
        }
      ]
    },
    {
      "cell_type": "code",
      "source": [
        "# average age above the threshold of 1000$\n",
        "avg_age_above_threshold= sample[sample['expected_recovery_amount']<=1000]['age'].mean()\n",
        "\n",
        "# average age bellow the thresholod of 1000$\n",
        "avg_age_bellow_threshold = sample[sample['expected_recovery_amount']> 1000]['age'].mean()\n",
        "\n",
        "print('the average age above the threshold is :', avg_age_above_threshold)\n",
        "print(\"the average age bellow the threshold is :\", avg_age_bellow_threshold)"
      ],
      "metadata": {
        "colab": {
          "base_uri": "https://localhost:8080/"
        },
        "id": "ylUbYfkLe_Fe",
        "outputId": "70ff1dc9-cc48-45c1-c392-64eaa0e9e396"
      },
      "execution_count": 109,
      "outputs": [
        {
          "output_type": "stream",
          "name": "stdout",
          "text": [
            "the average age above the threshold is : 27.224719101123597\n",
            "the average age bellow the threshold is : 28.68421052631579\n"
          ]
        }
      ]
    },
    {
      "cell_type": "code",
      "source": [
        "import pandas as pd\n",
        "\n",
        "\n",
        "# Convert 'Expected Recovery Amount' to numeric data type\n",
        "sample['expected_recovery_amount'] = pd.to_numeric(sample['expected_recovery_amount'])\n",
        "\n",
        "# Calculate the average age for customers above the threshold ($1000)\n",
        "avg_age_above_threshold = sample[sample['expected_recovery_amount'] > 1000]['age'].mean()\n",
        "\n",
        "# Calculate the average age for customers below the threshold ($1000)\n",
        "avg_age_below_threshold = sample[sample['expected_recovery_amount'] <= 1000]['age'].mean()\n",
        "\n",
        "# Perform an independent two-sample t-test\n",
        "from scipy.stats import ttest_ind\n",
        "\n",
        "t_stat, p_value = ttest_ind(sample[sample['expected_recovery_amount'] > 1000]['age'],\n",
        "                           sample[sample['expected_recovery_amount'] <= 1000]['age'],\n",
        "                           equal_var=False)\n",
        "\n",
        "# Check the p-value to assess statistical significance\n",
        "if p_value < 0.05:\n",
        "    print(\"The difference in average age is statistically significant.\")\n",
        "else:\n",
        "    print(\"There is no statistically significant difference in average age.\")\n",
        "\n"
      ],
      "metadata": {
        "colab": {
          "base_uri": "https://localhost:8080/"
        },
        "id": "N-1nxcgSoaRN",
        "outputId": "8225dcdf-c96e-4a35-dfff-300abf0720c5"
      },
      "execution_count": 110,
      "outputs": [
        {
          "output_type": "stream",
          "name": "stdout",
          "text": [
            "There is no statistically significant difference in average age.\n"
          ]
        }
      ]
    },
    {
      "cell_type": "code",
      "source": [
        "#scatter plot of the above and bellow of the threshold\n",
        "\n",
        "plt.scatter(sample['age'], sample['expected_recovery_amount'])\n",
        "plt.xlabel('age')\n",
        "plt.ylabel('expected recovery amount')\n",
        "plt.title('bellow and above the threshold')\n",
        "plt.show()"
      ],
      "metadata": {
        "colab": {
          "base_uri": "https://localhost:8080/",
          "height": 480
        },
        "id": "2vJPo4ThsF4i",
        "outputId": "4b63bacd-df87-4bbf-e9f0-ea8c894d91aa"
      },
      "execution_count": 112,
      "outputs": [
        {
          "output_type": "display_data",
          "data": {
            "text/plain": [
              "<Figure size 640x480 with 1 Axes>"
            ],
            "image/png": "[encoded data removed]"
          },
          "metadata": {}
        }
      ]
    },
    {
      "cell_type": "markdown",
      "source": [
        "Statistical test: sex vs. expected recovery amount"
      ],
      "metadata": {
        "id": "qWdZaFrstqsW"
      }
    },
    {
      "cell_type": "code",
      "source": [
        "male_count = sample['sex'].value_counts()['Male']\n",
        "female_count = sample['sex'].value_counts()['Female']\n",
        "total_count = sample['sex'].count()\n",
        "\n",
        "# Print the result\n",
        "print(\"Number of Male:\", male_count)\n",
        "print(\"Number of Female:\", female_count)\n",
        "print(\"Total of value i Sex Columns:\", total_count)"
      ],
      "metadata": {
        "colab": {
          "base_uri": "https://localhost:8080/"
        },
        "id": "i7zZmQ12uAEc",
        "outputId": "1d83334f-8ac6-465a-d2cb-d4bb5989dde1"
      },
      "execution_count": 113,
      "outputs": [
        {
          "output_type": "stream",
          "name": "stdout",
          "text": [
            "Number of Male: 112\n",
            "Number of Female: 72\n",
            "Total of value i Sex Columns: 184\n"
          ]
        }
      ]
    },
    {
      "cell_type": "code",
      "source": [
        "#percentage of Male\n",
        "perce_male = round((male_count/total_count)*100, 3)\n",
        "perce_female = round((female_count/total_count)*100, 3)\n",
        "\n",
        "print(\"The percentage of Male in our sample is :\", perce_male,\"%\")\n",
        "print(\"The precentage of Females in our sample is :\", perce_female,\"%\")"
      ],
      "metadata": {
        "colab": {
          "base_uri": "https://localhost:8080/"
        },
        "id": "jFZILUG7u9Dz",
        "outputId": "2a0e6b41-957c-401f-beca-6314207d2030"
      },
      "execution_count": 114,
      "outputs": [
        {
          "output_type": "stream",
          "name": "stdout",
          "text": [
            "The percentage of Male in our sample is : 60.87 %\n",
            "The precentage of Females in our sample is : 39.13 %\n"
          ]
        }
      ]
    },
    {
      "cell_type": "code",
      "source": [
        "#let's plot The expected recovery amount as a function of sex\n",
        "\n",
        "sns.barplot(x=sample['sex'], y=sample['expected_recovery_amount'])\n",
        "plt.ylabel(\"Expected Recovery Amount\")"
      ],
      "metadata": {
        "colab": {
          "base_uri": "https://localhost:8080/",
          "height": 475
        },
        "id": "8T9ybSBEyffq",
        "outputId": "0c5bb7b0-5504-4058-f521-e6aa6f5c4c95"
      },
      "execution_count": 115,
      "outputs": [
        {
          "output_type": "execute_result",
          "data": {
            "text/plain": [
              "Text(0, 0.5, 'Expected Recovery Amount')"
            ]
          },
          "metadata": {},
          "execution_count": 115
        },
        {
          "output_type": "display_data",
          "data": {
            "text/plain": [
              "<Figure size 640x480 with 1 Axes>"
            ],
            "image/png": "[encoded data removed]"
          },
          "metadata": {}
        }
      ]
    },
    {
      "cell_type": "markdown",
      "source": [
        "Exploratory graphical analysis: recovery amount"
      ],
      "metadata": {
        "id": "aJ1bbI3h5lWZ"
      }
    },
    {
      "cell_type": "code",
      "source": [
        "#scatter plot of Expected Recovery Amount VS Actual Recovery Amount\n",
        "plt.scatter(sample['actual_recovery_amount'], sample['expected_recovery_amount'])\n",
        "plt.xlabel(\"Actual Recovery Amount\")\n",
        "plt.ylabel(\"Expected Recovery Amount\")\n",
        "plt.title(\"ERA VS ARA\")\n",
        "plt.show()"
      ],
      "metadata": {
        "colab": {
          "base_uri": "https://localhost:8080/",
          "height": 480
        },
        "id": "Rn_Y6Cgb5oHA",
        "outputId": "a8eb55a2-170f-47b0-dd36-3817f2077d31"
      },
      "execution_count": 116,
      "outputs": [
        {
          "output_type": "display_data",
          "data": {
            "text/plain": [
              "<Figure size 640x480 with 1 Axes>"
            ],
            "image/png": "[encoded data removed]"
          },
          "metadata": {}
        }
      ]
    },
    {
      "cell_type": "markdown",
      "source": [
        "Statistical analysis: recovery amount"
      ],
      "metadata": {
        "id": "mBad-m2q60Eh"
      }
    },
    {
      "cell_type": "code",
      "source": [
        "# let's create a subset of range 950$ and 1050$\n",
        "\n",
        "sample_2= bank_data[(bank_data['expected_recovery_amount'] >= 950) & (bank_data['expected_recovery_amount'] <= 1050)]"
      ],
      "metadata": {
        "id": "QcAFM4xu6183"
      },
      "execution_count": 117,
      "outputs": []
    },
    {
      "cell_type": "code",
      "source": [
        "sample_2.head()"
      ],
      "metadata": {
        "colab": {
          "base_uri": "https://localhost:8080/",
          "height": 206
        },
        "id": "zasFsqhy7qbl",
        "outputId": "9ea3183d-3b21-47a7-fdc2-2ae0e286d1af"
      },
      "execution_count": 118,
      "outputs": [
        {
          "output_type": "execute_result",
          "data": {
            "text/plain": [
              "       id  expected_recovery_amount  actual_recovery_amount recovery_strategy  \\\n",
              "192  1619                       950                 883.790  Level 0 Recovery   \n",
              "193  1898                       950                 534.910  Level 0 Recovery   \n",
              "194   212                       951                 543.780  Level 0 Recovery   \n",
              "195  1329                       951                 537.985  Level 0 Recovery   \n",
              "196  1751                       951                 589.435  Level 0 Recovery   \n",
              "\n",
              "     age     sex  \n",
              "192   21  Female  \n",
              "193   24    Male  \n",
              "194   33  Female  \n",
              "195   20    Male  \n",
              "196   21    Male  "
            ],
            "text/html": [
              "\n",
              "\n",
              "  <div id=\"df-291220bb-6e22-4275-a96e-f9499ecbdfb2\">\n",
              "    <div class=\"colab-df-container\">\n",
              "      <div>\n",
              "<style scoped>\n",
              "    .dataframe tbody tr th:only-of-type {\n",
              "        vertical-align: middle;\n",
              "    }\n",
              "\n",
              "    .dataframe tbody tr th {\n",
              "        vertical-align: top;\n",
              "    }\n",
              "\n",
              "    .dataframe thead th {\n",
              "        text-align: right;\n",
              "    }\n",
              "</style>\n",
              "<table border=\"1\" class=\"dataframe\">\n",
              "  <thead>\n",
              "    <tr style=\"text-align: right;\">\n",
              "      <th></th>\n",
              "      <th>id</th>\n",
              "      <th>expected_recovery_amount</th>\n",
              "      <th>actual_recovery_amount</th>\n",
              "      <th>recovery_strategy</th>\n",
              "      <th>age</th>\n",
              "      <th>sex</th>\n",
              "    </tr>\n",
              "  </thead>\n",
              "  <tbody>\n",
              "    <tr>\n",
              "      <th>192</th>\n",
              "      <td>1619</td>\n",
              "      <td>950</td>\n",
              "      <td>883.790</td>\n",
              "      <td>Level 0 Recovery</td>\n",
              "      <td>21</td>\n",
              "      <td>Female</td>\n",
              "    </tr>\n",
              "    <tr>\n",
              "      <th>193</th>\n",
              "      <td>1898</td>\n",
              "      <td>950</td>\n",
              "      <td>534.910</td>\n",
              "      <td>Level 0 Recovery</td>\n",
              "      <td>24</td>\n",
              "      <td>Male</td>\n",
              "    </tr>\n",
              "    <tr>\n",
              "      <th>194</th>\n",
              "      <td>212</td>\n",
              "      <td>951</td>\n",
              "      <td>543.780</td>\n",
              "      <td>Level 0 Recovery</td>\n",
              "      <td>33</td>\n",
              "      <td>Female</td>\n",
              "    </tr>\n",
              "    <tr>\n",
              "      <th>195</th>\n",
              "      <td>1329</td>\n",
              "      <td>951</td>\n",
              "      <td>537.985</td>\n",
              "      <td>Level 0 Recovery</td>\n",
              "      <td>20</td>\n",
              "      <td>Male</td>\n",
              "    </tr>\n",
              "    <tr>\n",
              "      <th>196</th>\n",
              "      <td>1751</td>\n",
              "      <td>951</td>\n",
              "      <td>589.435</td>\n",
              "      <td>Level 0 Recovery</td>\n",
              "      <td>21</td>\n",
              "      <td>Male</td>\n",
              "    </tr>\n",
              "  </tbody>\n",
              "</table>\n",
              "</div>\n",
              "      <button class=\"colab-df-convert\" onclick=\"convertToInteractive('df-291220bb-6e22-4275-a96e-f9499ecbdfb2')\"\n",
              "              title=\"Convert this dataframe to an interactive table.\"\n",
              "              style=\"display:none;\">\n",
              "\n",
              "  <svg xmlns=\"http://www.w3.org/2000/svg\" height=\"24px\"viewBox=\"0 0 24 24\"\n",
              "       width=\"24px\">\n",
              "    <path d=\"M0 0h24v24H0V0z\" fill=\"none\"/>\n",
              "    <path d=\"M18.56 5.44l.94 2.06.94-2.06 2.06-.94-2.06-.94-.94-2.06-.94 2.06-2.06.94zm-11 1L8.5 8.5l.94-2.06 2.06-.94-2.06-.94L8.5 2.5l-.94 2.06-2.06.94zm10 10l.94 2.06.94-2.06 2.06-.94-2.06-.94-.94-2.06-.94 2.06-2.06.94z\"/><path d=\"M17.41 7.96l-1.37-1.37c-.4-.4-.92-.59-1.43-.59-.52 0-1.04.2-1.43.59L10.3 9.45l-7.72 7.72c-.78.78-.78 2.05 0 2.83L4 21.41c.39.39.9.59 1.41.59.51 0 1.02-.2 1.41-.59l7.78-7.78 2.81-2.81c.8-.78.8-2.07 0-2.86zM5.41 20L4 18.59l7.72-7.72 1.47 1.35L5.41 20z\"/>\n",
              "  </svg>\n",
              "      </button>\n",
              "\n",
              "\n",
              "\n",
              "    <div id=\"df-153c19dc-7311-4c3a-9047-484110bfc1e4\">\n",
              "      <button class=\"colab-df-quickchart\" onclick=\"quickchart('df-153c19dc-7311-4c3a-9047-484110bfc1e4')\"\n",
              "              title=\"Suggest charts.\"\n",
              "              style=\"display:none;\">\n",
              "\n",
              "<svg xmlns=\"http://www.w3.org/2000/svg\" height=\"24px\"viewBox=\"0 0 24 24\"\n",
              "     width=\"24px\">\n",
              "    <g>\n",
              "        <path d=\"M19 3H5c-1.1 0-2 .9-2 2v14c0 1.1.9 2 2 2h14c1.1 0 2-.9 2-2V5c0-1.1-.9-2-2-2zM9 17H7v-7h2v7zm4 0h-2V7h2v10zm4 0h-2v-4h2v4z\"/>\n",
              "    </g>\n",
              "</svg>\n",
              "      </button>\n",
              "    </div>\n",
              "\n",
              "<style>\n",
              "  .colab-df-quickchart {\n",
              "    background-color: #E8F0FE;\n",
              "    border: none;\n",
              "    border-radius: 50%;\n",
              "    cursor: pointer;\n",
              "    display: none;\n",
              "    fill: #1967D2;\n",
              "    height: 32px;\n",
              "    padding: 0 0 0 0;\n",
              "    width: 32px;\n",
              "  }\n",
              "\n",
              "  .colab-df-quickchart:hover {\n",
              "    background-color: #E2EBFA;\n",
              "    box-shadow: 0px 1px 2px rgba(60, 64, 67, 0.3), 0px 1px 3px 1px rgba(60, 64, 67, 0.15);\n",
              "    fill: #174EA6;\n",
              "  }\n",
              "\n",
              "  [theme=dark] .colab-df-quickchart {\n",
              "    background-color: #3B4455;\n",
              "    fill: #D2E3FC;\n",
              "  }\n",
              "\n",
              "  [theme=dark] .colab-df-quickchart:hover {\n",
              "    background-color: #434B5C;\n",
              "    box-shadow: 0px 1px 3px 1px rgba(0, 0, 0, 0.15);\n",
              "    filter: drop-shadow(0px 1px 2px rgba(0, 0, 0, 0.3));\n",
              "    fill: #FFFFFF;\n",
              "  }\n",
              "</style>\n",
              "\n",
              "    <script>\n",
              "      async function quickchart(key) {\n",
              "        const containerElement = document.querySelector('#' + key);\n",
              "        const charts = await google.colab.kernel.invokeFunction(\n",
              "            'suggestCharts', [key], {});\n",
              "      }\n",
              "    </script>\n",
              "\n",
              "      <script>\n",
              "\n",
              "function displayQuickchartButton(domScope) {\n",
              "  let quickchartButtonEl =\n",
              "    domScope.querySelector('#df-153c19dc-7311-4c3a-9047-484110bfc1e4 button.colab-df-quickchart');\n",
              "  quickchartButtonEl.style.display =\n",
              "    google.colab.kernel.accessAllowed ? 'block' : 'none';\n",
              "}\n",
              "\n",
              "        displayQuickchartButton(document);\n",
              "      </script>\n",
              "      <style>\n",
              "    .colab-df-container {\n",
              "      display:flex;\n",
              "      flex-wrap:wrap;\n",
              "      gap: 12px;\n",
              "    }\n",
              "\n",
              "    .colab-df-convert {\n",
              "      background-color: #E8F0FE;\n",
              "      border: none;\n",
              "      border-radius: 50%;\n",
              "      cursor: pointer;\n",
              "      display: none;\n",
              "      fill: #1967D2;\n",
              "      height: 32px;\n",
              "      padding: 0 0 0 0;\n",
              "      width: 32px;\n",
              "    }\n",
              "\n",
              "    .colab-df-convert:hover {\n",
              "      background-color: #E2EBFA;\n",
              "      box-shadow: 0px 1px 2px rgba(60, 64, 67, 0.3), 0px 1px 3px 1px rgba(60, 64, 67, 0.15);\n",
              "      fill: #174EA6;\n",
              "    }\n",
              "\n",
              "    [theme=dark] .colab-df-convert {\n",
              "      background-color: #3B4455;\n",
              "      fill: #D2E3FC;\n",
              "    }\n",
              "\n",
              "    [theme=dark] .colab-df-convert:hover {\n",
              "      background-color: #434B5C;\n",
              "      box-shadow: 0px 1px 3px 1px rgba(0, 0, 0, 0.15);\n",
              "      filter: drop-shadow(0px 1px 2px rgba(0, 0, 0, 0.3));\n",
              "      fill: #FFFFFF;\n",
              "    }\n",
              "  </style>\n",
              "\n",
              "      <script>\n",
              "        const buttonEl =\n",
              "          document.querySelector('#df-291220bb-6e22-4275-a96e-f9499ecbdfb2 button.colab-df-convert');\n",
              "        buttonEl.style.display =\n",
              "          google.colab.kernel.accessAllowed ? 'block' : 'none';\n",
              "\n",
              "        async function convertToInteractive(key) {\n",
              "          const element = document.querySelector('#df-291220bb-6e22-4275-a96e-f9499ecbdfb2');\n",
              "          const dataTable =\n",
              "            await google.colab.kernel.invokeFunction('convertToInteractive',\n",
              "                                                     [key], {});\n",
              "          if (!dataTable) return;\n",
              "\n",
              "          const docLinkHtml = 'Like what you see? Visit the ' +\n",
              "            '<a target=\"_blank\" href=https://colab.research.google.com/notebooks/data_table.ipynb>data table notebook</a>'\n",
              "            + ' to learn more about interactive tables.';\n",
              "          element.innerHTML = '';\n",
              "          dataTable['output_type'] = 'display_data';\n",
              "          await google.colab.output.renderOutput(dataTable, element);\n",
              "          const docLink = document.createElement('div');\n",
              "          docLink.innerHTML = docLinkHtml;\n",
              "          element.appendChild(docLink);\n",
              "        }\n",
              "      </script>\n",
              "    </div>\n",
              "  </div>\n"
            ]
          },
          "metadata": {},
          "execution_count": 118
        }
      ]
    },
    {
      "cell_type": "code",
      "source": [
        "from scipy.stats import kruskal\n",
        "\n",
        "# Extract the actual recovery amounts for each window\n",
        "actual_recovery_window_1 = sample['actual_recovery_amount']\n",
        "actual_recovery_window_2 = sample_2['actual_recovery_amount']\n",
        "\n",
        "# Perform the Kruskal-Wallis test for each window\n",
        "statistic_1, p_value_1 = kruskal(actual_recovery_window_1, actual_recovery_window_2)\n",
        "\n",
        "# Print the results for window 1\n",
        "print(\"Kruskal-Wallis Test for Window 1\")\n",
        "print(\"Test Statistic:\", statistic_1)\n",
        "print(\"P-value:\", p_value_1)\n",
        "\n",
        "# Check for statistical significance for window 1\n",
        "if p_value_1 < 0.05:\n",
        "    print(\"There is a statistically significant difference in actual recovery amount for Window 1.\")\n",
        "else:\n",
        "    print(\"There is no statistically significant difference in actual recovery amount for Window 1.\")\n",
        "\n",
        "# Perform the Kruskal-Wallis test for window 2\n",
        "statistic_2, p_value_2 = kruskal(actual_recovery_window_2, actual_recovery_window_1)\n",
        "\n",
        "# Print the results for window 2\n",
        "print(\"Kruskal-Wallis Test for Window 2\")\n",
        "print(\"Test Statistic:\", statistic_2)\n",
        "print(\"P-value:\", p_value_2)\n",
        "\n",
        "# Check for statistical significance for window 2\n",
        "if p_value_2 < 0.05:\n",
        "    print(\"There is a statistically significant difference in actual recovery amount for Window 2.\")\n",
        "else:\n",
        "    print(\"There is no statistically significant difference in actual recovery amount for Window 2.\")\n"
      ],
      "metadata": {
        "colab": {
          "base_uri": "https://localhost:8080/"
        },
        "id": "rQQO_4uc7sMD",
        "outputId": "5efa376e-088b-47d5-d51b-37166e721650"
      },
      "execution_count": 119,
      "outputs": [
        {
          "output_type": "stream",
          "name": "stdout",
          "text": [
            "Kruskal-Wallis Test for Window 1\n",
            "Test Statistic: 0.823820206138487\n",
            "P-value: 0.36406558976551284\n",
            "There is no statistically significant difference in actual recovery amount for Window 1.\n",
            "Kruskal-Wallis Test for Window 2\n",
            "Test Statistic: 0.823820206138487\n",
            "P-value: 0.36406558976551284\n",
            "There is no statistically significant difference in actual recovery amount for Window 2.\n"
          ]
        }
      ]
    },
    {
      "cell_type": "markdown",
      "source": [
        "Regression modeling: no threshold"
      ],
      "metadata": {
        "id": "UrmpQ6Er423s"
      }
    },
    {
      "cell_type": "markdown",
      "source": [
        "First we will chose our model that we wll be working with here, we chosed the RandomForest, now let's work on our model !!"
      ],
      "metadata": {
        "id": "5uwoSv5p8Zy7"
      }
    },
    {
      "cell_type": "code",
      "source": [
        "no_threshold = sample[sample['expected_recovery_amount'] != 1000]"
      ],
      "metadata": {
        "id": "-KSrmvYh49YH"
      },
      "execution_count": 120,
      "outputs": []
    },
    {
      "cell_type": "code",
      "source": [
        "no_threshold"
      ],
      "metadata": {
        "colab": {
          "base_uri": "https://localhost:8080/",
          "height": 423
        },
        "id": "-SqSBiL99SnE",
        "outputId": "dfb678f2-d8d4-40cc-c461-6c81553f8f35"
      },
      "execution_count": 121,
      "outputs": [
        {
          "output_type": "execute_result",
          "data": {
            "text/plain": [
              "       id  expected_recovery_amount  actual_recovery_amount recovery_strategy  \\\n",
              "158   520                       900              504.790000  Level 0 Recovery   \n",
              "159  1036                       900              539.535000  Level 0 Recovery   \n",
              "160  1383                       900              554.745000  Level 0 Recovery   \n",
              "161   998                       901              887.005000  Level 0 Recovery   \n",
              "162  1351                       903              667.035000  Level 0 Recovery   \n",
              "..    ...                       ...                     ...               ...   \n",
              "337  1664                      1096             2053.290126  Level 1 Recovery   \n",
              "338   302                      1098              876.997775  Level 1 Recovery   \n",
              "339   554                      1098             1836.918718  Level 1 Recovery   \n",
              "340  1501                      1099             1277.630578  Level 1 Recovery   \n",
              "341  1785                      1100              663.705446  Level 1 Recovery   \n",
              "\n",
              "     age     sex  \n",
              "158   34    Male  \n",
              "159   34  Female  \n",
              "160   24    Male  \n",
              "161   32    Male  \n",
              "162   28    Male  \n",
              "..   ...     ...  \n",
              "337   18  Female  \n",
              "338   34    Male  \n",
              "339   26  Female  \n",
              "340   42  Female  \n",
              "341   22  Female  \n",
              "\n",
              "[183 rows x 6 columns]"
            ],
            "text/html": [
              "\n",
              "\n",
              "  <div id=\"df-0cd01a04-0bea-47ee-86dd-b27bc58ffcca\">\n",
              "    <div class=\"colab-df-container\">\n",
              "      <div>\n",
              "<style scoped>\n",
              "    .dataframe tbody tr th:only-of-type {\n",
              "        vertical-align: middle;\n",
              "    }\n",
              "\n",
              "    .dataframe tbody tr th {\n",
              "        vertical-align: top;\n",
              "    }\n",
              "\n",
              "    .dataframe thead th {\n",
              "        text-align: right;\n",
              "    }\n",
              "</style>\n",
              "<table border=\"1\" class=\"dataframe\">\n",
              "  <thead>\n",
              "    <tr style=\"text-align: right;\">\n",
              "      <th></th>\n",
              "      <th>id</th>\n",
              "      <th>expected_recovery_amount</th>\n",
              "      <th>actual_recovery_amount</th>\n",
              "      <th>recovery_strategy</th>\n",
              "      <th>age</th>\n",
              "      <th>sex</th>\n",
              "    </tr>\n",
              "  </thead>\n",
              "  <tbody>\n",
              "    <tr>\n",
              "      <th>158</th>\n",
              "      <td>520</td>\n",
              "      <td>900</td>\n",
              "      <td>504.790000</td>\n",
              "      <td>Level 0 Recovery</td>\n",
              "      <td>34</td>\n",
              "      <td>Male</td>\n",
              "    </tr>\n",
              "    <tr>\n",
              "      <th>159</th>\n",
              "      <td>1036</td>\n",
              "      <td>900</td>\n",
              "      <td>539.535000</td>\n",
              "      <td>Level 0 Recovery</td>\n",
              "      <td>34</td>\n",
              "      <td>Female</td>\n",
              "    </tr>\n",
              "    <tr>\n",
              "      <th>160</th>\n",
              "      <td>1383</td>\n",
              "      <td>900</td>\n",
              "      <td>554.745000</td>\n",
              "      <td>Level 0 Recovery</td>\n",
              "      <td>24</td>\n",
              "      <td>Male</td>\n",
              "    </tr>\n",
              "    <tr>\n",
              "      <th>161</th>\n",
              "      <td>998</td>\n",
              "      <td>901</td>\n",
              "      <td>887.005000</td>\n",
              "      <td>Level 0 Recovery</td>\n",
              "      <td>32</td>\n",
              "      <td>Male</td>\n",
              "    </tr>\n",
              "    <tr>\n",
              "      <th>162</th>\n",
              "      <td>1351</td>\n",
              "      <td>903</td>\n",
              "      <td>667.035000</td>\n",
              "      <td>Level 0 Recovery</td>\n",
              "      <td>28</td>\n",
              "      <td>Male</td>\n",
              "    </tr>\n",
              "    <tr>\n",
              "      <th>...</th>\n",
              "      <td>...</td>\n",
              "      <td>...</td>\n",
              "      <td>...</td>\n",
              "      <td>...</td>\n",
              "      <td>...</td>\n",
              "      <td>...</td>\n",
              "    </tr>\n",
              "    <tr>\n",
              "      <th>337</th>\n",
              "      <td>1664</td>\n",
              "      <td>1096</td>\n",
              "      <td>2053.290126</td>\n",
              "      <td>Level 1 Recovery</td>\n",
              "      <td>18</td>\n",
              "      <td>Female</td>\n",
              "    </tr>\n",
              "    <tr>\n",
              "      <th>338</th>\n",
              "      <td>302</td>\n",
              "      <td>1098</td>\n",
              "      <td>876.997775</td>\n",
              "      <td>Level 1 Recovery</td>\n",
              "      <td>34</td>\n",
              "      <td>Male</td>\n",
              "    </tr>\n",
              "    <tr>\n",
              "      <th>339</th>\n",
              "      <td>554</td>\n",
              "      <td>1098</td>\n",
              "      <td>1836.918718</td>\n",
              "      <td>Level 1 Recovery</td>\n",
              "      <td>26</td>\n",
              "      <td>Female</td>\n",
              "    </tr>\n",
              "    <tr>\n",
              "      <th>340</th>\n",
              "      <td>1501</td>\n",
              "      <td>1099</td>\n",
              "      <td>1277.630578</td>\n",
              "      <td>Level 1 Recovery</td>\n",
              "      <td>42</td>\n",
              "      <td>Female</td>\n",
              "    </tr>\n",
              "    <tr>\n",
              "      <th>341</th>\n",
              "      <td>1785</td>\n",
              "      <td>1100</td>\n",
              "      <td>663.705446</td>\n",
              "      <td>Level 1 Recovery</td>\n",
              "      <td>22</td>\n",
              "      <td>Female</td>\n",
              "    </tr>\n",
              "  </tbody>\n",
              "</table>\n",
              "<p>183 rows × 6 columns</p>\n",
              "</div>\n",
              "      <button class=\"colab-df-convert\" onclick=\"convertToInteractive('df-0cd01a04-0bea-47ee-86dd-b27bc58ffcca')\"\n",
              "              title=\"Convert this dataframe to an interactive table.\"\n",
              "              style=\"display:none;\">\n",
              "\n",
              "  <svg xmlns=\"http://www.w3.org/2000/svg\" height=\"24px\"viewBox=\"0 0 24 24\"\n",
              "       width=\"24px\">\n",
              "    <path d=\"M0 0h24v24H0V0z\" fill=\"none\"/>\n",
              "    <path d=\"M18.56 5.44l.94 2.06.94-2.06 2.06-.94-2.06-.94-.94-2.06-.94 2.06-2.06.94zm-11 1L8.5 8.5l.94-2.06 2.06-.94-2.06-.94L8.5 2.5l-.94 2.06-2.06.94zm10 10l.94 2.06.94-2.06 2.06-.94-2.06-.94-.94-2.06-.94 2.06-2.06.94z\"/><path d=\"M17.41 7.96l-1.37-1.37c-.4-.4-.92-.59-1.43-.59-.52 0-1.04.2-1.43.59L10.3 9.45l-7.72 7.72c-.78.78-.78 2.05 0 2.83L4 21.41c.39.39.9.59 1.41.59.51 0 1.02-.2 1.41-.59l7.78-7.78 2.81-2.81c.8-.78.8-2.07 0-2.86zM5.41 20L4 18.59l7.72-7.72 1.47 1.35L5.41 20z\"/>\n",
              "  </svg>\n",
              "      </button>\n",
              "\n",
              "\n",
              "\n",
              "    <div id=\"df-bdc9e35e-52ae-4683-86f2-3c70fc174dce\">\n",
              "      <button class=\"colab-df-quickchart\" onclick=\"quickchart('df-bdc9e35e-52ae-4683-86f2-3c70fc174dce')\"\n",
              "              title=\"Suggest charts.\"\n",
              "              style=\"display:none;\">\n",
              "\n",
              "<svg xmlns=\"http://www.w3.org/2000/svg\" height=\"24px\"viewBox=\"0 0 24 24\"\n",
              "     width=\"24px\">\n",
              "    <g>\n",
              "        <path d=\"M19 3H5c-1.1 0-2 .9-2 2v14c0 1.1.9 2 2 2h14c1.1 0 2-.9 2-2V5c0-1.1-.9-2-2-2zM9 17H7v-7h2v7zm4 0h-2V7h2v10zm4 0h-2v-4h2v4z\"/>\n",
              "    </g>\n",
              "</svg>\n",
              "      </button>\n",
              "    </div>\n",
              "\n",
              "<style>\n",
              "  .colab-df-quickchart {\n",
              "    background-color: #E8F0FE;\n",
              "    border: none;\n",
              "    border-radius: 50%;\n",
              "    cursor: pointer;\n",
              "    display: none;\n",
              "    fill: #1967D2;\n",
              "    height: 32px;\n",
              "    padding: 0 0 0 0;\n",
              "    width: 32px;\n",
              "  }\n",
              "\n",
              "  .colab-df-quickchart:hover {\n",
              "    background-color: #E2EBFA;\n",
              "    box-shadow: 0px 1px 2px rgba(60, 64, 67, 0.3), 0px 1px 3px 1px rgba(60, 64, 67, 0.15);\n",
              "    fill: #174EA6;\n",
              "  }\n",
              "\n",
              "  [theme=dark] .colab-df-quickchart {\n",
              "    background-color: #3B4455;\n",
              "    fill: #D2E3FC;\n",
              "  }\n",
              "\n",
              "  [theme=dark] .colab-df-quickchart:hover {\n",
              "    background-color: #434B5C;\n",
              "    box-shadow: 0px 1px 3px 1px rgba(0, 0, 0, 0.15);\n",
              "    filter: drop-shadow(0px 1px 2px rgba(0, 0, 0, 0.3));\n",
              "    fill: #FFFFFF;\n",
              "  }\n",
              "</style>\n",
              "\n",
              "    <script>\n",
              "      async function quickchart(key) {\n",
              "        const containerElement = document.querySelector('#' + key);\n",
              "        const charts = await google.colab.kernel.invokeFunction(\n",
              "            'suggestCharts', [key], {});\n",
              "      }\n",
              "    </script>\n",
              "\n",
              "      <script>\n",
              "\n",
              "function displayQuickchartButton(domScope) {\n",
              "  let quickchartButtonEl =\n",
              "    domScope.querySelector('#df-bdc9e35e-52ae-4683-86f2-3c70fc174dce button.colab-df-quickchart');\n",
              "  quickchartButtonEl.style.display =\n",
              "    google.colab.kernel.accessAllowed ? 'block' : 'none';\n",
              "}\n",
              "\n",
              "        displayQuickchartButton(document);\n",
              "      </script>\n",
              "      <style>\n",
              "    .colab-df-container {\n",
              "      display:flex;\n",
              "      flex-wrap:wrap;\n",
              "      gap: 12px;\n",
              "    }\n",
              "\n",
              "    .colab-df-convert {\n",
              "      background-color: #E8F0FE;\n",
              "      border: none;\n",
              "      border-radius: 50%;\n",
              "      cursor: pointer;\n",
              "      display: none;\n",
              "      fill: #1967D2;\n",
              "      height: 32px;\n",
              "      padding: 0 0 0 0;\n",
              "      width: 32px;\n",
              "    }\n",
              "\n",
              "    .colab-df-convert:hover {\n",
              "      background-color: #E2EBFA;\n",
              "      box-shadow: 0px 1px 2px rgba(60, 64, 67, 0.3), 0px 1px 3px 1px rgba(60, 64, 67, 0.15);\n",
              "      fill: #174EA6;\n",
              "    }\n",
              "\n",
              "    [theme=dark] .colab-df-convert {\n",
              "      background-color: #3B4455;\n",
              "      fill: #D2E3FC;\n",
              "    }\n",
              "\n",
              "    [theme=dark] .colab-df-convert:hover {\n",
              "      background-color: #434B5C;\n",
              "      box-shadow: 0px 1px 3px 1px rgba(0, 0, 0, 0.15);\n",
              "      filter: drop-shadow(0px 1px 2px rgba(0, 0, 0, 0.3));\n",
              "      fill: #FFFFFF;\n",
              "    }\n",
              "  </style>\n",
              "\n",
              "      <script>\n",
              "        const buttonEl =\n",
              "          document.querySelector('#df-0cd01a04-0bea-47ee-86dd-b27bc58ffcca button.colab-df-convert');\n",
              "        buttonEl.style.display =\n",
              "          google.colab.kernel.accessAllowed ? 'block' : 'none';\n",
              "\n",
              "        async function convertToInteractive(key) {\n",
              "          const element = document.querySelector('#df-0cd01a04-0bea-47ee-86dd-b27bc58ffcca');\n",
              "          const dataTable =\n",
              "            await google.colab.kernel.invokeFunction('convertToInteractive',\n",
              "                                                     [key], {});\n",
              "          if (!dataTable) return;\n",
              "\n",
              "          const docLinkHtml = 'Like what you see? Visit the ' +\n",
              "            '<a target=\"_blank\" href=https://colab.research.google.com/notebooks/data_table.ipynb>data table notebook</a>'\n",
              "            + ' to learn more about interactive tables.';\n",
              "          element.innerHTML = '';\n",
              "          dataTable['output_type'] = 'display_data';\n",
              "          await google.colab.output.renderOutput(dataTable, element);\n",
              "          const docLink = document.createElement('div');\n",
              "          docLink.innerHTML = docLinkHtml;\n",
              "          element.appendChild(docLink);\n",
              "        }\n",
              "      </script>\n",
              "    </div>\n",
              "  </div>\n"
            ]
          },
          "metadata": {},
          "execution_count": 121
        }
      ]
    },
    {
      "cell_type": "code",
      "source": [
        "from sklearn.tree import DecisionTreeRegressor\n",
        "# Chose the target\n",
        "y=no_threshold['actual_recovery_amount']\n",
        "\n",
        "# Chose the features\n",
        "X=no_threshold['expected_recovery_amount']\n",
        "\n",
        "# Split the data\n",
        "train_X, test_X, train_y, test_y = train_test_split(X, y, random_state=0)\n",
        "\n",
        "# RESHAPE THE DATA\n",
        "train_X = train_X.to_numpy().reshape(-1, 1)\n",
        "train_y = train_y.to_numpy()\n",
        "test_X = test_X.to_numpy().reshape(-1, 1)\n",
        "\n",
        "# Define the model\n",
        "no_threshold_model = LinearRegression()\n",
        "\n",
        "# Fit the model\n",
        "no_threshold_model.fit(train_X, train_y)\n",
        "\n",
        "# Prediction\n",
        "no_threshold_predict = no_threshold_model.predict(test_X)\n",
        "\n",
        "# Calculating the MEAN ABSOLUTE ERROR\n",
        "no_threshold_mae = MAE(test_y, no_threshold_predict)\n",
        "no_threshold_mse = MSE(test_y, no_threshold_predict)\n",
        "print(\"The Mean Absolute Error for this model is :\", no_threshold_mae)\n",
        "print(\"The Mean Squared Error for this Model is :\", no_threshold_mse)\n",
        "\n",
        "# Calculate R-squared\n",
        "r_squared = R2(test_y, no_threshold_predict)\n",
        "print(\"R-squared:\", r_squared)\n",
        "\n",
        "# Print the model's coefficients and intercept\n",
        "print(\"Coefficients:\", no_threshold_model.coef_)\n",
        "print(\"Intercept:\", no_threshold_model.intercept_)"
      ],
      "metadata": {
        "colab": {
          "base_uri": "https://localhost:8080/"
        },
        "id": "LFSQUtv19eE3",
        "outputId": "a8f0732c-e247-4e99-c30d-763993e04ada"
      },
      "execution_count": 122,
      "outputs": [
        {
          "output_type": "stream",
          "name": "stdout",
          "text": [
            "The Mean Absolute Error for this model is : 217.20015344104274\n",
            "The Mean Squared Error for this Model is : 91436.53335457956\n",
            "R-squared: 0.30528018541353685\n",
            "Coefficients: [2.28973976]\n",
            "Intercept: -1507.459286005433\n"
          ]
        }
      ]
    },
    {
      "cell_type": "markdown",
      "source": [
        "Regression modeling: adding true threshold"
      ],
      "metadata": {
        "id": "tB-J_UyLJRrF"
      }
    },
    {
      "cell_type": "markdown",
      "source": [
        "Now, we eill create the model of the samole we created that conatains the threshold of 1000$        "
      ],
      "metadata": {
        "id": "dxyEuWYkSPgK"
      }
    },
    {
      "cell_type": "code",
      "source": [
        "# Chose the target\n",
        "y=sample['actual_recovery_amount']\n",
        "\n",
        "# Chose the features\n",
        "X=sample['expected_recovery_amount']\n",
        "\n",
        "# Split the data\n",
        "train_X, test_X, train_y, test_y = train_test_split(X, y, random_state=0)\n",
        "\n",
        "# RESHAPE THE DATA\n",
        "train_X = train_X.to_numpy().reshape(-1, 1)\n",
        "train_y = train_y.to_numpy()\n",
        "test_X = test_X.to_numpy().reshape(-1, 1)\n",
        "\n",
        "# Define the model\n",
        "with_threshold_model = LinearRegression()\n",
        "\n",
        "# Fit the model\n",
        "with_threshold_model.fit(train_X, train_y)\n",
        "\n",
        "# Prediction\n",
        "with_threshold_predict = with_threshold_model.predict(test_X)\n",
        "\n",
        "# Calculating the MEAN ABSOLUTE ERROR\n",
        "with_threshold_mae = MAE(test_y, with_threshold_predict)\n",
        "with_threshold_mse = MSE(test_y, with_threshold_predict)\n",
        "print(\"The Mean Absolute Error for this model is :\", with_threshold_mae)\n",
        "print(\"The Mean Squared Error for this Model is :\", with_threshold_mse)\n",
        "\n",
        "# Calculate R-squared\n",
        "r_squared = R2(test_y, no_threshold_predict)\n",
        "print(\"R-squared:\", r_squared)\n",
        "\n",
        "# Print the model's coefficients and intercept\n",
        "print(\"Coefficients:\", with_threshold_model.coef_)\n",
        "print(\"Intercept:\", with_threshold_model.intercept_)"
      ],
      "metadata": {
        "colab": {
          "base_uri": "https://localhost:8080/"
        },
        "id": "BGpcbZp9LR98",
        "outputId": "a6df1f3c-7142-4663-d713-37ce31e4d527"
      },
      "execution_count": 123,
      "outputs": [
        {
          "output_type": "stream",
          "name": "stdout",
          "text": [
            "The Mean Absolute Error for this model is : 174.6243882482685\n",
            "The Mean Squared Error for this Model is : 44316.07880312399\n",
            "R-squared: -0.43032236570241356\n",
            "Coefficients: [2.70969648]\n",
            "Intercept: -1918.2095703191662\n"
          ]
        }
      ]
    },
    {
      "cell_type": "markdown",
      "source": [
        "Regression modeling: adjusting the window"
      ],
      "metadata": {
        "id": "g9Bc5kFaUtj5"
      }
    },
    {
      "cell_type": "markdown",
      "source": [
        "At this point, we will be working on the window of 950 to 1050$ that we already created and named sample_2, first we will remove the threshold as we did before with the fist window"
      ],
      "metadata": {
        "id": "JuMeOibDU7qX"
      }
    },
    {
      "cell_type": "code",
      "source": [
        "sample_2_no_threshold = sample_2[sample_2['expected_recovery_amount']!=1000]\n",
        "sample_2_no_threshold"
      ],
      "metadata": {
        "colab": {
          "base_uri": "https://localhost:8080/",
          "height": 423
        },
        "id": "C41gv_7nVYvX",
        "outputId": "80ccd587-db66-4097-cd75-91d483dda72c"
      },
      "execution_count": 124,
      "outputs": [
        {
          "output_type": "execute_result",
          "data": {
            "text/plain": [
              "       id  expected_recovery_amount  actual_recovery_amount recovery_strategy  \\\n",
              "192  1619                       950              883.790000  Level 0 Recovery   \n",
              "193  1898                       950              534.910000  Level 0 Recovery   \n",
              "194   212                       951              543.780000  Level 0 Recovery   \n",
              "195  1329                       951              537.985000  Level 0 Recovery   \n",
              "196  1751                       951              589.435000  Level 0 Recovery   \n",
              "..    ...                       ...                     ...               ...   \n",
              "287  1557                      1048             1068.511941  Level 1 Recovery   \n",
              "288   192                      1049              955.913183  Level 1 Recovery   \n",
              "289  1086                      1049              760.897712  Level 1 Recovery   \n",
              "290  1336                      1049             1002.450251  Level 1 Recovery   \n",
              "291   718                      1050             1001.841551  Level 1 Recovery   \n",
              "\n",
              "     age     sex  \n",
              "192   21  Female  \n",
              "193   24    Male  \n",
              "194   33  Female  \n",
              "195   20    Male  \n",
              "196   21    Male  \n",
              "..   ...     ...  \n",
              "287   28  Female  \n",
              "288   19    Male  \n",
              "289   29    Male  \n",
              "290   40    Male  \n",
              "291   32    Male  \n",
              "\n",
              "[99 rows x 6 columns]"
            ],
            "text/html": [
              "\n",
              "\n",
              "  <div id=\"df-80ab6764-72fa-45c3-80a6-39f2838b5295\">\n",
              "    <div class=\"colab-df-container\">\n",
              "      <div>\n",
              "<style scoped>\n",
              "    .dataframe tbody tr th:only-of-type {\n",
              "        vertical-align: middle;\n",
              "    }\n",
              "\n",
              "    .dataframe tbody tr th {\n",
              "        vertical-align: top;\n",
              "    }\n",
              "\n",
              "    .dataframe thead th {\n",
              "        text-align: right;\n",
              "    }\n",
              "</style>\n",
              "<table border=\"1\" class=\"dataframe\">\n",
              "  <thead>\n",
              "    <tr style=\"text-align: right;\">\n",
              "      <th></th>\n",
              "      <th>id</th>\n",
              "      <th>expected_recovery_amount</th>\n",
              "      <th>actual_recovery_amount</th>\n",
              "      <th>recovery_strategy</th>\n",
              "      <th>age</th>\n",
              "      <th>sex</th>\n",
              "    </tr>\n",
              "  </thead>\n",
              "  <tbody>\n",
              "    <tr>\n",
              "      <th>192</th>\n",
              "      <td>1619</td>\n",
              "      <td>950</td>\n",
              "      <td>883.790000</td>\n",
              "      <td>Level 0 Recovery</td>\n",
              "      <td>21</td>\n",
              "      <td>Female</td>\n",
              "    </tr>\n",
              "    <tr>\n",
              "      <th>193</th>\n",
              "      <td>1898</td>\n",
              "      <td>950</td>\n",
              "      <td>534.910000</td>\n",
              "      <td>Level 0 Recovery</td>\n",
              "      <td>24</td>\n",
              "      <td>Male</td>\n",
              "    </tr>\n",
              "    <tr>\n",
              "      <th>194</th>\n",
              "      <td>212</td>\n",
              "      <td>951</td>\n",
              "      <td>543.780000</td>\n",
              "      <td>Level 0 Recovery</td>\n",
              "      <td>33</td>\n",
              "      <td>Female</td>\n",
              "    </tr>\n",
              "    <tr>\n",
              "      <th>195</th>\n",
              "      <td>1329</td>\n",
              "      <td>951</td>\n",
              "      <td>537.985000</td>\n",
              "      <td>Level 0 Recovery</td>\n",
              "      <td>20</td>\n",
              "      <td>Male</td>\n",
              "    </tr>\n",
              "    <tr>\n",
              "      <th>196</th>\n",
              "      <td>1751</td>\n",
              "      <td>951</td>\n",
              "      <td>589.435000</td>\n",
              "      <td>Level 0 Recovery</td>\n",
              "      <td>21</td>\n",
              "      <td>Male</td>\n",
              "    </tr>\n",
              "    <tr>\n",
              "      <th>...</th>\n",
              "      <td>...</td>\n",
              "      <td>...</td>\n",
              "      <td>...</td>\n",
              "      <td>...</td>\n",
              "      <td>...</td>\n",
              "      <td>...</td>\n",
              "    </tr>\n",
              "    <tr>\n",
              "      <th>287</th>\n",
              "      <td>1557</td>\n",
              "      <td>1048</td>\n",
              "      <td>1068.511941</td>\n",
              "      <td>Level 1 Recovery</td>\n",
              "      <td>28</td>\n",
              "      <td>Female</td>\n",
              "    </tr>\n",
              "    <tr>\n",
              "      <th>288</th>\n",
              "      <td>192</td>\n",
              "      <td>1049</td>\n",
              "      <td>955.913183</td>\n",
              "      <td>Level 1 Recovery</td>\n",
              "      <td>19</td>\n",
              "      <td>Male</td>\n",
              "    </tr>\n",
              "    <tr>\n",
              "      <th>289</th>\n",
              "      <td>1086</td>\n",
              "      <td>1049</td>\n",
              "      <td>760.897712</td>\n",
              "      <td>Level 1 Recovery</td>\n",
              "      <td>29</td>\n",
              "      <td>Male</td>\n",
              "    </tr>\n",
              "    <tr>\n",
              "      <th>290</th>\n",
              "      <td>1336</td>\n",
              "      <td>1049</td>\n",
              "      <td>1002.450251</td>\n",
              "      <td>Level 1 Recovery</td>\n",
              "      <td>40</td>\n",
              "      <td>Male</td>\n",
              "    </tr>\n",
              "    <tr>\n",
              "      <th>291</th>\n",
              "      <td>718</td>\n",
              "      <td>1050</td>\n",
              "      <td>1001.841551</td>\n",
              "      <td>Level 1 Recovery</td>\n",
              "      <td>32</td>\n",
              "      <td>Male</td>\n",
              "    </tr>\n",
              "  </tbody>\n",
              "</table>\n",
              "<p>99 rows × 6 columns</p>\n",
              "</div>\n",
              "      <button class=\"colab-df-convert\" onclick=\"convertToInteractive('df-80ab6764-72fa-45c3-80a6-39f2838b5295')\"\n",
              "              title=\"Convert this dataframe to an interactive table.\"\n",
              "              style=\"display:none;\">\n",
              "\n",
              "  <svg xmlns=\"http://www.w3.org/2000/svg\" height=\"24px\"viewBox=\"0 0 24 24\"\n",
              "       width=\"24px\">\n",
              "    <path d=\"M0 0h24v24H0V0z\" fill=\"none\"/>\n",
              "    <path d=\"M18.56 5.44l.94 2.06.94-2.06 2.06-.94-2.06-.94-.94-2.06-.94 2.06-2.06.94zm-11 1L8.5 8.5l.94-2.06 2.06-.94-2.06-.94L8.5 2.5l-.94 2.06-2.06.94zm10 10l.94 2.06.94-2.06 2.06-.94-2.06-.94-.94-2.06-.94 2.06-2.06.94z\"/><path d=\"M17.41 7.96l-1.37-1.37c-.4-.4-.92-.59-1.43-.59-.52 0-1.04.2-1.43.59L10.3 9.45l-7.72 7.72c-.78.78-.78 2.05 0 2.83L4 21.41c.39.39.9.59 1.41.59.51 0 1.02-.2 1.41-.59l7.78-7.78 2.81-2.81c.8-.78.8-2.07 0-2.86zM5.41 20L4 18.59l7.72-7.72 1.47 1.35L5.41 20z\"/>\n",
              "  </svg>\n",
              "      </button>\n",
              "\n",
              "\n",
              "\n",
              "    <div id=\"df-24e31004-6be9-445a-8c38-8312a1fd478c\">\n",
              "      <button class=\"colab-df-quickchart\" onclick=\"quickchart('df-24e31004-6be9-445a-8c38-8312a1fd478c')\"\n",
              "              title=\"Suggest charts.\"\n",
              "              style=\"display:none;\">\n",
              "\n",
              "<svg xmlns=\"http://www.w3.org/2000/svg\" height=\"24px\"viewBox=\"0 0 24 24\"\n",
              "     width=\"24px\">\n",
              "    <g>\n",
              "        <path d=\"M19 3H5c-1.1 0-2 .9-2 2v14c0 1.1.9 2 2 2h14c1.1 0 2-.9 2-2V5c0-1.1-.9-2-2-2zM9 17H7v-7h2v7zm4 0h-2V7h2v10zm4 0h-2v-4h2v4z\"/>\n",
              "    </g>\n",
              "</svg>\n",
              "      </button>\n",
              "    </div>\n",
              "\n",
              "<style>\n",
              "  .colab-df-quickchart {\n",
              "    background-color: #E8F0FE;\n",
              "    border: none;\n",
              "    border-radius: 50%;\n",
              "    cursor: pointer;\n",
              "    display: none;\n",
              "    fill: #1967D2;\n",
              "    height: 32px;\n",
              "    padding: 0 0 0 0;\n",
              "    width: 32px;\n",
              "  }\n",
              "\n",
              "  .colab-df-quickchart:hover {\n",
              "    background-color: #E2EBFA;\n",
              "    box-shadow: 0px 1px 2px rgba(60, 64, 67, 0.3), 0px 1px 3px 1px rgba(60, 64, 67, 0.15);\n",
              "    fill: #174EA6;\n",
              "  }\n",
              "\n",
              "  [theme=dark] .colab-df-quickchart {\n",
              "    background-color: #3B4455;\n",
              "    fill: #D2E3FC;\n",
              "  }\n",
              "\n",
              "  [theme=dark] .colab-df-quickchart:hover {\n",
              "    background-color: #434B5C;\n",
              "    box-shadow: 0px 1px 3px 1px rgba(0, 0, 0, 0.15);\n",
              "    filter: drop-shadow(0px 1px 2px rgba(0, 0, 0, 0.3));\n",
              "    fill: #FFFFFF;\n",
              "  }\n",
              "</style>\n",
              "\n",
              "    <script>\n",
              "      async function quickchart(key) {\n",
              "        const containerElement = document.querySelector('#' + key);\n",
              "        const charts = await google.colab.kernel.invokeFunction(\n",
              "            'suggestCharts', [key], {});\n",
              "      }\n",
              "    </script>\n",
              "\n",
              "      <script>\n",
              "\n",
              "function displayQuickchartButton(domScope) {\n",
              "  let quickchartButtonEl =\n",
              "    domScope.querySelector('#df-24e31004-6be9-445a-8c38-8312a1fd478c button.colab-df-quickchart');\n",
              "  quickchartButtonEl.style.display =\n",
              "    google.colab.kernel.accessAllowed ? 'block' : 'none';\n",
              "}\n",
              "\n",
              "        displayQuickchartButton(document);\n",
              "      </script>\n",
              "      <style>\n",
              "    .colab-df-container {\n",
              "      display:flex;\n",
              "      flex-wrap:wrap;\n",
              "      gap: 12px;\n",
              "    }\n",
              "\n",
              "    .colab-df-convert {\n",
              "      background-color: #E8F0FE;\n",
              "      border: none;\n",
              "      border-radius: 50%;\n",
              "      cursor: pointer;\n",
              "      display: none;\n",
              "      fill: #1967D2;\n",
              "      height: 32px;\n",
              "      padding: 0 0 0 0;\n",
              "      width: 32px;\n",
              "    }\n",
              "\n",
              "    .colab-df-convert:hover {\n",
              "      background-color: #E2EBFA;\n",
              "      box-shadow: 0px 1px 2px rgba(60, 64, 67, 0.3), 0px 1px 3px 1px rgba(60, 64, 67, 0.15);\n",
              "      fill: #174EA6;\n",
              "    }\n",
              "\n",
              "    [theme=dark] .colab-df-convert {\n",
              "      background-color: #3B4455;\n",
              "      fill: #D2E3FC;\n",
              "    }\n",
              "\n",
              "    [theme=dark] .colab-df-convert:hover {\n",
              "      background-color: #434B5C;\n",
              "      box-shadow: 0px 1px 3px 1px rgba(0, 0, 0, 0.15);\n",
              "      filter: drop-shadow(0px 1px 2px rgba(0, 0, 0, 0.3));\n",
              "      fill: #FFFFFF;\n",
              "    }\n",
              "  </style>\n",
              "\n",
              "      <script>\n",
              "        const buttonEl =\n",
              "          document.querySelector('#df-80ab6764-72fa-45c3-80a6-39f2838b5295 button.colab-df-convert');\n",
              "        buttonEl.style.display =\n",
              "          google.colab.kernel.accessAllowed ? 'block' : 'none';\n",
              "\n",
              "        async function convertToInteractive(key) {\n",
              "          const element = document.querySelector('#df-80ab6764-72fa-45c3-80a6-39f2838b5295');\n",
              "          const dataTable =\n",
              "            await google.colab.kernel.invokeFunction('convertToInteractive',\n",
              "                                                     [key], {});\n",
              "          if (!dataTable) return;\n",
              "\n",
              "          const docLinkHtml = 'Like what you see? Visit the ' +\n",
              "            '<a target=\"_blank\" href=https://colab.research.google.com/notebooks/data_table.ipynb>data table notebook</a>'\n",
              "            + ' to learn more about interactive tables.';\n",
              "          element.innerHTML = '';\n",
              "          dataTable['output_type'] = 'display_data';\n",
              "          await google.colab.output.renderOutput(dataTable, element);\n",
              "          const docLink = document.createElement('div');\n",
              "          docLink.innerHTML = docLinkHtml;\n",
              "          element.appendChild(docLink);\n",
              "        }\n",
              "      </script>\n",
              "    </div>\n",
              "  </div>\n"
            ]
          },
          "metadata": {},
          "execution_count": 124
        }
      ]
    },
    {
      "cell_type": "code",
      "source": [
        "# Chose the target\n",
        "y=sample_2_no_threshold['actual_recovery_amount']\n",
        "\n",
        "# Chose the features\n",
        "X=sample_2_no_threshold['expected_recovery_amount']\n",
        "\n",
        "# Split the data\n",
        "train_X, test_X, train_y, test_y = train_test_split(X, y, random_state=0)\n",
        "\n",
        "# RESHAPE THE DATA\n",
        "train_X = train_X.to_numpy().reshape(-1, 1)\n",
        "train_y = train_y.to_numpy()\n",
        "test_X = test_X.to_numpy().reshape(-1, 1)\n",
        "\n",
        "# Define the model\n",
        "sample_2_no_threshold_model = LinearRegression()\n",
        "\n",
        "# Fit the model\n",
        "sample_2_no_threshold_model.fit(train_X, train_y)\n",
        "\n",
        "# Prediction\n",
        "sample_2_no_threshold_predict = sample_2_no_threshold_model.predict(test_X)\n",
        "\n",
        "# Calculating the MEAN ABSOLUTE ERROR\n",
        "sample_2_no_threshold_model_mae = MAE(test_y, sample_2_no_threshold_predict)\n",
        "sample_2_no_threshold_model_mse = MSE(test_y, sample_2_no_threshold_predict)\n",
        "print(\"The Mean Absolute Error for this model is :\", sample_2_no_threshold_model_mae)\n",
        "print(\"The Mean Squared Error for this Model is :\", sample_2_no_threshold_model_mse)\n",
        "\n",
        "# Calculate R-squared\n",
        "r_squared = R2(test_y, sample_2_no_threshold_predict)\n",
        "print(\"R-squared:\", r_squared)\n",
        "\n",
        "# Print the model's coefficients and intercept\n",
        "print(\"Coefficients:\", sample_2_no_threshold_model.coef_)\n",
        "print(\"Intercept:\", sample_2_no_threshold_model.intercept_)"
      ],
      "metadata": {
        "colab": {
          "base_uri": "https://localhost:8080/"
        },
        "id": "EQmfNeyaUyCu",
        "outputId": "e44baf8c-fcf8-4e27-b86d-db9160d85447"
      },
      "execution_count": 125,
      "outputs": [
        {
          "output_type": "stream",
          "name": "stdout",
          "text": [
            "The Mean Absolute Error for this model is : 221.33886812037213\n",
            "The Mean Squared Error for this Model is : 101509.93174669733\n",
            "R-squared: 0.1737677647693917\n",
            "Coefficients: [5.07901064]\n",
            "Intercept: -4332.332240552097\n"
          ]
        }
      ]
    },
    {
      "cell_type": "markdown",
      "source": [
        "Now we will do the same but this time with the threshold"
      ],
      "metadata": {
        "id": "LM1Pn49UWfy6"
      }
    },
    {
      "cell_type": "code",
      "source": [],
      "metadata": {
        "id": "NhpsHaQzWuLf"
      },
      "execution_count": 125,
      "outputs": []
    },
    {
      "cell_type": "code",
      "source": [
        "# Chose the target\n",
        "y=sample_2['actual_recovery_amount']\n",
        "\n",
        "# Chose the features\n",
        "X=sample_2['expected_recovery_amount']\n",
        "\n",
        "# Split the data\n",
        "train_X, test_X, train_y, test_y = train_test_split(X, y, random_state=0)\n",
        "\n",
        "# RESHAPE THE DATA\n",
        "train_X = train_X.to_numpy().reshape(-1, 1)\n",
        "train_y = train_y.to_numpy()\n",
        "test_X = test_X.to_numpy().reshape(-1, 1)\n",
        "\n",
        "# Define the model\n",
        "with_threshold_model_2 = LinearRegression()\n",
        "\n",
        "# Fit the model\n",
        "with_threshold_model_2.fit(train_X, train_y)\n",
        "\n",
        "# Prediction\n",
        "with_threshold_predict_2 = with_threshold_model_2.predict(test_X)\n",
        "\n",
        "# Calculating the MEAN ABSOLUTE ERROR\n",
        "with_threshold_mae_2 = MAE(test_y, with_threshold_predict_2)\n",
        "with_threshold_mse_2 = MSE(test_y, with_threshold_predict_2)\n",
        "print(\"The Mean Absolute Error for this model is :\", with_threshold_mae_2)\n",
        "print(\"The Mean Squared Error for this Model is :\", with_threshold_mse_2)\n",
        "\n",
        "# Calculate R-squared\n",
        "r_squared = R2(test_y, with_threshold_predict_2)\n",
        "print(\"R-squared:\", r_squared)\n",
        "\n",
        "# Print the model's coefficients and intercept\n",
        "print(\"Coefficients:\", with_threshold_model_2.coef_)\n",
        "print(\"Intercept:\", with_threshold_model_2.intercept_)"
      ],
      "metadata": {
        "colab": {
          "base_uri": "https://localhost:8080/"
        },
        "id": "ELToIqmPWlVu",
        "outputId": "cc00bc96-0708-4d89-e768-137982bef385"
      },
      "execution_count": 126,
      "outputs": [
        {
          "output_type": "stream",
          "name": "stdout",
          "text": [
            "The Mean Absolute Error for this model is : 253.0082215317538\n",
            "The Mean Squared Error for this Model is : 162528.5204955022\n",
            "R-squared: 0.0542558757456616\n",
            "Coefficients: [4.64648495]\n",
            "Intercept: -3918.3780820151997\n"
          ]
        }
      ]
    },
    {
      "cell_type": "code",
      "source": [],
      "metadata": {
        "id": "098j24LDXEM_"
      },
      "execution_count": 126,
      "outputs": []
    }
  ]
}