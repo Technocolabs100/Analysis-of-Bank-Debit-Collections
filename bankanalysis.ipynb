{
  "nbformat": 4,
  "nbformat_minor": 0,
  "metadata": {
    "colab": {
      "provenance": []
    },
    "kernelspec": {
      "name": "python3",
      "display_name": "Python 3"
    },
    "language_info": {
      "name": "python"
    }
  },
  "cells": [
    {
      "cell_type": "code",
      "execution_count": 1,
      "metadata": {
        "id": "JzIr3SKW8ctV"
      },
      "outputs": [],
      "source": [
        "import pandas as pd\n",
        "import numpy as np\n",
        "import matplotlib.pyplot as plt\n",
        "import seaborn as sns\n",
        "from scipy import stats\n",
        "from sklearn.preprocessing import StandardScaler,PowerTransformer, MinMaxScaler, RobustScaler\n",
        "import warnings\n",
        "warnings.filterwarnings('ignore')\n",
        "%matplotlib inline\n",
        "import matplotlib.pyplot as plt\n",
        "sns.set(rc={'figure.figsize': [15, 15]}, font_scale=1)\n",
        "\n",
        "import warnings\n",
        "warnings.filterwarnings('ignore')"
      ]
    },
    {
      "cell_type": "code",
      "source": [
        "df = pd.read_csv('/content/bank_data.csv')"
      ],
      "metadata": {
        "id": "yl7AWTgr8xrc"
      },
      "execution_count": 2,
      "outputs": []
    },
    {
      "cell_type": "code",
      "source": [
        "df.head(20)"
      ],
      "metadata": {
        "colab": {
          "base_uri": "https://localhost:8080/",
          "height": 676
        },
        "id": "W_cH1SzT8-X7",
        "outputId": "fcb4b776-bf7a-4cc3-a1eb-be27f6d7de43"
      },
      "execution_count": 3,
      "outputs": [
        {
          "output_type": "execute_result",
          "data": {
            "text/plain": [
              "      id  expected_recovery_amount  actual_recovery_amount recovery_strategy  \\\n",
              "0   2030                       194                 263.540  Level 0 Recovery   \n",
              "1   1150                       486                 416.090  Level 0 Recovery   \n",
              "2    380                       527                 429.350  Level 0 Recovery   \n",
              "3   1838                       536                 296.990  Level 0 Recovery   \n",
              "4   1995                       541                 346.385  Level 0 Recovery   \n",
              "5    731                       548                 520.710  Level 0 Recovery   \n",
              "6    221                       549                 221.585  Level 0 Recovery   \n",
              "7   1932                       560                 373.720  Level 0 Recovery   \n",
              "8   1828                       562                 201.865  Level 0 Recovery   \n",
              "9   2001                       565                 504.885  Level 0 Recovery   \n",
              "10   723                       573                 363.610  Level 0 Recovery   \n",
              "11  1913                       582                 201.815  Level 0 Recovery   \n",
              "12   286                       587                 400.365  Level 0 Recovery   \n",
              "13   685                       602                 262.445  Level 0 Recovery   \n",
              "14   251                       604                 240.815  Level 0 Recovery   \n",
              "15  1769                       604                 278.720  Level 0 Recovery   \n",
              "16  1816                       605                 444.455  Level 0 Recovery   \n",
              "17   583                       606                 200.425  Level 0 Recovery   \n",
              "18   770                       608                 315.435  Level 0 Recovery   \n",
              "19  1849                       613                 245.000  Level 0 Recovery   \n",
              "\n",
              "    age     sex  \n",
              "0    19    Male  \n",
              "1    25  Female  \n",
              "2    27    Male  \n",
              "3    25    Male  \n",
              "4    34    Male  \n",
              "5    35    Male  \n",
              "6    33    Male  \n",
              "7    19  Female  \n",
              "8    22  Female  \n",
              "9    27    Male  \n",
              "10   27  Female  \n",
              "11   31    Male  \n",
              "12   18    Male  \n",
              "13   31    Male  \n",
              "14   33    Male  \n",
              "15   32  Female  \n",
              "16   22  Female  \n",
              "17   26    Male  \n",
              "18   23    Male  \n",
              "19   29  Female  "
            ],
            "text/html": [
              "\n",
              "\n",
              "  <div id=\"df-3fe8d996-5d32-4390-a29f-cc67d9a8df27\">\n",
              "    <div class=\"colab-df-container\">\n",
              "      <div>\n",
              "<style scoped>\n",
              "    .dataframe tbody tr th:only-of-type {\n",
              "        vertical-align: middle;\n",
              "    }\n",
              "\n",
              "    .dataframe tbody tr th {\n",
              "        vertical-align: top;\n",
              "    }\n",
              "\n",
              "    .dataframe thead th {\n",
              "        text-align: right;\n",
              "    }\n",
              "</style>\n",
              "<table border=\"1\" class=\"dataframe\">\n",
              "  <thead>\n",
              "    <tr style=\"text-align: right;\">\n",
              "      <th></th>\n",
              "      <th>id</th>\n",
              "      <th>expected_recovery_amount</th>\n",
              "      <th>actual_recovery_amount</th>\n",
              "      <th>recovery_strategy</th>\n",
              "      <th>age</th>\n",
              "      <th>sex</th>\n",
              "    </tr>\n",
              "  </thead>\n",
              "  <tbody>\n",
              "    <tr>\n",
              "      <th>0</th>\n",
              "      <td>2030</td>\n",
              "      <td>194</td>\n",
              "      <td>263.540</td>\n",
              "      <td>Level 0 Recovery</td>\n",
              "      <td>19</td>\n",
              "      <td>Male</td>\n",
              "    </tr>\n",
              "    <tr>\n",
              "      <th>1</th>\n",
              "      <td>1150</td>\n",
              "      <td>486</td>\n",
              "      <td>416.090</td>\n",
              "      <td>Level 0 Recovery</td>\n",
              "      <td>25</td>\n",
              "      <td>Female</td>\n",
              "    </tr>\n",
              "    <tr>\n",
              "      <th>2</th>\n",
              "      <td>380</td>\n",
              "      <td>527</td>\n",
              "      <td>429.350</td>\n",
              "      <td>Level 0 Recovery</td>\n",
              "      <td>27</td>\n",
              "      <td>Male</td>\n",
              "    </tr>\n",
              "    <tr>\n",
              "      <th>3</th>\n",
              "      <td>1838</td>\n",
              "      <td>536</td>\n",
              "      <td>296.990</td>\n",
              "      <td>Level 0 Recovery</td>\n",
              "      <td>25</td>\n",
              "      <td>Male</td>\n",
              "    </tr>\n",
              "    <tr>\n",
              "      <th>4</th>\n",
              "      <td>1995</td>\n",
              "      <td>541</td>\n",
              "      <td>346.385</td>\n",
              "      <td>Level 0 Recovery</td>\n",
              "      <td>34</td>\n",
              "      <td>Male</td>\n",
              "    </tr>\n",
              "    <tr>\n",
              "      <th>5</th>\n",
              "      <td>731</td>\n",
              "      <td>548</td>\n",
              "      <td>520.710</td>\n",
              "      <td>Level 0 Recovery</td>\n",
              "      <td>35</td>\n",
              "      <td>Male</td>\n",
              "    </tr>\n",
              "    <tr>\n",
              "      <th>6</th>\n",
              "      <td>221</td>\n",
              "      <td>549</td>\n",
              "      <td>221.585</td>\n",
              "      <td>Level 0 Recovery</td>\n",
              "      <td>33</td>\n",
              "      <td>Male</td>\n",
              "    </tr>\n",
              "    <tr>\n",
              "      <th>7</th>\n",
              "      <td>1932</td>\n",
              "      <td>560</td>\n",
              "      <td>373.720</td>\n",
              "      <td>Level 0 Recovery</td>\n",
              "      <td>19</td>\n",
              "      <td>Female</td>\n",
              "    </tr>\n",
              "    <tr>\n",
              "      <th>8</th>\n",
              "      <td>1828</td>\n",
              "      <td>562</td>\n",
              "      <td>201.865</td>\n",
              "      <td>Level 0 Recovery</td>\n",
              "      <td>22</td>\n",
              "      <td>Female</td>\n",
              "    </tr>\n",
              "    <tr>\n",
              "      <th>9</th>\n",
              "      <td>2001</td>\n",
              "      <td>565</td>\n",
              "      <td>504.885</td>\n",
              "      <td>Level 0 Recovery</td>\n",
              "      <td>27</td>\n",
              "      <td>Male</td>\n",
              "    </tr>\n",
              "    <tr>\n",
              "      <th>10</th>\n",
              "      <td>723</td>\n",
              "      <td>573</td>\n",
              "      <td>363.610</td>\n",
              "      <td>Level 0 Recovery</td>\n",
              "      <td>27</td>\n",
              "      <td>Female</td>\n",
              "    </tr>\n",
              "    <tr>\n",
              "      <th>11</th>\n",
              "      <td>1913</td>\n",
              "      <td>582</td>\n",
              "      <td>201.815</td>\n",
              "      <td>Level 0 Recovery</td>\n",
              "      <td>31</td>\n",
              "      <td>Male</td>\n",
              "    </tr>\n",
              "    <tr>\n",
              "      <th>12</th>\n",
              "      <td>286</td>\n",
              "      <td>587</td>\n",
              "      <td>400.365</td>\n",
              "      <td>Level 0 Recovery</td>\n",
              "      <td>18</td>\n",
              "      <td>Male</td>\n",
              "    </tr>\n",
              "    <tr>\n",
              "      <th>13</th>\n",
              "      <td>685</td>\n",
              "      <td>602</td>\n",
              "      <td>262.445</td>\n",
              "      <td>Level 0 Recovery</td>\n",
              "      <td>31</td>\n",
              "      <td>Male</td>\n",
              "    </tr>\n",
              "    <tr>\n",
              "      <th>14</th>\n",
              "      <td>251</td>\n",
              "      <td>604</td>\n",
              "      <td>240.815</td>\n",
              "      <td>Level 0 Recovery</td>\n",
              "      <td>33</td>\n",
              "      <td>Male</td>\n",
              "    </tr>\n",
              "    <tr>\n",
              "      <th>15</th>\n",
              "      <td>1769</td>\n",
              "      <td>604</td>\n",
              "      <td>278.720</td>\n",
              "      <td>Level 0 Recovery</td>\n",
              "      <td>32</td>\n",
              "      <td>Female</td>\n",
              "    </tr>\n",
              "    <tr>\n",
              "      <th>16</th>\n",
              "      <td>1816</td>\n",
              "      <td>605</td>\n",
              "      <td>444.455</td>\n",
              "      <td>Level 0 Recovery</td>\n",
              "      <td>22</td>\n",
              "      <td>Female</td>\n",
              "    </tr>\n",
              "    <tr>\n",
              "      <th>17</th>\n",
              "      <td>583</td>\n",
              "      <td>606</td>\n",
              "      <td>200.425</td>\n",
              "      <td>Level 0 Recovery</td>\n",
              "      <td>26</td>\n",
              "      <td>Male</td>\n",
              "    </tr>\n",
              "    <tr>\n",
              "      <th>18</th>\n",
              "      <td>770</td>\n",
              "      <td>608</td>\n",
              "      <td>315.435</td>\n",
              "      <td>Level 0 Recovery</td>\n",
              "      <td>23</td>\n",
              "      <td>Male</td>\n",
              "    </tr>\n",
              "    <tr>\n",
              "      <th>19</th>\n",
              "      <td>1849</td>\n",
              "      <td>613</td>\n",
              "      <td>245.000</td>\n",
              "      <td>Level 0 Recovery</td>\n",
              "      <td>29</td>\n",
              "      <td>Female</td>\n",
              "    </tr>\n",
              "  </tbody>\n",
              "</table>\n",
              "</div>\n",
              "      <button class=\"colab-df-convert\" onclick=\"convertToInteractive('df-3fe8d996-5d32-4390-a29f-cc67d9a8df27')\"\n",
              "              title=\"Convert this dataframe to an interactive table.\"\n",
              "              style=\"display:none;\">\n",
              "\n",
              "  <svg xmlns=\"http://www.w3.org/2000/svg\" height=\"24px\"viewBox=\"0 0 24 24\"\n",
              "       width=\"24px\">\n",
              "    <path d=\"M0 0h24v24H0V0z\" fill=\"none\"/>\n",
              "    <path d=\"M18.56 5.44l.94 2.06.94-2.06 2.06-.94-2.06-.94-.94-2.06-.94 2.06-2.06.94zm-11 1L8.5 8.5l.94-2.06 2.06-.94-2.06-.94L8.5 2.5l-.94 2.06-2.06.94zm10 10l.94 2.06.94-2.06 2.06-.94-2.06-.94-.94-2.06-.94 2.06-2.06.94z\"/><path d=\"M17.41 7.96l-1.37-1.37c-.4-.4-.92-.59-1.43-.59-.52 0-1.04.2-1.43.59L10.3 9.45l-7.72 7.72c-.78.78-.78 2.05 0 2.83L4 21.41c.39.39.9.59 1.41.59.51 0 1.02-.2 1.41-.59l7.78-7.78 2.81-2.81c.8-.78.8-2.07 0-2.86zM5.41 20L4 18.59l7.72-7.72 1.47 1.35L5.41 20z\"/>\n",
              "  </svg>\n",
              "      </button>\n",
              "\n",
              "\n",
              "\n",
              "    <div id=\"df-d4d3228e-8fd7-469e-999b-c8de67ce3f52\">\n",
              "      <button class=\"colab-df-quickchart\" onclick=\"quickchart('df-d4d3228e-8fd7-469e-999b-c8de67ce3f52')\"\n",
              "              title=\"Suggest charts.\"\n",
              "              style=\"display:none;\">\n",
              "\n",
              "<svg xmlns=\"http://www.w3.org/2000/svg\" height=\"24px\"viewBox=\"0 0 24 24\"\n",
              "     width=\"24px\">\n",
              "    <g>\n",
              "        <path d=\"M19 3H5c-1.1 0-2 .9-2 2v14c0 1.1.9 2 2 2h14c1.1 0 2-.9 2-2V5c0-1.1-.9-2-2-2zM9 17H7v-7h2v7zm4 0h-2V7h2v10zm4 0h-2v-4h2v4z\"/>\n",
              "    </g>\n",
              "</svg>\n",
              "      </button>\n",
              "    </div>\n",
              "\n",
              "<style>\n",
              "  .colab-df-quickchart {\n",
              "    background-color: #E8F0FE;\n",
              "    border: none;\n",
              "    border-radius: 50%;\n",
              "    cursor: pointer;\n",
              "    display: none;\n",
              "    fill: #1967D2;\n",
              "    height: 32px;\n",
              "    padding: 0 0 0 0;\n",
              "    width: 32px;\n",
              "  }\n",
              "\n",
              "  .colab-df-quickchart:hover {\n",
              "    background-color: #E2EBFA;\n",
              "    box-shadow: 0px 1px 2px rgba(60, 64, 67, 0.3), 0px 1px 3px 1px rgba(60, 64, 67, 0.15);\n",
              "    fill: #174EA6;\n",
              "  }\n",
              "\n",
              "  [theme=dark] .colab-df-quickchart {\n",
              "    background-color: #3B4455;\n",
              "    fill: #D2E3FC;\n",
              "  }\n",
              "\n",
              "  [theme=dark] .colab-df-quickchart:hover {\n",
              "    background-color: #434B5C;\n",
              "    box-shadow: 0px 1px 3px 1px rgba(0, 0, 0, 0.15);\n",
              "    filter: drop-shadow(0px 1px 2px rgba(0, 0, 0, 0.3));\n",
              "    fill: #FFFFFF;\n",
              "  }\n",
              "</style>\n",
              "\n",
              "    <script>\n",
              "      async function quickchart(key) {\n",
              "        const containerElement = document.querySelector('#' + key);\n",
              "        const charts = await google.colab.kernel.invokeFunction(\n",
              "            'suggestCharts', [key], {});\n",
              "      }\n",
              "    </script>\n",
              "\n",
              "      <script>\n",
              "\n",
              "function displayQuickchartButton(domScope) {\n",
              "  let quickchartButtonEl =\n",
              "    domScope.querySelector('#df-d4d3228e-8fd7-469e-999b-c8de67ce3f52 button.colab-df-quickchart');\n",
              "  quickchartButtonEl.style.display =\n",
              "    google.colab.kernel.accessAllowed ? 'block' : 'none';\n",
              "}\n",
              "\n",
              "        displayQuickchartButton(document);\n",
              "      </script>\n",
              "      <style>\n",
              "    .colab-df-container {\n",
              "      display:flex;\n",
              "      flex-wrap:wrap;\n",
              "      gap: 12px;\n",
              "    }\n",
              "\n",
              "    .colab-df-convert {\n",
              "      background-color: #E8F0FE;\n",
              "      border: none;\n",
              "      border-radius: 50%;\n",
              "      cursor: pointer;\n",
              "      display: none;\n",
              "      fill: #1967D2;\n",
              "      height: 32px;\n",
              "      padding: 0 0 0 0;\n",
              "      width: 32px;\n",
              "    }\n",
              "\n",
              "    .colab-df-convert:hover {\n",
              "      background-color: #E2EBFA;\n",
              "      box-shadow: 0px 1px 2px rgba(60, 64, 67, 0.3), 0px 1px 3px 1px rgba(60, 64, 67, 0.15);\n",
              "      fill: #174EA6;\n",
              "    }\n",
              "\n",
              "    [theme=dark] .colab-df-convert {\n",
              "      background-color: #3B4455;\n",
              "      fill: #D2E3FC;\n",
              "    }\n",
              "\n",
              "    [theme=dark] .colab-df-convert:hover {\n",
              "      background-color: #434B5C;\n",
              "      box-shadow: 0px 1px 3px 1px rgba(0, 0, 0, 0.15);\n",
              "      filter: drop-shadow(0px 1px 2px rgba(0, 0, 0, 0.3));\n",
              "      fill: #FFFFFF;\n",
              "    }\n",
              "  </style>\n",
              "\n",
              "      <script>\n",
              "        const buttonEl =\n",
              "          document.querySelector('#df-3fe8d996-5d32-4390-a29f-cc67d9a8df27 button.colab-df-convert');\n",
              "        buttonEl.style.display =\n",
              "          google.colab.kernel.accessAllowed ? 'block' : 'none';\n",
              "\n",
              "        async function convertToInteractive(key) {\n",
              "          const element = document.querySelector('#df-3fe8d996-5d32-4390-a29f-cc67d9a8df27');\n",
              "          const dataTable =\n",
              "            await google.colab.kernel.invokeFunction('convertToInteractive',\n",
              "                                                     [key], {});\n",
              "          if (!dataTable) return;\n",
              "\n",
              "          const docLinkHtml = 'Like what you see? Visit the ' +\n",
              "            '<a target=\"_blank\" href=https://colab.research.google.com/notebooks/data_table.ipynb>data table notebook</a>'\n",
              "            + ' to learn more about interactive tables.';\n",
              "          element.innerHTML = '';\n",
              "          dataTable['output_type'] = 'display_data';\n",
              "          await google.colab.output.renderOutput(dataTable, element);\n",
              "          const docLink = document.createElement('div');\n",
              "          docLink.innerHTML = docLinkHtml;\n",
              "          element.appendChild(docLink);\n",
              "        }\n",
              "      </script>\n",
              "    </div>\n",
              "  </div>\n"
            ]
          },
          "metadata": {},
          "execution_count": 3
        }
      ]
    },
    {
      "cell_type": "code",
      "source": [
        "df.shape"
      ],
      "metadata": {
        "colab": {
          "base_uri": "https://localhost:8080/"
        },
        "id": "o34ARljQAJA_",
        "outputId": "5ef008c3-a371-438f-a9cc-c7a5737b7c1c"
      },
      "execution_count": 4,
      "outputs": [
        {
          "output_type": "execute_result",
          "data": {
            "text/plain": [
              "(1882, 6)"
            ]
          },
          "metadata": {},
          "execution_count": 4
        }
      ]
    },
    {
      "cell_type": "code",
      "source": [
        "df.info()"
      ],
      "metadata": {
        "colab": {
          "base_uri": "https://localhost:8080/"
        },
        "id": "zqS7TD5a9b-C",
        "outputId": "c8224a92-73eb-4947-b121-d8eefbfcbed5"
      },
      "execution_count": 5,
      "outputs": [
        {
          "output_type": "stream",
          "name": "stdout",
          "text": [
            "<class 'pandas.core.frame.DataFrame'>\n",
            "RangeIndex: 1882 entries, 0 to 1881\n",
            "Data columns (total 6 columns):\n",
            " #   Column                    Non-Null Count  Dtype  \n",
            "---  ------                    --------------  -----  \n",
            " 0   id                        1882 non-null   int64  \n",
            " 1   expected_recovery_amount  1882 non-null   int64  \n",
            " 2   actual_recovery_amount    1882 non-null   float64\n",
            " 3   recovery_strategy         1882 non-null   object \n",
            " 4   age                       1882 non-null   int64  \n",
            " 5   sex                       1882 non-null   object \n",
            "dtypes: float64(1), int64(3), object(2)\n",
            "memory usage: 88.3+ KB\n"
          ]
        }
      ]
    },
    {
      "cell_type": "code",
      "source": [
        "df.nunique()"
      ],
      "metadata": {
        "colab": {
          "base_uri": "https://localhost:8080/"
        },
        "id": "76S5PL2PANt_",
        "outputId": "fc2c1fb2-06b1-4ae8-f4a3-95f0567c8aa9"
      },
      "execution_count": 6,
      "outputs": [
        {
          "output_type": "execute_result",
          "data": {
            "text/plain": [
              "id                          1882\n",
              "expected_recovery_amount    1529\n",
              "actual_recovery_amount      1882\n",
              "recovery_strategy              5\n",
              "age                           67\n",
              "sex                            2\n",
              "dtype: int64"
            ]
          },
          "metadata": {},
          "execution_count": 6
        }
      ]
    },
    {
      "cell_type": "code",
      "source": [
        "df.info()"
      ],
      "metadata": {
        "colab": {
          "base_uri": "https://localhost:8080/"
        },
        "id": "0fDUXI0e-k05",
        "outputId": "b2270100-8aa3-44e4-ff2c-5f4481417222"
      },
      "execution_count": 9,
      "outputs": [
        {
          "output_type": "stream",
          "name": "stdout",
          "text": [
            "<class 'pandas.core.frame.DataFrame'>\n",
            "RangeIndex: 1882 entries, 0 to 1881\n",
            "Data columns (total 6 columns):\n",
            " #   Column                    Non-Null Count  Dtype  \n",
            "---  ------                    --------------  -----  \n",
            " 0   id                        1882 non-null   int64  \n",
            " 1   expected_recovery_amount  1882 non-null   int64  \n",
            " 2   actual_recovery_amount    1882 non-null   float64\n",
            " 3   recovery_strategy         1882 non-null   object \n",
            " 4   age                       1882 non-null   int64  \n",
            " 5   sex                       1882 non-null   object \n",
            "dtypes: float64(1), int64(3), object(2)\n",
            "memory usage: 88.3+ KB\n"
          ]
        }
      ]
    },
    {
      "cell_type": "code",
      "source": [
        "df[\"recovery_strategy\"].unique()"
      ],
      "metadata": {
        "colab": {
          "base_uri": "https://localhost:8080/"
        },
        "id": "YOxoZgHF_Qtw",
        "outputId": "eae91faa-f0af-4f10-8716-64da94876cc3"
      },
      "execution_count": 7,
      "outputs": [
        {
          "output_type": "execute_result",
          "data": {
            "text/plain": [
              "array(['Level 0 Recovery', 'Level 1 Recovery', 'Level 2 Recovery',\n",
              "       'Level 3 Recovery', 'Level 4 Recovery'], dtype=object)"
            ]
          },
          "metadata": {},
          "execution_count": 7
        }
      ]
    },
    {
      "cell_type": "code",
      "source": [
        "df[\"sex\"].unique()"
      ],
      "metadata": {
        "colab": {
          "base_uri": "https://localhost:8080/"
        },
        "id": "QPWZjuB9ACT-",
        "outputId": "42c84255-f61d-4968-9c2a-5dac15fbb43f"
      },
      "execution_count": 11,
      "outputs": [
        {
          "output_type": "execute_result",
          "data": {
            "text/plain": [
              "array(['Male', 'Female'], dtype=object)"
            ]
          },
          "metadata": {},
          "execution_count": 11
        }
      ]
    },
    {
      "cell_type": "code",
      "source": [
        "df.describe()"
      ],
      "metadata": {
        "colab": {
          "base_uri": "https://localhost:8080/",
          "height": 300
        },
        "id": "ppLV_p_sAFJu",
        "outputId": "449888d8-afe6-451e-f7e0-0b4213544637"
      },
      "execution_count": 12,
      "outputs": [
        {
          "output_type": "execute_result",
          "data": {
            "text/plain": [
              "                id  expected_recovery_amount  actual_recovery_amount  \\\n",
              "count  1882.000000               1882.000000             1882.000000   \n",
              "mean   1035.596174               2759.967588             4000.967837   \n",
              "std     591.458429               2019.826565             4576.506350   \n",
              "min       6.000000                194.000000              200.425000   \n",
              "25%     534.250000               1261.250000             1045.190300   \n",
              "50%    1029.500000               2062.000000             2115.446373   \n",
              "75%    1551.750000               3569.500000             5417.237207   \n",
              "max    2056.000000               9964.000000            34398.479710   \n",
              "\n",
              "               age  \n",
              "count  1882.000000  \n",
              "mean     39.650372  \n",
              "std      15.453072  \n",
              "min      18.000000  \n",
              "25%      28.000000  \n",
              "50%      35.000000  \n",
              "75%      50.000000  \n",
              "max      84.000000  "
            ],
            "text/html": [
              "\n",
              "\n",
              "  <div id=\"df-6ab81455-7492-4b0c-a329-15fe789f81d6\">\n",
              "    <div class=\"colab-df-container\">\n",
              "      <div>\n",
              "<style scoped>\n",
              "    .dataframe tbody tr th:only-of-type {\n",
              "        vertical-align: middle;\n",
              "    }\n",
              "\n",
              "    .dataframe tbody tr th {\n",
              "        vertical-align: top;\n",
              "    }\n",
              "\n",
              "    .dataframe thead th {\n",
              "        text-align: right;\n",
              "    }\n",
              "</style>\n",
              "<table border=\"1\" class=\"dataframe\">\n",
              "  <thead>\n",
              "    <tr style=\"text-align: right;\">\n",
              "      <th></th>\n",
              "      <th>id</th>\n",
              "      <th>expected_recovery_amount</th>\n",
              "      <th>actual_recovery_amount</th>\n",
              "      <th>age</th>\n",
              "    </tr>\n",
              "  </thead>\n",
              "  <tbody>\n",
              "    <tr>\n",
              "      <th>count</th>\n",
              "      <td>1882.000000</td>\n",
              "      <td>1882.000000</td>\n",
              "      <td>1882.000000</td>\n",
              "      <td>1882.000000</td>\n",
              "    </tr>\n",
              "    <tr>\n",
              "      <th>mean</th>\n",
              "      <td>1035.596174</td>\n",
              "      <td>2759.967588</td>\n",
              "      <td>4000.967837</td>\n",
              "      <td>39.650372</td>\n",
              "    </tr>\n",
              "    <tr>\n",
              "      <th>std</th>\n",
              "      <td>591.458429</td>\n",
              "      <td>2019.826565</td>\n",
              "      <td>4576.506350</td>\n",
              "      <td>15.453072</td>\n",
              "    </tr>\n",
              "    <tr>\n",
              "      <th>min</th>\n",
              "      <td>6.000000</td>\n",
              "      <td>194.000000</td>\n",
              "      <td>200.425000</td>\n",
              "      <td>18.000000</td>\n",
              "    </tr>\n",
              "    <tr>\n",
              "      <th>25%</th>\n",
              "      <td>534.250000</td>\n",
              "      <td>1261.250000</td>\n",
              "      <td>1045.190300</td>\n",
              "      <td>28.000000</td>\n",
              "    </tr>\n",
              "    <tr>\n",
              "      <th>50%</th>\n",
              "      <td>1029.500000</td>\n",
              "      <td>2062.000000</td>\n",
              "      <td>2115.446373</td>\n",
              "      <td>35.000000</td>\n",
              "    </tr>\n",
              "    <tr>\n",
              "      <th>75%</th>\n",
              "      <td>1551.750000</td>\n",
              "      <td>3569.500000</td>\n",
              "      <td>5417.237207</td>\n",
              "      <td>50.000000</td>\n",
              "    </tr>\n",
              "    <tr>\n",
              "      <th>max</th>\n",
              "      <td>2056.000000</td>\n",
              "      <td>9964.000000</td>\n",
              "      <td>34398.479710</td>\n",
              "      <td>84.000000</td>\n",
              "    </tr>\n",
              "  </tbody>\n",
              "</table>\n",
              "</div>\n",
              "      <button class=\"colab-df-convert\" onclick=\"convertToInteractive('df-6ab81455-7492-4b0c-a329-15fe789f81d6')\"\n",
              "              title=\"Convert this dataframe to an interactive table.\"\n",
              "              style=\"display:none;\">\n",
              "\n",
              "  <svg xmlns=\"http://www.w3.org/2000/svg\" height=\"24px\"viewBox=\"0 0 24 24\"\n",
              "       width=\"24px\">\n",
              "    <path d=\"M0 0h24v24H0V0z\" fill=\"none\"/>\n",
              "    <path d=\"M18.56 5.44l.94 2.06.94-2.06 2.06-.94-2.06-.94-.94-2.06-.94 2.06-2.06.94zm-11 1L8.5 8.5l.94-2.06 2.06-.94-2.06-.94L8.5 2.5l-.94 2.06-2.06.94zm10 10l.94 2.06.94-2.06 2.06-.94-2.06-.94-.94-2.06-.94 2.06-2.06.94z\"/><path d=\"M17.41 7.96l-1.37-1.37c-.4-.4-.92-.59-1.43-.59-.52 0-1.04.2-1.43.59L10.3 9.45l-7.72 7.72c-.78.78-.78 2.05 0 2.83L4 21.41c.39.39.9.59 1.41.59.51 0 1.02-.2 1.41-.59l7.78-7.78 2.81-2.81c.8-.78.8-2.07 0-2.86zM5.41 20L4 18.59l7.72-7.72 1.47 1.35L5.41 20z\"/>\n",
              "  </svg>\n",
              "      </button>\n",
              "\n",
              "\n",
              "\n",
              "    <div id=\"df-2c25d406-5da3-4cea-82ad-56521c41b022\">\n",
              "      <button class=\"colab-df-quickchart\" onclick=\"quickchart('df-2c25d406-5da3-4cea-82ad-56521c41b022')\"\n",
              "              title=\"Suggest charts.\"\n",
              "              style=\"display:none;\">\n",
              "\n",
              "<svg xmlns=\"http://www.w3.org/2000/svg\" height=\"24px\"viewBox=\"0 0 24 24\"\n",
              "     width=\"24px\">\n",
              "    <g>\n",
              "        <path d=\"M19 3H5c-1.1 0-2 .9-2 2v14c0 1.1.9 2 2 2h14c1.1 0 2-.9 2-2V5c0-1.1-.9-2-2-2zM9 17H7v-7h2v7zm4 0h-2V7h2v10zm4 0h-2v-4h2v4z\"/>\n",
              "    </g>\n",
              "</svg>\n",
              "      </button>\n",
              "    </div>\n",
              "\n",
              "<style>\n",
              "  .colab-df-quickchart {\n",
              "    background-color: #E8F0FE;\n",
              "    border: none;\n",
              "    border-radius: 50%;\n",
              "    cursor: pointer;\n",
              "    display: none;\n",
              "    fill: #1967D2;\n",
              "    height: 32px;\n",
              "    padding: 0 0 0 0;\n",
              "    width: 32px;\n",
              "  }\n",
              "\n",
              "  .colab-df-quickchart:hover {\n",
              "    background-color: #E2EBFA;\n",
              "    box-shadow: 0px 1px 2px rgba(60, 64, 67, 0.3), 0px 1px 3px 1px rgba(60, 64, 67, 0.15);\n",
              "    fill: #174EA6;\n",
              "  }\n",
              "\n",
              "  [theme=dark] .colab-df-quickchart {\n",
              "    background-color: #3B4455;\n",
              "    fill: #D2E3FC;\n",
              "  }\n",
              "\n",
              "  [theme=dark] .colab-df-quickchart:hover {\n",
              "    background-color: #434B5C;\n",
              "    box-shadow: 0px 1px 3px 1px rgba(0, 0, 0, 0.15);\n",
              "    filter: drop-shadow(0px 1px 2px rgba(0, 0, 0, 0.3));\n",
              "    fill: #FFFFFF;\n",
              "  }\n",
              "</style>\n",
              "\n",
              "    <script>\n",
              "      async function quickchart(key) {\n",
              "        const containerElement = document.querySelector('#' + key);\n",
              "        const charts = await google.colab.kernel.invokeFunction(\n",
              "            'suggestCharts', [key], {});\n",
              "      }\n",
              "    </script>\n",
              "\n",
              "      <script>\n",
              "\n",
              "function displayQuickchartButton(domScope) {\n",
              "  let quickchartButtonEl =\n",
              "    domScope.querySelector('#df-2c25d406-5da3-4cea-82ad-56521c41b022 button.colab-df-quickchart');\n",
              "  quickchartButtonEl.style.display =\n",
              "    google.colab.kernel.accessAllowed ? 'block' : 'none';\n",
              "}\n",
              "\n",
              "        displayQuickchartButton(document);\n",
              "      </script>\n",
              "      <style>\n",
              "    .colab-df-container {\n",
              "      display:flex;\n",
              "      flex-wrap:wrap;\n",
              "      gap: 12px;\n",
              "    }\n",
              "\n",
              "    .colab-df-convert {\n",
              "      background-color: #E8F0FE;\n",
              "      border: none;\n",
              "      border-radius: 50%;\n",
              "      cursor: pointer;\n",
              "      display: none;\n",
              "      fill: #1967D2;\n",
              "      height: 32px;\n",
              "      padding: 0 0 0 0;\n",
              "      width: 32px;\n",
              "    }\n",
              "\n",
              "    .colab-df-convert:hover {\n",
              "      background-color: #E2EBFA;\n",
              "      box-shadow: 0px 1px 2px rgba(60, 64, 67, 0.3), 0px 1px 3px 1px rgba(60, 64, 67, 0.15);\n",
              "      fill: #174EA6;\n",
              "    }\n",
              "\n",
              "    [theme=dark] .colab-df-convert {\n",
              "      background-color: #3B4455;\n",
              "      fill: #D2E3FC;\n",
              "    }\n",
              "\n",
              "    [theme=dark] .colab-df-convert:hover {\n",
              "      background-color: #434B5C;\n",
              "      box-shadow: 0px 1px 3px 1px rgba(0, 0, 0, 0.15);\n",
              "      filter: drop-shadow(0px 1px 2px rgba(0, 0, 0, 0.3));\n",
              "      fill: #FFFFFF;\n",
              "    }\n",
              "  </style>\n",
              "\n",
              "      <script>\n",
              "        const buttonEl =\n",
              "          document.querySelector('#df-6ab81455-7492-4b0c-a329-15fe789f81d6 button.colab-df-convert');\n",
              "        buttonEl.style.display =\n",
              "          google.colab.kernel.accessAllowed ? 'block' : 'none';\n",
              "\n",
              "        async function convertToInteractive(key) {\n",
              "          const element = document.querySelector('#df-6ab81455-7492-4b0c-a329-15fe789f81d6');\n",
              "          const dataTable =\n",
              "            await google.colab.kernel.invokeFunction('convertToInteractive',\n",
              "                                                     [key], {});\n",
              "          if (!dataTable) return;\n",
              "\n",
              "          const docLinkHtml = 'Like what you see? Visit the ' +\n",
              "            '<a target=\"_blank\" href=https://colab.research.google.com/notebooks/data_table.ipynb>data table notebook</a>'\n",
              "            + ' to learn more about interactive tables.';\n",
              "          element.innerHTML = '';\n",
              "          dataTable['output_type'] = 'display_data';\n",
              "          await google.colab.output.renderOutput(dataTable, element);\n",
              "          const docLink = document.createElement('div');\n",
              "          docLink.innerHTML = docLinkHtml;\n",
              "          element.appendChild(docLink);\n",
              "        }\n",
              "      </script>\n",
              "    </div>\n",
              "  </div>\n"
            ]
          },
          "metadata": {},
          "execution_count": 12
        }
      ]
    },
    {
      "cell_type": "markdown",
      "source": [
        "**Graphical Exploratory Data Analysis**"
      ],
      "metadata": {
        "id": "XypzG6rq-LGs"
      }
    },
    {
      "cell_type": "code",
      "source": [
        "plt.figure(figsize=(8, 6))\n",
        "plt.scatter(x = df['expected_recovery_amount'], y = df['age'])\n",
        "plt.xlim(0, 2000)\n",
        "plt.ylim(0, 60)\n",
        "plt.xlabel('Expected Recovery Amount')\n",
        "plt.ylabel('Age')\n",
        "plt.title(\"Age vs. Expected Recovery Amount Scatter Plot\")\n",
        "\n",
        "# Show the plot\n",
        "plt.show()"
      ],
      "metadata": {
        "colab": {
          "base_uri": "https://localhost:8080/",
          "height": 573
        },
        "id": "7M3METK7A_n9",
        "outputId": "9877ff12-37d2-420a-8b7b-d191d0f6051e"
      },
      "execution_count": 13,
      "outputs": [
        {
          "output_type": "display_data",
          "data": {
            "text/plain": [
              "<Figure size 800x600 with 1 Axes>"
            ],
            "image/png": "[encoded data removed]"
          },
          "metadata": {}
        }
      ]
    },
    {
      "cell_type": "markdown",
      "source": [
        "we can't conclude a significant relationship between age and expected recovery amount so we will try a statistical method"
      ],
      "metadata": {
        "id": "3N4paRtWVMbv"
      }
    },
    {
      "cell_type": "markdown",
      "source": [
        "**Statistical test: age vs. expected recovery amount**"
      ],
      "metadata": {
        "id": "GcMZE81ZcWXd"
      }
    },
    {
      "cell_type": "markdown",
      "source": [
        "The Kruskal-Wallis test is a non-parametric test used to determine whether there are statistically significant differences between the medians of three or more groups and doesn't assume normality.\n",
        "Kruskal-Wallis test is used to compare the average age between two groups of the 'era_900_1100', specifically for the 'Level_0_Age' and 'Level_1_Age' recovery strategies."
      ],
      "metadata": {
        "id": "LiTulDXOafku"
      }
    },
    {
      "cell_type": "code",
      "source": [
        "from scipy import stats\n",
        "\n",
        "# Compute average age just below and above the threshold\n",
        "era_900_1100 = df.loc[(df['expected_recovery_amount']<1100) &\n",
        "                      (df['expected_recovery_amount']>=900)]\n",
        "by_recovery_strategy = era_900_1100.groupby(['recovery_strategy'])\n",
        "by_recovery_strategy['age'].describe().unstack()\n",
        "\n",
        "# Perform Kruskal-Wallis test\n",
        "Level_0_age = era_900_1100.loc[df['recovery_strategy']==\"Level 0 Recovery\"]['age']\n",
        "Level_1_age = era_900_1100.loc[df['recovery_strategy']==\"Level 1 Recovery\"]['age']\n",
        "stats.kruskal(Level_0_age, Level_1_age)"
      ],
      "metadata": {
        "colab": {
          "base_uri": "https://localhost:8080/"
        },
        "id": "rzMS8aYWabNi",
        "outputId": "4d2217f1-5fd4-4c6a-f8b5-ef493bca0288"
      },
      "execution_count": 14,
      "outputs": [
        {
          "output_type": "execute_result",
          "data": {
            "text/plain": [
              "KruskalResult(statistic=3.4572342749517513, pvalue=0.06297556896097407)"
            ]
          },
          "metadata": {},
          "execution_count": 14
        }
      ]
    },
    {
      "cell_type": "markdown",
      "source": [
        "Since the p-value (0.06298) is greater than the typical significance level (0.05), we fail to reject the null hypothesis. It indicates that there is not enough evidence to conclude that there are statistically significant differences in the average age between the 'Level_0_Age' and 'Level_1_Age' groups just above and just below the $1000 Expected Recovery Amount threshold."
      ],
      "metadata": {
        "id": "JSG-fZyDbd2V"
      }
    },
    {
      "cell_type": "markdown",
      "source": [
        "so we concluded that  there is no major jump in the average customer age just above and just below the $1000 threshold by doing a statistical test as well as exploring it graphically with a scatter plot."
      ],
      "metadata": {
        "id": "dg9MtGxyczor"
      }
    },
    {
      "cell_type": "markdown",
      "source": [
        "**Statistical test: sex vs. expected recovery amount**"
      ],
      "metadata": {
        "id": "91XdO6Q-c6Nd"
      }
    },
    {
      "cell_type": "markdown",
      "source": [
        "Crosstab and Chi-square test are statistical tools commonly used to analyze the relationship between two categorical variables and determine whether there is a significant association between them.\n",
        "\n",
        "crosstabulation helps visualize the relationship between categorical variables, while the Chi-square test quantifies the significance of that relationship. Together, they provide valuable insights into the associations and dependencies among categorical data."
      ],
      "metadata": {
        "id": "xwjIMgxV-dJI"
      }
    },
    {
      "cell_type": "code",
      "source": [
        "# Number of customers in each category\n",
        "# Compute the crosstab of sex and recovery_strategy\n",
        "crosstab = pd.crosstab(df.loc[(df['expected_recovery_amount']<1100) &\n",
        "                              (df['expected_recovery_amount']>=900)]['recovery_strategy'],df['sex'])\n",
        "print(crosstab)\n",
        "\n",
        "# Chi-square test\n",
        "chi2_stat, p_val, dof, ex = stats.chi2_contingency(crosstab)\n",
        "print('p-val is: ', p_val)"
      ],
      "metadata": {
        "colab": {
          "base_uri": "https://localhost:8080/"
        },
        "id": "1wRzZJL4cza9",
        "outputId": "ebeea1a9-09c8-4e5d-961f-9b4062613802"
      },
      "execution_count": 15,
      "outputs": [
        {
          "output_type": "stream",
          "name": "stdout",
          "text": [
            "sex                Female  Male\n",
            "recovery_strategy              \n",
            "Level 0 Recovery       32    57\n",
            "Level 1 Recovery       39    55\n",
            "p-val is:  0.5377947810444592\n"
          ]
        }
      ]
    },
    {
      "cell_type": "markdown",
      "source": [
        "\n",
        "A p-value of 0.5378 indicates that there is no significant association between sex and the expected recovery amount being above or below 1000$ at the chosen significance level.\n",
        "\n",
        "we fail to reject the null hypothesis. The null hypothesis in this context typically states that there is no difference between the percentage of male customers above and below the $1000 threshold for expected recovery amount."
      ],
      "metadata": {
        "id": "q_0RAu6y6iWA"
      }
    },
    {
      "cell_type": "markdown",
      "source": [
        "**Exploratory graphical analysis: recovery amount**"
      ],
      "metadata": {
        "id": "Nca0RKu08aNM"
      }
    },
    {
      "cell_type": "code",
      "source": [
        "# Scatterplot: Actual Recovery Amount vs Expected Recovery Amount\n",
        "plt.figure(figsize=(8, 6))\n",
        "plt.scatter(x = df['expected_recovery_amount'], y = df['actual_recovery_amount'])\n",
        "plt.xlim(900, 1100) #just below, just above threshold\n",
        "plt.ylim(0, 2000)\n",
        "plt.xlabel('Expected Recovery Amount')\n",
        "plt.ylabel('Actual Recovery Amount')\n",
        "plt.legend(loc = 2)\n",
        "plt.show()"
      ],
      "metadata": {
        "colab": {
          "base_uri": "https://localhost:8080/",
          "height": 593
        },
        "id": "S3HG5C0C5dvZ",
        "outputId": "d3efd35a-6d7b-4cc1-9758-cc4017e02b4c"
      },
      "execution_count": 17,
      "outputs": [
        {
          "output_type": "stream",
          "name": "stderr",
          "text": [
            "WARNING:matplotlib.legend:No artists with labels found to put in legend.  Note that artists whose label start with an underscore are ignored when legend() is called with no argument.\n"
          ]
        },
        {
          "output_type": "display_data",
          "data": {
            "text/plain": [
              "<Figure size 800x600 with 1 Axes>"
            ],
            "image/png": "[encoded data removed]"
          },
          "metadata": {}
        }
      ]
    },
    {
      "cell_type": "markdown",
      "source": [
        "It is hard to determine the relationship between actual recovery amount and expected recovery amount from this scatter plot, so we will try statistical tests.  "
      ],
      "metadata": {
        "id": "MvU_urQA9H8s"
      }
    },
    {
      "cell_type": "markdown",
      "source": [
        "**Statistical analysis: recovery amount**"
      ],
      "metadata": {
        "id": "ruYjRhdV9lqb"
      }
    },
    {
      "cell_type": "markdown",
      "source": [
        "Just as we did with age, we can perform statistical tests to see if the actual recovery amount has a discontinuity above the $1000 threshold. We are going to do this for two different windows of the expected recovery amount 900 to 1100 and for a narrow range of 950 to 1050 to see if our results are consistent."
      ],
      "metadata": {
        "id": "3Lr2aS_VFei5"
      }
    },
    {
      "cell_type": "code",
      "source": [
        "# Compute average actual recovery amount just below and above the threshold\n",
        "by_recovery_strategy['actual_recovery_amount'].describe().unstack()\n",
        "\n",
        "# Perform Kruskal-Wallis test\n",
        "Level_0_actual = era_900_1100.loc[df['recovery_strategy']=='Level 0 Recovery']['actual_recovery_amount']\n",
        "Level_1_actual = era_900_1100.loc[df['recovery_strategy']=='Level 1 Recovery']['actual_recovery_amount']\n",
        "print(\"between 900 and 1100: \",stats.kruskal(Level_0_actual, Level_1_actual))\n",
        "\n",
        "# Repeat for a smaller range of $950 to $1050\n",
        "era_950_1050 = df.loc[(df['expected_recovery_amount']<1050) &\n",
        "                      (df['expected_recovery_amount']>=950)]\n",
        "Level_0_actual = era_950_1050.loc[df['recovery_strategy']=='Level 0 Recovery']['actual_recovery_amount']\n",
        "Level_1_actual = era_950_1050.loc[df['recovery_strategy']=='Level 1 Recovery']['actual_recovery_amount']\n",
        "print(\"between 950 and 1050: \",stats.kruskal(Level_0_actual, Level_1_actual))"
      ],
      "metadata": {
        "colab": {
          "base_uri": "https://localhost:8080/"
        },
        "id": "ZIeL1arK_Z-X",
        "outputId": "278b2354-1f1d-4827-c7d3-2d51d506f531"
      },
      "execution_count": 21,
      "outputs": [
        {
          "output_type": "stream",
          "name": "stdout",
          "text": [
            "between 900 and 1100:  KruskalResult(statistic=65.37966302528878, pvalue=6.177308752803109e-16)\n",
            "between 950 and 1050:  KruskalResult(statistic=30.246000000000038, pvalue=3.80575314300276e-08)\n"
          ]
        }
      ]
    },
    {
      "cell_type": "markdown",
      "source": [
        "**Regression modeling: no threshold**"
      ],
      "metadata": {
        "id": "0bNSOVwDFnNQ"
      }
    },
    {
      "cell_type": "code",
      "source": [
        "import statsmodels.api as sm\n",
        "\n",
        "# Define X and y\n",
        "X = era_900_1100['expected_recovery_amount']\n",
        "y = era_900_1100['expected_recovery_amount']\n",
        "X = sm.add_constant(X)\n",
        "\n",
        "# Build linear regression model\n",
        "model = sm.OLS(y, X).fit()\n",
        "predictions = model.predict(X)\n",
        "\n",
        "# Print out the model summary statistics\n",
        "model.summary()"
      ],
      "metadata": {
        "colab": {
          "base_uri": "https://localhost:8080/",
          "height": 476
        },
        "id": "FgAi_SnnUWo0",
        "outputId": "4da974ef-3c61-4d11-8440-ac7a0e4e7e51"
      },
      "execution_count": 22,
      "outputs": [
        {
          "output_type": "execute_result",
          "data": {
            "text/plain": [
              "<class 'statsmodels.iolib.summary.Summary'>\n",
              "\"\"\"\n",
              "                               OLS Regression Results                               \n",
              "====================================================================================\n",
              "Dep. Variable:     expected_recovery_amount   R-squared:                       1.000\n",
              "Model:                                  OLS   Adj. R-squared:                  1.000\n",
              "Method:                       Least Squares   F-statistic:                 3.043e+29\n",
              "Date:                      Sat, 22 Jul 2023   Prob (F-statistic):               0.00\n",
              "Time:                              01:58:04   Log-Likelihood:                 4738.3\n",
              "No. Observations:                       183   AIC:                            -9473.\n",
              "Df Residuals:                           181   BIC:                            -9466.\n",
              "Df Model:                                 1                                         \n",
              "Covariance Type:                  nonrobust                                         \n",
              "============================================================================================\n",
              "                               coef    std err          t      P>|t|      [0.025      0.975]\n",
              "--------------------------------------------------------------------------------------------\n",
              "const                     1.933e-12   1.83e-12      1.059      0.291   -1.67e-12    5.53e-12\n",
              "expected_recovery_amount     1.0000   1.81e-15   5.52e+14      0.000       1.000       1.000\n",
              "==============================================================================\n",
              "Omnibus:                      102.974   Durbin-Watson:                   0.000\n",
              "Prob(Omnibus):                  0.000   Jarque-Bera (JB):              330.519\n",
              "Skew:                          -2.505   Prob(JB):                     1.69e-72\n",
              "Kurtosis:                       7.273   Cond. No.                     1.80e+04\n",
              "==============================================================================\n",
              "\n",
              "Notes:\n",
              "[1] Standard Errors assume that the covariance matrix of the errors is correctly specified.\n",
              "[2] The condition number is large, 1.8e+04. This might indicate that there are\n",
              "strong multicollinearity or other numerical problems.\n",
              "\"\"\""
            ],
            "text/html": [
              "<table class=\"simpletable\">\n",
              "<caption>OLS Regression Results</caption>\n",
              "<tr>\n",
              "  <th>Dep. Variable:</th>    <td>expected_recovery_amount</td> <th>  R-squared:         </th> <td>   1.000</td> \n",
              "</tr>\n",
              "<tr>\n",
              "  <th>Model:</th>                       <td>OLS</td>           <th>  Adj. R-squared:    </th> <td>   1.000</td> \n",
              "</tr>\n",
              "<tr>\n",
              "  <th>Method:</th>                 <td>Least Squares</td>      <th>  F-statistic:       </th> <td>3.043e+29</td>\n",
              "</tr>\n",
              "<tr>\n",
              "  <th>Date:</th>                 <td>Sat, 22 Jul 2023</td>     <th>  Prob (F-statistic):</th>  <td>  0.00</td>  \n",
              "</tr>\n",
              "<tr>\n",
              "  <th>Time:</th>                     <td>01:58:04</td>         <th>  Log-Likelihood:    </th> <td>  4738.3</td> \n",
              "</tr>\n",
              "<tr>\n",
              "  <th>No. Observations:</th>          <td>   183</td>          <th>  AIC:               </th> <td>  -9473.</td> \n",
              "</tr>\n",
              "<tr>\n",
              "  <th>Df Residuals:</th>              <td>   181</td>          <th>  BIC:               </th> <td>  -9466.</td> \n",
              "</tr>\n",
              "<tr>\n",
              "  <th>Df Model:</th>                  <td>     1</td>          <th>                     </th>     <td> </td>    \n",
              "</tr>\n",
              "<tr>\n",
              "  <th>Covariance Type:</th>          <td>nonrobust</td>        <th>                     </th>     <td> </td>    \n",
              "</tr>\n",
              "</table>\n",
              "<table class=\"simpletable\">\n",
              "<tr>\n",
              "              <td></td>                <th>coef</th>     <th>std err</th>      <th>t</th>      <th>P>|t|</th>  <th>[0.025</th>    <th>0.975]</th>  \n",
              "</tr>\n",
              "<tr>\n",
              "  <th>const</th>                    <td> 1.933e-12</td> <td> 1.83e-12</td> <td>    1.059</td> <td> 0.291</td> <td>-1.67e-12</td> <td> 5.53e-12</td>\n",
              "</tr>\n",
              "<tr>\n",
              "  <th>expected_recovery_amount</th> <td>    1.0000</td> <td> 1.81e-15</td> <td> 5.52e+14</td> <td> 0.000</td> <td>    1.000</td> <td>    1.000</td>\n",
              "</tr>\n",
              "</table>\n",
              "<table class=\"simpletable\">\n",
              "<tr>\n",
              "  <th>Omnibus:</th>       <td>102.974</td> <th>  Durbin-Watson:     </th> <td>   0.000</td>\n",
              "</tr>\n",
              "<tr>\n",
              "  <th>Prob(Omnibus):</th> <td> 0.000</td>  <th>  Jarque-Bera (JB):  </th> <td> 330.519</td>\n",
              "</tr>\n",
              "<tr>\n",
              "  <th>Skew:</th>          <td>-2.505</td>  <th>  Prob(JB):          </th> <td>1.69e-72</td>\n",
              "</tr>\n",
              "<tr>\n",
              "  <th>Kurtosis:</th>      <td> 7.273</td>  <th>  Cond. No.          </th> <td>1.80e+04</td>\n",
              "</tr>\n",
              "</table><br/><br/>Notes:<br/>[1] Standard Errors assume that the covariance matrix of the errors is correctly specified.<br/>[2] The condition number is large, 1.8e+04. This might indicate that there are<br/>strong multicollinearity or other numerical problems."
            ]
          },
          "metadata": {},
          "execution_count": 22
        }
      ]
    },
    {
      "cell_type": "markdown",
      "source": [
        " **Regression modeling: adding true threshold**"
      ],
      "metadata": {
        "id": "c7GLn888Ub18"
      }
    },
    {
      "cell_type": "code",
      "source": [
        "df['indicator_1000'] = np.where(df['expected_recovery_amount']<1000, 0, 1)\n",
        "era_900_1100 = df.loc[(df['expected_recovery_amount']<1100) &\n",
        "                      (df['expected_recovery_amount']>=900)]\n",
        "\n",
        "# Define X and y\n",
        "X = era_900_1100[['expected_recovery_amount', 'indicator_1000']]\n",
        "y = era_900_1100['actual_recovery_amount']\n",
        "X = sm.add_constant(X)\n",
        "\n",
        "# Build linear regression model\n",
        "model = sm.OLS(y,X).fit()\n",
        "\n",
        "# Print the model summary\n",
        "model.summary()"
      ],
      "metadata": {
        "colab": {
          "base_uri": "https://localhost:8080/",
          "height": 497
        },
        "id": "i1RIcFApUbU7",
        "outputId": "67f43cfb-29e2-4925-8a61-9946bf5bad59"
      },
      "execution_count": 23,
      "outputs": [
        {
          "output_type": "execute_result",
          "data": {
            "text/plain": [
              "<class 'statsmodels.iolib.summary.Summary'>\n",
              "\"\"\"\n",
              "                              OLS Regression Results                              \n",
              "==================================================================================\n",
              "Dep. Variable:     actual_recovery_amount   R-squared:                       0.314\n",
              "Model:                                OLS   Adj. R-squared:                  0.307\n",
              "Method:                     Least Squares   F-statistic:                     41.22\n",
              "Date:                    Sat, 22 Jul 2023   Prob (F-statistic):           1.83e-15\n",
              "Time:                            01:59:07   Log-Likelihood:                -1272.0\n",
              "No. Observations:                     183   AIC:                             2550.\n",
              "Df Residuals:                         180   BIC:                             2560.\n",
              "Df Model:                               2                                         \n",
              "Covariance Type:                nonrobust                                         \n",
              "============================================================================================\n",
              "                               coef    std err          t      P>|t|      [0.025      0.975]\n",
              "--------------------------------------------------------------------------------------------\n",
              "const                        3.3440    626.274      0.005      0.996   -1232.440    1239.128\n",
              "expected_recovery_amount     0.6430      0.655      0.981      0.328      -0.650       1.936\n",
              "indicator_1000             277.6344     74.043      3.750      0.000     131.530     423.739\n",
              "==============================================================================\n",
              "Omnibus:                       65.977   Durbin-Watson:                   1.906\n",
              "Prob(Omnibus):                  0.000   Jarque-Bera (JB):              186.537\n",
              "Skew:                           1.510   Prob(JB):                     3.12e-41\n",
              "Kurtosis:                       6.917   Cond. No.                     3.37e+04\n",
              "==============================================================================\n",
              "\n",
              "Notes:\n",
              "[1] Standard Errors assume that the covariance matrix of the errors is correctly specified.\n",
              "[2] The condition number is large, 3.37e+04. This might indicate that there are\n",
              "strong multicollinearity or other numerical problems.\n",
              "\"\"\""
            ],
            "text/html": [
              "<table class=\"simpletable\">\n",
              "<caption>OLS Regression Results</caption>\n",
              "<tr>\n",
              "  <th>Dep. Variable:</th>    <td>actual_recovery_amount</td> <th>  R-squared:         </th> <td>   0.314</td>\n",
              "</tr>\n",
              "<tr>\n",
              "  <th>Model:</th>                      <td>OLS</td>          <th>  Adj. R-squared:    </th> <td>   0.307</td>\n",
              "</tr>\n",
              "<tr>\n",
              "  <th>Method:</th>                <td>Least Squares</td>     <th>  F-statistic:       </th> <td>   41.22</td>\n",
              "</tr>\n",
              "<tr>\n",
              "  <th>Date:</th>                <td>Sat, 22 Jul 2023</td>    <th>  Prob (F-statistic):</th> <td>1.83e-15</td>\n",
              "</tr>\n",
              "<tr>\n",
              "  <th>Time:</th>                    <td>01:59:07</td>        <th>  Log-Likelihood:    </th> <td> -1272.0</td>\n",
              "</tr>\n",
              "<tr>\n",
              "  <th>No. Observations:</th>         <td>   183</td>         <th>  AIC:               </th> <td>   2550.</td>\n",
              "</tr>\n",
              "<tr>\n",
              "  <th>Df Residuals:</th>             <td>   180</td>         <th>  BIC:               </th> <td>   2560.</td>\n",
              "</tr>\n",
              "<tr>\n",
              "  <th>Df Model:</th>                 <td>     2</td>         <th>                     </th>     <td> </td>   \n",
              "</tr>\n",
              "<tr>\n",
              "  <th>Covariance Type:</th>         <td>nonrobust</td>       <th>                     </th>     <td> </td>   \n",
              "</tr>\n",
              "</table>\n",
              "<table class=\"simpletable\">\n",
              "<tr>\n",
              "              <td></td>                <th>coef</th>     <th>std err</th>      <th>t</th>      <th>P>|t|</th>  <th>[0.025</th>    <th>0.975]</th>  \n",
              "</tr>\n",
              "<tr>\n",
              "  <th>const</th>                    <td>    3.3440</td> <td>  626.274</td> <td>    0.005</td> <td> 0.996</td> <td>-1232.440</td> <td> 1239.128</td>\n",
              "</tr>\n",
              "<tr>\n",
              "  <th>expected_recovery_amount</th> <td>    0.6430</td> <td>    0.655</td> <td>    0.981</td> <td> 0.328</td> <td>   -0.650</td> <td>    1.936</td>\n",
              "</tr>\n",
              "<tr>\n",
              "  <th>indicator_1000</th>           <td>  277.6344</td> <td>   74.043</td> <td>    3.750</td> <td> 0.000</td> <td>  131.530</td> <td>  423.739</td>\n",
              "</tr>\n",
              "</table>\n",
              "<table class=\"simpletable\">\n",
              "<tr>\n",
              "  <th>Omnibus:</th>       <td>65.977</td> <th>  Durbin-Watson:     </th> <td>   1.906</td>\n",
              "</tr>\n",
              "<tr>\n",
              "  <th>Prob(Omnibus):</th> <td> 0.000</td> <th>  Jarque-Bera (JB):  </th> <td> 186.537</td>\n",
              "</tr>\n",
              "<tr>\n",
              "  <th>Skew:</th>          <td> 1.510</td> <th>  Prob(JB):          </th> <td>3.12e-41</td>\n",
              "</tr>\n",
              "<tr>\n",
              "  <th>Kurtosis:</th>      <td> 6.917</td> <th>  Cond. No.          </th> <td>3.37e+04</td>\n",
              "</tr>\n",
              "</table><br/><br/>Notes:<br/>[1] Standard Errors assume that the covariance matrix of the errors is correctly specified.<br/>[2] The condition number is large, 3.37e+04. This might indicate that there are<br/>strong multicollinearity or other numerical problems."
            ]
          },
          "metadata": {},
          "execution_count": 23
        }
      ]
    }
  ]
}