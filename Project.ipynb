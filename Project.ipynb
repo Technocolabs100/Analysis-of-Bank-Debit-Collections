{
 "cells": [
  {
   "cell_type": "code",
   "execution_count": 258,
   "id": "13c06e1a",
   "metadata": {},
   "outputs": [],
   "source": [
    "# Importing all the libraries needed for project\n",
    "\n",
    "import pandas as pd\n",
    "import numpy as np\n",
    "import matplotlib.pyplot as plt\n",
    "%matplotlib inline\n",
    "import seaborn as sns\n",
    "from scipy.stats import kruskal"
   ]
  },
  {
   "cell_type": "markdown",
   "id": "c7779ef8",
   "metadata": {},
   "source": [
    "# Importing dataset and understanding the data"
   ]
  },
  {
   "cell_type": "code",
   "execution_count": 259,
   "id": "fc7803c5",
   "metadata": {},
   "outputs": [
    {
     "data": {
      "text/html": [
       "<div>\n",
       "<style scoped>\n",
       "    .dataframe tbody tr th:only-of-type {\n",
       "        vertical-align: middle;\n",
       "    }\n",
       "\n",
       "    .dataframe tbody tr th {\n",
       "        vertical-align: top;\n",
       "    }\n",
       "\n",
       "    .dataframe thead th {\n",
       "        text-align: right;\n",
       "    }\n",
       "</style>\n",
       "<table border=\"1\" class=\"dataframe\">\n",
       "  <thead>\n",
       "    <tr style=\"text-align: right;\">\n",
       "      <th></th>\n",
       "      <th>id</th>\n",
       "      <th>expected_recovery_amount</th>\n",
       "      <th>actual_recovery_amount</th>\n",
       "      <th>recovery_strategy</th>\n",
       "      <th>age</th>\n",
       "      <th>sex</th>\n",
       "    </tr>\n",
       "  </thead>\n",
       "  <tbody>\n",
       "    <tr>\n",
       "      <th>199</th>\n",
       "      <td>1806</td>\n",
       "      <td>953</td>\n",
       "      <td>438.145000</td>\n",
       "      <td>Level 0 Recovery</td>\n",
       "      <td>35</td>\n",
       "      <td>Male</td>\n",
       "    </tr>\n",
       "    <tr>\n",
       "      <th>1239</th>\n",
       "      <td>537</td>\n",
       "      <td>2956</td>\n",
       "      <td>3745.843475</td>\n",
       "      <td>Level 2 Recovery</td>\n",
       "      <td>48</td>\n",
       "      <td>Male</td>\n",
       "    </tr>\n",
       "    <tr>\n",
       "      <th>1587</th>\n",
       "      <td>272</td>\n",
       "      <td>4744</td>\n",
       "      <td>6142.977460</td>\n",
       "      <td>Level 3 Recovery</td>\n",
       "      <td>80</td>\n",
       "      <td>Male</td>\n",
       "    </tr>\n",
       "    <tr>\n",
       "      <th>997</th>\n",
       "      <td>1687</td>\n",
       "      <td>2207</td>\n",
       "      <td>2024.615988</td>\n",
       "      <td>Level 2 Recovery</td>\n",
       "      <td>37</td>\n",
       "      <td>Male</td>\n",
       "    </tr>\n",
       "    <tr>\n",
       "      <th>218</th>\n",
       "      <td>1988</td>\n",
       "      <td>977</td>\n",
       "      <td>389.590000</td>\n",
       "      <td>Level 0 Recovery</td>\n",
       "      <td>18</td>\n",
       "      <td>Male</td>\n",
       "    </tr>\n",
       "  </tbody>\n",
       "</table>\n",
       "</div>"
      ],
      "text/plain": [
       "        id  expected_recovery_amount  actual_recovery_amount  \\\n",
       "199   1806                       953              438.145000   \n",
       "1239   537                      2956             3745.843475   \n",
       "1587   272                      4744             6142.977460   \n",
       "997   1687                      2207             2024.615988   \n",
       "218   1988                       977              389.590000   \n",
       "\n",
       "     recovery_strategy  age   sex  \n",
       "199   Level 0 Recovery   35  Male  \n",
       "1239  Level 2 Recovery   48  Male  \n",
       "1587  Level 3 Recovery   80  Male  \n",
       "997   Level 2 Recovery   37  Male  \n",
       "218   Level 0 Recovery   18  Male  "
      ]
     },
     "execution_count": 259,
     "metadata": {},
     "output_type": "execute_result"
    }
   ],
   "source": [
    "# Importing dataset and printing any 5 random rows\n",
    "\n",
    "df = pd.read_csv(\"bank_data.csv\")\n",
    "df.sample(5)"
   ]
  },
  {
   "cell_type": "code",
   "execution_count": 260,
   "id": "dc601868",
   "metadata": {},
   "outputs": [
    {
     "data": {
      "text/plain": [
       "id                          0\n",
       "expected_recovery_amount    0\n",
       "actual_recovery_amount      0\n",
       "recovery_strategy           0\n",
       "age                         0\n",
       "sex                         0\n",
       "dtype: int64"
      ]
     },
     "execution_count": 260,
     "metadata": {},
     "output_type": "execute_result"
    }
   ],
   "source": [
    "df.isnull().sum()"
   ]
  },
  {
   "cell_type": "code",
   "execution_count": 261,
   "id": "1b0d373b",
   "metadata": {},
   "outputs": [
    {
     "data": {
      "text/plain": [
       "(1882, 6)"
      ]
     },
     "execution_count": 261,
     "metadata": {},
     "output_type": "execute_result"
    }
   ],
   "source": [
    "df.shape"
   ]
  },
  {
   "cell_type": "code",
   "execution_count": 262,
   "id": "f8e4e1ff",
   "metadata": {},
   "outputs": [
    {
     "name": "stdout",
     "output_type": "stream",
     "text": [
      "<class 'pandas.core.frame.DataFrame'>\n",
      "RangeIndex: 1882 entries, 0 to 1881\n",
      "Data columns (total 6 columns):\n",
      " #   Column                    Non-Null Count  Dtype  \n",
      "---  ------                    --------------  -----  \n",
      " 0   id                        1882 non-null   int64  \n",
      " 1   expected_recovery_amount  1882 non-null   int64  \n",
      " 2   actual_recovery_amount    1882 non-null   float64\n",
      " 3   recovery_strategy         1882 non-null   object \n",
      " 4   age                       1882 non-null   int64  \n",
      " 5   sex                       1882 non-null   object \n",
      "dtypes: float64(1), int64(3), object(2)\n",
      "memory usage: 88.3+ KB\n"
     ]
    }
   ],
   "source": [
    "df.info()"
   ]
  },
  {
   "cell_type": "code",
   "execution_count": 263,
   "id": "75f55ffb",
   "metadata": {},
   "outputs": [
    {
     "data": {
      "text/html": [
       "<div>\n",
       "<style scoped>\n",
       "    .dataframe tbody tr th:only-of-type {\n",
       "        vertical-align: middle;\n",
       "    }\n",
       "\n",
       "    .dataframe tbody tr th {\n",
       "        vertical-align: top;\n",
       "    }\n",
       "\n",
       "    .dataframe thead th {\n",
       "        text-align: right;\n",
       "    }\n",
       "</style>\n",
       "<table border=\"1\" class=\"dataframe\">\n",
       "  <thead>\n",
       "    <tr style=\"text-align: right;\">\n",
       "      <th></th>\n",
       "      <th>id</th>\n",
       "      <th>expected_recovery_amount</th>\n",
       "      <th>actual_recovery_amount</th>\n",
       "      <th>age</th>\n",
       "    </tr>\n",
       "  </thead>\n",
       "  <tbody>\n",
       "    <tr>\n",
       "      <th>count</th>\n",
       "      <td>1882.000000</td>\n",
       "      <td>1882.000000</td>\n",
       "      <td>1882.000000</td>\n",
       "      <td>1882.000000</td>\n",
       "    </tr>\n",
       "    <tr>\n",
       "      <th>mean</th>\n",
       "      <td>1035.596174</td>\n",
       "      <td>2759.967588</td>\n",
       "      <td>4000.967837</td>\n",
       "      <td>39.650372</td>\n",
       "    </tr>\n",
       "    <tr>\n",
       "      <th>std</th>\n",
       "      <td>591.458429</td>\n",
       "      <td>2019.826565</td>\n",
       "      <td>4576.506350</td>\n",
       "      <td>15.453072</td>\n",
       "    </tr>\n",
       "    <tr>\n",
       "      <th>min</th>\n",
       "      <td>6.000000</td>\n",
       "      <td>194.000000</td>\n",
       "      <td>200.425000</td>\n",
       "      <td>18.000000</td>\n",
       "    </tr>\n",
       "    <tr>\n",
       "      <th>25%</th>\n",
       "      <td>534.250000</td>\n",
       "      <td>1261.250000</td>\n",
       "      <td>1045.190300</td>\n",
       "      <td>28.000000</td>\n",
       "    </tr>\n",
       "    <tr>\n",
       "      <th>50%</th>\n",
       "      <td>1029.500000</td>\n",
       "      <td>2062.000000</td>\n",
       "      <td>2115.446373</td>\n",
       "      <td>35.000000</td>\n",
       "    </tr>\n",
       "    <tr>\n",
       "      <th>75%</th>\n",
       "      <td>1551.750000</td>\n",
       "      <td>3569.500000</td>\n",
       "      <td>5417.237207</td>\n",
       "      <td>50.000000</td>\n",
       "    </tr>\n",
       "    <tr>\n",
       "      <th>max</th>\n",
       "      <td>2056.000000</td>\n",
       "      <td>9964.000000</td>\n",
       "      <td>34398.479710</td>\n",
       "      <td>84.000000</td>\n",
       "    </tr>\n",
       "  </tbody>\n",
       "</table>\n",
       "</div>"
      ],
      "text/plain": [
       "                id  expected_recovery_amount  actual_recovery_amount  \\\n",
       "count  1882.000000               1882.000000             1882.000000   \n",
       "mean   1035.596174               2759.967588             4000.967837   \n",
       "std     591.458429               2019.826565             4576.506350   \n",
       "min       6.000000                194.000000              200.425000   \n",
       "25%     534.250000               1261.250000             1045.190300   \n",
       "50%    1029.500000               2062.000000             2115.446373   \n",
       "75%    1551.750000               3569.500000             5417.237207   \n",
       "max    2056.000000               9964.000000            34398.479710   \n",
       "\n",
       "               age  \n",
       "count  1882.000000  \n",
       "mean     39.650372  \n",
       "std      15.453072  \n",
       "min      18.000000  \n",
       "25%      28.000000  \n",
       "50%      35.000000  \n",
       "75%      50.000000  \n",
       "max      84.000000  "
      ]
     },
     "execution_count": 263,
     "metadata": {},
     "output_type": "execute_result"
    }
   ],
   "source": [
    "df.describe()"
   ]
  },
  {
   "cell_type": "code",
   "execution_count": 264,
   "id": "2e09ce36",
   "metadata": {},
   "outputs": [
    {
     "data": {
      "text/plain": [
       "([<matplotlib.patches.Wedge at 0x297663549a0>,\n",
       "  <matplotlib.patches.Wedge at 0x29766361100>],\n",
       " [Text(-0.058730827510827886, 1.098431012808676, 'Male'),\n",
       "  Text(0.05873082751082775, -1.098431012808676, 'Female')],\n",
       " [Text(-0.03203499682408793, 0.5991441888047323, '51.700%'),\n",
       "  Text(0.03203499682408786, -0.5991441888047323, '48.300%')])"
      ]
     },
     "execution_count": 264,
     "metadata": {},
     "output_type": "execute_result"
    },
    {
     "data": {
      "image/png": "[encoded data removed]",
      "text/plain": [
       "<Figure size 720x360 with 1 Axes>"
      ]
     },
     "metadata": {},
     "output_type": "display_data"
    }
   ],
   "source": [
    "gender = df.sex.value_counts()\n",
    "plt.figure(figsize=(10,5))\n",
    "plt.title(\"Male Female ratio\")\n",
    "plt.pie(gender, labels=gender.index, autopct='%1.3f%%')"
   ]
  },
  {
   "cell_type": "markdown",
   "id": "f45bbc63",
   "metadata": {},
   "source": [
    "# Graphical exploratory data analysis\n",
    "\n",
    "Does the customer age show a jump (discontinuity) at the \\\\$1000 threshold or does that age vary smoothly? We can examine this by first making a scatter plot of the age as a function of Expected Recovery Amount for a small window of Expected Recovery Amount, \\\\$0 to \\\\$2000. This range covers Levels 0 and 1."
   ]
  },
  {
   "cell_type": "code",
   "execution_count": 265,
   "id": "1f152cc7",
   "metadata": {},
   "outputs": [
    {
     "data": {
      "image/png": "[encoded data removed]",
      "text/plain": [
       "<Figure size 432x288 with 1 Axes>"
      ]
     },
     "metadata": {
      "needs_background": "light"
     },
     "output_type": "display_data"
    }
   ],
   "source": [
    "''' We can notice from the scatter plot that customer age didn't show a jump(discontinuity) at the \n",
    " $1000 threshold,so it means that age vary smoothly. '''\n",
    "\n",
    "plt.scatter(x=df['expected_recovery_amount'], y=df['age'])\n",
    "plt.xlim(0,2000)\n",
    "plt.xlabel(\"Expected_recovery_amount\")\n",
    "plt.ylabel(\"Age\")\n",
    "plt.title(\"Age versus Expected Recovery Amount\")\n",
    "plt.show()"
   ]
  },
  {
   "cell_type": "markdown",
   "id": "aab168cd",
   "metadata": {},
   "source": [
    "# Statistical test: age vs expected recovery amount\n",
    "\n",
    "We want to convince ourselves that variables such as age and sex are similar above and below the \\\\$1000 Expected Recovery Amount threshold. We will be more confident in our conclusions if we do statistical analysis examining the average age of the customers just above and just below the threshold. We can start by exploring the range from \\\\$900 to \\\\$1100."
   ]
  },
  {
   "cell_type": "code",
   "execution_count": 266,
   "id": "2727d235",
   "metadata": {},
   "outputs": [
    {
     "data": {
      "image/png": "[encoded data removed]",
      "text/plain": [
       "<Figure size 432x288 with 1 Axes>"
      ]
     },
     "metadata": {
      "needs_background": "light"
     },
     "output_type": "display_data"
    }
   ],
   "source": [
    "''' We can notice from the scatter plot that customer age didn't show a jump(discontinuity) at just \n",
    "above and just below the threshold, so it confirms that age vary smoothly. '''\n",
    "\n",
    "plt.scatter(x=df['expected_recovery_amount'], y=df['age'])\n",
    "plt.xlim(900,1100)\n",
    "plt.xlabel(\"Expected_recovery_amount\")\n",
    "plt.ylabel(\"Age\")\n",
    "plt.title(\"Age versus Expected Recovery Amount\")\n",
    "plt.show()"
   ]
  },
  {
   "cell_type": "markdown",
   "id": "8ac91d37",
   "metadata": {},
   "source": [
    "We are now sure that customers just above and just below the $1000 threshold are, on average, similar in terms of their age."
   ]
  },
  {
   "cell_type": "markdown",
   "id": "82c7aeb6",
   "metadata": {},
   "source": [
    "# Statistical test: sex vs expected recovery amount\n",
    "We want to also test that the percentage of customers that are male does not jump as well across the \\\\$1000 threshold. We can start by exploring the range of \\\\$900 to \\\\$1100 and later adjust this range."
   ]
  },
  {
   "cell_type": "code",
   "execution_count": 267,
   "id": "55b5c781",
   "metadata": {},
   "outputs": [
    {
     "data": {
      "text/plain": [
       "Text(0.5, 1.0, 'Sex versus Expected Recovery Amount')"
      ]
     },
     "execution_count": 267,
     "metadata": {},
     "output_type": "execute_result"
    },
    {
     "data": {
      "image/png": "[encoded data removed]",
      "text/plain": [
       "<Figure size 432x288 with 1 Axes>"
      ]
     },
     "metadata": {
      "needs_background": "light"
     },
     "output_type": "display_data"
    }
   ],
   "source": [
    "'''By exploring relation graphically with a scatter plot, we can now be able to convince ourselves that\n",
    "there is no major jump in the average customer age just above and just below the $1000 threshold'''\n",
    "\n",
    "sns.scatterplot(y='expected_recovery_amount', x='sex', data=df)\n",
    "plt.ylim(900,1100)\n",
    "plt.title(\"Sex versus Expected Recovery Amount\")"
   ]
  },
  {
   "cell_type": "code",
   "execution_count": 268,
   "id": "061b0cdf",
   "metadata": {},
   "outputs": [
    {
     "data": {
      "text/plain": [
       "Text(0.5, 1.0, 'Sex versus Expected Recovery Amount')"
      ]
     },
     "execution_count": 268,
     "metadata": {},
     "output_type": "execute_result"
    },
    {
     "data": {
      "image/png": "[encoded data removed]",
      "text/plain": [
       "<Figure size 432x288 with 1 Axes>"
      ]
     },
     "metadata": {
      "needs_background": "light"
     },
     "output_type": "display_data"
    }
   ],
   "source": [
    "''' We can get more better intuition that there is no major jump in the average customer age just \n",
    "above and just below the $1000 threshold by plotting strip plot'''\n",
    "\n",
    "sns.stripplot(y='expected_recovery_amount', x='sex', data=df)\n",
    "plt.ylim(900,1100)\n",
    "plt.title(\"Sex versus Expected Recovery Amount\")"
   ]
  },
  {
   "cell_type": "markdown",
   "id": "b3fe404f",
   "metadata": {},
   "source": [
    "We are now sure that customers just above and just below the $1000 threshold are, on average, similar in terms of their sex."
   ]
  },
  {
   "cell_type": "markdown",
   "id": "c05cb547",
   "metadata": {},
   "source": [
    "# Exploratory graphical analysis: recovery amount\n",
    "\n",
    "Develop a scatter plot of Expected Recovery Amount (Y) vs. Actual Recovery Amount (X) for Expected Recovery Amounts between \\\\$900 to \\\\$1100. A key question is whether or not we see a discontinuity (jump) around the \\\\$1000 threshold."
   ]
  },
  {
   "cell_type": "code",
   "execution_count": 269,
   "id": "bdabf898",
   "metadata": {},
   "outputs": [
    {
     "data": {
      "image/png": "[encoded data removed]",
      "text/plain": [
       "<Figure size 432x288 with 1 Axes>"
      ]
     },
     "metadata": {
      "needs_background": "light"
     },
     "output_type": "display_data"
    }
   ],
   "source": [
    "'''There is no discontinuity (jump) around the $1000 threshold for the relation between \n",
    "Expected Recovery Amount (Y) vs. Actual Recovery Amount (X) for Expected Recovery Amounts between \n",
    "\\\\$900 to \\\\$1100'''\n",
    "\n",
    "plt.scatter(x=df['actual_recovery_amount'], y=df['expected_recovery_amount'])\n",
    "plt.ylim(900,1100)\n",
    "plt.xlim(0,4000)\n",
    "plt.xlabel(\"Actual_recovery_amount\")\n",
    "plt.ylabel(\"Expected_recovery_amount\")\n",
    "plt.title(\"Actual Recovery Amount versus Expected Recovery Amount\")\n",
    "plt.show()"
   ]
  },
  {
   "cell_type": "markdown",
   "id": "c3f40a5b",
   "metadata": {},
   "source": [
    "For the relation between Expected Recovery Amount (Y) vs. Actual Recovery Amount (X) for Expected Recovery Amounts between \\\\$900 to \\\\$1100, there is no discontinuity (jump) around the \\\\$1000 threshold."
   ]
  },
  {
   "cell_type": "markdown",
   "id": "b32befc5",
   "metadata": {},
   "source": [
    "# Statistical analysis: Recovery amount\n",
    "\n",
    "Perform statistical tests to see if the actual recovery amount has a discontinuity above the \\\\$1000 threshold. We are going to do this for two different windows of the expected recovery amount \\\\$900 to $1100 and for a narrow range of \\\\$950 to \\\\$1050 to see if our results are consistent.The statistical test we will use is the Kruskal-Wallis test."
   ]
  },
  {
   "cell_type": "code",
   "execution_count": 270,
   "id": "f20cabfc",
   "metadata": {},
   "outputs": [
    {
     "name": "stdout",
     "output_type": "stream",
     "text": [
      "There is a significant discontinuity above the $1000 threshold for the first window.\n",
      "The Kruskal-Wallis test p-value is: 6.177308752803109e-16\n"
     ]
    }
   ],
   "source": [
    "'''Kruskal-Wallis test to see if the actual recovery amount has a discontinuity above the $1000 \n",
    "threshold for the window of expected recovery amount $900 to $1100'''\n",
    "\n",
    "diff_900_1100 = df.loc[(df['expected_recovery_amount']<1100) & (df['expected_recovery_amount']>=900)]\n",
    "\n",
    "by_recovery_strategy = diff_900_1100.groupby(['recovery_strategy'])\n",
    "by_recovery_strategy['actual_recovery_amount'].describe().unstack()\n",
    "\n",
    "\n",
    "below_threshold_window_1 = diff_900_1100.loc[df['recovery_strategy']=='Level 0 Recovery']['actual_recovery_amount']\n",
    "above_threshold_window_1 = diff_900_1100.loc[df['recovery_strategy']=='Level 1 Recovery']['actual_recovery_amount']\n",
    "\n",
    "# Kruskal-Wallis test\n",
    "statistic_window_1, p_value_window_1 = stats.kruskal(below_threshold_window_1,above_threshold_window_1)\n",
    "\n",
    "# Setting significance level\n",
    "alpha = 0.05  # Commonly, we set significance level 0.05\n",
    "\n",
    "if p_value_window_1 < alpha:\n",
    "    print(\"There is a significant discontinuity above the $1000 threshold for the first window.\")\n",
    "    print(\"The Kruskal-Wallis test p-value is:\", p_value_window_1)\n",
    "else:\n",
    "    print(\"There is no significant discontinuity above the $1000 threshold for the first window.\")\n",
    "    print(\"The Kruskal-Wallis test p-value is:\", p_value_window_1)"
   ]
  },
  {
   "cell_type": "code",
   "execution_count": 271,
   "id": "31cf481a",
   "metadata": {},
   "outputs": [
    {
     "name": "stdout",
     "output_type": "stream",
     "text": [
      "There is a significant discontinuity above the $1000 threshold for the second window.\n",
      "The Kruskal-Wallis test p-value is: 3.80575314300276e-08\n"
     ]
    }
   ],
   "source": [
    "'''Kruskal-Wallis test to see if the actual recovery amount has a discontinuity above the $1000 \n",
    "threshold for the window of expected recovery amount $950 to $1050'''\n",
    "\n",
    "diff_950_1050 = df.loc[(df['expected_recovery_amount']<1050) & (df['expected_recovery_amount']>=950)]\n",
    "\n",
    "below_threshold_window_2 = diff_950_1050.loc[df['recovery_strategy']=='Level 0 Recovery']['actual_recovery_amount']\n",
    "above_threshold_window_2  = diff_950_1050.loc[df['recovery_strategy']=='Level 1 Recovery']['actual_recovery_amount']\n",
    "\n",
    "# Kruskal Wallis test\n",
    "statistic_window_2, p_value_window_2 =stats.kruskal(below_threshold_window_2,above_threshold_window_2)\n",
    "\n",
    "if p_value_window_2 < alpha:\n",
    "    print(\"There is a significant discontinuity above the $1000 threshold for the second window.\")\n",
    "    print(\"The Kruskal-Wallis test p-value is:\", p_value_window_2)\n",
    "else:\n",
    "    print(\"There is no significant discontinuity above the $1000 threshold for the second window.\")\n",
    "    print(\"The Kruskal-Wallis test p-value is:\", p_value_window_2)"
   ]
  },
  {
   "cell_type": "markdown",
   "id": "4fb2e5c0",
   "metadata": {},
   "source": [
    "This results provides strong evidence that there is indeed a significant difference in the 'actual recovery amount' between the windows under consideration."
   ]
  },
  {
   "cell_type": "markdown",
   "id": "95512e7c",
   "metadata": {},
   "source": [
    "# Regression modeling: no threshold\n",
    "\n",
    "Regression-based approach to estimate the impact of the program at the \\\\$1000 threshold using the data that is just above and just below the threshold. In order to do that, the first model does not have a threshold.\n",
    "\n",
    "The model predicts the actual recovery amount (outcome or dependent variable) as a function of the expected recovery amount (input or independent variable). We expect that there will be a strong positive relationship between these two variables."
   ]
  },
  {
   "cell_type": "code",
   "execution_count": 272,
   "id": "f590cc27",
   "metadata": {},
   "outputs": [
    {
     "name": "stdout",
     "output_type": "stream",
     "text": [
      "                              OLS Regression Results                              \n",
      "==================================================================================\n",
      "Dep. Variable:     actual_recovery_amount   R-squared:                       0.261\n",
      "Model:                                OLS   Adj. R-squared:                  0.256\n",
      "Method:                     Least Squares   F-statistic:                     63.78\n",
      "Date:                    Fri, 21 Jul 2023   Prob (F-statistic):           1.56e-13\n",
      "Time:                            17:56:42   Log-Likelihood:                -1278.9\n",
      "No. Observations:                     183   AIC:                             2562.\n",
      "Df Residuals:                         181   BIC:                             2568.\n",
      "Df Model:                               1                                         \n",
      "Covariance Type:                nonrobust                                         \n",
      "============================================================================================\n",
      "                               coef    std err          t      P>|t|      [0.025      0.975]\n",
      "--------------------------------------------------------------------------------------------\n",
      "const                    -1978.7597    347.741     -5.690      0.000   -2664.907   -1292.612\n",
      "expected_recovery_amount     2.7577      0.345      7.986      0.000       2.076       3.439\n",
      "==============================================================================\n",
      "Omnibus:                       64.493   Durbin-Watson:                   1.777\n",
      "Prob(Omnibus):                  0.000   Jarque-Bera (JB):              185.818\n",
      "Skew:                           1.463   Prob(JB):                     4.47e-41\n",
      "Kurtosis:                       6.977   Cond. No.                     1.80e+04\n",
      "==============================================================================\n",
      "\n",
      "Notes:\n",
      "[1] Standard Errors assume that the covariance matrix of the errors is correctly specified.\n",
      "[2] The condition number is large, 1.8e+04. This might indicate that there are\n",
      "strong multicollinearity or other numerical problems.\n"
     ]
    }
   ],
   "source": [
    "import statsmodels.api as sm\n",
    "\n",
    "expected_recovery_amount = diff_900_1100['expected_recovery_amount'] \n",
    "actual_recovery_amount = diff_900_1100['actual_recovery_amount']\n",
    "\n",
    "# Fit the first model (without threshold)\n",
    "expected_recovery_amount = sm.add_constant(expected_recovery_amount)\n",
    "model = sm.OLS(actual_recovery_amount, expected_recovery_amount).fit()\n",
    "\n",
    "# Print the first model summary\n",
    "print(model.summary())"
   ]
  },
  {
   "cell_type": "markdown",
   "id": "f6e29e20",
   "metadata": {},
   "source": [
    "The adjusted R-squared value is about 0.261."
   ]
  },
  {
   "cell_type": "markdown",
   "id": "df4c5ff8",
   "metadata": {},
   "source": [
    "# Regression modeling: adding true threshold\n",
    "\n",
    "The model adds an indicator of the true threshold to the model. If there was no impact of the higher recovery strategy on the actual recovery amount, then we would expect that the relationship between the expected recovery amount and the actual recovery amount would be continuous."
   ]
  },
  {
   "cell_type": "code",
   "execution_count": 273,
   "id": "d00d6fc2",
   "metadata": {},
   "outputs": [
    {
     "name": "stdout",
     "output_type": "stream",
     "text": [
      "                              OLS Regression Results                              \n",
      "==================================================================================\n",
      "Dep. Variable:     actual_recovery_amount   R-squared:                       0.314\n",
      "Model:                                OLS   Adj. R-squared:                  0.307\n",
      "Method:                     Least Squares   F-statistic:                     41.22\n",
      "Date:                    Fri, 21 Jul 2023   Prob (F-statistic):           1.83e-15\n",
      "Time:                            17:56:42   Log-Likelihood:                -1272.0\n",
      "No. Observations:                     183   AIC:                             2550.\n",
      "Df Residuals:                         180   BIC:                             2560.\n",
      "Df Model:                               2                                         \n",
      "Covariance Type:                nonrobust                                         \n",
      "==============================================================================\n",
      "                 coef    std err          t      P>|t|      [0.025      0.975]\n",
      "------------------------------------------------------------------------------\n",
      "const          3.3440    626.274      0.005      0.996   -1232.440    1239.128\n",
      "x1             0.6430      0.655      0.981      0.328      -0.650       1.936\n",
      "x2           277.6344     74.043      3.750      0.000     131.530     423.739\n",
      "==============================================================================\n",
      "Omnibus:                       65.977   Durbin-Watson:                   1.906\n",
      "Prob(Omnibus):                  0.000   Jarque-Bera (JB):              186.537\n",
      "Skew:                           1.510   Prob(JB):                     3.12e-41\n",
      "Kurtosis:                       6.917   Cond. No.                     3.37e+04\n",
      "==============================================================================\n",
      "\n",
      "Notes:\n",
      "[1] Standard Errors assume that the covariance matrix of the errors is correctly specified.\n",
      "[2] The condition number is large, 3.37e+04. This might indicate that there are\n",
      "strong multicollinearity or other numerical problems.\n"
     ]
    }
   ],
   "source": [
    "expected_recovery_amount = diff_900_1100['expected_recovery_amount'] \n",
    "actual_recovery_amount = diff_900_1100['actual_recovery_amount']\n",
    "\n",
    "# Binary indicator variable\n",
    "binary_indicator = np.where(expected_recovery_amount <1000, 0, 1)\n",
    "\n",
    "# Fit the model (with threshold indicator)\n",
    "X = sm.add_constant(expected_recovery_amount)\n",
    "X = np.column_stack((X, binary_indicator))\n",
    "\n",
    "model_2 = sm.OLS(actual_recovery_amount, X).fit()\n",
    "\n",
    "print(model_2.summary())"
   ]
  },
  {
   "cell_type": "markdown",
   "id": "a297d883",
   "metadata": {},
   "source": [
    "The adjusted R-squared value is about 0.314."
   ]
  },
  {
   "cell_type": "markdown",
   "id": "d6db1900",
   "metadata": {},
   "source": [
    "# Regression modeling: adjusting the window"
   ]
  },
  {
   "cell_type": "code",
   "execution_count": 274,
   "id": "16c77ad1",
   "metadata": {},
   "outputs": [
    {
     "name": "stdout",
     "output_type": "stream",
     "text": [
      "                              OLS Regression Results                              \n",
      "==================================================================================\n",
      "Dep. Variable:     actual_recovery_amount   R-squared:                       0.287\n",
      "Model:                                OLS   Adj. R-squared:                  0.273\n",
      "Method:                     Least Squares   F-statistic:                     19.55\n",
      "Date:                    Fri, 21 Jul 2023   Prob (F-statistic):           7.33e-08\n",
      "Time:                            17:56:42   Log-Likelihood:                -699.42\n",
      "No. Observations:                     100   AIC:                             1405.\n",
      "Df Residuals:                          97   BIC:                             1413.\n",
      "Df Model:                               2                                         \n",
      "Covariance Type:                nonrobust                                         \n",
      "==============================================================================\n",
      "                 coef    std err          t      P>|t|      [0.025      0.975]\n",
      "------------------------------------------------------------------------------\n",
      "const       -310.8225   1808.751     -0.172      0.864   -3900.692    3279.047\n",
      "x1             0.9510      1.854      0.513      0.609      -2.728       4.630\n",
      "x2           285.5160    110.391      2.586      0.011      66.421     504.611\n",
      "==============================================================================\n",
      "Omnibus:                       39.881   Durbin-Watson:                   1.955\n",
      "Prob(Omnibus):                  0.000   Jarque-Bera (JB):               84.700\n",
      "Skew:                           1.568   Prob(JB):                     4.05e-19\n",
      "Kurtosis:                       6.239   Cond. No.                     6.76e+04\n",
      "==============================================================================\n",
      "\n",
      "Notes:\n",
      "[1] Standard Errors assume that the covariance matrix of the errors is correctly specified.\n",
      "[2] The condition number is large, 6.76e+04. This might indicate that there are\n",
      "strong multicollinearity or other numerical problems.\n"
     ]
    }
   ],
   "source": [
    "# Filter the data within the new window of $950 to $1050\n",
    "data = df[(df['expected_recovery_amount'] >= 950) & (df['expected_recovery_amount'] <= 1050)]\n",
    "\n",
    "Expected_recovery_amount = data['expected_recovery_amount']\n",
    "Actual_recovery_amount = data['actual_recovery_amount']\n",
    "\n",
    "Binary_indicator = np.where(Expected_recovery_amount < 1000, 0, 1)\n",
    "\n",
    "# Fit the model for the new window (with threshold indicator)\n",
    "X_new = sm.add_constant(Expected_recovery_amount)\n",
    "X_new = np.column_stack((X_new, Binary_indicator))\n",
    "\n",
    "model_3 = sm.OLS(Actual_recovery_amount, X_new).fit()\n",
    "\n",
    "print(model_3.summary())\n"
   ]
  },
  {
   "cell_type": "code",
   "execution_count": null,
   "id": "9ced07a2",
   "metadata": {},
   "outputs": [],
   "source": []
  }
 ],
 "metadata": {
  "kernelspec": {
   "display_name": "Python 3 (ipykernel)",
   "language": "python",
   "name": "python3"
  },
  "language_info": {
   "codemirror_mode": {
    "name": "ipython",
    "version": 3
   },
   "file_extension": ".py",
   "mimetype": "text/x-python",
   "name": "python",
   "nbconvert_exporter": "python",
   "pygments_lexer": "ipython3",
   "version": "3.9.12"
  }
 },
 "nbformat": 4,
 "nbformat_minor": 5
}
