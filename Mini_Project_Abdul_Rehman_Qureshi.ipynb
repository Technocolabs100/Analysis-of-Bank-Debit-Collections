{
  "nbformat": 4,
  "nbformat_minor": 0,
  "metadata": {
    "colab": {
      "provenance": []
    },
    "kernelspec": {
      "name": "python3",
      "display_name": "Python 3"
    },
    "language_info": {
      "name": "python"
    }
  },
  "cells": [
    {
      "cell_type": "markdown",
      "source": [
        "# **1. Regression discontinuity: banking recovery**\n",
        "After a debt has been legally declared \"uncollectable\" by a bank, the account is considered \"charged-off.\" But that doesn't mean the bank walks away from the debt. They still want to collect some of the money they are owed. The bank will score the account to assess the expected recovery amount, that is, the expected amount that the bank may be able to receive from the customer in the future. This amount is a function of the probability of the customer paying, the total debt, and other factors that impact the ability and willingness to pay.\n",
        "\n",
        "The bank has implemented different recovery strategies at different thresholds ($1000, $2000, etc.) where the greater the expected recovery amount, the more effort the bank puts into contacting the customer. For low recovery amounts (Level 0), the bank just adds the customer's contact information to their automatic dialer and emailing system. For higher recovery strategies, the bank incurs more costs as they leverage human resources in more efforts to obtain payments.\n",
        "\n",
        "Each additional level of recovery strategy requires an additional $50 per customer so that customers in the Recovery Strategy Level 1 cost the company $50 more than those in Level 0. Customers in Level 2 cost $50 more than those in Level 1, etc.\n",
        "\n",
        "The big question: does the extra amount that is recovered at the higher strategy level exceed the extra $50 in costs? In other words, was there a jump (also called a \"discontinuity\") of more than $50 in the amount recovered at the higher strategy level? We'll find out in this notebook.\n",
        "\n",
        "First, we'll load the banking dataset and look at the first few rows of data. This lets us understand the dataset itself and begin thinking about how to analyze the data."
      ],
      "metadata": {
        "id": "8Pa5NWP9wrOJ"
      }
    },
    {
      "cell_type": "code",
      "execution_count": 1,
      "metadata": {
        "colab": {
          "base_uri": "https://localhost:8080/",
          "height": 206
        },
        "id": "fo9r6aWJweJE",
        "outputId": "9cb5e17c-6298-4308-b89b-1183b850fbd5"
      },
      "outputs": [
        {
          "output_type": "execute_result",
          "data": {
            "text/plain": [
              "     id  expected_recovery_amount  actual_recovery_amount recovery_strategy  \\\n",
              "0  2030                       194                 263.540  Level 0 Recovery   \n",
              "1  1150                       486                 416.090  Level 0 Recovery   \n",
              "2   380                       527                 429.350  Level 0 Recovery   \n",
              "3  1838                       536                 296.990  Level 0 Recovery   \n",
              "4  1995                       541                 346.385  Level 0 Recovery   \n",
              "\n",
              "   age     sex  \n",
              "0   19    Male  \n",
              "1   25  Female  \n",
              "2   27    Male  \n",
              "3   25    Male  \n",
              "4   34    Male  "
            ],
            "text/html": [
              "\n",
              "\n",
              "  <div id=\"df-290c3fbc-20c0-436b-8686-b974bd0f7460\">\n",
              "    <div class=\"colab-df-container\">\n",
              "      <div>\n",
              "<style scoped>\n",
              "    .dataframe tbody tr th:only-of-type {\n",
              "        vertical-align: middle;\n",
              "    }\n",
              "\n",
              "    .dataframe tbody tr th {\n",
              "        vertical-align: top;\n",
              "    }\n",
              "\n",
              "    .dataframe thead th {\n",
              "        text-align: right;\n",
              "    }\n",
              "</style>\n",
              "<table border=\"1\" class=\"dataframe\">\n",
              "  <thead>\n",
              "    <tr style=\"text-align: right;\">\n",
              "      <th></th>\n",
              "      <th>id</th>\n",
              "      <th>expected_recovery_amount</th>\n",
              "      <th>actual_recovery_amount</th>\n",
              "      <th>recovery_strategy</th>\n",
              "      <th>age</th>\n",
              "      <th>sex</th>\n",
              "    </tr>\n",
              "  </thead>\n",
              "  <tbody>\n",
              "    <tr>\n",
              "      <th>0</th>\n",
              "      <td>2030</td>\n",
              "      <td>194</td>\n",
              "      <td>263.540</td>\n",
              "      <td>Level 0 Recovery</td>\n",
              "      <td>19</td>\n",
              "      <td>Male</td>\n",
              "    </tr>\n",
              "    <tr>\n",
              "      <th>1</th>\n",
              "      <td>1150</td>\n",
              "      <td>486</td>\n",
              "      <td>416.090</td>\n",
              "      <td>Level 0 Recovery</td>\n",
              "      <td>25</td>\n",
              "      <td>Female</td>\n",
              "    </tr>\n",
              "    <tr>\n",
              "      <th>2</th>\n",
              "      <td>380</td>\n",
              "      <td>527</td>\n",
              "      <td>429.350</td>\n",
              "      <td>Level 0 Recovery</td>\n",
              "      <td>27</td>\n",
              "      <td>Male</td>\n",
              "    </tr>\n",
              "    <tr>\n",
              "      <th>3</th>\n",
              "      <td>1838</td>\n",
              "      <td>536</td>\n",
              "      <td>296.990</td>\n",
              "      <td>Level 0 Recovery</td>\n",
              "      <td>25</td>\n",
              "      <td>Male</td>\n",
              "    </tr>\n",
              "    <tr>\n",
              "      <th>4</th>\n",
              "      <td>1995</td>\n",
              "      <td>541</td>\n",
              "      <td>346.385</td>\n",
              "      <td>Level 0 Recovery</td>\n",
              "      <td>34</td>\n",
              "      <td>Male</td>\n",
              "    </tr>\n",
              "  </tbody>\n",
              "</table>\n",
              "</div>\n",
              "      <button class=\"colab-df-convert\" onclick=\"convertToInteractive('df-290c3fbc-20c0-436b-8686-b974bd0f7460')\"\n",
              "              title=\"Convert this dataframe to an interactive table.\"\n",
              "              style=\"display:none;\">\n",
              "\n",
              "  <svg xmlns=\"http://www.w3.org/2000/svg\" height=\"24px\"viewBox=\"0 0 24 24\"\n",
              "       width=\"24px\">\n",
              "    <path d=\"M0 0h24v24H0V0z\" fill=\"none\"/>\n",
              "    <path d=\"M18.56 5.44l.94 2.06.94-2.06 2.06-.94-2.06-.94-.94-2.06-.94 2.06-2.06.94zm-11 1L8.5 8.5l.94-2.06 2.06-.94-2.06-.94L8.5 2.5l-.94 2.06-2.06.94zm10 10l.94 2.06.94-2.06 2.06-.94-2.06-.94-.94-2.06-.94 2.06-2.06.94z\"/><path d=\"M17.41 7.96l-1.37-1.37c-.4-.4-.92-.59-1.43-.59-.52 0-1.04.2-1.43.59L10.3 9.45l-7.72 7.72c-.78.78-.78 2.05 0 2.83L4 21.41c.39.39.9.59 1.41.59.51 0 1.02-.2 1.41-.59l7.78-7.78 2.81-2.81c.8-.78.8-2.07 0-2.86zM5.41 20L4 18.59l7.72-7.72 1.47 1.35L5.41 20z\"/>\n",
              "  </svg>\n",
              "      </button>\n",
              "\n",
              "\n",
              "\n",
              "    <div id=\"df-a5925958-bfe4-41a6-8759-d77dc3c4b24d\">\n",
              "      <button class=\"colab-df-quickchart\" onclick=\"quickchart('df-a5925958-bfe4-41a6-8759-d77dc3c4b24d')\"\n",
              "              title=\"Suggest charts.\"\n",
              "              style=\"display:none;\">\n",
              "\n",
              "<svg xmlns=\"http://www.w3.org/2000/svg\" height=\"24px\"viewBox=\"0 0 24 24\"\n",
              "     width=\"24px\">\n",
              "    <g>\n",
              "        <path d=\"M19 3H5c-1.1 0-2 .9-2 2v14c0 1.1.9 2 2 2h14c1.1 0 2-.9 2-2V5c0-1.1-.9-2-2-2zM9 17H7v-7h2v7zm4 0h-2V7h2v10zm4 0h-2v-4h2v4z\"/>\n",
              "    </g>\n",
              "</svg>\n",
              "      </button>\n",
              "    </div>\n",
              "\n",
              "<style>\n",
              "  .colab-df-quickchart {\n",
              "    background-color: #E8F0FE;\n",
              "    border: none;\n",
              "    border-radius: 50%;\n",
              "    cursor: pointer;\n",
              "    display: none;\n",
              "    fill: #1967D2;\n",
              "    height: 32px;\n",
              "    padding: 0 0 0 0;\n",
              "    width: 32px;\n",
              "  }\n",
              "\n",
              "  .colab-df-quickchart:hover {\n",
              "    background-color: #E2EBFA;\n",
              "    box-shadow: 0px 1px 2px rgba(60, 64, 67, 0.3), 0px 1px 3px 1px rgba(60, 64, 67, 0.15);\n",
              "    fill: #174EA6;\n",
              "  }\n",
              "\n",
              "  [theme=dark] .colab-df-quickchart {\n",
              "    background-color: #3B4455;\n",
              "    fill: #D2E3FC;\n",
              "  }\n",
              "\n",
              "  [theme=dark] .colab-df-quickchart:hover {\n",
              "    background-color: #434B5C;\n",
              "    box-shadow: 0px 1px 3px 1px rgba(0, 0, 0, 0.15);\n",
              "    filter: drop-shadow(0px 1px 2px rgba(0, 0, 0, 0.3));\n",
              "    fill: #FFFFFF;\n",
              "  }\n",
              "</style>\n",
              "\n",
              "    <script>\n",
              "      async function quickchart(key) {\n",
              "        const containerElement = document.querySelector('#' + key);\n",
              "        const charts = await google.colab.kernel.invokeFunction(\n",
              "            'suggestCharts', [key], {});\n",
              "      }\n",
              "    </script>\n",
              "\n",
              "      <script>\n",
              "\n",
              "function displayQuickchartButton(domScope) {\n",
              "  let quickchartButtonEl =\n",
              "    domScope.querySelector('#df-a5925958-bfe4-41a6-8759-d77dc3c4b24d button.colab-df-quickchart');\n",
              "  quickchartButtonEl.style.display =\n",
              "    google.colab.kernel.accessAllowed ? 'block' : 'none';\n",
              "}\n",
              "\n",
              "        displayQuickchartButton(document);\n",
              "      </script>\n",
              "      <style>\n",
              "    .colab-df-container {\n",
              "      display:flex;\n",
              "      flex-wrap:wrap;\n",
              "      gap: 12px;\n",
              "    }\n",
              "\n",
              "    .colab-df-convert {\n",
              "      background-color: #E8F0FE;\n",
              "      border: none;\n",
              "      border-radius: 50%;\n",
              "      cursor: pointer;\n",
              "      display: none;\n",
              "      fill: #1967D2;\n",
              "      height: 32px;\n",
              "      padding: 0 0 0 0;\n",
              "      width: 32px;\n",
              "    }\n",
              "\n",
              "    .colab-df-convert:hover {\n",
              "      background-color: #E2EBFA;\n",
              "      box-shadow: 0px 1px 2px rgba(60, 64, 67, 0.3), 0px 1px 3px 1px rgba(60, 64, 67, 0.15);\n",
              "      fill: #174EA6;\n",
              "    }\n",
              "\n",
              "    [theme=dark] .colab-df-convert {\n",
              "      background-color: #3B4455;\n",
              "      fill: #D2E3FC;\n",
              "    }\n",
              "\n",
              "    [theme=dark] .colab-df-convert:hover {\n",
              "      background-color: #434B5C;\n",
              "      box-shadow: 0px 1px 3px 1px rgba(0, 0, 0, 0.15);\n",
              "      filter: drop-shadow(0px 1px 2px rgba(0, 0, 0, 0.3));\n",
              "      fill: #FFFFFF;\n",
              "    }\n",
              "  </style>\n",
              "\n",
              "      <script>\n",
              "        const buttonEl =\n",
              "          document.querySelector('#df-290c3fbc-20c0-436b-8686-b974bd0f7460 button.colab-df-convert');\n",
              "        buttonEl.style.display =\n",
              "          google.colab.kernel.accessAllowed ? 'block' : 'none';\n",
              "\n",
              "        async function convertToInteractive(key) {\n",
              "          const element = document.querySelector('#df-290c3fbc-20c0-436b-8686-b974bd0f7460');\n",
              "          const dataTable =\n",
              "            await google.colab.kernel.invokeFunction('convertToInteractive',\n",
              "                                                     [key], {});\n",
              "          if (!dataTable) return;\n",
              "\n",
              "          const docLinkHtml = 'Like what you see? Visit the ' +\n",
              "            '<a target=\"_blank\" href=https://colab.research.google.com/notebooks/data_table.ipynb>data table notebook</a>'\n",
              "            + ' to learn more about interactive tables.';\n",
              "          element.innerHTML = '';\n",
              "          dataTable['output_type'] = 'display_data';\n",
              "          await google.colab.output.renderOutput(dataTable, element);\n",
              "          const docLink = document.createElement('div');\n",
              "          docLink.innerHTML = docLinkHtml;\n",
              "          element.appendChild(docLink);\n",
              "        }\n",
              "      </script>\n",
              "    </div>\n",
              "  </div>\n"
            ]
          },
          "metadata": {},
          "execution_count": 1
        }
      ],
      "source": [
        "# ...  TASK 1 CODE...\n",
        "import pandas as pd\n",
        "import numpy as np\n",
        "\n",
        "# Read in dataset\n",
        "df = pd.read_csv('bank_data.csv')\n",
        "\n",
        "# Print the first few rows of the DataFrame\n",
        "df.head()"
      ]
    },
    {
      "cell_type": "markdown",
      "source": [
        "# **2. Graphical exploratory data analysis**\n",
        "\n",
        "The bank has implemented different recovery strategies at different thresholds ($1000, $2000, $3000 and $5000) where the greater the Expected Recovery Amount, the more effort the bank puts into contacting the customer. Zeroing in on the first transition (between Level 0 and Level 1) means we are focused on the population with Expected Recovery Amounts between $0 and $2000 where the transition between Levels occurred at $1000. We know that the customers in Level 1 (expected recovery amounts between $1001 and $2000) received more attention from the bank and, by definition, they had higher Expected Recovery Amounts than the customers in Level 0 (between $1 and $1000).\n",
        "\n",
        "Here's a quick summary of the Levels and thresholds again:\n",
        "\n",
        "Level 0: Expected recovery amounts >$0 and <=$1000\n",
        "Level 1: Expected recovery amounts >$1000 and <=$2000\n",
        "The threshold of $1000 separates Level 0 from Level 1\n",
        "A key question is whether there are other factors besides Expected Recovery Amount that also varied systematically across the $1000 threshold. For example, does the customer age show a jump (discontinuity) at the $1000 threshold or does that age vary smoothly? We can examine this by first making a scatter plot of the age as a function of Expected Recovery Amount for a small window of Expected Recovery Amount, $0 to $2000. This range covers Levels 0 and 1."
      ],
      "metadata": {
        "id": "IigM32nSx4Xi"
      }
    },
    {
      "cell_type": "code",
      "source": [
        "# Scatter plot of Age vs. Expected Recovery Amount\n",
        "from matplotlib import pyplot as plt\n",
        "x=df['expected_recovery_amount']\n",
        "y=df['age']\n",
        "s=2\n",
        "plt.scatter(x , y , s )\n",
        "plt.xlim(0, 2000)\n",
        "plt.ylim(0, 60)\n",
        "plt.xlabel('Expected Recovery Amount')\n",
        "plt.ylabel('Age')\n",
        "# ... YOUR CODE FOR TASK 2 ...\n",
        "plt.show()"
      ],
      "metadata": {
        "colab": {
          "base_uri": "https://localhost:8080/",
          "height": 455
        },
        "id": "wn4Lt8Oix3_Z",
        "outputId": "d163fa01-3367-497c-f313-ddf41fd868d7"
      },
      "execution_count": 2,
      "outputs": [
        {
          "output_type": "display_data",
          "data": {
            "text/plain": [
              "<Figure size 640x480 with 1 Axes>"
            ],
            "image/png": "[encoded data removed]"
          },
          "metadata": {}
        }
      ]
    },
    {
      "cell_type": "markdown",
      "source": [
        "# **3. Statistical test: age vs. expected recovery amount**\n",
        "\n",
        "We want to convince ourselves that variables such as age and sex are similar above and below the $1000 Expected Recovery Amount threshold. This is important because we want to be able to conclude that differences in the actual recovery amount are due to the higher Recovery Strategy and not due to some other difference like age or sex.\n",
        "\n",
        "The scatter plot of age versus Expected Recovery Amount did not show an obvious jump around $1000. We will now do statistical analysis examining the average age of the customers just above and just below the threshold. We can start by exploring the range from $900 to $1100.\n",
        "\n",
        "For determining if there is a difference in the ages just above and just below the threshold, we will use the Kruskal-Wallis test, a statistical test that makes no distributional assumptions.\n",
        "\n"
      ],
      "metadata": {
        "id": "zzEJUIq12cC3"
      }
    },
    {
      "cell_type": "code",
      "source": [
        "from scipy import stats\n",
        "\n",
        "x = df['expected_recovery_amount']<1100\n",
        "\n",
        "y = df['expected_recovery_amount']>=900\n",
        "# Compute average age just below and above the threshold\n",
        "era_900_1100 = df.loc[(x) &\n",
        "                      (y)]\n",
        "by_recovery_strategy = era_900_1100.groupby(['recovery_strategy'])\n",
        "by_recovery_strategy['age'].describe().stack()\n",
        "\n",
        "\n",
        "Level_0_age = era_900_1100.loc[df['recovery_strategy']==\"Level 0 Recovery\"]['age']\n",
        "Level_1_age = era_900_1100.loc[df['recovery_strategy']==\"Level 1 Recovery\"]['age']\n",
        "\n",
        "# Perform Kruskal-Wallis test\n",
        "statistic, p_value = stats.kruskal(Level_0_age, Level_1_age)\n",
        "\n",
        "# Print the results\n",
        "print(f\"Kruskal-Wallis \\nstatistic: {statistic:.4f}\")\n",
        "print(f\"p-value: {p_value:.4f}\")"
      ],
      "metadata": {
        "colab": {
          "base_uri": "https://localhost:8080/"
        },
        "id": "ZVxkUg_N2nK0",
        "outputId": "1c701bc4-826b-4f21-bdb9-478b0bfc7929"
      },
      "execution_count": 3,
      "outputs": [
        {
          "output_type": "stream",
          "name": "stdout",
          "text": [
            "Kruskal-Wallis \n",
            "statistic: 3.4572\n",
            "p-value: 0.0630\n"
          ]
        }
      ]
    },
    {
      "cell_type": "markdown",
      "source": [
        "# **4. Statistical test: sex vs. expected recovery amount**\n",
        "\n",
        "We have seen that there is no major jump in the average customer age just above and just below the $1000 threshold by doing a statistical test as well as exploring it graphically with a scatter plot.\n",
        "\n",
        "We want to also test that the percentage of customers that are male does not jump across the $1000 threshold. We can start by exploring the range of $900 to $1100 and later adjust this range.\n",
        "\n",
        "We can examine this question statistically by developing cross-tabs as well as doing chi-square tests of the percentage of customers that are male vs. female."
      ],
      "metadata": {
        "id": "kf669hHXNwjB"
      }
    },
    {
      "cell_type": "code",
      "source": [
        "crosstab = pd.crosstab(df.loc[(df['expected_recovery_amount']<1100) &\n",
        "                              (df['expected_recovery_amount']>=900)]['recovery_strategy'],\n",
        "                       df['sex'])\n",
        "# ... YOUR CODE FOR TASK 4 ...\n",
        "print(crosstab)\n",
        "# Chi-square test\n",
        "chi2_stat, p_val, dof, ex = stats.chi2_contingency(crosstab)\n",
        "# ... YOUR CODE FOR TASK 4 ...\n",
        "p_val"
      ],
      "metadata": {
        "colab": {
          "base_uri": "https://localhost:8080/"
        },
        "id": "9aDkPqPqOd6a",
        "outputId": "620af704-c7b1-44bc-859a-bbc61cb620ee"
      },
      "execution_count": 4,
      "outputs": [
        {
          "output_type": "stream",
          "name": "stdout",
          "text": [
            "sex                Female  Male\n",
            "recovery_strategy              \n",
            "Level 0 Recovery       32    57\n",
            "Level 1 Recovery       39    55\n"
          ]
        },
        {
          "output_type": "execute_result",
          "data": {
            "text/plain": [
              "0.5377947810444592"
            ]
          },
          "metadata": {},
          "execution_count": 4
        }
      ]
    },
    {
      "cell_type": "markdown",
      "source": [
        "# **5. Exploratory graphical analysis: recovery amount**\n",
        "\n",
        "We are now reasonably confident that customers just above and just below the $1000 threshold are, on average, similar in their average age and the percentage that are male.\n",
        "\n",
        "It is now time to focus on the key outcome of interest, the actual recovery amount.\n",
        "\n",
        "A first step in examining the relationship between the actual recovery amount and the expected recovery amount is to develop a scatter plot where we want to focus our attention at the range just below and just above the threshold. Specifically, we will develop a scatter plot of Expected Recovery Amount (Y) vs. Actual Recovery Amount (X) for Expected Recovery Amounts between $900 to $1100. This range covers Levels 0 and 1. A key question is whether or not we see a discontinuity (jump) around the $1000 threshold."
      ],
      "metadata": {
        "id": "ywpEQcmESQHD"
      }
    },
    {
      "cell_type": "code",
      "source": [
        "from matplotlib import pyplot as plt\n",
        "x=df['expected_recovery_amount']\n",
        "y=df['actual_recovery_amount']\n",
        "s=2\n",
        "plt.scatter(x , y , s )\n",
        "plt.xlim(900, 1100)\n",
        "plt.ylim(0, 2000)\n",
        "plt.xlabel('Expected Recovery Amount')\n",
        "plt.ylabel('Actual Recovery Amount')\n",
        "# ... YOUR CODE FOR TASK 2 ...\n",
        "plt.show()"
      ],
      "metadata": {
        "colab": {
          "base_uri": "https://localhost:8080/",
          "height": 455
        },
        "id": "LJlz8R0uTCdm",
        "outputId": "d7073973-7bd9-446b-ddca-891a5247ccfc"
      },
      "execution_count": 5,
      "outputs": [
        {
          "output_type": "display_data",
          "data": {
            "text/plain": [
              "<Figure size 640x480 with 1 Axes>"
            ],
            "image/png": "[encoded data removed]"
          },
          "metadata": {}
        }
      ]
    },
    {
      "cell_type": "markdown",
      "source": [
        "# **6. Statistical analysis: recovery amount**\n",
        "\n",
        "As we did with age, we can perform statistical tests to see if the actual recovery amount has a discontinuity above the $1000 threshold. We are going to do this for two different windows of the expected recovery amount $900 to $1100 and for a narrow range of $950 to $1050 to see if our results are consistent.\n",
        "\n",
        "Again, we will use the Kruskal-Wallis test.\n",
        "\n",
        "We will first compute the average actual recovery amount for those customers just below and just above the threshold using a range from $900 to $1100. Then we will perform a Kruskal-Wallis test to see if the actual recovery amounts are different just above and just below the threshold. Once we do that, we will repeat these steps for a smaller window of $950 to $1050"
      ],
      "metadata": {
        "id": "SApq_abKiBBR"
      }
    },
    {
      "cell_type": "code",
      "source": [
        "by_recovery_strategy['actual_recovery_amount'].describe().unstack()\n",
        "\n",
        "Level_0_actual = era_900_1100.loc[df['recovery_strategy']=='Level 0 Recovery']['actual_recovery_amount']\n",
        "Level_1_actual = era_900_1100.loc[df['recovery_strategy']=='Level 1 Recovery']['actual_recovery_amount']\n",
        "\n",
        "print(f\"Kruskal-Wallis \\nstatistic: {statistic:.4f}\")\n",
        "print(f\"p-value: {p_value:.4f} \\n\")\n",
        "\n",
        "x = df['expected_recovery_amount']<1050\n",
        "\n",
        "y = df['expected_recovery_amount']>=950\n",
        "\n",
        "# Compute average age just below and above the threshold\n",
        "era_950_1050 = df.loc[(x) &\n",
        "                      (y)]\n",
        "\n",
        "\n",
        "Level_0_actual = era_950_1050.loc[df['recovery_strategy']=='Level 0 Recovery']['actual_recovery_amount']\n",
        "Level_1_actual = era_950_1050.loc[df['recovery_strategy']=='Level 1 Recovery']['actual_recovery_amount']\n",
        "\n",
        "# Perform Kruskal-Wallis test\n",
        "statistic, p_value = stats.kruskal(Level_0_actual, Level_1_actual)\n",
        "\n",
        "print(f\"Kruskal-Wallis \\nstatistic: {statistic:.4f}\")\n",
        "print(f\"p-value: {p_value:.4f}\")"
      ],
      "metadata": {
        "colab": {
          "base_uri": "https://localhost:8080/"
        },
        "id": "yr0ZmyAd4Wp2",
        "outputId": "52d64a2b-fe9f-41c0-b7c8-617109fc3a2d"
      },
      "execution_count": 14,
      "outputs": [
        {
          "output_type": "stream",
          "name": "stdout",
          "text": [
            "Kruskal-Wallis \n",
            "statistic: 30.2460\n",
            "p-value: 0.0000 \n",
            "\n",
            "Kruskal-Wallis \n",
            "statistic: 30.2460\n",
            "p-value: 0.0000\n"
          ]
        }
      ]
    },
    {
      "cell_type": "markdown",
      "source": [
        "# **7. Regression modeling: no threshold**\n",
        "\n",
        "We now want to take a regression-based approach to estimate the program impact at the $1000 threshold using data that is just above and below the threshold.\n",
        "\n",
        "We will build two models. The first model does not have a threshold while the second will include a threshold.\n",
        "\n",
        "The first model predicts the actual recovery amount (dependent variable) as a function of the expected recovery amount (independent variable). We expect that there will be a strong positive relationship between these two variables.\n",
        "\n",
        "We will examine the adjusted R-squared to see the percent of variance explained by the model. In this model, we are not representing the threshold but simply seeing how the variable used for assigning the customers (expected recovery amount) relates to the outcome variable (actual recovery amount)."
      ],
      "metadata": {
        "id": "Q6iW1SaWykYx"
      }
    },
    {
      "cell_type": "code",
      "source": [
        "import statsmodels.api as sm\n",
        "\n",
        "# Define X and y\n",
        "X = era_900_1100['expected_recovery_amount']\n",
        "y = era_900_1100['actual_recovery_amount']\n",
        "\n",
        "X_train_sm = X\n",
        "X_train_sm = sm.add_constant(X_train_sm)\n",
        "\n",
        "# Build linear regression model\n",
        "lm_sm = sm.OLS(y,X_train_sm.astype(float)).fit()\n",
        "\n",
        "\n",
        "# Print out the model summary statistics\n",
        "# ... YOUR CODE FOR TASK 7 ...\n",
        "\n",
        "\n",
        "print(lm_sm.summary())"
      ],
      "metadata": {
        "colab": {
          "base_uri": "https://localhost:8080/"
        },
        "id": "UCKUKjZbyxxt",
        "outputId": "ae562469-c65c-4f4d-bd3c-0d7d64a97866"
      },
      "execution_count": 16,
      "outputs": [
        {
          "output_type": "stream",
          "name": "stdout",
          "text": [
            "                              OLS Regression Results                              \n",
            "==================================================================================\n",
            "Dep. Variable:     actual_recovery_amount   R-squared:                       0.261\n",
            "Model:                                OLS   Adj. R-squared:                  0.256\n",
            "Method:                     Least Squares   F-statistic:                     63.78\n",
            "Date:                    Thu, 20 Jul 2023   Prob (F-statistic):           1.56e-13\n",
            "Time:                            15:42:03   Log-Likelihood:                -1278.9\n",
            "No. Observations:                     183   AIC:                             2562.\n",
            "Df Residuals:                         181   BIC:                             2568.\n",
            "Df Model:                               1                                         \n",
            "Covariance Type:                nonrobust                                         \n",
            "============================================================================================\n",
            "                               coef    std err          t      P>|t|      [0.025      0.975]\n",
            "--------------------------------------------------------------------------------------------\n",
            "const                    -1978.7597    347.741     -5.690      0.000   -2664.907   -1292.612\n",
            "expected_recovery_amount     2.7577      0.345      7.986      0.000       2.076       3.439\n",
            "==============================================================================\n",
            "Omnibus:                       64.493   Durbin-Watson:                   1.777\n",
            "Prob(Omnibus):                  0.000   Jarque-Bera (JB):              185.818\n",
            "Skew:                           1.463   Prob(JB):                     4.47e-41\n",
            "Kurtosis:                       6.977   Cond. No.                     1.80e+04\n",
            "==============================================================================\n",
            "\n",
            "Notes:\n",
            "[1] Standard Errors assume that the covariance matrix of the errors is correctly specified.\n",
            "[2] The condition number is large, 1.8e+04. This might indicate that there are\n",
            "strong multicollinearity or other numerical problems.\n"
          ]
        }
      ]
    },
    {
      "cell_type": "markdown",
      "source": [
        "# **8. Regression modeling: adding true threshold**\n",
        "\n",
        "From the first model, we see that the expected recovery amount's regression coefficient is statistically significant.\n",
        "\n",
        "The second model adds an indicator of the true threshold to the model (in this case at $1000).\n",
        "\n",
        "We will create an indicator variable (either a 0 or a 1) that represents whether or not the expected recovery amount was greater than $1000. When we add the true threshold to the model, the regression coefficient for the true threshold represents the additional amount recovered due to the higher recovery strategy. That is to say, the regression coefficient for the true threshold measures the size of the discontinuity for customers just above and just below the threshold.\n",
        "\n",
        "If the higher recovery strategy helped recovery more money, then the regression coefficient of the true threshold will be greater than zero. If the higher recovery strategy did not help recovery more money, then the regression coefficient will not be statistically significant.\n",
        "\n"
      ],
      "metadata": {
        "id": "2K6dao7jy0yM"
      }
    },
    {
      "cell_type": "code",
      "source": [
        "df['indicator_1000'] = np.where(df['expected_recovery_amount']<1000, 0, 1)\n",
        "era_900_1100 = df.loc[(df['expected_recovery_amount']<1100) &\n",
        "                      (df['expected_recovery_amount']>=900)]\n",
        "\n",
        "# Define X and y\n",
        "X = era_900_1100[['expected_recovery_amount', 'indicator_1000']]\n",
        "y = era_900_1100['actual_recovery_amount']\n",
        "\n",
        "\n",
        "X_train_sm = X\n",
        "X_train_sm = sm.add_constant(X_train_sm)\n",
        "\n",
        "\n",
        "# Build linear regression model\n",
        "lm_sm = sm.OLS(y,X_train_sm.astype(float)).fit()\n",
        "\n",
        "# Print the model summary\n",
        "# ... YOUR CODE FOR TASK 8 ...\n",
        "print(lm_sm.summary())"
      ],
      "metadata": {
        "colab": {
          "base_uri": "https://localhost:8080/"
        },
        "id": "kOV_Bh1FzCpY",
        "outputId": "66ea9c69-9280-44a1-b885-5f729a8cc64b"
      },
      "execution_count": 17,
      "outputs": [
        {
          "output_type": "stream",
          "name": "stdout",
          "text": [
            "                              OLS Regression Results                              \n",
            "==================================================================================\n",
            "Dep. Variable:     actual_recovery_amount   R-squared:                       0.314\n",
            "Model:                                OLS   Adj. R-squared:                  0.307\n",
            "Method:                     Least Squares   F-statistic:                     41.22\n",
            "Date:                    Thu, 20 Jul 2023   Prob (F-statistic):           1.83e-15\n",
            "Time:                            15:43:18   Log-Likelihood:                -1272.0\n",
            "No. Observations:                     183   AIC:                             2550.\n",
            "Df Residuals:                         180   BIC:                             2560.\n",
            "Df Model:                               2                                         \n",
            "Covariance Type:                nonrobust                                         \n",
            "============================================================================================\n",
            "                               coef    std err          t      P>|t|      [0.025      0.975]\n",
            "--------------------------------------------------------------------------------------------\n",
            "const                        3.3440    626.274      0.005      0.996   -1232.440    1239.128\n",
            "expected_recovery_amount     0.6430      0.655      0.981      0.328      -0.650       1.936\n",
            "indicator_1000             277.6344     74.043      3.750      0.000     131.530     423.739\n",
            "==============================================================================\n",
            "Omnibus:                       65.977   Durbin-Watson:                   1.906\n",
            "Prob(Omnibus):                  0.000   Jarque-Bera (JB):              186.537\n",
            "Skew:                           1.510   Prob(JB):                     3.12e-41\n",
            "Kurtosis:                       6.917   Cond. No.                     3.37e+04\n",
            "==============================================================================\n",
            "\n",
            "Notes:\n",
            "[1] Standard Errors assume that the covariance matrix of the errors is correctly specified.\n",
            "[2] The condition number is large, 3.37e+04. This might indicate that there are\n",
            "strong multicollinearity or other numerical problems.\n"
          ]
        }
      ]
    },
    {
      "cell_type": "markdown",
      "source": [
        "# **9. Regression modeling: adjusting the window**\n",
        "\n",
        "The regression coefficient for the true threshold was statistically significant with an estimated impact of around $278. This is much larger than the $50 per customer needed to run this higher recovery strategy.\n",
        "\n",
        "Before showing this to our manager, we want to convince ourselves that this result wasn't due to choosing an expected recovery amount window of $900 to $1100. Let's repeat this analysis for the window from $950 to $1050 to see if we get similar results.\n",
        "\n",
        "The answer? Whether we use a wide ($900 to $1100) or narrower window ($950 to $1050), the incremental recovery amount at the higher recovery strategy is much greater than the $50 per customer it costs for the higher recovery strategy. So we conclude that the higher recovery strategy is worth the extra cost of $50 per customer."
      ],
      "metadata": {
        "id": "cbSq2kyizLtk"
      }
    },
    {
      "cell_type": "code",
      "source": [
        "era_950_1050 = df.loc[(df['...']<...) &\n",
        "                      (df['...']>=...)]\n",
        "\n",
        "# Define X and y\n",
        "X = ...[['expected_recovery_amount','indicator_1000']]\n",
        "y = ...['actual_recovery_amount']\n",
        "\n",
        "X_train_sm = X\n",
        "X_train_sm = sm.add_constant(X_train_sm)\n",
        "\n",
        "\n",
        "# Build linear regression model\n",
        "lm_sm = sm.OLS(y,X_train_sm.astype(float)).fit()\n",
        "\n",
        "# Print the model summary\n",
        "# ... YOUR CODE FOR TASK 8 ...\n",
        "print(lm_sm.summary())"
      ],
      "metadata": {
        "id": "SWe0tpY3zcj1"
      },
      "execution_count": null,
      "outputs": []
    }
  ]
}