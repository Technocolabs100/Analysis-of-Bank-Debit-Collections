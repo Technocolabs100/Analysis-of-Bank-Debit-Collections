{
  "nbformat": 4,
  "nbformat_minor": 0,
  "metadata": {
    "colab": {
      "provenance": [],
      "collapsed_sections": [
        "oDdmQ-64vXzF",
        "EkJDDpX99jYS",
        "ml39X4caFyOs",
        "NV2Dd622ApHB",
        "oHPUYmYYBLgy",
        "lPvawJFCBtKZ",
        "bIR3mRv8P9mu",
        "CkInIyNlQDTI",
        "yPQMsSrt6nT8"
      ]
    },
    "kernelspec": {
      "name": "python3",
      "display_name": "Python 3"
    },
    "language_info": {
      "name": "python"
    }
  },
  "cells": [
    {
      "cell_type": "markdown",
      "source": [
        "# Importing necessary libraries"
      ],
      "metadata": {
        "id": "oXUzpYXXvQb0"
      }
    },
    {
      "cell_type": "code",
      "execution_count": 1,
      "metadata": {
        "id": "N6XzMcopuwCP"
      },
      "outputs": [],
      "source": [
        "import pandas as pd\n",
        "import numpy as np\n",
        "import seaborn as sns\n",
        "import matplotlib.pyplot as plt\n",
        "from scipy.stats import kruskal\n",
        "import statsmodels.api as sm"
      ]
    },
    {
      "cell_type": "markdown",
      "source": [
        "# Reading the bank data"
      ],
      "metadata": {
        "id": "oDdmQ-64vXzF"
      }
    },
    {
      "cell_type": "code",
      "source": [
        "data=pd.read_csv(\"/content/bank_data.csv\")"
      ],
      "metadata": {
        "id": "2CNS-1-Mvbnn"
      },
      "execution_count": 2,
      "outputs": []
    },
    {
      "cell_type": "code",
      "source": [
        "data"
      ],
      "metadata": {
        "colab": {
          "base_uri": "https://localhost:8080/",
          "height": 423
        },
        "id": "0Fj8N24Pvf-T",
        "outputId": "3ef02d89-ebd1-4926-ada3-b8562ca21076"
      },
      "execution_count": 3,
      "outputs": [
        {
          "output_type": "execute_result",
          "data": {
            "text/plain": [
              "        id  expected_recovery_amount  actual_recovery_amount  \\\n",
              "0     2030                       194              263.540000   \n",
              "1     1150                       486              416.090000   \n",
              "2      380                       527              429.350000   \n",
              "3     1838                       536              296.990000   \n",
              "4     1995                       541              346.385000   \n",
              "...    ...                       ...                     ...   \n",
              "1877   361                      9785            15388.195990   \n",
              "1878   196                      9857             9709.909257   \n",
              "1879   313                      9859            30209.181790   \n",
              "1880  1781                      9920            20386.232190   \n",
              "1881   522                      9964            16706.305920   \n",
              "\n",
              "     recovery_strategy  age     sex  \n",
              "0     Level 0 Recovery   19    Male  \n",
              "1     Level 0 Recovery   25  Female  \n",
              "2     Level 0 Recovery   27    Male  \n",
              "3     Level 0 Recovery   25    Male  \n",
              "4     Level 0 Recovery   34    Male  \n",
              "...                ...  ...     ...  \n",
              "1877  Level 4 Recovery   65  Female  \n",
              "1878  Level 4 Recovery   68  Female  \n",
              "1879  Level 4 Recovery   58  Female  \n",
              "1880  Level 4 Recovery   67  Female  \n",
              "1881  Level 4 Recovery   53    Male  \n",
              "\n",
              "[1882 rows x 6 columns]"
            ],
            "text/html": [
              "\n",
              "\n",
              "  <div id=\"df-aca70aac-ac35-4175-988c-dc30764326cb\">\n",
              "    <div class=\"colab-df-container\">\n",
              "      <div>\n",
              "<style scoped>\n",
              "    .dataframe tbody tr th:only-of-type {\n",
              "        vertical-align: middle;\n",
              "    }\n",
              "\n",
              "    .dataframe tbody tr th {\n",
              "        vertical-align: top;\n",
              "    }\n",
              "\n",
              "    .dataframe thead th {\n",
              "        text-align: right;\n",
              "    }\n",
              "</style>\n",
              "<table border=\"1\" class=\"dataframe\">\n",
              "  <thead>\n",
              "    <tr style=\"text-align: right;\">\n",
              "      <th></th>\n",
              "      <th>id</th>\n",
              "      <th>expected_recovery_amount</th>\n",
              "      <th>actual_recovery_amount</th>\n",
              "      <th>recovery_strategy</th>\n",
              "      <th>age</th>\n",
              "      <th>sex</th>\n",
              "    </tr>\n",
              "  </thead>\n",
              "  <tbody>\n",
              "    <tr>\n",
              "      <th>0</th>\n",
              "      <td>2030</td>\n",
              "      <td>194</td>\n",
              "      <td>263.540000</td>\n",
              "      <td>Level 0 Recovery</td>\n",
              "      <td>19</td>\n",
              "      <td>Male</td>\n",
              "    </tr>\n",
              "    <tr>\n",
              "      <th>1</th>\n",
              "      <td>1150</td>\n",
              "      <td>486</td>\n",
              "      <td>416.090000</td>\n",
              "      <td>Level 0 Recovery</td>\n",
              "      <td>25</td>\n",
              "      <td>Female</td>\n",
              "    </tr>\n",
              "    <tr>\n",
              "      <th>2</th>\n",
              "      <td>380</td>\n",
              "      <td>527</td>\n",
              "      <td>429.350000</td>\n",
              "      <td>Level 0 Recovery</td>\n",
              "      <td>27</td>\n",
              "      <td>Male</td>\n",
              "    </tr>\n",
              "    <tr>\n",
              "      <th>3</th>\n",
              "      <td>1838</td>\n",
              "      <td>536</td>\n",
              "      <td>296.990000</td>\n",
              "      <td>Level 0 Recovery</td>\n",
              "      <td>25</td>\n",
              "      <td>Male</td>\n",
              "    </tr>\n",
              "    <tr>\n",
              "      <th>4</th>\n",
              "      <td>1995</td>\n",
              "      <td>541</td>\n",
              "      <td>346.385000</td>\n",
              "      <td>Level 0 Recovery</td>\n",
              "      <td>34</td>\n",
              "      <td>Male</td>\n",
              "    </tr>\n",
              "    <tr>\n",
              "      <th>...</th>\n",
              "      <td>...</td>\n",
              "      <td>...</td>\n",
              "      <td>...</td>\n",
              "      <td>...</td>\n",
              "      <td>...</td>\n",
              "      <td>...</td>\n",
              "    </tr>\n",
              "    <tr>\n",
              "      <th>1877</th>\n",
              "      <td>361</td>\n",
              "      <td>9785</td>\n",
              "      <td>15388.195990</td>\n",
              "      <td>Level 4 Recovery</td>\n",
              "      <td>65</td>\n",
              "      <td>Female</td>\n",
              "    </tr>\n",
              "    <tr>\n",
              "      <th>1878</th>\n",
              "      <td>196</td>\n",
              "      <td>9857</td>\n",
              "      <td>9709.909257</td>\n",
              "      <td>Level 4 Recovery</td>\n",
              "      <td>68</td>\n",
              "      <td>Female</td>\n",
              "    </tr>\n",
              "    <tr>\n",
              "      <th>1879</th>\n",
              "      <td>313</td>\n",
              "      <td>9859</td>\n",
              "      <td>30209.181790</td>\n",
              "      <td>Level 4 Recovery</td>\n",
              "      <td>58</td>\n",
              "      <td>Female</td>\n",
              "    </tr>\n",
              "    <tr>\n",
              "      <th>1880</th>\n",
              "      <td>1781</td>\n",
              "      <td>9920</td>\n",
              "      <td>20386.232190</td>\n",
              "      <td>Level 4 Recovery</td>\n",
              "      <td>67</td>\n",
              "      <td>Female</td>\n",
              "    </tr>\n",
              "    <tr>\n",
              "      <th>1881</th>\n",
              "      <td>522</td>\n",
              "      <td>9964</td>\n",
              "      <td>16706.305920</td>\n",
              "      <td>Level 4 Recovery</td>\n",
              "      <td>53</td>\n",
              "      <td>Male</td>\n",
              "    </tr>\n",
              "  </tbody>\n",
              "</table>\n",
              "<p>1882 rows × 6 columns</p>\n",
              "</div>\n",
              "      <button class=\"colab-df-convert\" onclick=\"convertToInteractive('df-aca70aac-ac35-4175-988c-dc30764326cb')\"\n",
              "              title=\"Convert this dataframe to an interactive table.\"\n",
              "              style=\"display:none;\">\n",
              "\n",
              "  <svg xmlns=\"http://www.w3.org/2000/svg\" height=\"24px\"viewBox=\"0 0 24 24\"\n",
              "       width=\"24px\">\n",
              "    <path d=\"M0 0h24v24H0V0z\" fill=\"none\"/>\n",
              "    <path d=\"M18.56 5.44l.94 2.06.94-2.06 2.06-.94-2.06-.94-.94-2.06-.94 2.06-2.06.94zm-11 1L8.5 8.5l.94-2.06 2.06-.94-2.06-.94L8.5 2.5l-.94 2.06-2.06.94zm10 10l.94 2.06.94-2.06 2.06-.94-2.06-.94-.94-2.06-.94 2.06-2.06.94z\"/><path d=\"M17.41 7.96l-1.37-1.37c-.4-.4-.92-.59-1.43-.59-.52 0-1.04.2-1.43.59L10.3 9.45l-7.72 7.72c-.78.78-.78 2.05 0 2.83L4 21.41c.39.39.9.59 1.41.59.51 0 1.02-.2 1.41-.59l7.78-7.78 2.81-2.81c.8-.78.8-2.07 0-2.86zM5.41 20L4 18.59l7.72-7.72 1.47 1.35L5.41 20z\"/>\n",
              "  </svg>\n",
              "      </button>\n",
              "\n",
              "\n",
              "\n",
              "    <div id=\"df-f65c7382-b69c-47ed-ba60-d712279079d4\">\n",
              "      <button class=\"colab-df-quickchart\" onclick=\"quickchart('df-f65c7382-b69c-47ed-ba60-d712279079d4')\"\n",
              "              title=\"Suggest charts.\"\n",
              "              style=\"display:none;\">\n",
              "\n",
              "<svg xmlns=\"http://www.w3.org/2000/svg\" height=\"24px\"viewBox=\"0 0 24 24\"\n",
              "     width=\"24px\">\n",
              "    <g>\n",
              "        <path d=\"M19 3H5c-1.1 0-2 .9-2 2v14c0 1.1.9 2 2 2h14c1.1 0 2-.9 2-2V5c0-1.1-.9-2-2-2zM9 17H7v-7h2v7zm4 0h-2V7h2v10zm4 0h-2v-4h2v4z\"/>\n",
              "    </g>\n",
              "</svg>\n",
              "      </button>\n",
              "    </div>\n",
              "\n",
              "<style>\n",
              "  .colab-df-quickchart {\n",
              "    background-color: #E8F0FE;\n",
              "    border: none;\n",
              "    border-radius: 50%;\n",
              "    cursor: pointer;\n",
              "    display: none;\n",
              "    fill: #1967D2;\n",
              "    height: 32px;\n",
              "    padding: 0 0 0 0;\n",
              "    width: 32px;\n",
              "  }\n",
              "\n",
              "  .colab-df-quickchart:hover {\n",
              "    background-color: #E2EBFA;\n",
              "    box-shadow: 0px 1px 2px rgba(60, 64, 67, 0.3), 0px 1px 3px 1px rgba(60, 64, 67, 0.15);\n",
              "    fill: #174EA6;\n",
              "  }\n",
              "\n",
              "  [theme=dark] .colab-df-quickchart {\n",
              "    background-color: #3B4455;\n",
              "    fill: #D2E3FC;\n",
              "  }\n",
              "\n",
              "  [theme=dark] .colab-df-quickchart:hover {\n",
              "    background-color: #434B5C;\n",
              "    box-shadow: 0px 1px 3px 1px rgba(0, 0, 0, 0.15);\n",
              "    filter: drop-shadow(0px 1px 2px rgba(0, 0, 0, 0.3));\n",
              "    fill: #FFFFFF;\n",
              "  }\n",
              "</style>\n",
              "\n",
              "    <script>\n",
              "      async function quickchart(key) {\n",
              "        const containerElement = document.querySelector('#' + key);\n",
              "        const charts = await google.colab.kernel.invokeFunction(\n",
              "            'suggestCharts', [key], {});\n",
              "      }\n",
              "    </script>\n",
              "\n",
              "      <script>\n",
              "\n",
              "function displayQuickchartButton(domScope) {\n",
              "  let quickchartButtonEl =\n",
              "    domScope.querySelector('#df-f65c7382-b69c-47ed-ba60-d712279079d4 button.colab-df-quickchart');\n",
              "  quickchartButtonEl.style.display =\n",
              "    google.colab.kernel.accessAllowed ? 'block' : 'none';\n",
              "}\n",
              "\n",
              "        displayQuickchartButton(document);\n",
              "      </script>\n",
              "      <style>\n",
              "    .colab-df-container {\n",
              "      display:flex;\n",
              "      flex-wrap:wrap;\n",
              "      gap: 12px;\n",
              "    }\n",
              "\n",
              "    .colab-df-convert {\n",
              "      background-color: #E8F0FE;\n",
              "      border: none;\n",
              "      border-radius: 50%;\n",
              "      cursor: pointer;\n",
              "      display: none;\n",
              "      fill: #1967D2;\n",
              "      height: 32px;\n",
              "      padding: 0 0 0 0;\n",
              "      width: 32px;\n",
              "    }\n",
              "\n",
              "    .colab-df-convert:hover {\n",
              "      background-color: #E2EBFA;\n",
              "      box-shadow: 0px 1px 2px rgba(60, 64, 67, 0.3), 0px 1px 3px 1px rgba(60, 64, 67, 0.15);\n",
              "      fill: #174EA6;\n",
              "    }\n",
              "\n",
              "    [theme=dark] .colab-df-convert {\n",
              "      background-color: #3B4455;\n",
              "      fill: #D2E3FC;\n",
              "    }\n",
              "\n",
              "    [theme=dark] .colab-df-convert:hover {\n",
              "      background-color: #434B5C;\n",
              "      box-shadow: 0px 1px 3px 1px rgba(0, 0, 0, 0.15);\n",
              "      filter: drop-shadow(0px 1px 2px rgba(0, 0, 0, 0.3));\n",
              "      fill: #FFFFFF;\n",
              "    }\n",
              "  </style>\n",
              "\n",
              "      <script>\n",
              "        const buttonEl =\n",
              "          document.querySelector('#df-aca70aac-ac35-4175-988c-dc30764326cb button.colab-df-convert');\n",
              "        buttonEl.style.display =\n",
              "          google.colab.kernel.accessAllowed ? 'block' : 'none';\n",
              "\n",
              "        async function convertToInteractive(key) {\n",
              "          const element = document.querySelector('#df-aca70aac-ac35-4175-988c-dc30764326cb');\n",
              "          const dataTable =\n",
              "            await google.colab.kernel.invokeFunction('convertToInteractive',\n",
              "                                                     [key], {});\n",
              "          if (!dataTable) return;\n",
              "\n",
              "          const docLinkHtml = 'Like what you see? Visit the ' +\n",
              "            '<a target=\"_blank\" href=https://colab.research.google.com/notebooks/data_table.ipynb>data table notebook</a>'\n",
              "            + ' to learn more about interactive tables.';\n",
              "          element.innerHTML = '';\n",
              "          dataTable['output_type'] = 'display_data';\n",
              "          await google.colab.output.renderOutput(dataTable, element);\n",
              "          const docLink = document.createElement('div');\n",
              "          docLink.innerHTML = docLinkHtml;\n",
              "          element.appendChild(docLink);\n",
              "        }\n",
              "      </script>\n",
              "    </div>\n",
              "  </div>\n"
            ]
          },
          "metadata": {},
          "execution_count": 3
        }
      ]
    },
    {
      "cell_type": "code",
      "source": [
        "data.shape"
      ],
      "metadata": {
        "colab": {
          "base_uri": "https://localhost:8080/"
        },
        "id": "uOFXzJd-_dLB",
        "outputId": "d54f27e4-ec5f-4840-f935-e8b8e6880de5"
      },
      "execution_count": 4,
      "outputs": [
        {
          "output_type": "execute_result",
          "data": {
            "text/plain": [
              "(1882, 6)"
            ]
          },
          "metadata": {},
          "execution_count": 4
        }
      ]
    },
    {
      "cell_type": "code",
      "source": [
        "data.info()"
      ],
      "metadata": {
        "colab": {
          "base_uri": "https://localhost:8080/"
        },
        "id": "gMr3S3-t-ohF",
        "outputId": "4af0aeee-8bfe-40ef-8702-3d025860cd66"
      },
      "execution_count": 5,
      "outputs": [
        {
          "output_type": "stream",
          "name": "stdout",
          "text": [
            "<class 'pandas.core.frame.DataFrame'>\n",
            "RangeIndex: 1882 entries, 0 to 1881\n",
            "Data columns (total 6 columns):\n",
            " #   Column                    Non-Null Count  Dtype  \n",
            "---  ------                    --------------  -----  \n",
            " 0   id                        1882 non-null   int64  \n",
            " 1   expected_recovery_amount  1882 non-null   int64  \n",
            " 2   actual_recovery_amount    1882 non-null   float64\n",
            " 3   recovery_strategy         1882 non-null   object \n",
            " 4   age                       1882 non-null   int64  \n",
            " 5   sex                       1882 non-null   object \n",
            "dtypes: float64(1), int64(3), object(2)\n",
            "memory usage: 88.3+ KB\n"
          ]
        }
      ]
    },
    {
      "cell_type": "code",
      "source": [
        "data.describe()"
      ],
      "metadata": {
        "colab": {
          "base_uri": "https://localhost:8080/",
          "height": 300
        },
        "id": "tbQi2xfX-rw4",
        "outputId": "6e34e305-d55e-4064-ad19-7415fee62eba"
      },
      "execution_count": 6,
      "outputs": [
        {
          "output_type": "execute_result",
          "data": {
            "text/plain": [
              "                id  expected_recovery_amount  actual_recovery_amount  \\\n",
              "count  1882.000000               1882.000000             1882.000000   \n",
              "mean   1035.596174               2759.967588             4000.967837   \n",
              "std     591.458429               2019.826565             4576.506350   \n",
              "min       6.000000                194.000000              200.425000   \n",
              "25%     534.250000               1261.250000             1045.190300   \n",
              "50%    1029.500000               2062.000000             2115.446373   \n",
              "75%    1551.750000               3569.500000             5417.237207   \n",
              "max    2056.000000               9964.000000            34398.479710   \n",
              "\n",
              "               age  \n",
              "count  1882.000000  \n",
              "mean     39.650372  \n",
              "std      15.453072  \n",
              "min      18.000000  \n",
              "25%      28.000000  \n",
              "50%      35.000000  \n",
              "75%      50.000000  \n",
              "max      84.000000  "
            ],
            "text/html": [
              "\n",
              "\n",
              "  <div id=\"df-5ea22754-68a7-468b-abcd-e9a87d2f280a\">\n",
              "    <div class=\"colab-df-container\">\n",
              "      <div>\n",
              "<style scoped>\n",
              "    .dataframe tbody tr th:only-of-type {\n",
              "        vertical-align: middle;\n",
              "    }\n",
              "\n",
              "    .dataframe tbody tr th {\n",
              "        vertical-align: top;\n",
              "    }\n",
              "\n",
              "    .dataframe thead th {\n",
              "        text-align: right;\n",
              "    }\n",
              "</style>\n",
              "<table border=\"1\" class=\"dataframe\">\n",
              "  <thead>\n",
              "    <tr style=\"text-align: right;\">\n",
              "      <th></th>\n",
              "      <th>id</th>\n",
              "      <th>expected_recovery_amount</th>\n",
              "      <th>actual_recovery_amount</th>\n",
              "      <th>age</th>\n",
              "    </tr>\n",
              "  </thead>\n",
              "  <tbody>\n",
              "    <tr>\n",
              "      <th>count</th>\n",
              "      <td>1882.000000</td>\n",
              "      <td>1882.000000</td>\n",
              "      <td>1882.000000</td>\n",
              "      <td>1882.000000</td>\n",
              "    </tr>\n",
              "    <tr>\n",
              "      <th>mean</th>\n",
              "      <td>1035.596174</td>\n",
              "      <td>2759.967588</td>\n",
              "      <td>4000.967837</td>\n",
              "      <td>39.650372</td>\n",
              "    </tr>\n",
              "    <tr>\n",
              "      <th>std</th>\n",
              "      <td>591.458429</td>\n",
              "      <td>2019.826565</td>\n",
              "      <td>4576.506350</td>\n",
              "      <td>15.453072</td>\n",
              "    </tr>\n",
              "    <tr>\n",
              "      <th>min</th>\n",
              "      <td>6.000000</td>\n",
              "      <td>194.000000</td>\n",
              "      <td>200.425000</td>\n",
              "      <td>18.000000</td>\n",
              "    </tr>\n",
              "    <tr>\n",
              "      <th>25%</th>\n",
              "      <td>534.250000</td>\n",
              "      <td>1261.250000</td>\n",
              "      <td>1045.190300</td>\n",
              "      <td>28.000000</td>\n",
              "    </tr>\n",
              "    <tr>\n",
              "      <th>50%</th>\n",
              "      <td>1029.500000</td>\n",
              "      <td>2062.000000</td>\n",
              "      <td>2115.446373</td>\n",
              "      <td>35.000000</td>\n",
              "    </tr>\n",
              "    <tr>\n",
              "      <th>75%</th>\n",
              "      <td>1551.750000</td>\n",
              "      <td>3569.500000</td>\n",
              "      <td>5417.237207</td>\n",
              "      <td>50.000000</td>\n",
              "    </tr>\n",
              "    <tr>\n",
              "      <th>max</th>\n",
              "      <td>2056.000000</td>\n",
              "      <td>9964.000000</td>\n",
              "      <td>34398.479710</td>\n",
              "      <td>84.000000</td>\n",
              "    </tr>\n",
              "  </tbody>\n",
              "</table>\n",
              "</div>\n",
              "      <button class=\"colab-df-convert\" onclick=\"convertToInteractive('df-5ea22754-68a7-468b-abcd-e9a87d2f280a')\"\n",
              "              title=\"Convert this dataframe to an interactive table.\"\n",
              "              style=\"display:none;\">\n",
              "\n",
              "  <svg xmlns=\"http://www.w3.org/2000/svg\" height=\"24px\"viewBox=\"0 0 24 24\"\n",
              "       width=\"24px\">\n",
              "    <path d=\"M0 0h24v24H0V0z\" fill=\"none\"/>\n",
              "    <path d=\"M18.56 5.44l.94 2.06.94-2.06 2.06-.94-2.06-.94-.94-2.06-.94 2.06-2.06.94zm-11 1L8.5 8.5l.94-2.06 2.06-.94-2.06-.94L8.5 2.5l-.94 2.06-2.06.94zm10 10l.94 2.06.94-2.06 2.06-.94-2.06-.94-.94-2.06-.94 2.06-2.06.94z\"/><path d=\"M17.41 7.96l-1.37-1.37c-.4-.4-.92-.59-1.43-.59-.52 0-1.04.2-1.43.59L10.3 9.45l-7.72 7.72c-.78.78-.78 2.05 0 2.83L4 21.41c.39.39.9.59 1.41.59.51 0 1.02-.2 1.41-.59l7.78-7.78 2.81-2.81c.8-.78.8-2.07 0-2.86zM5.41 20L4 18.59l7.72-7.72 1.47 1.35L5.41 20z\"/>\n",
              "  </svg>\n",
              "      </button>\n",
              "\n",
              "\n",
              "\n",
              "    <div id=\"df-a2b7ac05-e195-4958-ac3b-b8f51bc37a60\">\n",
              "      <button class=\"colab-df-quickchart\" onclick=\"quickchart('df-a2b7ac05-e195-4958-ac3b-b8f51bc37a60')\"\n",
              "              title=\"Suggest charts.\"\n",
              "              style=\"display:none;\">\n",
              "\n",
              "<svg xmlns=\"http://www.w3.org/2000/svg\" height=\"24px\"viewBox=\"0 0 24 24\"\n",
              "     width=\"24px\">\n",
              "    <g>\n",
              "        <path d=\"M19 3H5c-1.1 0-2 .9-2 2v14c0 1.1.9 2 2 2h14c1.1 0 2-.9 2-2V5c0-1.1-.9-2-2-2zM9 17H7v-7h2v7zm4 0h-2V7h2v10zm4 0h-2v-4h2v4z\"/>\n",
              "    </g>\n",
              "</svg>\n",
              "      </button>\n",
              "    </div>\n",
              "\n",
              "<style>\n",
              "  .colab-df-quickchart {\n",
              "    background-color: #E8F0FE;\n",
              "    border: none;\n",
              "    border-radius: 50%;\n",
              "    cursor: pointer;\n",
              "    display: none;\n",
              "    fill: #1967D2;\n",
              "    height: 32px;\n",
              "    padding: 0 0 0 0;\n",
              "    width: 32px;\n",
              "  }\n",
              "\n",
              "  .colab-df-quickchart:hover {\n",
              "    background-color: #E2EBFA;\n",
              "    box-shadow: 0px 1px 2px rgba(60, 64, 67, 0.3), 0px 1px 3px 1px rgba(60, 64, 67, 0.15);\n",
              "    fill: #174EA6;\n",
              "  }\n",
              "\n",
              "  [theme=dark] .colab-df-quickchart {\n",
              "    background-color: #3B4455;\n",
              "    fill: #D2E3FC;\n",
              "  }\n",
              "\n",
              "  [theme=dark] .colab-df-quickchart:hover {\n",
              "    background-color: #434B5C;\n",
              "    box-shadow: 0px 1px 3px 1px rgba(0, 0, 0, 0.15);\n",
              "    filter: drop-shadow(0px 1px 2px rgba(0, 0, 0, 0.3));\n",
              "    fill: #FFFFFF;\n",
              "  }\n",
              "</style>\n",
              "\n",
              "    <script>\n",
              "      async function quickchart(key) {\n",
              "        const containerElement = document.querySelector('#' + key);\n",
              "        const charts = await google.colab.kernel.invokeFunction(\n",
              "            'suggestCharts', [key], {});\n",
              "      }\n",
              "    </script>\n",
              "\n",
              "      <script>\n",
              "\n",
              "function displayQuickchartButton(domScope) {\n",
              "  let quickchartButtonEl =\n",
              "    domScope.querySelector('#df-a2b7ac05-e195-4958-ac3b-b8f51bc37a60 button.colab-df-quickchart');\n",
              "  quickchartButtonEl.style.display =\n",
              "    google.colab.kernel.accessAllowed ? 'block' : 'none';\n",
              "}\n",
              "\n",
              "        displayQuickchartButton(document);\n",
              "      </script>\n",
              "      <style>\n",
              "    .colab-df-container {\n",
              "      display:flex;\n",
              "      flex-wrap:wrap;\n",
              "      gap: 12px;\n",
              "    }\n",
              "\n",
              "    .colab-df-convert {\n",
              "      background-color: #E8F0FE;\n",
              "      border: none;\n",
              "      border-radius: 50%;\n",
              "      cursor: pointer;\n",
              "      display: none;\n",
              "      fill: #1967D2;\n",
              "      height: 32px;\n",
              "      padding: 0 0 0 0;\n",
              "      width: 32px;\n",
              "    }\n",
              "\n",
              "    .colab-df-convert:hover {\n",
              "      background-color: #E2EBFA;\n",
              "      box-shadow: 0px 1px 2px rgba(60, 64, 67, 0.3), 0px 1px 3px 1px rgba(60, 64, 67, 0.15);\n",
              "      fill: #174EA6;\n",
              "    }\n",
              "\n",
              "    [theme=dark] .colab-df-convert {\n",
              "      background-color: #3B4455;\n",
              "      fill: #D2E3FC;\n",
              "    }\n",
              "\n",
              "    [theme=dark] .colab-df-convert:hover {\n",
              "      background-color: #434B5C;\n",
              "      box-shadow: 0px 1px 3px 1px rgba(0, 0, 0, 0.15);\n",
              "      filter: drop-shadow(0px 1px 2px rgba(0, 0, 0, 0.3));\n",
              "      fill: #FFFFFF;\n",
              "    }\n",
              "  </style>\n",
              "\n",
              "      <script>\n",
              "        const buttonEl =\n",
              "          document.querySelector('#df-5ea22754-68a7-468b-abcd-e9a87d2f280a button.colab-df-convert');\n",
              "        buttonEl.style.display =\n",
              "          google.colab.kernel.accessAllowed ? 'block' : 'none';\n",
              "\n",
              "        async function convertToInteractive(key) {\n",
              "          const element = document.querySelector('#df-5ea22754-68a7-468b-abcd-e9a87d2f280a');\n",
              "          const dataTable =\n",
              "            await google.colab.kernel.invokeFunction('convertToInteractive',\n",
              "                                                     [key], {});\n",
              "          if (!dataTable) return;\n",
              "\n",
              "          const docLinkHtml = 'Like what you see? Visit the ' +\n",
              "            '<a target=\"_blank\" href=https://colab.research.google.com/notebooks/data_table.ipynb>data table notebook</a>'\n",
              "            + ' to learn more about interactive tables.';\n",
              "          element.innerHTML = '';\n",
              "          dataTable['output_type'] = 'display_data';\n",
              "          await google.colab.output.renderOutput(dataTable, element);\n",
              "          const docLink = document.createElement('div');\n",
              "          docLink.innerHTML = docLinkHtml;\n",
              "          element.appendChild(docLink);\n",
              "        }\n",
              "      </script>\n",
              "    </div>\n",
              "  </div>\n"
            ]
          },
          "metadata": {},
          "execution_count": 6
        }
      ]
    },
    {
      "cell_type": "markdown",
      "source": [
        "As we can see  our data is composed of  6 columns and 1882 records.\n",
        "The columns contain imformation about the customers and there recovery_amount the expected one and the actual one. Also, there is a column that classify the level of the recovery and then a column about the gender of the costumer"
      ],
      "metadata": {
        "id": "DS8dPc6F8y9R"
      }
    },
    {
      "cell_type": "markdown",
      "source": [
        "# Data prepocessing"
      ],
      "metadata": {
        "id": "EkJDDpX99jYS"
      }
    },
    {
      "cell_type": "markdown",
      "source": [
        "## Data cleaning"
      ],
      "metadata": {
        "id": "ml39X4caFyOs"
      }
    },
    {
      "cell_type": "markdown",
      "source": [
        "### *Handling missing values*"
      ],
      "metadata": {
        "id": "NV2Dd622ApHB"
      }
    },
    {
      "cell_type": "markdown",
      "source": [
        "Let's start first by detecting if there is any missing values in our data"
      ],
      "metadata": {
        "id": "FN-Ji7XGAve5"
      }
    },
    {
      "cell_type": "code",
      "source": [
        "data.isnull().sum()"
      ],
      "metadata": {
        "colab": {
          "base_uri": "https://localhost:8080/"
        },
        "id": "mgikORl_As-J",
        "outputId": "3e93034a-a7a1-4f04-95c3-22ea58ddbda7"
      },
      "execution_count": 7,
      "outputs": [
        {
          "output_type": "execute_result",
          "data": {
            "text/plain": [
              "id                          0\n",
              "expected_recovery_amount    0\n",
              "actual_recovery_amount      0\n",
              "recovery_strategy           0\n",
              "age                         0\n",
              "sex                         0\n",
              "dtype: int64"
            ]
          },
          "metadata": {},
          "execution_count": 7
        }
      ]
    },
    {
      "cell_type": "markdown",
      "source": [
        "As we can see the data does not contain any missing data"
      ],
      "metadata": {
        "id": "OzCXcS9zBEqz"
      }
    },
    {
      "cell_type": "markdown",
      "source": [
        "### *Handling duplicates*"
      ],
      "metadata": {
        "id": "oHPUYmYYBLgy"
      }
    },
    {
      "cell_type": "markdown",
      "source": [
        "Let's start first by detecting if there is any duplicate values in our data"
      ],
      "metadata": {
        "id": "eZGXKHnGBZOC"
      }
    },
    {
      "cell_type": "code",
      "source": [
        "data.duplicated().sum()"
      ],
      "metadata": {
        "colab": {
          "base_uri": "https://localhost:8080/"
        },
        "id": "YhxGR29FBfUF",
        "outputId": "adcc8828-5a26-4b6a-9d50-4f2014020047"
      },
      "execution_count": 8,
      "outputs": [
        {
          "output_type": "execute_result",
          "data": {
            "text/plain": [
              "0"
            ]
          },
          "metadata": {},
          "execution_count": 8
        }
      ]
    },
    {
      "cell_type": "markdown",
      "source": [
        "The result shows that there is no duplicate values"
      ],
      "metadata": {
        "id": "GaC_762iBlGh"
      }
    },
    {
      "cell_type": "markdown",
      "source": [
        "### Handling Outliers"
      ],
      "metadata": {
        "id": "lPvawJFCBtKZ"
      }
    },
    {
      "cell_type": "markdown",
      "source": [
        "In this step we are going to explore two diferent methods to detect outliers.\n",
        " We are going to start by visualisation which means we are going to plot the boxplot and detect visually the outliers, then we are going to use statistical methods such as the Z-score."
      ],
      "metadata": {
        "id": "hzSrWUBqHn3b"
      }
    },
    {
      "cell_type": "markdown",
      "source": [
        "1. ***Visual Inspection:***\n",
        "\n",
        "Plotting the data using visualizations like box plots to identify outliers visually."
      ],
      "metadata": {
        "id": "a76NoolKIXYb"
      }
    },
    {
      "cell_type": "markdown",
      "source": [
        "We are going to plotthe boxplot for the age, the expected_recovery_amount and the acual_recovery_amount"
      ],
      "metadata": {
        "id": "e4fnmzb1I5AD"
      }
    },
    {
      "cell_type": "code",
      "source": [
        "# Create a figure with three subplots (one row, three columns)\n",
        "fig, axs = plt.subplots(1, 3, figsize=(12, 5))\n",
        "\n",
        "# Plot the first dataset in the first subplot\n",
        "axs[0].boxplot(data['age'])\n",
        "axs[0].set_title('Boxplot of the age of the customers')\n",
        "\n",
        "# Plot the second dataset in the second subplot\n",
        "axs[1].boxplot(data['actual_recovery_amount'])\n",
        "axs[1].set_title('Boxplot of the actual recovery amount')\n",
        "\n",
        "# Plot the third dataset in the third subplot\n",
        "axs[2].boxplot(data['expected_recovery_amount'])\n",
        "axs[2].set_title('Boxplot of the expected recovery amount')\n",
        "\n",
        "# Add a common y-axis label for all subplots\n",
        "fig.text(0.04, 0.5, 'Values', va='center', rotation='vertical')\n",
        "\n",
        "# Add a title for the entire figure\n",
        "fig.suptitle('Boxplot of the three quantitaive features of our data')\n",
        "\n",
        "# Adjust spacing between subplots\n",
        "plt.subplots_adjust(wspace=0.4)\n",
        "\n",
        "# Show the plot\n",
        "plt.show()"
      ],
      "metadata": {
        "colab": {
          "base_uri": "https://localhost:8080/",
          "height": 0
        },
        "id": "J--ZQxaqIWPP",
        "outputId": "c0becbfb-8530-4366-9a98-b3593b59d813"
      },
      "execution_count": 9,
      "outputs": [
        {
          "output_type": "display_data",
          "data": {
            "text/plain": [
              "<Figure size 1200x500 with 3 Axes>"
            ],
            "image/png": "[encoded data removed]"
          },
          "metadata": {}
        }
      ]
    },
    {
      "cell_type": "markdown",
      "source": [
        "2. ***Statistical Methods:***\n",
        "\n",
        "Using statistical techniques to detect outliers. One common method is the Z-score, which measures how many standard deviations a data point is away from the mean. Data points with a Z-score beyond a certain threshold (e.g., Z-score > 3 or Z-score < -3) are considered outliers."
      ],
      "metadata": {
        "id": "gxQmsFHML1YN"
      }
    },
    {
      "cell_type": "code",
      "source": [
        "def detect_outliers_zscore(data, threshold=3):\n",
        "    \"\"\"\n",
        "    Detect outliers in the given dataset using the Z-score method.\n",
        "\n",
        "    Parameters:\n",
        "        data (list or numpy array): The dataset for which outliers need to be detected.\n",
        "        threshold (float): The Z-score threshold beyond which data points are considered outliers.\n",
        "                           Default is 3.\n",
        "\n",
        "    Returns:\n",
        "        list: A list containing the indices of the outlier data points in the original dataset.\n",
        "    \"\"\"\n",
        "    # Convert the input data to a numpy array\n",
        "    data = np.array(data)\n",
        "\n",
        "    # Calculate the mean and standard deviation of the data\n",
        "    mean = np.mean(data)\n",
        "    std = np.std(data)\n",
        "\n",
        "    # Calculate the Z-scores for each data point\n",
        "    z_scores = (data - mean) / std\n",
        "\n",
        "    # Find the indices of data points with Z-scores beyond the threshold\n",
        "    outlier_indices = np.where(np.abs(z_scores) > threshold)[0]\n",
        "\n",
        "    return outlier_indices"
      ],
      "metadata": {
        "id": "2spZsnJSMfko"
      },
      "execution_count": 10,
      "outputs": []
    },
    {
      "cell_type": "code",
      "source": [
        "detect_outliers_zscore(data['age'], threshold=3)"
      ],
      "metadata": {
        "colab": {
          "base_uri": "https://localhost:8080/"
        },
        "id": "sS9ISsNSMh1l",
        "outputId": "df3120ed-acb0-44da-bee8-aac8196b964b"
      },
      "execution_count": 11,
      "outputs": [
        {
          "output_type": "execute_result",
          "data": {
            "text/plain": [
              "array([], dtype=int64)"
            ]
          },
          "metadata": {},
          "execution_count": 11
        }
      ]
    },
    {
      "cell_type": "code",
      "source": [
        "detect_outliers_zscore(data['expected_recovery_amount'], threshold=3)"
      ],
      "metadata": {
        "colab": {
          "base_uri": "https://localhost:8080/"
        },
        "id": "zDm-g0MCMyQs",
        "outputId": "e8f70e33-8afe-49ff-dfc3-eb182bcd7737"
      },
      "execution_count": 12,
      "outputs": [
        {
          "output_type": "execute_result",
          "data": {
            "text/plain": [
              "array([1848, 1849, 1850, 1851, 1852, 1853, 1854, 1855, 1856, 1857, 1858,\n",
              "       1859, 1860, 1861, 1862, 1863, 1864, 1865, 1866, 1867, 1868, 1869,\n",
              "       1870, 1871, 1872, 1873, 1874, 1875, 1876, 1877, 1878, 1879, 1880,\n",
              "       1881])"
            ]
          },
          "metadata": {},
          "execution_count": 12
        }
      ]
    },
    {
      "cell_type": "code",
      "source": [
        "detect_outliers_zscore(data['actual_recovery_amount'], threshold=3)"
      ],
      "metadata": {
        "colab": {
          "base_uri": "https://localhost:8080/"
        },
        "id": "-HRPt9SxM9DU",
        "outputId": "a48b412f-b5f8-4c84-d697-8358309dd33a"
      },
      "execution_count": 13,
      "outputs": [
        {
          "output_type": "execute_result",
          "data": {
            "text/plain": [
              "array([1560, 1590, 1612, 1659, 1722, 1742, 1745, 1748, 1763, 1771, 1784,\n",
              "       1796, 1797, 1798, 1810, 1826, 1837, 1841, 1856, 1857, 1859, 1860,\n",
              "       1862, 1864, 1865, 1866, 1868, 1869, 1870, 1871, 1872, 1873, 1875,\n",
              "       1876, 1879, 1880])"
            ]
          },
          "metadata": {},
          "execution_count": 13
        }
      ]
    },
    {
      "cell_type": "markdown",
      "source": [
        "As we can see according to both the two methods there is a considerable number of outliers espesially in the two columns expected_amount_recovery and actual_amount_recovery"
      ],
      "metadata": {
        "id": "bgaQVYcpPd7p"
      }
    },
    {
      "cell_type": "markdown",
      "source": [
        "## Data transformation"
      ],
      "metadata": {
        "id": "bIR3mRv8P9mu"
      }
    },
    {
      "cell_type": "markdown",
      "source": [
        "### Encoding categorical variables"
      ],
      "metadata": {
        "id": "CkInIyNlQDTI"
      }
    },
    {
      "cell_type": "markdown",
      "source": [
        "In our case, we are having two nominal categorical variables that are the sex and the recovery strategy.\n",
        "\n",
        "For nominal categorical variables (categories without an inherent order), use one-hot encoding to create binary columns for each category. Pandas provides the get_dummies() function to perform one-hot encoding.\n"
      ],
      "metadata": {
        "id": "irid2YfJRk0m"
      }
    },
    {
      "cell_type": "code",
      "source": [
        "\n",
        "df = pd.DataFrame(data)\n",
        "\n",
        "# Perform one-hot encoding on 'Color' column\n",
        "\n",
        "df_encoded = pd.get_dummies(df, columns=['recovery_strategy','sex'])"
      ],
      "metadata": {
        "id": "6PUIO13fRHJx"
      },
      "execution_count": 14,
      "outputs": []
    },
    {
      "cell_type": "code",
      "source": [
        "df_encoded"
      ],
      "metadata": {
        "colab": {
          "base_uri": "https://localhost:8080/",
          "height": 0
        },
        "id": "WwAJob01SQau",
        "outputId": "a0c761c3-94ac-41e0-b39c-c577f21629fd"
      },
      "execution_count": 15,
      "outputs": [
        {
          "output_type": "execute_result",
          "data": {
            "text/plain": [
              "        id  expected_recovery_amount  actual_recovery_amount  age  \\\n",
              "0     2030                       194              263.540000   19   \n",
              "1     1150                       486              416.090000   25   \n",
              "2      380                       527              429.350000   27   \n",
              "3     1838                       536              296.990000   25   \n",
              "4     1995                       541              346.385000   34   \n",
              "...    ...                       ...                     ...  ...   \n",
              "1877   361                      9785            15388.195990   65   \n",
              "1878   196                      9857             9709.909257   68   \n",
              "1879   313                      9859            30209.181790   58   \n",
              "1880  1781                      9920            20386.232190   67   \n",
              "1881   522                      9964            16706.305920   53   \n",
              "\n",
              "      recovery_strategy_Level 0 Recovery  recovery_strategy_Level 1 Recovery  \\\n",
              "0                                      1                                   0   \n",
              "1                                      1                                   0   \n",
              "2                                      1                                   0   \n",
              "3                                      1                                   0   \n",
              "4                                      1                                   0   \n",
              "...                                  ...                                 ...   \n",
              "1877                                   0                                   0   \n",
              "1878                                   0                                   0   \n",
              "1879                                   0                                   0   \n",
              "1880                                   0                                   0   \n",
              "1881                                   0                                   0   \n",
              "\n",
              "      recovery_strategy_Level 2 Recovery  recovery_strategy_Level 3 Recovery  \\\n",
              "0                                      0                                   0   \n",
              "1                                      0                                   0   \n",
              "2                                      0                                   0   \n",
              "3                                      0                                   0   \n",
              "4                                      0                                   0   \n",
              "...                                  ...                                 ...   \n",
              "1877                                   0                                   0   \n",
              "1878                                   0                                   0   \n",
              "1879                                   0                                   0   \n",
              "1880                                   0                                   0   \n",
              "1881                                   0                                   0   \n",
              "\n",
              "      recovery_strategy_Level 4 Recovery  sex_Female  sex_Male  \n",
              "0                                      0           0         1  \n",
              "1                                      0           1         0  \n",
              "2                                      0           0         1  \n",
              "3                                      0           0         1  \n",
              "4                                      0           0         1  \n",
              "...                                  ...         ...       ...  \n",
              "1877                                   1           1         0  \n",
              "1878                                   1           1         0  \n",
              "1879                                   1           1         0  \n",
              "1880                                   1           1         0  \n",
              "1881                                   1           0         1  \n",
              "\n",
              "[1882 rows x 11 columns]"
            ],
            "text/html": [
              "\n",
              "\n",
              "  <div id=\"df-de9f0f2a-4a1f-4c73-bce8-f49e96bcdbfa\">\n",
              "    <div class=\"colab-df-container\">\n",
              "      <div>\n",
              "<style scoped>\n",
              "    .dataframe tbody tr th:only-of-type {\n",
              "        vertical-align: middle;\n",
              "    }\n",
              "\n",
              "    .dataframe tbody tr th {\n",
              "        vertical-align: top;\n",
              "    }\n",
              "\n",
              "    .dataframe thead th {\n",
              "        text-align: right;\n",
              "    }\n",
              "</style>\n",
              "<table border=\"1\" class=\"dataframe\">\n",
              "  <thead>\n",
              "    <tr style=\"text-align: right;\">\n",
              "      <th></th>\n",
              "      <th>id</th>\n",
              "      <th>expected_recovery_amount</th>\n",
              "      <th>actual_recovery_amount</th>\n",
              "      <th>age</th>\n",
              "      <th>recovery_strategy_Level 0 Recovery</th>\n",
              "      <th>recovery_strategy_Level 1 Recovery</th>\n",
              "      <th>recovery_strategy_Level 2 Recovery</th>\n",
              "      <th>recovery_strategy_Level 3 Recovery</th>\n",
              "      <th>recovery_strategy_Level 4 Recovery</th>\n",
              "      <th>sex_Female</th>\n",
              "      <th>sex_Male</th>\n",
              "    </tr>\n",
              "  </thead>\n",
              "  <tbody>\n",
              "    <tr>\n",
              "      <th>0</th>\n",
              "      <td>2030</td>\n",
              "      <td>194</td>\n",
              "      <td>263.540000</td>\n",
              "      <td>19</td>\n",
              "      <td>1</td>\n",
              "      <td>0</td>\n",
              "      <td>0</td>\n",
              "      <td>0</td>\n",
              "      <td>0</td>\n",
              "      <td>0</td>\n",
              "      <td>1</td>\n",
              "    </tr>\n",
              "    <tr>\n",
              "      <th>1</th>\n",
              "      <td>1150</td>\n",
              "      <td>486</td>\n",
              "      <td>416.090000</td>\n",
              "      <td>25</td>\n",
              "      <td>1</td>\n",
              "      <td>0</td>\n",
              "      <td>0</td>\n",
              "      <td>0</td>\n",
              "      <td>0</td>\n",
              "      <td>1</td>\n",
              "      <td>0</td>\n",
              "    </tr>\n",
              "    <tr>\n",
              "      <th>2</th>\n",
              "      <td>380</td>\n",
              "      <td>527</td>\n",
              "      <td>429.350000</td>\n",
              "      <td>27</td>\n",
              "      <td>1</td>\n",
              "      <td>0</td>\n",
              "      <td>0</td>\n",
              "      <td>0</td>\n",
              "      <td>0</td>\n",
              "      <td>0</td>\n",
              "      <td>1</td>\n",
              "    </tr>\n",
              "    <tr>\n",
              "      <th>3</th>\n",
              "      <td>1838</td>\n",
              "      <td>536</td>\n",
              "      <td>296.990000</td>\n",
              "      <td>25</td>\n",
              "      <td>1</td>\n",
              "      <td>0</td>\n",
              "      <td>0</td>\n",
              "      <td>0</td>\n",
              "      <td>0</td>\n",
              "      <td>0</td>\n",
              "      <td>1</td>\n",
              "    </tr>\n",
              "    <tr>\n",
              "      <th>4</th>\n",
              "      <td>1995</td>\n",
              "      <td>541</td>\n",
              "      <td>346.385000</td>\n",
              "      <td>34</td>\n",
              "      <td>1</td>\n",
              "      <td>0</td>\n",
              "      <td>0</td>\n",
              "      <td>0</td>\n",
              "      <td>0</td>\n",
              "      <td>0</td>\n",
              "      <td>1</td>\n",
              "    </tr>\n",
              "    <tr>\n",
              "      <th>...</th>\n",
              "      <td>...</td>\n",
              "      <td>...</td>\n",
              "      <td>...</td>\n",
              "      <td>...</td>\n",
              "      <td>...</td>\n",
              "      <td>...</td>\n",
              "      <td>...</td>\n",
              "      <td>...</td>\n",
              "      <td>...</td>\n",
              "      <td>...</td>\n",
              "      <td>...</td>\n",
              "    </tr>\n",
              "    <tr>\n",
              "      <th>1877</th>\n",
              "      <td>361</td>\n",
              "      <td>9785</td>\n",
              "      <td>15388.195990</td>\n",
              "      <td>65</td>\n",
              "      <td>0</td>\n",
              "      <td>0</td>\n",
              "      <td>0</td>\n",
              "      <td>0</td>\n",
              "      <td>1</td>\n",
              "      <td>1</td>\n",
              "      <td>0</td>\n",
              "    </tr>\n",
              "    <tr>\n",
              "      <th>1878</th>\n",
              "      <td>196</td>\n",
              "      <td>9857</td>\n",
              "      <td>9709.909257</td>\n",
              "      <td>68</td>\n",
              "      <td>0</td>\n",
              "      <td>0</td>\n",
              "      <td>0</td>\n",
              "      <td>0</td>\n",
              "      <td>1</td>\n",
              "      <td>1</td>\n",
              "      <td>0</td>\n",
              "    </tr>\n",
              "    <tr>\n",
              "      <th>1879</th>\n",
              "      <td>313</td>\n",
              "      <td>9859</td>\n",
              "      <td>30209.181790</td>\n",
              "      <td>58</td>\n",
              "      <td>0</td>\n",
              "      <td>0</td>\n",
              "      <td>0</td>\n",
              "      <td>0</td>\n",
              "      <td>1</td>\n",
              "      <td>1</td>\n",
              "      <td>0</td>\n",
              "    </tr>\n",
              "    <tr>\n",
              "      <th>1880</th>\n",
              "      <td>1781</td>\n",
              "      <td>9920</td>\n",
              "      <td>20386.232190</td>\n",
              "      <td>67</td>\n",
              "      <td>0</td>\n",
              "      <td>0</td>\n",
              "      <td>0</td>\n",
              "      <td>0</td>\n",
              "      <td>1</td>\n",
              "      <td>1</td>\n",
              "      <td>0</td>\n",
              "    </tr>\n",
              "    <tr>\n",
              "      <th>1881</th>\n",
              "      <td>522</td>\n",
              "      <td>9964</td>\n",
              "      <td>16706.305920</td>\n",
              "      <td>53</td>\n",
              "      <td>0</td>\n",
              "      <td>0</td>\n",
              "      <td>0</td>\n",
              "      <td>0</td>\n",
              "      <td>1</td>\n",
              "      <td>0</td>\n",
              "      <td>1</td>\n",
              "    </tr>\n",
              "  </tbody>\n",
              "</table>\n",
              "<p>1882 rows × 11 columns</p>\n",
              "</div>\n",
              "      <button class=\"colab-df-convert\" onclick=\"convertToInteractive('df-de9f0f2a-4a1f-4c73-bce8-f49e96bcdbfa')\"\n",
              "              title=\"Convert this dataframe to an interactive table.\"\n",
              "              style=\"display:none;\">\n",
              "\n",
              "  <svg xmlns=\"http://www.w3.org/2000/svg\" height=\"24px\"viewBox=\"0 0 24 24\"\n",
              "       width=\"24px\">\n",
              "    <path d=\"M0 0h24v24H0V0z\" fill=\"none\"/>\n",
              "    <path d=\"M18.56 5.44l.94 2.06.94-2.06 2.06-.94-2.06-.94-.94-2.06-.94 2.06-2.06.94zm-11 1L8.5 8.5l.94-2.06 2.06-.94-2.06-.94L8.5 2.5l-.94 2.06-2.06.94zm10 10l.94 2.06.94-2.06 2.06-.94-2.06-.94-.94-2.06-.94 2.06-2.06.94z\"/><path d=\"M17.41 7.96l-1.37-1.37c-.4-.4-.92-.59-1.43-.59-.52 0-1.04.2-1.43.59L10.3 9.45l-7.72 7.72c-.78.78-.78 2.05 0 2.83L4 21.41c.39.39.9.59 1.41.59.51 0 1.02-.2 1.41-.59l7.78-7.78 2.81-2.81c.8-.78.8-2.07 0-2.86zM5.41 20L4 18.59l7.72-7.72 1.47 1.35L5.41 20z\"/>\n",
              "  </svg>\n",
              "      </button>\n",
              "\n",
              "\n",
              "\n",
              "    <div id=\"df-e4822283-b111-469b-9cc3-bf36cc4105c1\">\n",
              "      <button class=\"colab-df-quickchart\" onclick=\"quickchart('df-e4822283-b111-469b-9cc3-bf36cc4105c1')\"\n",
              "              title=\"Suggest charts.\"\n",
              "              style=\"display:none;\">\n",
              "\n",
              "<svg xmlns=\"http://www.w3.org/2000/svg\" height=\"24px\"viewBox=\"0 0 24 24\"\n",
              "     width=\"24px\">\n",
              "    <g>\n",
              "        <path d=\"M19 3H5c-1.1 0-2 .9-2 2v14c0 1.1.9 2 2 2h14c1.1 0 2-.9 2-2V5c0-1.1-.9-2-2-2zM9 17H7v-7h2v7zm4 0h-2V7h2v10zm4 0h-2v-4h2v4z\"/>\n",
              "    </g>\n",
              "</svg>\n",
              "      </button>\n",
              "    </div>\n",
              "\n",
              "<style>\n",
              "  .colab-df-quickchart {\n",
              "    background-color: #E8F0FE;\n",
              "    border: none;\n",
              "    border-radius: 50%;\n",
              "    cursor: pointer;\n",
              "    display: none;\n",
              "    fill: #1967D2;\n",
              "    height: 32px;\n",
              "    padding: 0 0 0 0;\n",
              "    width: 32px;\n",
              "  }\n",
              "\n",
              "  .colab-df-quickchart:hover {\n",
              "    background-color: #E2EBFA;\n",
              "    box-shadow: 0px 1px 2px rgba(60, 64, 67, 0.3), 0px 1px 3px 1px rgba(60, 64, 67, 0.15);\n",
              "    fill: #174EA6;\n",
              "  }\n",
              "\n",
              "  [theme=dark] .colab-df-quickchart {\n",
              "    background-color: #3B4455;\n",
              "    fill: #D2E3FC;\n",
              "  }\n",
              "\n",
              "  [theme=dark] .colab-df-quickchart:hover {\n",
              "    background-color: #434B5C;\n",
              "    box-shadow: 0px 1px 3px 1px rgba(0, 0, 0, 0.15);\n",
              "    filter: drop-shadow(0px 1px 2px rgba(0, 0, 0, 0.3));\n",
              "    fill: #FFFFFF;\n",
              "  }\n",
              "</style>\n",
              "\n",
              "    <script>\n",
              "      async function quickchart(key) {\n",
              "        const containerElement = document.querySelector('#' + key);\n",
              "        const charts = await google.colab.kernel.invokeFunction(\n",
              "            'suggestCharts', [key], {});\n",
              "      }\n",
              "    </script>\n",
              "\n",
              "      <script>\n",
              "\n",
              "function displayQuickchartButton(domScope) {\n",
              "  let quickchartButtonEl =\n",
              "    domScope.querySelector('#df-e4822283-b111-469b-9cc3-bf36cc4105c1 button.colab-df-quickchart');\n",
              "  quickchartButtonEl.style.display =\n",
              "    google.colab.kernel.accessAllowed ? 'block' : 'none';\n",
              "}\n",
              "\n",
              "        displayQuickchartButton(document);\n",
              "      </script>\n",
              "      <style>\n",
              "    .colab-df-container {\n",
              "      display:flex;\n",
              "      flex-wrap:wrap;\n",
              "      gap: 12px;\n",
              "    }\n",
              "\n",
              "    .colab-df-convert {\n",
              "      background-color: #E8F0FE;\n",
              "      border: none;\n",
              "      border-radius: 50%;\n",
              "      cursor: pointer;\n",
              "      display: none;\n",
              "      fill: #1967D2;\n",
              "      height: 32px;\n",
              "      padding: 0 0 0 0;\n",
              "      width: 32px;\n",
              "    }\n",
              "\n",
              "    .colab-df-convert:hover {\n",
              "      background-color: #E2EBFA;\n",
              "      box-shadow: 0px 1px 2px rgba(60, 64, 67, 0.3), 0px 1px 3px 1px rgba(60, 64, 67, 0.15);\n",
              "      fill: #174EA6;\n",
              "    }\n",
              "\n",
              "    [theme=dark] .colab-df-convert {\n",
              "      background-color: #3B4455;\n",
              "      fill: #D2E3FC;\n",
              "    }\n",
              "\n",
              "    [theme=dark] .colab-df-convert:hover {\n",
              "      background-color: #434B5C;\n",
              "      box-shadow: 0px 1px 3px 1px rgba(0, 0, 0, 0.15);\n",
              "      filter: drop-shadow(0px 1px 2px rgba(0, 0, 0, 0.3));\n",
              "      fill: #FFFFFF;\n",
              "    }\n",
              "  </style>\n",
              "\n",
              "      <script>\n",
              "        const buttonEl =\n",
              "          document.querySelector('#df-de9f0f2a-4a1f-4c73-bce8-f49e96bcdbfa button.colab-df-convert');\n",
              "        buttonEl.style.display =\n",
              "          google.colab.kernel.accessAllowed ? 'block' : 'none';\n",
              "\n",
              "        async function convertToInteractive(key) {\n",
              "          const element = document.querySelector('#df-de9f0f2a-4a1f-4c73-bce8-f49e96bcdbfa');\n",
              "          const dataTable =\n",
              "            await google.colab.kernel.invokeFunction('convertToInteractive',\n",
              "                                                     [key], {});\n",
              "          if (!dataTable) return;\n",
              "\n",
              "          const docLinkHtml = 'Like what you see? Visit the ' +\n",
              "            '<a target=\"_blank\" href=https://colab.research.google.com/notebooks/data_table.ipynb>data table notebook</a>'\n",
              "            + ' to learn more about interactive tables.';\n",
              "          element.innerHTML = '';\n",
              "          dataTable['output_type'] = 'display_data';\n",
              "          await google.colab.output.renderOutput(dataTable, element);\n",
              "          const docLink = document.createElement('div');\n",
              "          docLink.innerHTML = docLinkHtml;\n",
              "          element.appendChild(docLink);\n",
              "        }\n",
              "      </script>\n",
              "    </div>\n",
              "  </div>\n"
            ]
          },
          "metadata": {},
          "execution_count": 15
        }
      ]
    },
    {
      "cell_type": "markdown",
      "source": [
        "In this phase we have created some new columns in order to encode the nominal categorical data that we used to have"
      ],
      "metadata": {
        "id": "wyqLkCaWSx14"
      }
    },
    {
      "cell_type": "markdown",
      "source": [
        "### Feature engineering"
      ],
      "metadata": {
        "id": "sJsYuJuUVU0B"
      }
    },
    {
      "cell_type": "code",
      "source": [
        "df_encoded.drop('id', axis=1, inplace=True)"
      ],
      "metadata": {
        "id": "SgPpiHTqVaW6"
      },
      "execution_count": 16,
      "outputs": []
    },
    {
      "cell_type": "code",
      "source": [
        "df_encoded"
      ],
      "metadata": {
        "colab": {
          "base_uri": "https://localhost:8080/",
          "height": 505
        },
        "id": "xNAzZqKAvWWK",
        "outputId": "239760c4-68de-4193-fd93-bafac38a04fc"
      },
      "execution_count": 17,
      "outputs": [
        {
          "output_type": "execute_result",
          "data": {
            "text/plain": [
              "      expected_recovery_amount  actual_recovery_amount  age  \\\n",
              "0                          194              263.540000   19   \n",
              "1                          486              416.090000   25   \n",
              "2                          527              429.350000   27   \n",
              "3                          536              296.990000   25   \n",
              "4                          541              346.385000   34   \n",
              "...                        ...                     ...  ...   \n",
              "1877                      9785            15388.195990   65   \n",
              "1878                      9857             9709.909257   68   \n",
              "1879                      9859            30209.181790   58   \n",
              "1880                      9920            20386.232190   67   \n",
              "1881                      9964            16706.305920   53   \n",
              "\n",
              "      recovery_strategy_Level 0 Recovery  recovery_strategy_Level 1 Recovery  \\\n",
              "0                                      1                                   0   \n",
              "1                                      1                                   0   \n",
              "2                                      1                                   0   \n",
              "3                                      1                                   0   \n",
              "4                                      1                                   0   \n",
              "...                                  ...                                 ...   \n",
              "1877                                   0                                   0   \n",
              "1878                                   0                                   0   \n",
              "1879                                   0                                   0   \n",
              "1880                                   0                                   0   \n",
              "1881                                   0                                   0   \n",
              "\n",
              "      recovery_strategy_Level 2 Recovery  recovery_strategy_Level 3 Recovery  \\\n",
              "0                                      0                                   0   \n",
              "1                                      0                                   0   \n",
              "2                                      0                                   0   \n",
              "3                                      0                                   0   \n",
              "4                                      0                                   0   \n",
              "...                                  ...                                 ...   \n",
              "1877                                   0                                   0   \n",
              "1878                                   0                                   0   \n",
              "1879                                   0                                   0   \n",
              "1880                                   0                                   0   \n",
              "1881                                   0                                   0   \n",
              "\n",
              "      recovery_strategy_Level 4 Recovery  sex_Female  sex_Male  \n",
              "0                                      0           0         1  \n",
              "1                                      0           1         0  \n",
              "2                                      0           0         1  \n",
              "3                                      0           0         1  \n",
              "4                                      0           0         1  \n",
              "...                                  ...         ...       ...  \n",
              "1877                                   1           1         0  \n",
              "1878                                   1           1         0  \n",
              "1879                                   1           1         0  \n",
              "1880                                   1           1         0  \n",
              "1881                                   1           0         1  \n",
              "\n",
              "[1882 rows x 10 columns]"
            ],
            "text/html": [
              "\n",
              "\n",
              "  <div id=\"df-429df034-1771-49a5-bf63-d9e5435d9540\">\n",
              "    <div class=\"colab-df-container\">\n",
              "      <div>\n",
              "<style scoped>\n",
              "    .dataframe tbody tr th:only-of-type {\n",
              "        vertical-align: middle;\n",
              "    }\n",
              "\n",
              "    .dataframe tbody tr th {\n",
              "        vertical-align: top;\n",
              "    }\n",
              "\n",
              "    .dataframe thead th {\n",
              "        text-align: right;\n",
              "    }\n",
              "</style>\n",
              "<table border=\"1\" class=\"dataframe\">\n",
              "  <thead>\n",
              "    <tr style=\"text-align: right;\">\n",
              "      <th></th>\n",
              "      <th>expected_recovery_amount</th>\n",
              "      <th>actual_recovery_amount</th>\n",
              "      <th>age</th>\n",
              "      <th>recovery_strategy_Level 0 Recovery</th>\n",
              "      <th>recovery_strategy_Level 1 Recovery</th>\n",
              "      <th>recovery_strategy_Level 2 Recovery</th>\n",
              "      <th>recovery_strategy_Level 3 Recovery</th>\n",
              "      <th>recovery_strategy_Level 4 Recovery</th>\n",
              "      <th>sex_Female</th>\n",
              "      <th>sex_Male</th>\n",
              "    </tr>\n",
              "  </thead>\n",
              "  <tbody>\n",
              "    <tr>\n",
              "      <th>0</th>\n",
              "      <td>194</td>\n",
              "      <td>263.540000</td>\n",
              "      <td>19</td>\n",
              "      <td>1</td>\n",
              "      <td>0</td>\n",
              "      <td>0</td>\n",
              "      <td>0</td>\n",
              "      <td>0</td>\n",
              "      <td>0</td>\n",
              "      <td>1</td>\n",
              "    </tr>\n",
              "    <tr>\n",
              "      <th>1</th>\n",
              "      <td>486</td>\n",
              "      <td>416.090000</td>\n",
              "      <td>25</td>\n",
              "      <td>1</td>\n",
              "      <td>0</td>\n",
              "      <td>0</td>\n",
              "      <td>0</td>\n",
              "      <td>0</td>\n",
              "      <td>1</td>\n",
              "      <td>0</td>\n",
              "    </tr>\n",
              "    <tr>\n",
              "      <th>2</th>\n",
              "      <td>527</td>\n",
              "      <td>429.350000</td>\n",
              "      <td>27</td>\n",
              "      <td>1</td>\n",
              "      <td>0</td>\n",
              "      <td>0</td>\n",
              "      <td>0</td>\n",
              "      <td>0</td>\n",
              "      <td>0</td>\n",
              "      <td>1</td>\n",
              "    </tr>\n",
              "    <tr>\n",
              "      <th>3</th>\n",
              "      <td>536</td>\n",
              "      <td>296.990000</td>\n",
              "      <td>25</td>\n",
              "      <td>1</td>\n",
              "      <td>0</td>\n",
              "      <td>0</td>\n",
              "      <td>0</td>\n",
              "      <td>0</td>\n",
              "      <td>0</td>\n",
              "      <td>1</td>\n",
              "    </tr>\n",
              "    <tr>\n",
              "      <th>4</th>\n",
              "      <td>541</td>\n",
              "      <td>346.385000</td>\n",
              "      <td>34</td>\n",
              "      <td>1</td>\n",
              "      <td>0</td>\n",
              "      <td>0</td>\n",
              "      <td>0</td>\n",
              "      <td>0</td>\n",
              "      <td>0</td>\n",
              "      <td>1</td>\n",
              "    </tr>\n",
              "    <tr>\n",
              "      <th>...</th>\n",
              "      <td>...</td>\n",
              "      <td>...</td>\n",
              "      <td>...</td>\n",
              "      <td>...</td>\n",
              "      <td>...</td>\n",
              "      <td>...</td>\n",
              "      <td>...</td>\n",
              "      <td>...</td>\n",
              "      <td>...</td>\n",
              "      <td>...</td>\n",
              "    </tr>\n",
              "    <tr>\n",
              "      <th>1877</th>\n",
              "      <td>9785</td>\n",
              "      <td>15388.195990</td>\n",
              "      <td>65</td>\n",
              "      <td>0</td>\n",
              "      <td>0</td>\n",
              "      <td>0</td>\n",
              "      <td>0</td>\n",
              "      <td>1</td>\n",
              "      <td>1</td>\n",
              "      <td>0</td>\n",
              "    </tr>\n",
              "    <tr>\n",
              "      <th>1878</th>\n",
              "      <td>9857</td>\n",
              "      <td>9709.909257</td>\n",
              "      <td>68</td>\n",
              "      <td>0</td>\n",
              "      <td>0</td>\n",
              "      <td>0</td>\n",
              "      <td>0</td>\n",
              "      <td>1</td>\n",
              "      <td>1</td>\n",
              "      <td>0</td>\n",
              "    </tr>\n",
              "    <tr>\n",
              "      <th>1879</th>\n",
              "      <td>9859</td>\n",
              "      <td>30209.181790</td>\n",
              "      <td>58</td>\n",
              "      <td>0</td>\n",
              "      <td>0</td>\n",
              "      <td>0</td>\n",
              "      <td>0</td>\n",
              "      <td>1</td>\n",
              "      <td>1</td>\n",
              "      <td>0</td>\n",
              "    </tr>\n",
              "    <tr>\n",
              "      <th>1880</th>\n",
              "      <td>9920</td>\n",
              "      <td>20386.232190</td>\n",
              "      <td>67</td>\n",
              "      <td>0</td>\n",
              "      <td>0</td>\n",
              "      <td>0</td>\n",
              "      <td>0</td>\n",
              "      <td>1</td>\n",
              "      <td>1</td>\n",
              "      <td>0</td>\n",
              "    </tr>\n",
              "    <tr>\n",
              "      <th>1881</th>\n",
              "      <td>9964</td>\n",
              "      <td>16706.305920</td>\n",
              "      <td>53</td>\n",
              "      <td>0</td>\n",
              "      <td>0</td>\n",
              "      <td>0</td>\n",
              "      <td>0</td>\n",
              "      <td>1</td>\n",
              "      <td>0</td>\n",
              "      <td>1</td>\n",
              "    </tr>\n",
              "  </tbody>\n",
              "</table>\n",
              "<p>1882 rows × 10 columns</p>\n",
              "</div>\n",
              "      <button class=\"colab-df-convert\" onclick=\"convertToInteractive('df-429df034-1771-49a5-bf63-d9e5435d9540')\"\n",
              "              title=\"Convert this dataframe to an interactive table.\"\n",
              "              style=\"display:none;\">\n",
              "\n",
              "  <svg xmlns=\"http://www.w3.org/2000/svg\" height=\"24px\"viewBox=\"0 0 24 24\"\n",
              "       width=\"24px\">\n",
              "    <path d=\"M0 0h24v24H0V0z\" fill=\"none\"/>\n",
              "    <path d=\"M18.56 5.44l.94 2.06.94-2.06 2.06-.94-2.06-.94-.94-2.06-.94 2.06-2.06.94zm-11 1L8.5 8.5l.94-2.06 2.06-.94-2.06-.94L8.5 2.5l-.94 2.06-2.06.94zm10 10l.94 2.06.94-2.06 2.06-.94-2.06-.94-.94-2.06-.94 2.06-2.06.94z\"/><path d=\"M17.41 7.96l-1.37-1.37c-.4-.4-.92-.59-1.43-.59-.52 0-1.04.2-1.43.59L10.3 9.45l-7.72 7.72c-.78.78-.78 2.05 0 2.83L4 21.41c.39.39.9.59 1.41.59.51 0 1.02-.2 1.41-.59l7.78-7.78 2.81-2.81c.8-.78.8-2.07 0-2.86zM5.41 20L4 18.59l7.72-7.72 1.47 1.35L5.41 20z\"/>\n",
              "  </svg>\n",
              "      </button>\n",
              "\n",
              "\n",
              "\n",
              "    <div id=\"df-366e0d33-8df5-4865-95fc-9d2e4713a24a\">\n",
              "      <button class=\"colab-df-quickchart\" onclick=\"quickchart('df-366e0d33-8df5-4865-95fc-9d2e4713a24a')\"\n",
              "              title=\"Suggest charts.\"\n",
              "              style=\"display:none;\">\n",
              "\n",
              "<svg xmlns=\"http://www.w3.org/2000/svg\" height=\"24px\"viewBox=\"0 0 24 24\"\n",
              "     width=\"24px\">\n",
              "    <g>\n",
              "        <path d=\"M19 3H5c-1.1 0-2 .9-2 2v14c0 1.1.9 2 2 2h14c1.1 0 2-.9 2-2V5c0-1.1-.9-2-2-2zM9 17H7v-7h2v7zm4 0h-2V7h2v10zm4 0h-2v-4h2v4z\"/>\n",
              "    </g>\n",
              "</svg>\n",
              "      </button>\n",
              "    </div>\n",
              "\n",
              "<style>\n",
              "  .colab-df-quickchart {\n",
              "    background-color: #E8F0FE;\n",
              "    border: none;\n",
              "    border-radius: 50%;\n",
              "    cursor: pointer;\n",
              "    display: none;\n",
              "    fill: #1967D2;\n",
              "    height: 32px;\n",
              "    padding: 0 0 0 0;\n",
              "    width: 32px;\n",
              "  }\n",
              "\n",
              "  .colab-df-quickchart:hover {\n",
              "    background-color: #E2EBFA;\n",
              "    box-shadow: 0px 1px 2px rgba(60, 64, 67, 0.3), 0px 1px 3px 1px rgba(60, 64, 67, 0.15);\n",
              "    fill: #174EA6;\n",
              "  }\n",
              "\n",
              "  [theme=dark] .colab-df-quickchart {\n",
              "    background-color: #3B4455;\n",
              "    fill: #D2E3FC;\n",
              "  }\n",
              "\n",
              "  [theme=dark] .colab-df-quickchart:hover {\n",
              "    background-color: #434B5C;\n",
              "    box-shadow: 0px 1px 3px 1px rgba(0, 0, 0, 0.15);\n",
              "    filter: drop-shadow(0px 1px 2px rgba(0, 0, 0, 0.3));\n",
              "    fill: #FFFFFF;\n",
              "  }\n",
              "</style>\n",
              "\n",
              "    <script>\n",
              "      async function quickchart(key) {\n",
              "        const containerElement = document.querySelector('#' + key);\n",
              "        const charts = await google.colab.kernel.invokeFunction(\n",
              "            'suggestCharts', [key], {});\n",
              "      }\n",
              "    </script>\n",
              "\n",
              "      <script>\n",
              "\n",
              "function displayQuickchartButton(domScope) {\n",
              "  let quickchartButtonEl =\n",
              "    domScope.querySelector('#df-366e0d33-8df5-4865-95fc-9d2e4713a24a button.colab-df-quickchart');\n",
              "  quickchartButtonEl.style.display =\n",
              "    google.colab.kernel.accessAllowed ? 'block' : 'none';\n",
              "}\n",
              "\n",
              "        displayQuickchartButton(document);\n",
              "      </script>\n",
              "      <style>\n",
              "    .colab-df-container {\n",
              "      display:flex;\n",
              "      flex-wrap:wrap;\n",
              "      gap: 12px;\n",
              "    }\n",
              "\n",
              "    .colab-df-convert {\n",
              "      background-color: #E8F0FE;\n",
              "      border: none;\n",
              "      border-radius: 50%;\n",
              "      cursor: pointer;\n",
              "      display: none;\n",
              "      fill: #1967D2;\n",
              "      height: 32px;\n",
              "      padding: 0 0 0 0;\n",
              "      width: 32px;\n",
              "    }\n",
              "\n",
              "    .colab-df-convert:hover {\n",
              "      background-color: #E2EBFA;\n",
              "      box-shadow: 0px 1px 2px rgba(60, 64, 67, 0.3), 0px 1px 3px 1px rgba(60, 64, 67, 0.15);\n",
              "      fill: #174EA6;\n",
              "    }\n",
              "\n",
              "    [theme=dark] .colab-df-convert {\n",
              "      background-color: #3B4455;\n",
              "      fill: #D2E3FC;\n",
              "    }\n",
              "\n",
              "    [theme=dark] .colab-df-convert:hover {\n",
              "      background-color: #434B5C;\n",
              "      box-shadow: 0px 1px 3px 1px rgba(0, 0, 0, 0.15);\n",
              "      filter: drop-shadow(0px 1px 2px rgba(0, 0, 0, 0.3));\n",
              "      fill: #FFFFFF;\n",
              "    }\n",
              "  </style>\n",
              "\n",
              "      <script>\n",
              "        const buttonEl =\n",
              "          document.querySelector('#df-429df034-1771-49a5-bf63-d9e5435d9540 button.colab-df-convert');\n",
              "        buttonEl.style.display =\n",
              "          google.colab.kernel.accessAllowed ? 'block' : 'none';\n",
              "\n",
              "        async function convertToInteractive(key) {\n",
              "          const element = document.querySelector('#df-429df034-1771-49a5-bf63-d9e5435d9540');\n",
              "          const dataTable =\n",
              "            await google.colab.kernel.invokeFunction('convertToInteractive',\n",
              "                                                     [key], {});\n",
              "          if (!dataTable) return;\n",
              "\n",
              "          const docLinkHtml = 'Like what you see? Visit the ' +\n",
              "            '<a target=\"_blank\" href=https://colab.research.google.com/notebooks/data_table.ipynb>data table notebook</a>'\n",
              "            + ' to learn more about interactive tables.';\n",
              "          element.innerHTML = '';\n",
              "          dataTable['output_type'] = 'display_data';\n",
              "          await google.colab.output.renderOutput(dataTable, element);\n",
              "          const docLink = document.createElement('div');\n",
              "          docLink.innerHTML = docLinkHtml;\n",
              "          element.appendChild(docLink);\n",
              "        }\n",
              "      </script>\n",
              "    </div>\n",
              "  </div>\n"
            ]
          },
          "metadata": {},
          "execution_count": 17
        }
      ]
    },
    {
      "cell_type": "markdown",
      "source": [
        "# EDA"
      ],
      "metadata": {
        "id": "nyqs9YJ9voPq"
      }
    },
    {
      "cell_type": "markdown",
      "source": [
        "## Statistical test: age vs. expected recovery amount"
      ],
      "metadata": {
        "id": "6kSsdexF1r_m"
      }
    },
    {
      "cell_type": "markdown",
      "source": [
        "Let's start by answering this question: Are there other factors besides Expected Recovery Amount that also varied systematically across the $1000 threshold. Let's see if the age also change."
      ],
      "metadata": {
        "id": "5I1JsxaOwK1C"
      }
    },
    {
      "cell_type": "code",
      "source": [
        "\n",
        "filtered_data = data[(data['expected_recovery_amount'] >= 0) & (data['expected_recovery_amount'] <= 2000)]\n",
        "\n",
        "# Create a scatter plot\n",
        "plt.figure(figsize=(8, 6))\n",
        "plt.scatter(filtered_data['expected_recovery_amount'], filtered_data['age'], alpha=0.5)\n",
        "plt.xlabel('Expected Recovery Amount')\n",
        "plt.ylabel('Age')\n",
        "plt.title('Scatter Plot: Age vs Expected Recovery Amount')\n",
        "plt.grid(True)\n",
        "plt.show()"
      ],
      "metadata": {
        "colab": {
          "base_uri": "https://localhost:8080/",
          "height": 564
        },
        "id": "Co-ev7M0wKgL",
        "outputId": "dac89223-2b6b-4405-91fc-2d1a58d4c9c8"
      },
      "execution_count": 18,
      "outputs": [
        {
          "output_type": "display_data",
          "data": {
            "text/plain": [
              "<Figure size 800x600 with 1 Axes>"
            ],
            "image/png": "[encoded data removed]"
          },
          "metadata": {}
        }
      ]
    },
    {
      "cell_type": "markdown",
      "source": [
        "As we can see there is no discontinuity in the values of age at the expected recovery amount.The scatter plot of age versus Expected Recovery Amount did not show an obvious jump around $1000"
      ],
      "metadata": {
        "id": "Q_BS1k71x24D"
      }
    },
    {
      "cell_type": "markdown",
      "source": [
        "Let's do some statistical analysis examining the average age of the customers just above and just below the threshold. We can start by exploring the range from $900 to $1100."
      ],
      "metadata": {
        "id": "KhB02TZ-yZTC"
      }
    },
    {
      "cell_type": "code",
      "source": [
        "threshold_lower = 900\n",
        "threshold_upper = 1100\n",
        "filtered_df = data[(data['expected_recovery_amount'] >= threshold_lower) & (data['expected_recovery_amount'] <= threshold_upper)]\n",
        "\n",
        "above_threshold_df = filtered_df[filtered_df['expected_recovery_amount'] > 1000]\n",
        "below_threshold_df = filtered_df[filtered_df['expected_recovery_amount'] < 1000]\n",
        "\n",
        "average_age_above = above_threshold_df['age'].mean()\n",
        "average_age_above = below_threshold_df['age'].mean()\n",
        "\n",
        "print(\"Average age of customers just above the threshold ($900 to $1000):\", average_age_above)\n",
        "print(\"Average age of customers just below the threshold ($1000 to $1100):\", average_age_below)"
      ],
      "metadata": {
        "colab": {
          "base_uri": "https://localhost:8080/"
        },
        "id": "Z89H5Mf9vZtJ",
        "outputId": "56e4a629-1c4c-4110-d041-47ed1fc8ae6b"
      },
      "execution_count": 19,
      "outputs": [
        {
          "output_type": "stream",
          "name": "stdout",
          "text": [
            "Average age of customers just above the threshold ($900 to $1000): 28.68421052631579\n",
            "Average age of customers just below the threshold ($1000 to $1100): 27.21590909090909\n"
          ]
        }
      ]
    },
    {
      "cell_type": "code",
      "source": [
        "# Bar chart\n",
        "\n",
        "labels = ['Just Above Threshold', 'Just Below Threshold']\n",
        "sizes = [average_age_above, average_age_above]\n",
        "colors = ['#56A4DA', '#AE8B4A']\n",
        "explode = (0.1, 0)\n",
        "plt.figure(figsize=(6, 6))\n",
        "plt.bar(labels, sizes, color=colors)\n",
        "plt.xlabel('Threshold')\n",
        "plt.ylabel('Average of age ')\n",
        "plt.title('Average of age Customers Above and Below $1000 Threshold for the range $900-$1100')\n",
        "plt.ylim(0, 100)  # Set the y-axis limit to show percentages from 0 to 100\n",
        "plt.show()"
      ],
      "metadata": {
        "colab": {
          "base_uri": "https://localhost:8080/",
          "height": 564
        },
        "id": "InPXz7CChrO7",
        "outputId": "65ed741c-4c0f-4a30-c87d-ef1e4a59a7bf"
      },
      "execution_count": 30,
      "outputs": [
        {
          "output_type": "display_data",
          "data": {
            "text/plain": [
              "<Figure size 600x600 with 1 Axes>"
            ],
            "image/png": "[encoded data removed]"
          },
          "metadata": {}
        }
      ]
    },
    {
      "cell_type": "markdown",
      "source": [
        "We can see that the averages of the ages above and below the threeshold for the range from (900$ to 1100$) are kind of close"
      ],
      "metadata": {
        "id": "FmaQ6ugh0rub"
      }
    },
    {
      "cell_type": "markdown",
      "source": [
        "***Conclusion:***\n",
        "\n",
        "We were able to convince ourselves that there is no major jump in the average customer age just above and just below the $1000 threshold by doing a statistical test as well as exploring it graphically with a scatter plot."
      ],
      "metadata": {
        "id": "V78obo3B1vhj"
      }
    },
    {
      "cell_type": "markdown",
      "source": [
        "## Statistical test: sex vs. expected recovery amount"
      ],
      "metadata": {
        "id": "YcVxNKtI11w1"
      }
    },
    {
      "cell_type": "code",
      "source": [
        "\n",
        "threshold_lower = 900\n",
        "threshold_upper = 1100\n",
        "filtered_df = df_encoded[(df_encoded['expected_recovery_amount'] >= threshold_lower) & (df_encoded['expected_recovery_amount'] <= threshold_upper)]\n",
        "\n",
        "above_threshold_df = filtered_df[filtered_df['expected_recovery_amount'] > 1000]\n",
        "below_threshold_df = filtered_df[filtered_df['expected_recovery_amount'] < 1000]\n",
        "\n",
        "percentage_male_above = above_threshold_df['sex_Male'].mean() * 100\n",
        "percentage_male_below = below_threshold_df['sex_Male'].mean() * 100\n",
        "\n",
        "print(\"Percentage of male customers just above the threshold ($900 to $1100): {:.2f}%\".format(percentage_male_above))\n",
        "print(\"Percentage of male customers just below the threshold ($900 to $1100): {:.2f}%\".format(percentage_male_below))\n"
      ],
      "metadata": {
        "colab": {
          "base_uri": "https://localhost:8080/"
        },
        "id": "dYLLzphb0rke",
        "outputId": "08ca8fbd-b590-410f-fe4d-fb8d93867965"
      },
      "execution_count": 20,
      "outputs": [
        {
          "output_type": "stream",
          "name": "stdout",
          "text": [
            "Percentage of male customers just above the threshold ($900 to $1100): 57.89%\n",
            "Percentage of male customers just below the threshold ($900 to $1100): 63.64%\n"
          ]
        }
      ]
    },
    {
      "cell_type": "code",
      "source": [
        "# Pie chart\n",
        "labels = ['Just Above Threshold', 'Just Below Threshold']\n",
        "sizes = [percentage_male_above, percentage_male_below]\n",
        "colors = ['#ff9999', '#66b3ff']\n",
        "explode = (0.1, 0)\n",
        "plt.figure(figsize=(8, 6))\n",
        "plt.pie(sizes, explode=explode, labels=labels, colors=colors, autopct='%1.1f%%', shadow=True, startangle=140)\n",
        "plt.axis('equal')\n",
        "plt.title('Percentage of Male Customers Above and Below $1000 Threshold for the range $900-$1100')\n",
        "plt.show()\n",
        "\n",
        "# Bar chart\n",
        "plt.figure(figsize=(6, 6))\n",
        "plt.bar(labels, sizes, color=colors)\n",
        "plt.xlabel('Threshold')\n",
        "plt.ylabel('Percentage of Male Customers')\n",
        "plt.title('Percentage of Male Customers Above and Below $1000 Threshold for the range $900-$1100')\n",
        "plt.ylim(0, 100)  # Set the y-axis limit to show percentages from 0 to 100\n",
        "plt.show()"
      ],
      "metadata": {
        "colab": {
          "base_uri": "https://localhost:8080/",
          "height": 1000
        },
        "id": "lMaX4-cC6D9B",
        "outputId": "f3ce3a04-f51e-49a1-cb36-8efc88627350"
      },
      "execution_count": 21,
      "outputs": [
        {
          "output_type": "display_data",
          "data": {
            "text/plain": [
              "<Figure size 800x600 with 1 Axes>"
            ],
            "image/png": "[encoded data removed]"
          },
          "metadata": {}
        },
        {
          "output_type": "display_data",
          "data": {
            "text/plain": [
              "<Figure size 600x600 with 1 Axes>"
            ],
            "image/png": "[encoded data removed]"
          },
          "metadata": {}
        }
      ]
    },
    {
      "cell_type": "markdown",
      "source": [
        "We are now reasonably confident that customers just above and just below the $1000 threshold are, on average, similar in terms of  the percentage that are male."
      ],
      "metadata": {
        "id": "-9SmQ3o_6W8l"
      }
    },
    {
      "cell_type": "markdown",
      "source": [
        "## Exploratory graphical analysis: recovery amount"
      ],
      "metadata": {
        "id": "yPQMsSrt6nT8"
      }
    },
    {
      "cell_type": "code",
      "source": [
        "threshold_lower = 900\n",
        "threshold_upper = 1100\n",
        "filtered_df = df_encoded[(df_encoded['expected_recovery_amount'] >= threshold_lower) & (df_encoded['expected_recovery_amount'] <= threshold_upper)]\n",
        "\n",
        "plt.figure(figsize=(8, 6))\n",
        "plt.scatter(filtered_df['expected_recovery_amount'], filtered_df['actual_recovery_amount'], alpha=0.5)\n",
        "plt.xlabel('Expected Recovery Amount')\n",
        "plt.ylabel('Actual Recovery Amount')\n",
        "plt.title('Scatter Plot: Expected Recovery Amount vs. Actual Recovery Amount')\n",
        "plt.grid(True)\n",
        "plt.show()"
      ],
      "metadata": {
        "colab": {
          "base_uri": "https://localhost:8080/",
          "height": 0
        },
        "id": "oIdRo9Ey6rhO",
        "outputId": "4e5856aa-98e1-426a-a759-44633d608a27"
      },
      "execution_count": 22,
      "outputs": [
        {
          "output_type": "display_data",
          "data": {
            "text/plain": [
              "<Figure size 800x600 with 1 Axes>"
            ],
            "image/png": "[encoded data removed]"
          },
          "metadata": {}
        }
      ]
    },
    {
      "cell_type": "markdown",
      "source": [
        "We can see a jump in the actual recovery amount that became quite big comparing to the ones above the threshold"
      ],
      "metadata": {
        "id": "uMAzcA1T78tv"
      }
    },
    {
      "cell_type": "markdown",
      "source": [
        "## Statistical analysis: recovery amount"
      ],
      "metadata": {
        "id": "rUNBIwie8Mlf"
      }
    },
    {
      "cell_type": "markdown",
      "source": [
        "We are going to perform the Kruskal-Wallis test which is a non-parametric statistical test used to compare the medians of two or more independent groups when the data does not meet the assumptions of normality required for parametric tests like the t-test or ANOVA.\n",
        "We will do this statistical tests to see if the actual recovery amount has a discontinuity above the $1000 threshold.\n",
        "\n",
        "We are going to do this for two different windows of the expected recovery amount $900 to $1100 and for a narrow range of $950 to $1050 to see if our results are consistent."
      ],
      "metadata": {
        "id": "ECQrzgYU8rFt"
      }
    },
    {
      "cell_type": "code",
      "source": [
        "\n",
        "threshold_lower = 900\n",
        "threshold_upper = 1100\n",
        "filtered_df = df_encoded[(df_encoded['expected_recovery_amount'] >= threshold_lower) & (df_encoded['expected_recovery_amount'] <= threshold_upper)]\n",
        "\n",
        "above_threshold_df = filtered_df[filtered_df['expected_recovery_amount'] > 1000]\n",
        "below_threshold_df = filtered_df[filtered_df['expected_recovery_amount'] < 1000]\n",
        "\n",
        "\n",
        "statistic, p_value = kruskal(above_threshold_df['actual_recovery_amount'], below_threshold_df['actual_recovery_amount'])\n",
        "\n",
        "# Display the results\n",
        "print(\"Kruskal-Wallis Test:\")\n",
        "print(\"Test Statistic:\", statistic)\n",
        "print(\"p-value:\", p_value)\n",
        "\n",
        "if p_value < 0.05:\n",
        "    print(\"The Kruskal-Wallis test result is statistically significant.\")\n",
        "    print(\"There are significant differences in the 'Actual Recovery Amount' among groups above and below the $1000 threshold.\")\n",
        "else:\n",
        "    print(\"The Kruskal-Wallis test result is not statistically significant.\")\n",
        "    print(\"There are no significant differences in the 'Actual Recovery Amount' among groups above and below the $1000 threshold.\")"
      ],
      "metadata": {
        "colab": {
          "base_uri": "https://localhost:8080/"
        },
        "id": "FSYZaIYl-IRO",
        "outputId": "b6232a6f-7b34-4baf-d814-b27a1a02d35d"
      },
      "execution_count": 23,
      "outputs": [
        {
          "output_type": "stream",
          "name": "stdout",
          "text": [
            "Kruskal-Wallis Test:\n",
            "Test Statistic: 67.38392708550032\n",
            "p-value: 2.2346330990871586e-16\n",
            "The Kruskal-Wallis test result is statistically significant.\n",
            "There are significant differences in the 'Actual Recovery Amount' among groups above and below the $1000 threshold.\n"
          ]
        }
      ]
    },
    {
      "cell_type": "code",
      "source": [
        "threshold_lower = 950\n",
        "threshold_upper = 1050\n",
        "filtered_df = df_encoded[(df_encoded['expected_recovery_amount'] >= threshold_lower) & (df_encoded['expected_recovery_amount'] <= threshold_upper)]\n",
        "\n",
        "above_threshold_df = filtered_df[filtered_df['expected_recovery_amount'] > 1000]\n",
        "below_threshold_df = filtered_df[filtered_df['expected_recovery_amount'] < 1000]\n",
        "\n",
        "\n",
        "statistic, p_value = kruskal(above_threshold_df['actual_recovery_amount'], below_threshold_df['actual_recovery_amount'])\n",
        "\n",
        "# Display the results\n",
        "print(\"Kruskal-Wallis Test:\")\n",
        "print(\"Test Statistic:\", statistic)\n",
        "print(\"p-value:\", p_value)\n",
        "\n",
        "if p_value < 0.05:\n",
        "    print(\"The Kruskal-Wallis test result is statistically significant.\")\n",
        "    print(\"There are significant differences in the 'Actual Recovery Amount' among groups above and below the $1000 threshold.\")\n",
        "else:\n",
        "    print(\"The Kruskal-Wallis test result is not statistically significant.\")\n",
        "    print(\"There are no significant differences in the 'Actual Recovery Amount' among groups above and below the $1000 threshold.\")"
      ],
      "metadata": {
        "colab": {
          "base_uri": "https://localhost:8080/"
        },
        "id": "XoyF8U9P_kgH",
        "outputId": "139f180c-6358-4dd2-d231-6ffd0a07d01c"
      },
      "execution_count": 24,
      "outputs": [
        {
          "output_type": "stream",
          "name": "stdout",
          "text": [
            "Kruskal-Wallis Test:\n",
            "Test Statistic: 33.0431604938272\n",
            "p-value: 9.013556650854467e-09\n",
            "The Kruskal-Wallis test result is statistically significant.\n",
            "There are significant differences in the 'Actual Recovery Amount' among groups above and below the $1000 threshold.\n"
          ]
        }
      ]
    },
    {
      "cell_type": "markdown",
      "source": [
        "## Regression modeling: no threshold"
      ],
      "metadata": {
        "id": "66OB4Kra_fae"
      }
    },
    {
      "cell_type": "code",
      "source": [
        "threshold_lower = 900\n",
        "threshold_upper = 1100\n",
        "filtered_df = df_encoded[(df_encoded['expected_recovery_amount'] >= threshold_lower) & (df_encoded['expected_recovery_amount'] <= threshold_upper)]\n",
        "\n",
        "X =filtered_df['expected_recovery_amount']\n",
        "y = filtered_df['actual_recovery_amount']\n",
        "\n",
        "X = sm.add_constant(X)\n",
        "\n",
        "model = sm.OLS(y, X).fit()\n",
        "\n",
        "# Display the model summary\n",
        "print(model.summary())"
      ],
      "metadata": {
        "colab": {
          "base_uri": "https://localhost:8080/"
        },
        "id": "josWrgKt-ufd",
        "outputId": "337ff011-bcc7-4b97-8779-363e0707d625"
      },
      "execution_count": 25,
      "outputs": [
        {
          "output_type": "stream",
          "name": "stdout",
          "text": [
            "                              OLS Regression Results                              \n",
            "==================================================================================\n",
            "Dep. Variable:     actual_recovery_amount   R-squared:                       0.253\n",
            "Model:                                OLS   Adj. R-squared:                  0.248\n",
            "Method:                     Least Squares   F-statistic:                     61.48\n",
            "Date:                    Thu, 20 Jul 2023   Prob (F-statistic):           3.65e-13\n",
            "Time:                            11:38:57   Log-Likelihood:                -1286.5\n",
            "No. Observations:                     184   AIC:                             2577.\n",
            "Df Residuals:                         182   BIC:                             2583.\n",
            "Df Model:                               1                                         \n",
            "Covariance Type:                nonrobust                                         \n",
            "============================================================================================\n",
            "                               coef    std err          t      P>|t|      [0.025      0.975]\n",
            "--------------------------------------------------------------------------------------------\n",
            "const                    -1918.4549    346.395     -5.538      0.000   -2601.920   -1234.989\n",
            "expected_recovery_amount     2.6956      0.344      7.841      0.000       2.017       3.374\n",
            "==============================================================================\n",
            "Omnibus:                       64.512   Durbin-Watson:                   1.786\n",
            "Prob(Omnibus):                  0.000   Jarque-Bera (JB):              185.639\n",
            "Skew:                           1.457   Prob(JB):                     4.89e-41\n",
            "Kurtosis:                       6.965   Cond. No.                     1.79e+04\n",
            "==============================================================================\n",
            "\n",
            "Notes:\n",
            "[1] Standard Errors assume that the covariance matrix of the errors is correctly specified.\n",
            "[2] The condition number is large, 1.79e+04. This might indicate that there are\n",
            "strong multicollinearity or other numerical problems.\n"
          ]
        }
      ]
    },
    {
      "cell_type": "markdown",
      "source": [
        "The R-squared value is 0.253, which means that approximately 25.3% of the variance in the 'Actual Recovery Amount' can be explained by the 'Expected Recovery Amount' in this model. This indicates a relatively strong fit for the model.\n",
        "\n",
        "The results shows that there is a strong positive relationship between these two variables."
      ],
      "metadata": {
        "id": "spfnyreTC2Eg"
      }
    },
    {
      "cell_type": "markdown",
      "source": [
        "## Regression modeling: adding true threshold"
      ],
      "metadata": {
        "id": "XPLV6rNHDXix"
      }
    },
    {
      "cell_type": "code",
      "source": [
        "\n",
        "threshold_lower = 900\n",
        "threshold_upper = 1100\n",
        "filtered_df = df_encoded[(df_encoded['expected_recovery_amount'] >= threshold_lower) & (df_encoded['expected_recovery_amount'] <= threshold_upper)]\n",
        "\n",
        "# Add the threshold indicator (0 for below threshold, 1 for above or equal to threshold)\n",
        "filtered_df['Above Threshold'] = (filtered_df['expected_recovery_amount'] >= 1000).astype(int)\n",
        "\n",
        "# Define the input (independent variables) and output (dependent variable)\n",
        "X = filtered_df[['expected_recovery_amount', 'Above Threshold']]\n",
        "y = filtered_df['actual_recovery_amount']\n",
        "\n",
        "# Add a constant term to the input (intercept for the linear regression model)\n",
        "X = sm.add_constant(X)\n",
        "\n",
        "# Fit the linear regression model with the threshold indicator\n",
        "model_with_threshold = sm.OLS(y, X).fit()\n",
        "\n",
        "# Display the model summary\n",
        "print(model_with_threshold.summary())\n"
      ],
      "metadata": {
        "colab": {
          "base_uri": "https://localhost:8080/"
        },
        "id": "VUfMsuK_8PEl",
        "outputId": "c4230d58-4f47-4b1c-a281-feef2327b7b4"
      },
      "execution_count": 27,
      "outputs": [
        {
          "output_type": "stream",
          "name": "stdout",
          "text": [
            "                              OLS Regression Results                              \n",
            "==================================================================================\n",
            "Dep. Variable:     actual_recovery_amount   R-squared:                       0.309\n",
            "Model:                                OLS   Adj. R-squared:                  0.301\n",
            "Method:                     Least Squares   F-statistic:                     40.43\n",
            "Date:                    Thu, 20 Jul 2023   Prob (F-statistic):           3.06e-15\n",
            "Time:                            13:24:55   Log-Likelihood:                -1279.3\n",
            "No. Observations:                     184   AIC:                             2565.\n",
            "Df Residuals:                         181   BIC:                             2574.\n",
            "Df Model:                               2                                         \n",
            "Covariance Type:                nonrobust                                         \n",
            "============================================================================================\n",
            "                               coef    std err          t      P>|t|      [0.025      0.975]\n",
            "--------------------------------------------------------------------------------------------\n",
            "const                       98.8272    622.659      0.159      0.874   -1129.777    1327.431\n",
            "expected_recovery_amount     0.5430      0.651      0.834      0.406      -0.742       1.828\n",
            "Above Threshold            284.0296     73.988      3.839      0.000     138.041     430.019\n",
            "==============================================================================\n",
            "Omnibus:                       66.386   Durbin-Watson:                   1.921\n",
            "Prob(Omnibus):                  0.000   Jarque-Bera (JB):              188.158\n",
            "Skew:                           1.512   Prob(JB):                     1.39e-41\n",
            "Kurtosis:                       6.924   Cond. No.                     3.35e+04\n",
            "==============================================================================\n",
            "\n",
            "Notes:\n",
            "[1] Standard Errors assume that the covariance matrix of the errors is correctly specified.\n",
            "[2] The condition number is large, 3.35e+04. This might indicate that there are\n",
            "strong multicollinearity or other numerical problems.\n"
          ]
        },
        {
          "output_type": "stream",
          "name": "stderr",
          "text": [
            "<ipython-input-27-0e4e21e47ce3>:6: SettingWithCopyWarning: \n",
            "A value is trying to be set on a copy of a slice from a DataFrame.\n",
            "Try using .loc[row_indexer,col_indexer] = value instead\n",
            "\n",
            "See the caveats in the documentation: https://pandas.pydata.org/pandas-docs/stable/user_guide/indexing.html#returning-a-view-versus-a-copy\n",
            "  filtered_df['Above Threshold'] = (filtered_df['expected_recovery_amount'] >= 1000).astype(int)\n"
          ]
        }
      ]
    },
    {
      "cell_type": "markdown",
      "source": [
        "## Regression modeling: adjusting the window"
      ],
      "metadata": {
        "id": "dsc--FPUebdO"
      }
    },
    {
      "cell_type": "markdown",
      "source": [
        "The regression coefficient for the true threshold was statistically significant with an estimated impact of around $278 and a 95 percent confidence interval of $132 to $424. This is much larger than the incremental cost of running the higher recovery strategy which was $50 per customer. At this point, we are feeling reasonably confident that the higher recovery strategy is worth the additional costs of the program for customers just above and just below the threshold.\n",
        "\n",
        "\n",
        "Before showing this to our managers, we want to convince ourselves that this result wasn't due just to us choosing a window of $900 to $1100 for the expected recovery amount. If the higher recovery strategy really had an impact of an extra few hundred dollars, then we should see a similar regression coefficient if we choose a slightly bigger or a slightly smaller window for the expected recovery amount. Let's repeat this analysis for the window of expected recovery amount from $950 to $1050 to see if we get similar results."
      ],
      "metadata": {
        "id": "bDRGCoFug9Kf"
      }
    },
    {
      "cell_type": "code",
      "source": [
        "\n",
        "threshold_lower = 950\n",
        "threshold_upper = 1050\n",
        "filtered_df = df_encoded[(df_encoded['expected_recovery_amount'] >= threshold_lower) & (df_encoded['expected_recovery_amount'] <= threshold_upper)]\n",
        "\n",
        "X_model1 = filtered_df['expected_recovery_amount']\n",
        "y_model1 = filtered_df['actual_recovery_amount']\n",
        "\n",
        "X_model1 = sm.add_constant(X_model1)\n",
        "\n",
        "model1 = sm.OLS(y_model1, X_model1).fit()\n",
        "\n",
        "print(\"Model 1: Linear Regression Without Threshold Indicator (Window: $950 to $1050)\")\n",
        "print(model1.summary())\n",
        "print()\n",
        "\n",
        "filtered_df['Above Threshold'] = (filtered_df['expected_recovery_amount'] >= 1000).astype(int)\n",
        "\n",
        "X_model2 = filtered_df[['expected_recovery_amount', 'Above Threshold']]\n",
        "y_model2 = filtered_df['actual_recovery_amount']\n",
        "\n",
        "X_model2 = sm.add_constant(X_model2)\n",
        "\n",
        "model2 = sm.OLS(y_model2, X_model2).fit()\n",
        "\n",
        "print(\"Model 2: Linear Regression With Threshold Indicator (Window: $950 to $1050)\")\n",
        "print(model2.summary())\n"
      ],
      "metadata": {
        "colab": {
          "base_uri": "https://localhost:8080/"
        },
        "id": "KqZhQ16cgXP3",
        "outputId": "bb40f908-1019-437f-c7ff-d56dbe544fc3"
      },
      "execution_count": 28,
      "outputs": [
        {
          "output_type": "stream",
          "name": "stdout",
          "text": [
            "Model 1: Linear Regression Without Threshold Indicator (Window: $950 to $1050)\n",
            "                              OLS Regression Results                              \n",
            "==================================================================================\n",
            "Dep. Variable:     actual_recovery_amount   R-squared:                       0.238\n",
            "Model:                                OLS   Adj. R-squared:                  0.230\n",
            "Method:                     Least Squares   F-statistic:                     30.64\n",
            "Date:                    Thu, 20 Jul 2023   Prob (F-statistic):           2.60e-07\n",
            "Time:                            13:35:51   Log-Likelihood:                -702.76\n",
            "No. Observations:                     100   AIC:                             1410.\n",
            "Df Residuals:                          98   BIC:                             1415.\n",
            "Df Model:                               1                                         \n",
            "Covariance Type:                nonrobust                                         \n",
            "============================================================================================\n",
            "                               coef    std err          t      P>|t|      [0.025      0.975]\n",
            "--------------------------------------------------------------------------------------------\n",
            "const                    -4365.0780    928.299     -4.702      0.000   -6207.257   -2522.899\n",
            "expected_recovery_amount     5.1385      0.928      5.535      0.000       3.296       6.981\n",
            "==============================================================================\n",
            "Omnibus:                       45.225   Durbin-Watson:                   1.845\n",
            "Prob(Omnibus):                  0.000   Jarque-Bera (JB):              113.157\n",
            "Skew:                           1.694   Prob(JB):                     2.68e-25\n",
            "Kurtosis:                       6.960   Cond. No.                     3.37e+04\n",
            "==============================================================================\n",
            "\n",
            "Notes:\n",
            "[1] Standard Errors assume that the covariance matrix of the errors is correctly specified.\n",
            "[2] The condition number is large, 3.37e+04. This might indicate that there are\n",
            "strong multicollinearity or other numerical problems.\n",
            "\n",
            "Model 2: Linear Regression With Threshold Indicator (Window: $950 to $1050)\n",
            "                              OLS Regression Results                              \n",
            "==================================================================================\n",
            "Dep. Variable:     actual_recovery_amount   R-squared:                       0.287\n",
            "Model:                                OLS   Adj. R-squared:                  0.273\n",
            "Method:                     Least Squares   F-statistic:                     19.55\n",
            "Date:                    Thu, 20 Jul 2023   Prob (F-statistic):           7.33e-08\n",
            "Time:                            13:35:51   Log-Likelihood:                -699.42\n",
            "No. Observations:                     100   AIC:                             1405.\n",
            "Df Residuals:                          97   BIC:                             1413.\n",
            "Df Model:                               2                                         \n",
            "Covariance Type:                nonrobust                                         \n",
            "============================================================================================\n",
            "                               coef    std err          t      P>|t|      [0.025      0.975]\n",
            "--------------------------------------------------------------------------------------------\n",
            "const                     -310.8225   1808.751     -0.172      0.864   -3900.692    3279.047\n",
            "expected_recovery_amount     0.9510      1.854      0.513      0.609      -2.728       4.630\n",
            "Above Threshold            285.5160    110.391      2.586      0.011      66.421     504.611\n",
            "==============================================================================\n",
            "Omnibus:                       39.881   Durbin-Watson:                   1.955\n",
            "Prob(Omnibus):                  0.000   Jarque-Bera (JB):               84.700\n",
            "Skew:                           1.568   Prob(JB):                     4.05e-19\n",
            "Kurtosis:                       6.239   Cond. No.                     6.76e+04\n",
            "==============================================================================\n",
            "\n",
            "Notes:\n",
            "[1] Standard Errors assume that the covariance matrix of the errors is correctly specified.\n",
            "[2] The condition number is large, 6.76e+04. This might indicate that there are\n",
            "strong multicollinearity or other numerical problems.\n"
          ]
        },
        {
          "output_type": "stream",
          "name": "stderr",
          "text": [
            "<ipython-input-28-88c036143d78>:16: SettingWithCopyWarning: \n",
            "A value is trying to be set on a copy of a slice from a DataFrame.\n",
            "Try using .loc[row_indexer,col_indexer] = value instead\n",
            "\n",
            "See the caveats in the documentation: https://pandas.pydata.org/pandas-docs/stable/user_guide/indexing.html#returning-a-view-versus-a-copy\n",
            "  filtered_df['Above Threshold'] = (filtered_df['expected_recovery_amount'] >= 1000).astype(int)\n"
          ]
        }
      ]
    },
    {
      "cell_type": "markdown",
      "source": [
        "We can see that the higher recovery strategy really had an impact of an extra few hundred dollars, then we should see a similar regression coefficient if we chooseba slightly smaller window for the expected recovery amount"
      ],
      "metadata": {
        "id": "zGMsay_FhLWQ"
      }
    }
  ]
}