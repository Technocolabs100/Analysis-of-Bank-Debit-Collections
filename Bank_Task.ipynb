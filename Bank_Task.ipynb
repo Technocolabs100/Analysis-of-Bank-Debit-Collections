{
  "nbformat": 4,
  "nbformat_minor": 0,
  "metadata": {
    "colab": {
      "provenance": [],
      "authorship_tag": "ABX9TyMCcQu+yKp6auOgO1EykISe",
      "include_colab_link": true
    },
    "kernelspec": {
      "name": "python3",
      "display_name": "Python 3"
    },
    "language_info": {
      "name": "python"
    }
  },
  "cells": [
    {
      "cell_type": "markdown",
      "metadata": {
        "id": "view-in-github",
        "colab_type": "text"
      },
      "source": [
        "<a href=\"https://colab.research.google.com/github/HabibaY/Analysis-of-Bank-Debit-Collections/blob/main/Bank_Task.ipynb\" target=\"_parent\"><img src=\"https://colab.research.google.com/assets/colab-badge.svg\" alt=\"Open In Colab\"/></a>"
      ]
    },
    {
      "cell_type": "code",
      "execution_count": 4,
      "metadata": {
        "id": "ZxPnSTqVQ0jW"
      },
      "outputs": [],
      "source": [
        "import numpy as np # linear algebra\n",
        "import pandas as pd # data processing, CSV file I/O (e.g. pd.read_csv)\n",
        "# Input data files are available in the read-only \"../input/\" directory\n",
        "# For example, running this (by clicking run or pressing Shift+Enter) will list all files under the input directory\n",
        "\n",
        "import os\n",
        "for dirname, _, filenames in os.walk('/kaggle/input'):\n",
        "    for filename in filenames:\n",
        "        print(os.path.join(dirname, filename))"
      ]
    },
    {
      "cell_type": "code",
      "source": [
        "df = pd.read_csv('bank_data.csv')"
      ],
      "metadata": {
        "id": "QrDAnROZRP-o"
      },
      "execution_count": 5,
      "outputs": []
    },
    {
      "cell_type": "code",
      "source": [
        "#.sample(10) outputs randomly 10 records\n",
        "df.sample(10)"
      ],
      "metadata": {
        "colab": {
          "base_uri": "https://localhost:8080/",
          "height": 363
        },
        "id": "dtdprClgShkT",
        "outputId": "49ee51e3-d57d-4045-e3c6-326d213294f4"
      },
      "execution_count": 6,
      "outputs": [
        {
          "output_type": "execute_result",
          "data": {
            "text/plain": [
              "        id  expected_recovery_amount  actual_recovery_amount  \\\n",
              "1078   138                      2422             2408.008447   \n",
              "874    765                      1911             2900.715251   \n",
              "1677   187                      5504             7767.461198   \n",
              "984    816                      2168             2235.182872   \n",
              "615    853                      1473             1871.546755   \n",
              "335   1637                      1092             1028.513414   \n",
              "150    893                       891              487.250000   \n",
              "1273   276                      3061             4440.961914   \n",
              "177   1257                       920              500.230000   \n",
              "294    578                      1056              846.203829   \n",
              "\n",
              "     recovery_strategy  age     sex  \n",
              "1078  Level 2 Recovery   47    Male  \n",
              "874   Level 1 Recovery   33    Male  \n",
              "1677  Level 4 Recovery   71    Male  \n",
              "984   Level 2 Recovery   29    Male  \n",
              "615   Level 1 Recovery   20  Female  \n",
              "335   Level 1 Recovery   19    Male  \n",
              "150   Level 0 Recovery   24  Female  \n",
              "1273  Level 3 Recovery   35  Female  \n",
              "177   Level 0 Recovery   27    Male  \n",
              "294   Level 1 Recovery   23  Female  "
            ],
            "text/html": [
              "\n",
              "\n",
              "  <div id=\"df-992c410a-9511-47cd-8e7f-4335c193cbbc\">\n",
              "    <div class=\"colab-df-container\">\n",
              "      <div>\n",
              "<style scoped>\n",
              "    .dataframe tbody tr th:only-of-type {\n",
              "        vertical-align: middle;\n",
              "    }\n",
              "\n",
              "    .dataframe tbody tr th {\n",
              "        vertical-align: top;\n",
              "    }\n",
              "\n",
              "    .dataframe thead th {\n",
              "        text-align: right;\n",
              "    }\n",
              "</style>\n",
              "<table border=\"1\" class=\"dataframe\">\n",
              "  <thead>\n",
              "    <tr style=\"text-align: right;\">\n",
              "      <th></th>\n",
              "      <th>id</th>\n",
              "      <th>expected_recovery_amount</th>\n",
              "      <th>actual_recovery_amount</th>\n",
              "      <th>recovery_strategy</th>\n",
              "      <th>age</th>\n",
              "      <th>sex</th>\n",
              "    </tr>\n",
              "  </thead>\n",
              "  <tbody>\n",
              "    <tr>\n",
              "      <th>1078</th>\n",
              "      <td>138</td>\n",
              "      <td>2422</td>\n",
              "      <td>2408.008447</td>\n",
              "      <td>Level 2 Recovery</td>\n",
              "      <td>47</td>\n",
              "      <td>Male</td>\n",
              "    </tr>\n",
              "    <tr>\n",
              "      <th>874</th>\n",
              "      <td>765</td>\n",
              "      <td>1911</td>\n",
              "      <td>2900.715251</td>\n",
              "      <td>Level 1 Recovery</td>\n",
              "      <td>33</td>\n",
              "      <td>Male</td>\n",
              "    </tr>\n",
              "    <tr>\n",
              "      <th>1677</th>\n",
              "      <td>187</td>\n",
              "      <td>5504</td>\n",
              "      <td>7767.461198</td>\n",
              "      <td>Level 4 Recovery</td>\n",
              "      <td>71</td>\n",
              "      <td>Male</td>\n",
              "    </tr>\n",
              "    <tr>\n",
              "      <th>984</th>\n",
              "      <td>816</td>\n",
              "      <td>2168</td>\n",
              "      <td>2235.182872</td>\n",
              "      <td>Level 2 Recovery</td>\n",
              "      <td>29</td>\n",
              "      <td>Male</td>\n",
              "    </tr>\n",
              "    <tr>\n",
              "      <th>615</th>\n",
              "      <td>853</td>\n",
              "      <td>1473</td>\n",
              "      <td>1871.546755</td>\n",
              "      <td>Level 1 Recovery</td>\n",
              "      <td>20</td>\n",
              "      <td>Female</td>\n",
              "    </tr>\n",
              "    <tr>\n",
              "      <th>335</th>\n",
              "      <td>1637</td>\n",
              "      <td>1092</td>\n",
              "      <td>1028.513414</td>\n",
              "      <td>Level 1 Recovery</td>\n",
              "      <td>19</td>\n",
              "      <td>Male</td>\n",
              "    </tr>\n",
              "    <tr>\n",
              "      <th>150</th>\n",
              "      <td>893</td>\n",
              "      <td>891</td>\n",
              "      <td>487.250000</td>\n",
              "      <td>Level 0 Recovery</td>\n",
              "      <td>24</td>\n",
              "      <td>Female</td>\n",
              "    </tr>\n",
              "    <tr>\n",
              "      <th>1273</th>\n",
              "      <td>276</td>\n",
              "      <td>3061</td>\n",
              "      <td>4440.961914</td>\n",
              "      <td>Level 3 Recovery</td>\n",
              "      <td>35</td>\n",
              "      <td>Female</td>\n",
              "    </tr>\n",
              "    <tr>\n",
              "      <th>177</th>\n",
              "      <td>1257</td>\n",
              "      <td>920</td>\n",
              "      <td>500.230000</td>\n",
              "      <td>Level 0 Recovery</td>\n",
              "      <td>27</td>\n",
              "      <td>Male</td>\n",
              "    </tr>\n",
              "    <tr>\n",
              "      <th>294</th>\n",
              "      <td>578</td>\n",
              "      <td>1056</td>\n",
              "      <td>846.203829</td>\n",
              "      <td>Level 1 Recovery</td>\n",
              "      <td>23</td>\n",
              "      <td>Female</td>\n",
              "    </tr>\n",
              "  </tbody>\n",
              "</table>\n",
              "</div>\n",
              "      <button class=\"colab-df-convert\" onclick=\"convertToInteractive('df-992c410a-9511-47cd-8e7f-4335c193cbbc')\"\n",
              "              title=\"Convert this dataframe to an interactive table.\"\n",
              "              style=\"display:none;\">\n",
              "\n",
              "  <svg xmlns=\"http://www.w3.org/2000/svg\" height=\"24px\"viewBox=\"0 0 24 24\"\n",
              "       width=\"24px\">\n",
              "    <path d=\"M0 0h24v24H0V0z\" fill=\"none\"/>\n",
              "    <path d=\"M18.56 5.44l.94 2.06.94-2.06 2.06-.94-2.06-.94-.94-2.06-.94 2.06-2.06.94zm-11 1L8.5 8.5l.94-2.06 2.06-.94-2.06-.94L8.5 2.5l-.94 2.06-2.06.94zm10 10l.94 2.06.94-2.06 2.06-.94-2.06-.94-.94-2.06-.94 2.06-2.06.94z\"/><path d=\"M17.41 7.96l-1.37-1.37c-.4-.4-.92-.59-1.43-.59-.52 0-1.04.2-1.43.59L10.3 9.45l-7.72 7.72c-.78.78-.78 2.05 0 2.83L4 21.41c.39.39.9.59 1.41.59.51 0 1.02-.2 1.41-.59l7.78-7.78 2.81-2.81c.8-.78.8-2.07 0-2.86zM5.41 20L4 18.59l7.72-7.72 1.47 1.35L5.41 20z\"/>\n",
              "  </svg>\n",
              "      </button>\n",
              "\n",
              "\n",
              "\n",
              "    <div id=\"df-c43138e0-6c76-4c7e-9d4b-d6b021ca88c2\">\n",
              "      <button class=\"colab-df-quickchart\" onclick=\"quickchart('df-c43138e0-6c76-4c7e-9d4b-d6b021ca88c2')\"\n",
              "              title=\"Suggest charts.\"\n",
              "              style=\"display:none;\">\n",
              "\n",
              "<svg xmlns=\"http://www.w3.org/2000/svg\" height=\"24px\"viewBox=\"0 0 24 24\"\n",
              "     width=\"24px\">\n",
              "    <g>\n",
              "        <path d=\"M19 3H5c-1.1 0-2 .9-2 2v14c0 1.1.9 2 2 2h14c1.1 0 2-.9 2-2V5c0-1.1-.9-2-2-2zM9 17H7v-7h2v7zm4 0h-2V7h2v10zm4 0h-2v-4h2v4z\"/>\n",
              "    </g>\n",
              "</svg>\n",
              "      </button>\n",
              "    </div>\n",
              "\n",
              "<style>\n",
              "  .colab-df-quickchart {\n",
              "    background-color: #E8F0FE;\n",
              "    border: none;\n",
              "    border-radius: 50%;\n",
              "    cursor: pointer;\n",
              "    display: none;\n",
              "    fill: #1967D2;\n",
              "    height: 32px;\n",
              "    padding: 0 0 0 0;\n",
              "    width: 32px;\n",
              "  }\n",
              "\n",
              "  .colab-df-quickchart:hover {\n",
              "    background-color: #E2EBFA;\n",
              "    box-shadow: 0px 1px 2px rgba(60, 64, 67, 0.3), 0px 1px 3px 1px rgba(60, 64, 67, 0.15);\n",
              "    fill: #174EA6;\n",
              "  }\n",
              "\n",
              "  [theme=dark] .colab-df-quickchart {\n",
              "    background-color: #3B4455;\n",
              "    fill: #D2E3FC;\n",
              "  }\n",
              "\n",
              "  [theme=dark] .colab-df-quickchart:hover {\n",
              "    background-color: #434B5C;\n",
              "    box-shadow: 0px 1px 3px 1px rgba(0, 0, 0, 0.15);\n",
              "    filter: drop-shadow(0px 1px 2px rgba(0, 0, 0, 0.3));\n",
              "    fill: #FFFFFF;\n",
              "  }\n",
              "</style>\n",
              "\n",
              "    <script>\n",
              "      async function quickchart(key) {\n",
              "        const containerElement = document.querySelector('#' + key);\n",
              "        const charts = await google.colab.kernel.invokeFunction(\n",
              "            'suggestCharts', [key], {});\n",
              "      }\n",
              "    </script>\n",
              "\n",
              "      <script>\n",
              "\n",
              "function displayQuickchartButton(domScope) {\n",
              "  let quickchartButtonEl =\n",
              "    domScope.querySelector('#df-c43138e0-6c76-4c7e-9d4b-d6b021ca88c2 button.colab-df-quickchart');\n",
              "  quickchartButtonEl.style.display =\n",
              "    google.colab.kernel.accessAllowed ? 'block' : 'none';\n",
              "}\n",
              "\n",
              "        displayQuickchartButton(document);\n",
              "      </script>\n",
              "      <style>\n",
              "    .colab-df-container {\n",
              "      display:flex;\n",
              "      flex-wrap:wrap;\n",
              "      gap: 12px;\n",
              "    }\n",
              "\n",
              "    .colab-df-convert {\n",
              "      background-color: #E8F0FE;\n",
              "      border: none;\n",
              "      border-radius: 50%;\n",
              "      cursor: pointer;\n",
              "      display: none;\n",
              "      fill: #1967D2;\n",
              "      height: 32px;\n",
              "      padding: 0 0 0 0;\n",
              "      width: 32px;\n",
              "    }\n",
              "\n",
              "    .colab-df-convert:hover {\n",
              "      background-color: #E2EBFA;\n",
              "      box-shadow: 0px 1px 2px rgba(60, 64, 67, 0.3), 0px 1px 3px 1px rgba(60, 64, 67, 0.15);\n",
              "      fill: #174EA6;\n",
              "    }\n",
              "\n",
              "    [theme=dark] .colab-df-convert {\n",
              "      background-color: #3B4455;\n",
              "      fill: #D2E3FC;\n",
              "    }\n",
              "\n",
              "    [theme=dark] .colab-df-convert:hover {\n",
              "      background-color: #434B5C;\n",
              "      box-shadow: 0px 1px 3px 1px rgba(0, 0, 0, 0.15);\n",
              "      filter: drop-shadow(0px 1px 2px rgba(0, 0, 0, 0.3));\n",
              "      fill: #FFFFFF;\n",
              "    }\n",
              "  </style>\n",
              "\n",
              "      <script>\n",
              "        const buttonEl =\n",
              "          document.querySelector('#df-992c410a-9511-47cd-8e7f-4335c193cbbc button.colab-df-convert');\n",
              "        buttonEl.style.display =\n",
              "          google.colab.kernel.accessAllowed ? 'block' : 'none';\n",
              "\n",
              "        async function convertToInteractive(key) {\n",
              "          const element = document.querySelector('#df-992c410a-9511-47cd-8e7f-4335c193cbbc');\n",
              "          const dataTable =\n",
              "            await google.colab.kernel.invokeFunction('convertToInteractive',\n",
              "                                                     [key], {});\n",
              "          if (!dataTable) return;\n",
              "\n",
              "          const docLinkHtml = 'Like what you see? Visit the ' +\n",
              "            '<a target=\"_blank\" href=https://colab.research.google.com/notebooks/data_table.ipynb>data table notebook</a>'\n",
              "            + ' to learn more about interactive tables.';\n",
              "          element.innerHTML = '';\n",
              "          dataTable['output_type'] = 'display_data';\n",
              "          await google.colab.output.renderOutput(dataTable, element);\n",
              "          const docLink = document.createElement('div');\n",
              "          docLink.innerHTML = docLinkHtml;\n",
              "          element.appendChild(docLink);\n",
              "        }\n",
              "      </script>\n",
              "    </div>\n",
              "  </div>\n"
            ]
          },
          "metadata": {},
          "execution_count": 6
        }
      ]
    },
    {
      "cell_type": "markdown",
      "source": [
        "Regression discontinuity: banking recovery\n",
        "individuals or units are assigned to a treatment group or a control group based on a cutoff score or threshold of a continuous variable.\n",
        "this threshold is:\n",
        "Level 0: Expected recovery amounts >$0 and <=$1000\n",
        "Level 1: Expected recovery amounts >$1000 and <=$2000\n",
        "The threshold of $1000 separates Level 0 from Level 1\n",
        "\n",
        "The basic idea is that individuals just above or below the cutoff are similar in all aspects except for their treatment status. By comparing the outcomes of individuals on either side of the cutoff, researchers can estimate the causal effect of the treatment.\n",
        "\n",
        "we examine different columns vs the Expected Recovery amount column to see if there is a jump at $1000\n"
      ],
      "metadata": {
        "id": "QBqbBR0xixXf"
      }
    },
    {
      "cell_type": "markdown",
      "source": [
        "Age vs Expected Recovery amount"
      ],
      "metadata": {
        "id": "sniFW02jnOUK"
      }
    },
    {
      "cell_type": "code",
      "source": [
        "# Scatter plot of Age vs. Expected Recovery Amount\n",
        "from matplotlib import pyplot as plt\n",
        "%matplotlib inline\n",
        "plt.scatter(x=df['expected_recovery_amount'], y=df['age'], c=\"r\", s=2.5)\n",
        "plt.xlim(0, 2000)\n",
        "plt.ylim(0, 60)\n",
        "plt.xlabel(\"Expected Recovery Amount\")\n",
        "plt.ylabel(\"Age\")\n",
        "#plt.legend(loc=2)\n",
        "plt.show()"
      ],
      "metadata": {
        "colab": {
          "base_uri": "https://localhost:8080/",
          "height": 455
        },
        "id": "hZCbQ8BJnNsB",
        "outputId": "9179cba1-5ef2-412e-f2bf-6bcd9499a3b4"
      },
      "execution_count": 7,
      "outputs": [
        {
          "output_type": "display_data",
          "data": {
            "text/plain": [
              "<Figure size 640x480 with 1 Axes>"
            ],
            "image/png": "[encoded data removed]"
          },
          "metadata": {}
        }
      ]
    },
    {
      "cell_type": "markdown",
      "source": [
        "Clearly there is no jump, there is no change before and after the $1000 amount. So, age is not dependent on the Expected Recovery amount"
      ],
      "metadata": {
        "id": "dc2NS8aJnfE2"
      }
    },
    {
      "cell_type": "markdown",
      "source": [
        "Sex vs Expected Recovery Amount"
      ],
      "metadata": {
        "id": "nUND94Gon24m"
      }
    },
    {
      "cell_type": "code",
      "source": [
        "#Import stats module\n",
        "from scipy import stats\n",
        "#store the values in the expected recovery amount column which are >=900 and <1100\n",
        "a=df.loc[(df['expected_recovery_amount']<1100) &\n",
        "                      (df['expected_recovery_amount']>=900)]\n",
        "by_recovery_strategy = a.groupby(['recovery_strategy'])\n",
        "by_recovery_strategy['age'].describe().unstack()\n",
        "\n",
        "# Perform Kruskal-Wallis test\n",
        "Level_0_age = a.loc[df['recovery_strategy']==\"Level 0 Recovery\"]['age']\n",
        "Level_1_age = a.loc[df['recovery_strategy']==\"Level 1 Recovery\"]['age']\n",
        "stats.kruskal(Level_0_age,Level_1_age)"
      ],
      "metadata": {
        "colab": {
          "base_uri": "https://localhost:8080/"
        },
        "id": "DYVbSzkhn6P5",
        "outputId": "08da98b0-1e18-4256-e911-5bc010f4ba10"
      },
      "execution_count": 8,
      "outputs": [
        {
          "output_type": "execute_result",
          "data": {
            "text/plain": [
              "KruskalResult(statistic=3.4572342749517513, pvalue=0.06297556896097407)"
            ]
          },
          "metadata": {},
          "execution_count": 8
        }
      ]
    },
    {
      "cell_type": "markdown",
      "source": [
        "the pvalue is above the standard significant level(0.05) which means that we do not have sufficient evidence to reject the null hypothesis, which suggests that there is no statistically significant difference in the ages just above and below the threshold."
      ],
      "metadata": {
        "id": "4Q4CsqEL-IyX"
      }
    },
    {
      "cell_type": "markdown",
      "source": [
        "Statistical test: sex vs. expected recovery amount"
      ],
      "metadata": {
        "id": "JoMWRlx6-ny9"
      }
    },
    {
      "cell_type": "code",
      "source": [
        "# Number of customers in each category\n",
        "crosstab = pd.crosstab(df.loc[(df['expected_recovery_amount']<1100) &\n",
        "                              (df['expected_recovery_amount']>=900)]['recovery_strategy'],\n",
        "                       df['sex'])\n",
        "print(crosstab)\n",
        "\n",
        "# Chi-square test\n",
        "chi2_stat, p_val, dof, ex = stats.chi2_contingency(crosstab)\n",
        "print(\"pvalue = \",p_val)"
      ],
      "metadata": {
        "colab": {
          "base_uri": "https://localhost:8080/"
        },
        "id": "tRl-2p8O-YwI",
        "outputId": "b992dca5-af46-41cd-e29e-f3635ddb6687"
      },
      "execution_count": 9,
      "outputs": [
        {
          "output_type": "stream",
          "name": "stdout",
          "text": [
            "sex                Female  Male\n",
            "recovery_strategy              \n",
            "Level 0 Recovery       32    57\n",
            "Level 1 Recovery       39    55\n",
            "pvalue =  0.5377947810444592\n"
          ]
        }
      ]
    },
    {
      "cell_type": "markdown",
      "source": [
        "the pvalue is above the standard significant level(0.05) which means that we do not have sufficient evidence to reject the null hypothesis, which suggests that there is no statistically significant difference in the ages just above and below the threshold"
      ],
      "metadata": {
        "id": "_HoHvAw_-z33"
      }
    },
    {
      "cell_type": "markdown",
      "source": [
        "Exploratory graphical analysis: recovery amount"
      ],
      "metadata": {
        "id": "C2nA6igG-8HQ"
      }
    },
    {
      "cell_type": "code",
      "source": [
        "# Scatter plot of Actual Recovery Amount vs. Expected Recovery Amount\n",
        "plt.scatter(x=df['actual_recovery_amount'], y=df['expected_recovery_amount'], c=\"r\", s=2.5)\n",
        "plt.ylim(900, 1100)\n",
        "plt.xlim(0, 2000)\n",
        "plt.xlabel(\"Actual Recovery Amount\")\n",
        "plt.ylabel(\"Expected Recovery Amount\")\n",
        "\n"
      ],
      "metadata": {
        "colab": {
          "base_uri": "https://localhost:8080/",
          "height": 472
        },
        "id": "EX_Vp9o8-mtm",
        "outputId": "e61ffd3e-3e5f-4f0f-bb8f-bd132d8ef0a7"
      },
      "execution_count": 10,
      "outputs": [
        {
          "output_type": "execute_result",
          "data": {
            "text/plain": [
              "Text(0, 0.5, 'Expected Recovery Amount')"
            ]
          },
          "metadata": {},
          "execution_count": 10
        },
        {
          "output_type": "display_data",
          "data": {
            "text/plain": [
              "<Figure size 640x480 with 1 Axes>"
            ],
            "image/png": "[encoded data removed]"
          },
          "metadata": {}
        }
      ]
    },
    {
      "cell_type": "markdown",
      "source": [
        "Statistical Analysis\n"
      ],
      "metadata": {
        "id": "w-mJvWh7_Z5d"
      }
    },
    {
      "cell_type": "markdown",
      "source": [
        "For range between $900 and $1100"
      ],
      "metadata": {
        "id": "HNTH4WLv_ooz"
      }
    },
    {
      "cell_type": "code",
      "source": [
        "# Compute average actual recovery amount just below and above the threshold\n",
        "by_recovery_strategy['actual_recovery_amount'].describe().unstack()\n",
        "\n",
        "# Perform Kruskal-Wallis test\n",
        "Level_0_actual = a.loc[df['recovery_strategy']=='Level 0 Recovery']['actual_recovery_amount']\n",
        "Level_1_actual = a.loc[df['recovery_strategy']=='Level 1 Recovery']['actual_recovery_amount']\n",
        "stats.kruskal(Level_0_actual,Level_1_actual)"
      ],
      "metadata": {
        "colab": {
          "base_uri": "https://localhost:8080/"
        },
        "id": "6XxOAVzR_cBf",
        "outputId": "29be6ee7-e1ae-417a-b0b2-ec9ec8c23b2d"
      },
      "execution_count": 11,
      "outputs": [
        {
          "output_type": "execute_result",
          "data": {
            "text/plain": [
              "KruskalResult(statistic=65.37966302528878, pvalue=6.177308752803109e-16)"
            ]
          },
          "metadata": {},
          "execution_count": 11
        }
      ]
    },
    {
      "cell_type": "markdown",
      "source": [
        "For range between $950 and $1050"
      ],
      "metadata": {
        "id": "NEIZWRXq_hB7"
      }
    },
    {
      "cell_type": "code",
      "source": [
        "b=df.loc[(df['expected_recovery_amount']<1050) &\n",
        "                      (df['expected_recovery_amount']>=950)]\n",
        "\n",
        "by_recovery_strategy['actual_recovery_amount'].describe().unstack()\n",
        "\n",
        "# Perform Kruskal-Wallis test\n",
        "Level_0_actual = b.loc[df['recovery_strategy']==\"Level 0 Recovery\"]['actual_recovery_amount']\n",
        "Level_1_actual = b.loc[df['recovery_strategy']==\"Level 1 Recovery\"]['actual_recovery_amount']\n",
        "stats.kruskal(Level_0_actual,Level_1_actual)"
      ],
      "metadata": {
        "colab": {
          "base_uri": "https://localhost:8080/"
        },
        "id": "-1nhBIG8_wnc",
        "outputId": "2810ef05-c879-4b1d-fea2-b25d8992ec67"
      },
      "execution_count": 12,
      "outputs": [
        {
          "output_type": "execute_result",
          "data": {
            "text/plain": [
              "KruskalResult(statistic=30.246000000000038, pvalue=3.80575314300276e-08)"
            ]
          },
          "metadata": {},
          "execution_count": 12
        }
      ]
    },
    {
      "cell_type": "markdown",
      "source": [
        "Comment: the 2 pvalues of the 2 ranges are below the standard significant level(0.05) which suggests that there is a statistically significant difference in the ages just above and below the threshold"
      ],
      "metadata": {
        "id": "6t-T7IQTA86X"
      }
    },
    {
      "cell_type": "markdown",
      "source": [
        "Regression modeling: no threshold"
      ],
      "metadata": {
        "id": "-Rj43xpJBhNK"
      }
    },
    {
      "cell_type": "markdown",
      "source": [
        "To make regression models there are many approaches to be used;for example, scikit-learn, statsmodels libraries. However,scikit-learn is more oriented towards machine learning and offers a wide range of algorithms for regression tasks. So, statsmodels is more convinient as it is more focused on statistical analysis and provides detailed outputs."
      ],
      "metadata": {
        "id": "HqanKg0PAvON"
      }
    },
    {
      "cell_type": "markdown",
      "source": [
        "WE will use simple linear regression technique as it works with no threshold and when there is only 1 predictor variable and 1 outcome variable."
      ],
      "metadata": {
        "id": "5BcHNeMkBlDS"
      }
    },
    {
      "cell_type": "code",
      "source": [
        "# Import statsmodels\n",
        "# import statsmodels.api as sm\n",
        "# from sklearn.model_selection import train_test_split\n",
        "# from sklearn.metrics import mean_squared_error, r2_score\n",
        "# # Split the data into training and testing sets\n",
        "# #input is expected_recovery_amount\n",
        "# #output is actual_recovery_amount\n",
        "\n",
        "# X_train, X_test, y_train, y_test = train_test_split(df['expected_recovery_amount'], df['actual_recovery_amount'], test_size=0.2, random_state=42)\n",
        "# # Add a constant term to the independent variable (for intercept in the model)\n",
        "# X_train = sm.add_constant(X_train)\n",
        "# X_test = sm.add_constant(X_test)\n",
        "# # Create and fit the linear regression model using statsmodels\n",
        "# model = sm.OLS(y_train, X_train).fit()  # Ordinary Least Squares\n",
        "# #result = model.fit()\n",
        "# Print the summary of the model\n",
        "# print(model.summary())\n",
        "\n",
        "# Make predictions on the test data\n",
        "# y_pred = model.predict(X_test)\n",
        "\n",
        "# # Evaluate the model\n",
        "# mse = mean_squared_error(y_test, y_pred)\n",
        "# r2 = r2_score(y_test, y_pred)\n",
        "\n",
        "# print(f\"Mean Squared Error: {mse}\")\n",
        "# print(f\"R-squared: {r2}\")\n"
      ],
      "metadata": {
        "id": "ge3f539TBlfx"
      },
      "execution_count": 26,
      "outputs": []
    },
    {
      "cell_type": "code",
      "source": [
        "# Import statsmodels\n",
        "import statsmodels.api as sm\n",
        "\n",
        "# Define X and y\n",
        "X = a['expected_recovery_amount']\n",
        "y = a['actual_recovery_amount']\n",
        "X = sm.add_constant(X)\n",
        "\n",
        "# Build linear regression model\n",
        "model = sm.OLS(y, X).fit()\n",
        "predictions = model.predict(X)\n",
        "\n",
        "# Print out the model summary statistics\n",
        "model.summary()"
      ],
      "metadata": {
        "colab": {
          "base_uri": "https://localhost:8080/",
          "height": 476
        },
        "id": "bhpVJAq_DNLz",
        "outputId": "cf400b2a-613a-4049-dc91-2fb24364f783"
      },
      "execution_count": 18,
      "outputs": [
        {
          "output_type": "execute_result",
          "data": {
            "text/plain": [
              "<class 'statsmodels.iolib.summary.Summary'>\n",
              "\"\"\"\n",
              "                              OLS Regression Results                              \n",
              "==================================================================================\n",
              "Dep. Variable:     actual_recovery_amount   R-squared:                       0.261\n",
              "Model:                                OLS   Adj. R-squared:                  0.256\n",
              "Method:                     Least Squares   F-statistic:                     63.78\n",
              "Date:                    Thu, 20 Jul 2023   Prob (F-statistic):           1.56e-13\n",
              "Time:                            20:47:18   Log-Likelihood:                -1278.9\n",
              "No. Observations:                     183   AIC:                             2562.\n",
              "Df Residuals:                         181   BIC:                             2568.\n",
              "Df Model:                               1                                         \n",
              "Covariance Type:                nonrobust                                         \n",
              "============================================================================================\n",
              "                               coef    std err          t      P>|t|      [0.025      0.975]\n",
              "--------------------------------------------------------------------------------------------\n",
              "const                    -1978.7597    347.741     -5.690      0.000   -2664.907   -1292.612\n",
              "expected_recovery_amount     2.7577      0.345      7.986      0.000       2.076       3.439\n",
              "==============================================================================\n",
              "Omnibus:                       64.493   Durbin-Watson:                   1.777\n",
              "Prob(Omnibus):                  0.000   Jarque-Bera (JB):              185.818\n",
              "Skew:                           1.463   Prob(JB):                     4.47e-41\n",
              "Kurtosis:                       6.977   Cond. No.                     1.80e+04\n",
              "==============================================================================\n",
              "\n",
              "Notes:\n",
              "[1] Standard Errors assume that the covariance matrix of the errors is correctly specified.\n",
              "[2] The condition number is large, 1.8e+04. This might indicate that there are\n",
              "strong multicollinearity or other numerical problems.\n",
              "\"\"\""
            ],
            "text/html": [
              "<table class=\"simpletable\">\n",
              "<caption>OLS Regression Results</caption>\n",
              "<tr>\n",
              "  <th>Dep. Variable:</th>    <td>actual_recovery_amount</td> <th>  R-squared:         </th> <td>   0.261</td>\n",
              "</tr>\n",
              "<tr>\n",
              "  <th>Model:</th>                      <td>OLS</td>          <th>  Adj. R-squared:    </th> <td>   0.256</td>\n",
              "</tr>\n",
              "<tr>\n",
              "  <th>Method:</th>                <td>Least Squares</td>     <th>  F-statistic:       </th> <td>   63.78</td>\n",
              "</tr>\n",
              "<tr>\n",
              "  <th>Date:</th>                <td>Thu, 20 Jul 2023</td>    <th>  Prob (F-statistic):</th> <td>1.56e-13</td>\n",
              "</tr>\n",
              "<tr>\n",
              "  <th>Time:</th>                    <td>20:47:18</td>        <th>  Log-Likelihood:    </th> <td> -1278.9</td>\n",
              "</tr>\n",
              "<tr>\n",
              "  <th>No. Observations:</th>         <td>   183</td>         <th>  AIC:               </th> <td>   2562.</td>\n",
              "</tr>\n",
              "<tr>\n",
              "  <th>Df Residuals:</th>             <td>   181</td>         <th>  BIC:               </th> <td>   2568.</td>\n",
              "</tr>\n",
              "<tr>\n",
              "  <th>Df Model:</th>                 <td>     1</td>         <th>                     </th>     <td> </td>   \n",
              "</tr>\n",
              "<tr>\n",
              "  <th>Covariance Type:</th>         <td>nonrobust</td>       <th>                     </th>     <td> </td>   \n",
              "</tr>\n",
              "</table>\n",
              "<table class=\"simpletable\">\n",
              "<tr>\n",
              "              <td></td>                <th>coef</th>     <th>std err</th>      <th>t</th>      <th>P>|t|</th>  <th>[0.025</th>    <th>0.975]</th>  \n",
              "</tr>\n",
              "<tr>\n",
              "  <th>const</th>                    <td>-1978.7597</td> <td>  347.741</td> <td>   -5.690</td> <td> 0.000</td> <td>-2664.907</td> <td>-1292.612</td>\n",
              "</tr>\n",
              "<tr>\n",
              "  <th>expected_recovery_amount</th> <td>    2.7577</td> <td>    0.345</td> <td>    7.986</td> <td> 0.000</td> <td>    2.076</td> <td>    3.439</td>\n",
              "</tr>\n",
              "</table>\n",
              "<table class=\"simpletable\">\n",
              "<tr>\n",
              "  <th>Omnibus:</th>       <td>64.493</td> <th>  Durbin-Watson:     </th> <td>   1.777</td>\n",
              "</tr>\n",
              "<tr>\n",
              "  <th>Prob(Omnibus):</th> <td> 0.000</td> <th>  Jarque-Bera (JB):  </th> <td> 185.818</td>\n",
              "</tr>\n",
              "<tr>\n",
              "  <th>Skew:</th>          <td> 1.463</td> <th>  Prob(JB):          </th> <td>4.47e-41</td>\n",
              "</tr>\n",
              "<tr>\n",
              "  <th>Kurtosis:</th>      <td> 6.977</td> <th>  Cond. No.          </th> <td>1.80e+04</td>\n",
              "</tr>\n",
              "</table><br/><br/>Notes:<br/>[1] Standard Errors assume that the covariance matrix of the errors is correctly specified.<br/>[2] The condition number is large, 1.8e+04. This might indicate that there are<br/>strong multicollinearity or other numerical problems."
            ]
          },
          "metadata": {},
          "execution_count": 18
        }
      ]
    },
    {
      "cell_type": "code",
      "source": [
        "import statsmodels.api as sm\n",
        "import matplotlib.pyplot as plt\n",
        "\n",
        "# Define X and y\n",
        "X = a['expected_recovery_amount']\n",
        "y = a['actual_recovery_amount']\n",
        "\n",
        "# Add a constant term to the independent variable (for intercept in the model)\n",
        "X = sm.add_constant(X)\n",
        "\n",
        "# Build linear regression model\n",
        "model = sm.OLS(y, X).fit()\n",
        "predictions = model.predict(X)\n",
        "\n",
        "# Print out the model summary statistics\n",
        "print(model.summary())\n",
        "\n",
        "# Visualize the data and the regression line\n",
        "plt.scatter(X['expected_recovery_amount'], y, label='Actual')\n",
        "plt.plot(X['expected_recovery_amount'], predictions, color='red', label='Predicted')\n",
        "plt.xlabel('Expected Recovery Amount')\n",
        "plt.ylabel('Actual Recovery Amount')\n",
        "plt.legend()\n",
        "plt.show()\n",
        "\n",
        "# Evaluate the model\n",
        "#mse = ((y - predictions) ** 2).mean()\n",
        "r2 = model.rsquared\n",
        "\n",
        "print(f\"Mean Squared Error: {mse}\")\n",
        "print(f\"R-squared: {r2}\")\n"
      ],
      "metadata": {
        "colab": {
          "base_uri": "https://localhost:8080/",
          "height": 952
        },
        "id": "Vh9KaOYUFHu7",
        "outputId": "f555aaeb-fe0d-4588-b913-b3e37d1e2659"
      },
      "execution_count": 22,
      "outputs": [
        {
          "output_type": "stream",
          "name": "stdout",
          "text": [
            "                              OLS Regression Results                              \n",
            "==================================================================================\n",
            "Dep. Variable:     actual_recovery_amount   R-squared:                       0.261\n",
            "Model:                                OLS   Adj. R-squared:                  0.256\n",
            "Method:                     Least Squares   F-statistic:                     63.78\n",
            "Date:                    Thu, 20 Jul 2023   Prob (F-statistic):           1.56e-13\n",
            "Time:                            21:14:35   Log-Likelihood:                -1278.9\n",
            "No. Observations:                     183   AIC:                             2562.\n",
            "Df Residuals:                         181   BIC:                             2568.\n",
            "Df Model:                               1                                         \n",
            "Covariance Type:                nonrobust                                         \n",
            "============================================================================================\n",
            "                               coef    std err          t      P>|t|      [0.025      0.975]\n",
            "--------------------------------------------------------------------------------------------\n",
            "const                    -1978.7597    347.741     -5.690      0.000   -2664.907   -1292.612\n",
            "expected_recovery_amount     2.7577      0.345      7.986      0.000       2.076       3.439\n",
            "==============================================================================\n",
            "Omnibus:                       64.493   Durbin-Watson:                   1.777\n",
            "Prob(Omnibus):                  0.000   Jarque-Bera (JB):              185.818\n",
            "Skew:                           1.463   Prob(JB):                     4.47e-41\n",
            "Kurtosis:                       6.977   Cond. No.                     1.80e+04\n",
            "==============================================================================\n",
            "\n",
            "Notes:\n",
            "[1] Standard Errors assume that the covariance matrix of the errors is correctly specified.\n",
            "[2] The condition number is large, 1.8e+04. This might indicate that there are\n",
            "strong multicollinearity or other numerical problems.\n"
          ]
        },
        {
          "output_type": "display_data",
          "data": {
            "text/plain": [
              "<Figure size 640x480 with 1 Axes>"
            ],
            "image/png": "[encoded data removed]"
          },
          "metadata": {}
        },
        {
          "output_type": "stream",
          "name": "stdout",
          "text": [
            "Mean Squared Error: 68806.51675613894\n",
            "R-squared: 0.26055416614656135\n"
          ]
        }
      ]
    },
    {
      "cell_type": "markdown",
      "source": [
        "An R-squared value of 0.261 indicates that approximately 26.1% of the variance in the actual recovery amount (y) is explained by the linear regression model using the expected recovery amount (X['expected_recovery_amount']) as the predictor. In other words, the model accounts for about 26.1% of the variability in the actual recovery amounts based on the variation in the expected recovery amounts.\n",
        "A higher R-squared value closer to 1.0 indicates that the model explains a larger proportion of the variance in the dependent variable, suggesting a better fit to the data. However, a value of 1.0 is not always achievable or desirable as it may indicate overfitting.\n",
        "A lower R-squared value, like the one in this case (0.261), indicates that the model does not explain much of the variance in the dependent variable. It suggests that other factors or variables not included in the model might be influencing the actual recovery amounts."
      ],
      "metadata": {
        "id": "5Zr5f17BG-14"
      }
    },
    {
      "cell_type": "markdown",
      "source": [
        "A positive coefficient like 2.7577 indicates a positive relationship between the expected_recovery_amount and the predicted actual_recovery_amount. As the expected recovery amount increases, the model predicts that the actual recovery amount will also increase.\n",
        "The coefficient's magnitude (2.7577) suggests that the expected recovery amount has a moderate effect on predicting the actual recovery amount in this linear regression model."
      ],
      "metadata": {
        "id": "_T5hj6YqI4WD"
      }
    },
    {
      "cell_type": "markdown",
      "source": [
        "Regression modeling: adding true threshold"
      ],
      "metadata": {
        "id": "aDhYK81GJZYH"
      }
    },
    {
      "cell_type": "markdown",
      "source": [
        "The second model adds an indicator of the true threshold to the model. If there was no impact of the higher recovery strategy on the actual recovery amount, then we would expect that the relationship between the expected recovery amount and the actual recovery amount would be continuous."
      ],
      "metadata": {
        "id": "tPVOp6-2KIP3"
      }
    },
    {
      "cell_type": "code",
      "source": [
        "#Create a binary variable 'above_threshold'\n",
        "a['above_threshold'] = (a['expected_recovery_amount'] >= 1000).astype(int)\n",
        "\n",
        "#Define X and y for the second model\n",
        "X_second = a[['expected_recovery_amount', 'above_threshold']]\n",
        "y_second = a['actual_recovery_amount']\n",
        "\n",
        "#Add a constant to X for the intercept term\n",
        "X_second = sm.add_constant(X_second)\n",
        "\n",
        "#Build the second linear regression model\n",
        "model_second = sm.OLS(y_second, X_second).fit()\n",
        "\n",
        "#Print out the model summary statistics\n",
        "print(model_second.summary())\n",
        "\n",
        "import matplotlib.pyplot as plt\n",
        "import seaborn as sns\n",
        "\n",
        "# Scatter plot with regression line for below_threshold\n",
        "sns.scatterplot(x='expected_recovery_amount', y='actual_recovery_amount', data=a[a['above_threshold'] == 0], label='Below Threshold')\n",
        "\n",
        "# Scatter plot with regression line for above_threshold\n",
        "sns.scatterplot(x='expected_recovery_amount', y='actual_recovery_amount', data=a[a['above_threshold'] == 1], label='Above Threshold')\n",
        "\n",
        "# Regression lines for both groups\n",
        "sns.lineplot(x='expected_recovery_amount', y=model_second.predict(X_second), data=a, color='red', label='Regression Line')\n",
        "\n",
        "plt.xlabel('Expected Recovery Amount')\n",
        "plt.ylabel('Actual Recovery Amount')\n",
        "plt.legend()\n",
        "plt.title('Scatter Plot with Regression Lines for Above and Below Threshold')\n",
        "plt.show()\n",
        "\n",
        "\n",
        "\n"
      ],
      "metadata": {
        "colab": {
          "base_uri": "https://localhost:8080/",
          "height": 1000
        },
        "id": "Yf6aLhjZJcoP",
        "outputId": "6361faae-881d-4bc4-bfe7-98896e16c589"
      },
      "execution_count": 24,
      "outputs": [
        {
          "output_type": "stream",
          "name": "stderr",
          "text": [
            "<ipython-input-24-efc7a1921060>:2: SettingWithCopyWarning: \n",
            "A value is trying to be set on a copy of a slice from a DataFrame.\n",
            "Try using .loc[row_indexer,col_indexer] = value instead\n",
            "\n",
            "See the caveats in the documentation: https://pandas.pydata.org/pandas-docs/stable/user_guide/indexing.html#returning-a-view-versus-a-copy\n",
            "  a['above_threshold'] = (a['expected_recovery_amount'] >= 1000).astype(int)\n"
          ]
        },
        {
          "output_type": "stream",
          "name": "stdout",
          "text": [
            "                              OLS Regression Results                              \n",
            "==================================================================================\n",
            "Dep. Variable:     actual_recovery_amount   R-squared:                       0.314\n",
            "Model:                                OLS   Adj. R-squared:                  0.307\n",
            "Method:                     Least Squares   F-statistic:                     41.22\n",
            "Date:                    Thu, 20 Jul 2023   Prob (F-statistic):           1.83e-15\n",
            "Time:                            21:34:58   Log-Likelihood:                -1272.0\n",
            "No. Observations:                     183   AIC:                             2550.\n",
            "Df Residuals:                         180   BIC:                             2560.\n",
            "Df Model:                               2                                         \n",
            "Covariance Type:                nonrobust                                         \n",
            "============================================================================================\n",
            "                               coef    std err          t      P>|t|      [0.025      0.975]\n",
            "--------------------------------------------------------------------------------------------\n",
            "const                        3.3440    626.274      0.005      0.996   -1232.440    1239.128\n",
            "expected_recovery_amount     0.6430      0.655      0.981      0.328      -0.650       1.936\n",
            "above_threshold            277.6344     74.043      3.750      0.000     131.530     423.739\n",
            "==============================================================================\n",
            "Omnibus:                       65.977   Durbin-Watson:                   1.906\n",
            "Prob(Omnibus):                  0.000   Jarque-Bera (JB):              186.537\n",
            "Skew:                           1.510   Prob(JB):                     3.12e-41\n",
            "Kurtosis:                       6.917   Cond. No.                     3.37e+04\n",
            "==============================================================================\n",
            "\n",
            "Notes:\n",
            "[1] Standard Errors assume that the covariance matrix of the errors is correctly specified.\n",
            "[2] The condition number is large, 3.37e+04. This might indicate that there are\n",
            "strong multicollinearity or other numerical problems.\n"
          ]
        },
        {
          "output_type": "display_data",
          "data": {
            "text/plain": [
              "<Figure size 640x480 with 1 Axes>"
            ],
            "image/png": "[encoded data removed]"
          },
          "metadata": {}
        }
      ]
    },
    {
      "cell_type": "markdown",
      "source": [
        "Here we can see that the coef for the indicator is statistically significant (p-value<0.05) ,it indicates that the relationship between the expected recovery amount and the actual recovery amount is different between the two groups (above and below the threshold)."
      ],
      "metadata": {
        "id": "r1a0HgrPP1eE"
      }
    },
    {
      "cell_type": "markdown",
      "source": [
        "The coefficient for the 'above_threshold variable' is statistically significant, suggesting that the higher recovery strategy (above the threshold) has a significant impact on the actual recovery amount. Specifically, when the expected recovery amount is above the threshold, the model predicts that the actual recovery amount will increase by approximately 277.63 units compared to when it is below the threshold."
      ],
      "metadata": {
        "id": "OK8EJ8YEQery"
      }
    },
    {
      "cell_type": "markdown",
      "source": [
        "However, a positive coefficient (0.6430) indicates a positive relationship between the 'expected_recovery_amount' and the predicted 'actual_recovery_amount.' As the expected recovery amount increases, the model predicts that the actual recovery amount will also increase.\n",
        "The magnitude of the coefficient (0.6430) indicates that for every one-unit increase in the 'expected_recovery_amount,' the model predicts an increase of approximately 0.6430 units in the 'actual_recovery_amount.' However, since this coefficient is not statistically significant (as indicated by the high p-value of 0.328), the confidence in the magnitude's accuracy is low."
      ],
      "metadata": {
        "id": "iOKT72vwQ4wt"
      }
    },
    {
      "cell_type": "markdown",
      "source": [
        "\n",
        "The values [0.025 0.975] associated with the 'above_threshold' coefficient represent the confidence interval for the coefficient estimate. The confidence interval provides a range of values within which the true population coefficient is likely to lie with a certain level of confidence.\n",
        "\n",
        "In the provided example, the 95% confidence interval for the 'above_threshold' coefficient is [131.530, 423.739]. This means that we are 95% confident that the true population coefficient lies between 131.530 and 423.739.\n",
        "The interval [131.530, 423.739] suggests that the true effect of the 'above_threshold' variable on the 'actual_recovery_amount' could be anywhere within this range. The coefficient value of 277.6344 is the best point estimate, but the true value may be as low as 131.530 or as high as 423.739.\n",
        "Interpreting the confidence interval helps us understand the uncertainty associated with the coefficient estimate. It provides a range of values within which we believe the true population coefficient lies based on the sample data"
      ],
      "metadata": {
        "id": "bNq5bRRqU_Lj"
      }
    },
    {
      "cell_type": "markdown",
      "source": [
        "Regression modeling: adjusting the window"
      ],
      "metadata": {
        "id": "9yMtJpOFShdH"
      }
    },
    {
      "cell_type": "markdown",
      "source": [
        "Before showing this to our managers, we want to convince ourselves that this result wasn't due just to us choosing a window of $900 to $1100 for the expected recovery amount. If the higher recovery strategy really had an impact of an extra few hundred dollars, then we should see a similar regression coefficient if we choose a slightly bigger or a slightly smaller window for the expected recovery amount. Let's repeat this analysis for the window of expected recovery amount from $950 to $1050 to see if we get similar results."
      ],
      "metadata": {
        "id": "ZjQFayHLVYar"
      }
    },
    {
      "cell_type": "code",
      "source": [
        "#Create a binary variable 'above_threshold'\n",
        "b['above_threshold'] = (b['expected_recovery_amount'] >= 1000).astype(int)\n",
        "\n",
        "#Define X and y for the second model\n",
        "X_second = a[['expected_recovery_amount', 'above_threshold']]\n",
        "y_second = a['actual_recovery_amount']\n",
        "\n",
        "#Add a constant to X for the intercept term\n",
        "X_second = sm.add_constant(X_second)\n",
        "\n",
        "#Build the second linear regression model\n",
        "model_second = sm.OLS(y_second, X_second).fit()\n",
        "\n",
        "#Print out the model summary statistics\n",
        "print(model_second.summary())"
      ],
      "metadata": {
        "colab": {
          "base_uri": "https://localhost:8080/"
        },
        "id": "MEQ06nCaSOcM",
        "outputId": "b0f312d8-f1a1-41eb-f469-f8f83c508ab6"
      },
      "execution_count": 25,
      "outputs": [
        {
          "output_type": "stream",
          "name": "stdout",
          "text": [
            "                              OLS Regression Results                              \n",
            "==================================================================================\n",
            "Dep. Variable:     actual_recovery_amount   R-squared:                       0.314\n",
            "Model:                                OLS   Adj. R-squared:                  0.307\n",
            "Method:                     Least Squares   F-statistic:                     41.22\n",
            "Date:                    Thu, 20 Jul 2023   Prob (F-statistic):           1.83e-15\n",
            "Time:                            22:08:13   Log-Likelihood:                -1272.0\n",
            "No. Observations:                     183   AIC:                             2550.\n",
            "Df Residuals:                         180   BIC:                             2560.\n",
            "Df Model:                               2                                         \n",
            "Covariance Type:                nonrobust                                         \n",
            "============================================================================================\n",
            "                               coef    std err          t      P>|t|      [0.025      0.975]\n",
            "--------------------------------------------------------------------------------------------\n",
            "const                        3.3440    626.274      0.005      0.996   -1232.440    1239.128\n",
            "expected_recovery_amount     0.6430      0.655      0.981      0.328      -0.650       1.936\n",
            "above_threshold            277.6344     74.043      3.750      0.000     131.530     423.739\n",
            "==============================================================================\n",
            "Omnibus:                       65.977   Durbin-Watson:                   1.906\n",
            "Prob(Omnibus):                  0.000   Jarque-Bera (JB):              186.537\n",
            "Skew:                           1.510   Prob(JB):                     3.12e-41\n",
            "Kurtosis:                       6.917   Cond. No.                     3.37e+04\n",
            "==============================================================================\n",
            "\n",
            "Notes:\n",
            "[1] Standard Errors assume that the covariance matrix of the errors is correctly specified.\n",
            "[2] The condition number is large, 3.37e+04. This might indicate that there are\n",
            "strong multicollinearity or other numerical problems.\n"
          ]
        },
        {
          "output_type": "stream",
          "name": "stderr",
          "text": [
            "<ipython-input-25-2d8f7708ddae>:2: SettingWithCopyWarning: \n",
            "A value is trying to be set on a copy of a slice from a DataFrame.\n",
            "Try using .loc[row_indexer,col_indexer] = value instead\n",
            "\n",
            "See the caveats in the documentation: https://pandas.pydata.org/pandas-docs/stable/user_guide/indexing.html#returning-a-view-versus-a-copy\n",
            "  b['above_threshold'] = (b['expected_recovery_amount'] >= 1000).astype(int)\n"
          ]
        }
      ]
    },
    {
      "cell_type": "markdown",
      "source": [
        "Here shows that changing the window doesn't change the regression coefficient, it is still significant and the estimated impact is similar to the previous window. So we can conclude that the higher recovery strategy has a meaningful impact on the actual recovery amount for customers just above and just below the threshold."
      ],
      "metadata": {
        "id": "RjvCzKc1WNoq"
      }
    }
  ]
}