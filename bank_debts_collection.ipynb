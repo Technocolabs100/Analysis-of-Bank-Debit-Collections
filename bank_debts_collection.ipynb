{
  "nbformat": 4,
  "nbformat_minor": 0,
  "metadata": {
    "colab": {
      "provenance": [],
      "authorship_tag": "ABX9TyNLoLpI1DefuIHQSmvGJhSJ",
      "include_colab_link": true
    },
    "kernelspec": {
      "name": "python3",
      "display_name": "Python 3"
    },
    "language_info": {
      "name": "python"
    }
  },
  "cells": [
    {
      "cell_type": "markdown",
      "metadata": {
        "id": "view-in-github",
        "colab_type": "text"
      },
      "source": [
        "<a href=\"https://colab.research.google.com/github/MeryemCHARHBILI/Analysis-of-Bank-Debit-Collections/blob/main/bank_debts_collection.ipynb\" target=\"_parent\"><img src=\"https://colab.research.google.com/assets/colab-badge.svg\" alt=\"Open In Colab\"/></a>"
      ]
    },
    {
      "cell_type": "code",
      "source": [
        "# Importing the libraries"
      ],
      "metadata": {
        "id": "o07cNLh_tq9l"
      },
      "execution_count": 16,
      "outputs": []
    },
    {
      "cell_type": "code",
      "execution_count": 17,
      "metadata": {
        "id": "RIdafgLeprRL"
      },
      "outputs": [],
      "source": [
        "# modules we'll use\n",
        "import pandas as pd\n",
        "import numpy as np\n"
      ]
    },
    {
      "cell_type": "code",
      "source": [
        "# read in all our data\n",
        "bank_data = pd.read_csv(\"bank_data.csv\")\n",
        "bank_data"
      ],
      "metadata": {
        "colab": {
          "base_uri": "https://localhost:8080/",
          "height": 423
        },
        "id": "vqfqB1MOrPrj",
        "outputId": "3381548c-4773-4e2e-827c-9411ef251ca8"
      },
      "execution_count": 18,
      "outputs": [
        {
          "output_type": "execute_result",
          "data": {
            "text/plain": [
              "        id  expected_recovery_amount  actual_recovery_amount  \\\n",
              "0     2030                       194              263.540000   \n",
              "1     1150                       486              416.090000   \n",
              "2      380                       527              429.350000   \n",
              "3     1838                       536              296.990000   \n",
              "4     1995                       541              346.385000   \n",
              "...    ...                       ...                     ...   \n",
              "1877   361                      9785            15388.195990   \n",
              "1878   196                      9857             9709.909257   \n",
              "1879   313                      9859            30209.181790   \n",
              "1880  1781                      9920            20386.232190   \n",
              "1881   522                      9964            16706.305920   \n",
              "\n",
              "     recovery_strategy  age     sex  \n",
              "0     Level 0 Recovery   19    Male  \n",
              "1     Level 0 Recovery   25  Female  \n",
              "2     Level 0 Recovery   27    Male  \n",
              "3     Level 0 Recovery   25    Male  \n",
              "4     Level 0 Recovery   34    Male  \n",
              "...                ...  ...     ...  \n",
              "1877  Level 4 Recovery   65  Female  \n",
              "1878  Level 4 Recovery   68  Female  \n",
              "1879  Level 4 Recovery   58  Female  \n",
              "1880  Level 4 Recovery   67  Female  \n",
              "1881  Level 4 Recovery   53    Male  \n",
              "\n",
              "[1882 rows x 6 columns]"
            ],
            "text/html": [
              "\n",
              "\n",
              "  <div id=\"df-24b893dc-148f-44e5-98d1-293d8ee8860f\">\n",
              "    <div class=\"colab-df-container\">\n",
              "      <div>\n",
              "<style scoped>\n",
              "    .dataframe tbody tr th:only-of-type {\n",
              "        vertical-align: middle;\n",
              "    }\n",
              "\n",
              "    .dataframe tbody tr th {\n",
              "        vertical-align: top;\n",
              "    }\n",
              "\n",
              "    .dataframe thead th {\n",
              "        text-align: right;\n",
              "    }\n",
              "</style>\n",
              "<table border=\"1\" class=\"dataframe\">\n",
              "  <thead>\n",
              "    <tr style=\"text-align: right;\">\n",
              "      <th></th>\n",
              "      <th>id</th>\n",
              "      <th>expected_recovery_amount</th>\n",
              "      <th>actual_recovery_amount</th>\n",
              "      <th>recovery_strategy</th>\n",
              "      <th>age</th>\n",
              "      <th>sex</th>\n",
              "    </tr>\n",
              "  </thead>\n",
              "  <tbody>\n",
              "    <tr>\n",
              "      <th>0</th>\n",
              "      <td>2030</td>\n",
              "      <td>194</td>\n",
              "      <td>263.540000</td>\n",
              "      <td>Level 0 Recovery</td>\n",
              "      <td>19</td>\n",
              "      <td>Male</td>\n",
              "    </tr>\n",
              "    <tr>\n",
              "      <th>1</th>\n",
              "      <td>1150</td>\n",
              "      <td>486</td>\n",
              "      <td>416.090000</td>\n",
              "      <td>Level 0 Recovery</td>\n",
              "      <td>25</td>\n",
              "      <td>Female</td>\n",
              "    </tr>\n",
              "    <tr>\n",
              "      <th>2</th>\n",
              "      <td>380</td>\n",
              "      <td>527</td>\n",
              "      <td>429.350000</td>\n",
              "      <td>Level 0 Recovery</td>\n",
              "      <td>27</td>\n",
              "      <td>Male</td>\n",
              "    </tr>\n",
              "    <tr>\n",
              "      <th>3</th>\n",
              "      <td>1838</td>\n",
              "      <td>536</td>\n",
              "      <td>296.990000</td>\n",
              "      <td>Level 0 Recovery</td>\n",
              "      <td>25</td>\n",
              "      <td>Male</td>\n",
              "    </tr>\n",
              "    <tr>\n",
              "      <th>4</th>\n",
              "      <td>1995</td>\n",
              "      <td>541</td>\n",
              "      <td>346.385000</td>\n",
              "      <td>Level 0 Recovery</td>\n",
              "      <td>34</td>\n",
              "      <td>Male</td>\n",
              "    </tr>\n",
              "    <tr>\n",
              "      <th>...</th>\n",
              "      <td>...</td>\n",
              "      <td>...</td>\n",
              "      <td>...</td>\n",
              "      <td>...</td>\n",
              "      <td>...</td>\n",
              "      <td>...</td>\n",
              "    </tr>\n",
              "    <tr>\n",
              "      <th>1877</th>\n",
              "      <td>361</td>\n",
              "      <td>9785</td>\n",
              "      <td>15388.195990</td>\n",
              "      <td>Level 4 Recovery</td>\n",
              "      <td>65</td>\n",
              "      <td>Female</td>\n",
              "    </tr>\n",
              "    <tr>\n",
              "      <th>1878</th>\n",
              "      <td>196</td>\n",
              "      <td>9857</td>\n",
              "      <td>9709.909257</td>\n",
              "      <td>Level 4 Recovery</td>\n",
              "      <td>68</td>\n",
              "      <td>Female</td>\n",
              "    </tr>\n",
              "    <tr>\n",
              "      <th>1879</th>\n",
              "      <td>313</td>\n",
              "      <td>9859</td>\n",
              "      <td>30209.181790</td>\n",
              "      <td>Level 4 Recovery</td>\n",
              "      <td>58</td>\n",
              "      <td>Female</td>\n",
              "    </tr>\n",
              "    <tr>\n",
              "      <th>1880</th>\n",
              "      <td>1781</td>\n",
              "      <td>9920</td>\n",
              "      <td>20386.232190</td>\n",
              "      <td>Level 4 Recovery</td>\n",
              "      <td>67</td>\n",
              "      <td>Female</td>\n",
              "    </tr>\n",
              "    <tr>\n",
              "      <th>1881</th>\n",
              "      <td>522</td>\n",
              "      <td>9964</td>\n",
              "      <td>16706.305920</td>\n",
              "      <td>Level 4 Recovery</td>\n",
              "      <td>53</td>\n",
              "      <td>Male</td>\n",
              "    </tr>\n",
              "  </tbody>\n",
              "</table>\n",
              "<p>1882 rows × 6 columns</p>\n",
              "</div>\n",
              "      <button class=\"colab-df-convert\" onclick=\"convertToInteractive('df-24b893dc-148f-44e5-98d1-293d8ee8860f')\"\n",
              "              title=\"Convert this dataframe to an interactive table.\"\n",
              "              style=\"display:none;\">\n",
              "\n",
              "  <svg xmlns=\"http://www.w3.org/2000/svg\" height=\"24px\"viewBox=\"0 0 24 24\"\n",
              "       width=\"24px\">\n",
              "    <path d=\"M0 0h24v24H0V0z\" fill=\"none\"/>\n",
              "    <path d=\"M18.56 5.44l.94 2.06.94-2.06 2.06-.94-2.06-.94-.94-2.06-.94 2.06-2.06.94zm-11 1L8.5 8.5l.94-2.06 2.06-.94-2.06-.94L8.5 2.5l-.94 2.06-2.06.94zm10 10l.94 2.06.94-2.06 2.06-.94-2.06-.94-.94-2.06-.94 2.06-2.06.94z\"/><path d=\"M17.41 7.96l-1.37-1.37c-.4-.4-.92-.59-1.43-.59-.52 0-1.04.2-1.43.59L10.3 9.45l-7.72 7.72c-.78.78-.78 2.05 0 2.83L4 21.41c.39.39.9.59 1.41.59.51 0 1.02-.2 1.41-.59l7.78-7.78 2.81-2.81c.8-.78.8-2.07 0-2.86zM5.41 20L4 18.59l7.72-7.72 1.47 1.35L5.41 20z\"/>\n",
              "  </svg>\n",
              "      </button>\n",
              "\n",
              "\n",
              "\n",
              "    <div id=\"df-4687eebe-ba92-4f69-a158-70fdb631e7c0\">\n",
              "      <button class=\"colab-df-quickchart\" onclick=\"quickchart('df-4687eebe-ba92-4f69-a158-70fdb631e7c0')\"\n",
              "              title=\"Suggest charts.\"\n",
              "              style=\"display:none;\">\n",
              "\n",
              "<svg xmlns=\"http://www.w3.org/2000/svg\" height=\"24px\"viewBox=\"0 0 24 24\"\n",
              "     width=\"24px\">\n",
              "    <g>\n",
              "        <path d=\"M19 3H5c-1.1 0-2 .9-2 2v14c0 1.1.9 2 2 2h14c1.1 0 2-.9 2-2V5c0-1.1-.9-2-2-2zM9 17H7v-7h2v7zm4 0h-2V7h2v10zm4 0h-2v-4h2v4z\"/>\n",
              "    </g>\n",
              "</svg>\n",
              "      </button>\n",
              "    </div>\n",
              "\n",
              "<style>\n",
              "  .colab-df-quickchart {\n",
              "    background-color: #E8F0FE;\n",
              "    border: none;\n",
              "    border-radius: 50%;\n",
              "    cursor: pointer;\n",
              "    display: none;\n",
              "    fill: #1967D2;\n",
              "    height: 32px;\n",
              "    padding: 0 0 0 0;\n",
              "    width: 32px;\n",
              "  }\n",
              "\n",
              "  .colab-df-quickchart:hover {\n",
              "    background-color: #E2EBFA;\n",
              "    box-shadow: 0px 1px 2px rgba(60, 64, 67, 0.3), 0px 1px 3px 1px rgba(60, 64, 67, 0.15);\n",
              "    fill: #174EA6;\n",
              "  }\n",
              "\n",
              "  [theme=dark] .colab-df-quickchart {\n",
              "    background-color: #3B4455;\n",
              "    fill: #D2E3FC;\n",
              "  }\n",
              "\n",
              "  [theme=dark] .colab-df-quickchart:hover {\n",
              "    background-color: #434B5C;\n",
              "    box-shadow: 0px 1px 3px 1px rgba(0, 0, 0, 0.15);\n",
              "    filter: drop-shadow(0px 1px 2px rgba(0, 0, 0, 0.3));\n",
              "    fill: #FFFFFF;\n",
              "  }\n",
              "</style>\n",
              "\n",
              "    <script>\n",
              "      async function quickchart(key) {\n",
              "        const containerElement = document.querySelector('#' + key);\n",
              "        const charts = await google.colab.kernel.invokeFunction(\n",
              "            'suggestCharts', [key], {});\n",
              "      }\n",
              "    </script>\n",
              "\n",
              "      <script>\n",
              "\n",
              "function displayQuickchartButton(domScope) {\n",
              "  let quickchartButtonEl =\n",
              "    domScope.querySelector('#df-4687eebe-ba92-4f69-a158-70fdb631e7c0 button.colab-df-quickchart');\n",
              "  quickchartButtonEl.style.display =\n",
              "    google.colab.kernel.accessAllowed ? 'block' : 'none';\n",
              "}\n",
              "\n",
              "        displayQuickchartButton(document);\n",
              "      </script>\n",
              "      <style>\n",
              "    .colab-df-container {\n",
              "      display:flex;\n",
              "      flex-wrap:wrap;\n",
              "      gap: 12px;\n",
              "    }\n",
              "\n",
              "    .colab-df-convert {\n",
              "      background-color: #E8F0FE;\n",
              "      border: none;\n",
              "      border-radius: 50%;\n",
              "      cursor: pointer;\n",
              "      display: none;\n",
              "      fill: #1967D2;\n",
              "      height: 32px;\n",
              "      padding: 0 0 0 0;\n",
              "      width: 32px;\n",
              "    }\n",
              "\n",
              "    .colab-df-convert:hover {\n",
              "      background-color: #E2EBFA;\n",
              "      box-shadow: 0px 1px 2px rgba(60, 64, 67, 0.3), 0px 1px 3px 1px rgba(60, 64, 67, 0.15);\n",
              "      fill: #174EA6;\n",
              "    }\n",
              "\n",
              "    [theme=dark] .colab-df-convert {\n",
              "      background-color: #3B4455;\n",
              "      fill: #D2E3FC;\n",
              "    }\n",
              "\n",
              "    [theme=dark] .colab-df-convert:hover {\n",
              "      background-color: #434B5C;\n",
              "      box-shadow: 0px 1px 3px 1px rgba(0, 0, 0, 0.15);\n",
              "      filter: drop-shadow(0px 1px 2px rgba(0, 0, 0, 0.3));\n",
              "      fill: #FFFFFF;\n",
              "    }\n",
              "  </style>\n",
              "\n",
              "      <script>\n",
              "        const buttonEl =\n",
              "          document.querySelector('#df-24b893dc-148f-44e5-98d1-293d8ee8860f button.colab-df-convert');\n",
              "        buttonEl.style.display =\n",
              "          google.colab.kernel.accessAllowed ? 'block' : 'none';\n",
              "\n",
              "        async function convertToInteractive(key) {\n",
              "          const element = document.querySelector('#df-24b893dc-148f-44e5-98d1-293d8ee8860f');\n",
              "          const dataTable =\n",
              "            await google.colab.kernel.invokeFunction('convertToInteractive',\n",
              "                                                     [key], {});\n",
              "          if (!dataTable) return;\n",
              "\n",
              "          const docLinkHtml = 'Like what you see? Visit the ' +\n",
              "            '<a target=\"_blank\" href=https://colab.research.google.com/notebooks/data_table.ipynb>data table notebook</a>'\n",
              "            + ' to learn more about interactive tables.';\n",
              "          element.innerHTML = '';\n",
              "          dataTable['output_type'] = 'display_data';\n",
              "          await google.colab.output.renderOutput(dataTable, element);\n",
              "          const docLink = document.createElement('div');\n",
              "          docLink.innerHTML = docLinkHtml;\n",
              "          element.appendChild(docLink);\n",
              "        }\n",
              "      </script>\n",
              "    </div>\n",
              "  </div>\n"
            ]
          },
          "metadata": {},
          "execution_count": 18
        }
      ]
    },
    {
      "cell_type": "code",
      "source": [
        "# look at the first five rows of the bank_data file.\n",
        "bank_data.head()"
      ],
      "metadata": {
        "colab": {
          "base_uri": "https://localhost:8080/",
          "height": 206
        },
        "id": "r7MmvjMirxnb",
        "outputId": "6310e65b-d4c2-4fd2-8825-e5785ccafd14"
      },
      "execution_count": 19,
      "outputs": [
        {
          "output_type": "execute_result",
          "data": {
            "text/plain": [
              "     id  expected_recovery_amount  actual_recovery_amount recovery_strategy  \\\n",
              "0  2030                       194                 263.540  Level 0 Recovery   \n",
              "1  1150                       486                 416.090  Level 0 Recovery   \n",
              "2   380                       527                 429.350  Level 0 Recovery   \n",
              "3  1838                       536                 296.990  Level 0 Recovery   \n",
              "4  1995                       541                 346.385  Level 0 Recovery   \n",
              "\n",
              "   age     sex  \n",
              "0   19    Male  \n",
              "1   25  Female  \n",
              "2   27    Male  \n",
              "3   25    Male  \n",
              "4   34    Male  "
            ],
            "text/html": [
              "\n",
              "\n",
              "  <div id=\"df-03183adf-35a2-4939-a089-f3717a51b66e\">\n",
              "    <div class=\"colab-df-container\">\n",
              "      <div>\n",
              "<style scoped>\n",
              "    .dataframe tbody tr th:only-of-type {\n",
              "        vertical-align: middle;\n",
              "    }\n",
              "\n",
              "    .dataframe tbody tr th {\n",
              "        vertical-align: top;\n",
              "    }\n",
              "\n",
              "    .dataframe thead th {\n",
              "        text-align: right;\n",
              "    }\n",
              "</style>\n",
              "<table border=\"1\" class=\"dataframe\">\n",
              "  <thead>\n",
              "    <tr style=\"text-align: right;\">\n",
              "      <th></th>\n",
              "      <th>id</th>\n",
              "      <th>expected_recovery_amount</th>\n",
              "      <th>actual_recovery_amount</th>\n",
              "      <th>recovery_strategy</th>\n",
              "      <th>age</th>\n",
              "      <th>sex</th>\n",
              "    </tr>\n",
              "  </thead>\n",
              "  <tbody>\n",
              "    <tr>\n",
              "      <th>0</th>\n",
              "      <td>2030</td>\n",
              "      <td>194</td>\n",
              "      <td>263.540</td>\n",
              "      <td>Level 0 Recovery</td>\n",
              "      <td>19</td>\n",
              "      <td>Male</td>\n",
              "    </tr>\n",
              "    <tr>\n",
              "      <th>1</th>\n",
              "      <td>1150</td>\n",
              "      <td>486</td>\n",
              "      <td>416.090</td>\n",
              "      <td>Level 0 Recovery</td>\n",
              "      <td>25</td>\n",
              "      <td>Female</td>\n",
              "    </tr>\n",
              "    <tr>\n",
              "      <th>2</th>\n",
              "      <td>380</td>\n",
              "      <td>527</td>\n",
              "      <td>429.350</td>\n",
              "      <td>Level 0 Recovery</td>\n",
              "      <td>27</td>\n",
              "      <td>Male</td>\n",
              "    </tr>\n",
              "    <tr>\n",
              "      <th>3</th>\n",
              "      <td>1838</td>\n",
              "      <td>536</td>\n",
              "      <td>296.990</td>\n",
              "      <td>Level 0 Recovery</td>\n",
              "      <td>25</td>\n",
              "      <td>Male</td>\n",
              "    </tr>\n",
              "    <tr>\n",
              "      <th>4</th>\n",
              "      <td>1995</td>\n",
              "      <td>541</td>\n",
              "      <td>346.385</td>\n",
              "      <td>Level 0 Recovery</td>\n",
              "      <td>34</td>\n",
              "      <td>Male</td>\n",
              "    </tr>\n",
              "  </tbody>\n",
              "</table>\n",
              "</div>\n",
              "      <button class=\"colab-df-convert\" onclick=\"convertToInteractive('df-03183adf-35a2-4939-a089-f3717a51b66e')\"\n",
              "              title=\"Convert this dataframe to an interactive table.\"\n",
              "              style=\"display:none;\">\n",
              "\n",
              "  <svg xmlns=\"http://www.w3.org/2000/svg\" height=\"24px\"viewBox=\"0 0 24 24\"\n",
              "       width=\"24px\">\n",
              "    <path d=\"M0 0h24v24H0V0z\" fill=\"none\"/>\n",
              "    <path d=\"M18.56 5.44l.94 2.06.94-2.06 2.06-.94-2.06-.94-.94-2.06-.94 2.06-2.06.94zm-11 1L8.5 8.5l.94-2.06 2.06-.94-2.06-.94L8.5 2.5l-.94 2.06-2.06.94zm10 10l.94 2.06.94-2.06 2.06-.94-2.06-.94-.94-2.06-.94 2.06-2.06.94z\"/><path d=\"M17.41 7.96l-1.37-1.37c-.4-.4-.92-.59-1.43-.59-.52 0-1.04.2-1.43.59L10.3 9.45l-7.72 7.72c-.78.78-.78 2.05 0 2.83L4 21.41c.39.39.9.59 1.41.59.51 0 1.02-.2 1.41-.59l7.78-7.78 2.81-2.81c.8-.78.8-2.07 0-2.86zM5.41 20L4 18.59l7.72-7.72 1.47 1.35L5.41 20z\"/>\n",
              "  </svg>\n",
              "      </button>\n",
              "\n",
              "\n",
              "\n",
              "    <div id=\"df-94d1e2f7-2119-48ad-afca-7d38e56d170a\">\n",
              "      <button class=\"colab-df-quickchart\" onclick=\"quickchart('df-94d1e2f7-2119-48ad-afca-7d38e56d170a')\"\n",
              "              title=\"Suggest charts.\"\n",
              "              style=\"display:none;\">\n",
              "\n",
              "<svg xmlns=\"http://www.w3.org/2000/svg\" height=\"24px\"viewBox=\"0 0 24 24\"\n",
              "     width=\"24px\">\n",
              "    <g>\n",
              "        <path d=\"M19 3H5c-1.1 0-2 .9-2 2v14c0 1.1.9 2 2 2h14c1.1 0 2-.9 2-2V5c0-1.1-.9-2-2-2zM9 17H7v-7h2v7zm4 0h-2V7h2v10zm4 0h-2v-4h2v4z\"/>\n",
              "    </g>\n",
              "</svg>\n",
              "      </button>\n",
              "    </div>\n",
              "\n",
              "<style>\n",
              "  .colab-df-quickchart {\n",
              "    background-color: #E8F0FE;\n",
              "    border: none;\n",
              "    border-radius: 50%;\n",
              "    cursor: pointer;\n",
              "    display: none;\n",
              "    fill: #1967D2;\n",
              "    height: 32px;\n",
              "    padding: 0 0 0 0;\n",
              "    width: 32px;\n",
              "  }\n",
              "\n",
              "  .colab-df-quickchart:hover {\n",
              "    background-color: #E2EBFA;\n",
              "    box-shadow: 0px 1px 2px rgba(60, 64, 67, 0.3), 0px 1px 3px 1px rgba(60, 64, 67, 0.15);\n",
              "    fill: #174EA6;\n",
              "  }\n",
              "\n",
              "  [theme=dark] .colab-df-quickchart {\n",
              "    background-color: #3B4455;\n",
              "    fill: #D2E3FC;\n",
              "  }\n",
              "\n",
              "  [theme=dark] .colab-df-quickchart:hover {\n",
              "    background-color: #434B5C;\n",
              "    box-shadow: 0px 1px 3px 1px rgba(0, 0, 0, 0.15);\n",
              "    filter: drop-shadow(0px 1px 2px rgba(0, 0, 0, 0.3));\n",
              "    fill: #FFFFFF;\n",
              "  }\n",
              "</style>\n",
              "\n",
              "    <script>\n",
              "      async function quickchart(key) {\n",
              "        const containerElement = document.querySelector('#' + key);\n",
              "        const charts = await google.colab.kernel.invokeFunction(\n",
              "            'suggestCharts', [key], {});\n",
              "      }\n",
              "    </script>\n",
              "\n",
              "      <script>\n",
              "\n",
              "function displayQuickchartButton(domScope) {\n",
              "  let quickchartButtonEl =\n",
              "    domScope.querySelector('#df-94d1e2f7-2119-48ad-afca-7d38e56d170a button.colab-df-quickchart');\n",
              "  quickchartButtonEl.style.display =\n",
              "    google.colab.kernel.accessAllowed ? 'block' : 'none';\n",
              "}\n",
              "\n",
              "        displayQuickchartButton(document);\n",
              "      </script>\n",
              "      <style>\n",
              "    .colab-df-container {\n",
              "      display:flex;\n",
              "      flex-wrap:wrap;\n",
              "      gap: 12px;\n",
              "    }\n",
              "\n",
              "    .colab-df-convert {\n",
              "      background-color: #E8F0FE;\n",
              "      border: none;\n",
              "      border-radius: 50%;\n",
              "      cursor: pointer;\n",
              "      display: none;\n",
              "      fill: #1967D2;\n",
              "      height: 32px;\n",
              "      padding: 0 0 0 0;\n",
              "      width: 32px;\n",
              "    }\n",
              "\n",
              "    .colab-df-convert:hover {\n",
              "      background-color: #E2EBFA;\n",
              "      box-shadow: 0px 1px 2px rgba(60, 64, 67, 0.3), 0px 1px 3px 1px rgba(60, 64, 67, 0.15);\n",
              "      fill: #174EA6;\n",
              "    }\n",
              "\n",
              "    [theme=dark] .colab-df-convert {\n",
              "      background-color: #3B4455;\n",
              "      fill: #D2E3FC;\n",
              "    }\n",
              "\n",
              "    [theme=dark] .colab-df-convert:hover {\n",
              "      background-color: #434B5C;\n",
              "      box-shadow: 0px 1px 3px 1px rgba(0, 0, 0, 0.15);\n",
              "      filter: drop-shadow(0px 1px 2px rgba(0, 0, 0, 0.3));\n",
              "      fill: #FFFFFF;\n",
              "    }\n",
              "  </style>\n",
              "\n",
              "      <script>\n",
              "        const buttonEl =\n",
              "          document.querySelector('#df-03183adf-35a2-4939-a089-f3717a51b66e button.colab-df-convert');\n",
              "        buttonEl.style.display =\n",
              "          google.colab.kernel.accessAllowed ? 'block' : 'none';\n",
              "\n",
              "        async function convertToInteractive(key) {\n",
              "          const element = document.querySelector('#df-03183adf-35a2-4939-a089-f3717a51b66e');\n",
              "          const dataTable =\n",
              "            await google.colab.kernel.invokeFunction('convertToInteractive',\n",
              "                                                     [key], {});\n",
              "          if (!dataTable) return;\n",
              "\n",
              "          const docLinkHtml = 'Like what you see? Visit the ' +\n",
              "            '<a target=\"_blank\" href=https://colab.research.google.com/notebooks/data_table.ipynb>data table notebook</a>'\n",
              "            + ' to learn more about interactive tables.';\n",
              "          element.innerHTML = '';\n",
              "          dataTable['output_type'] = 'display_data';\n",
              "          await google.colab.output.renderOutput(dataTable, element);\n",
              "          const docLink = document.createElement('div');\n",
              "          docLink.innerHTML = docLinkHtml;\n",
              "          element.appendChild(docLink);\n",
              "        }\n",
              "      </script>\n",
              "    </div>\n",
              "  </div>\n"
            ]
          },
          "metadata": {},
          "execution_count": 19
        }
      ]
    },
    {
      "cell_type": "code",
      "source": [
        "bank_data.info()"
      ],
      "metadata": {
        "colab": {
          "base_uri": "https://localhost:8080/"
        },
        "id": "rjvoTfRir5g2",
        "outputId": "7191fe56-4ae2-4184-ccf2-b43dde99d449"
      },
      "execution_count": 20,
      "outputs": [
        {
          "output_type": "stream",
          "name": "stdout",
          "text": [
            "<class 'pandas.core.frame.DataFrame'>\n",
            "RangeIndex: 1882 entries, 0 to 1881\n",
            "Data columns (total 6 columns):\n",
            " #   Column                    Non-Null Count  Dtype  \n",
            "---  ------                    --------------  -----  \n",
            " 0   id                        1882 non-null   int64  \n",
            " 1   expected_recovery_amount  1882 non-null   int64  \n",
            " 2   actual_recovery_amount    1882 non-null   float64\n",
            " 3   recovery_strategy         1882 non-null   object \n",
            " 4   age                       1882 non-null   int64  \n",
            " 5   sex                       1882 non-null   object \n",
            "dtypes: float64(1), int64(3), object(2)\n",
            "memory usage: 88.3+ KB\n"
          ]
        }
      ]
    },
    {
      "cell_type": "code",
      "source": [
        "bank_data.describe()"
      ],
      "metadata": {
        "colab": {
          "base_uri": "https://localhost:8080/",
          "height": 300
        },
        "id": "zNFnOAOSs3Aa",
        "outputId": "a92a09e5-ade8-4dc2-8ed7-4e5c3c7c8b81"
      },
      "execution_count": 21,
      "outputs": [
        {
          "output_type": "execute_result",
          "data": {
            "text/plain": [
              "                id  expected_recovery_amount  actual_recovery_amount  \\\n",
              "count  1882.000000               1882.000000             1882.000000   \n",
              "mean   1035.596174               2759.967588             4000.967837   \n",
              "std     591.458429               2019.826565             4576.506350   \n",
              "min       6.000000                194.000000              200.425000   \n",
              "25%     534.250000               1261.250000             1045.190300   \n",
              "50%    1029.500000               2062.000000             2115.446373   \n",
              "75%    1551.750000               3569.500000             5417.237207   \n",
              "max    2056.000000               9964.000000            34398.479710   \n",
              "\n",
              "               age  \n",
              "count  1882.000000  \n",
              "mean     39.650372  \n",
              "std      15.453072  \n",
              "min      18.000000  \n",
              "25%      28.000000  \n",
              "50%      35.000000  \n",
              "75%      50.000000  \n",
              "max      84.000000  "
            ],
            "text/html": [
              "\n",
              "\n",
              "  <div id=\"df-aaf3febf-d914-485f-9bd6-d268e12b42c2\">\n",
              "    <div class=\"colab-df-container\">\n",
              "      <div>\n",
              "<style scoped>\n",
              "    .dataframe tbody tr th:only-of-type {\n",
              "        vertical-align: middle;\n",
              "    }\n",
              "\n",
              "    .dataframe tbody tr th {\n",
              "        vertical-align: top;\n",
              "    }\n",
              "\n",
              "    .dataframe thead th {\n",
              "        text-align: right;\n",
              "    }\n",
              "</style>\n",
              "<table border=\"1\" class=\"dataframe\">\n",
              "  <thead>\n",
              "    <tr style=\"text-align: right;\">\n",
              "      <th></th>\n",
              "      <th>id</th>\n",
              "      <th>expected_recovery_amount</th>\n",
              "      <th>actual_recovery_amount</th>\n",
              "      <th>age</th>\n",
              "    </tr>\n",
              "  </thead>\n",
              "  <tbody>\n",
              "    <tr>\n",
              "      <th>count</th>\n",
              "      <td>1882.000000</td>\n",
              "      <td>1882.000000</td>\n",
              "      <td>1882.000000</td>\n",
              "      <td>1882.000000</td>\n",
              "    </tr>\n",
              "    <tr>\n",
              "      <th>mean</th>\n",
              "      <td>1035.596174</td>\n",
              "      <td>2759.967588</td>\n",
              "      <td>4000.967837</td>\n",
              "      <td>39.650372</td>\n",
              "    </tr>\n",
              "    <tr>\n",
              "      <th>std</th>\n",
              "      <td>591.458429</td>\n",
              "      <td>2019.826565</td>\n",
              "      <td>4576.506350</td>\n",
              "      <td>15.453072</td>\n",
              "    </tr>\n",
              "    <tr>\n",
              "      <th>min</th>\n",
              "      <td>6.000000</td>\n",
              "      <td>194.000000</td>\n",
              "      <td>200.425000</td>\n",
              "      <td>18.000000</td>\n",
              "    </tr>\n",
              "    <tr>\n",
              "      <th>25%</th>\n",
              "      <td>534.250000</td>\n",
              "      <td>1261.250000</td>\n",
              "      <td>1045.190300</td>\n",
              "      <td>28.000000</td>\n",
              "    </tr>\n",
              "    <tr>\n",
              "      <th>50%</th>\n",
              "      <td>1029.500000</td>\n",
              "      <td>2062.000000</td>\n",
              "      <td>2115.446373</td>\n",
              "      <td>35.000000</td>\n",
              "    </tr>\n",
              "    <tr>\n",
              "      <th>75%</th>\n",
              "      <td>1551.750000</td>\n",
              "      <td>3569.500000</td>\n",
              "      <td>5417.237207</td>\n",
              "      <td>50.000000</td>\n",
              "    </tr>\n",
              "    <tr>\n",
              "      <th>max</th>\n",
              "      <td>2056.000000</td>\n",
              "      <td>9964.000000</td>\n",
              "      <td>34398.479710</td>\n",
              "      <td>84.000000</td>\n",
              "    </tr>\n",
              "  </tbody>\n",
              "</table>\n",
              "</div>\n",
              "      <button class=\"colab-df-convert\" onclick=\"convertToInteractive('df-aaf3febf-d914-485f-9bd6-d268e12b42c2')\"\n",
              "              title=\"Convert this dataframe to an interactive table.\"\n",
              "              style=\"display:none;\">\n",
              "\n",
              "  <svg xmlns=\"http://www.w3.org/2000/svg\" height=\"24px\"viewBox=\"0 0 24 24\"\n",
              "       width=\"24px\">\n",
              "    <path d=\"M0 0h24v24H0V0z\" fill=\"none\"/>\n",
              "    <path d=\"M18.56 5.44l.94 2.06.94-2.06 2.06-.94-2.06-.94-.94-2.06-.94 2.06-2.06.94zm-11 1L8.5 8.5l.94-2.06 2.06-.94-2.06-.94L8.5 2.5l-.94 2.06-2.06.94zm10 10l.94 2.06.94-2.06 2.06-.94-2.06-.94-.94-2.06-.94 2.06-2.06.94z\"/><path d=\"M17.41 7.96l-1.37-1.37c-.4-.4-.92-.59-1.43-.59-.52 0-1.04.2-1.43.59L10.3 9.45l-7.72 7.72c-.78.78-.78 2.05 0 2.83L4 21.41c.39.39.9.59 1.41.59.51 0 1.02-.2 1.41-.59l7.78-7.78 2.81-2.81c.8-.78.8-2.07 0-2.86zM5.41 20L4 18.59l7.72-7.72 1.47 1.35L5.41 20z\"/>\n",
              "  </svg>\n",
              "      </button>\n",
              "\n",
              "\n",
              "\n",
              "    <div id=\"df-27a15575-c72a-43f3-a2af-e0ee65638f7b\">\n",
              "      <button class=\"colab-df-quickchart\" onclick=\"quickchart('df-27a15575-c72a-43f3-a2af-e0ee65638f7b')\"\n",
              "              title=\"Suggest charts.\"\n",
              "              style=\"display:none;\">\n",
              "\n",
              "<svg xmlns=\"http://www.w3.org/2000/svg\" height=\"24px\"viewBox=\"0 0 24 24\"\n",
              "     width=\"24px\">\n",
              "    <g>\n",
              "        <path d=\"M19 3H5c-1.1 0-2 .9-2 2v14c0 1.1.9 2 2 2h14c1.1 0 2-.9 2-2V5c0-1.1-.9-2-2-2zM9 17H7v-7h2v7zm4 0h-2V7h2v10zm4 0h-2v-4h2v4z\"/>\n",
              "    </g>\n",
              "</svg>\n",
              "      </button>\n",
              "    </div>\n",
              "\n",
              "<style>\n",
              "  .colab-df-quickchart {\n",
              "    background-color: #E8F0FE;\n",
              "    border: none;\n",
              "    border-radius: 50%;\n",
              "    cursor: pointer;\n",
              "    display: none;\n",
              "    fill: #1967D2;\n",
              "    height: 32px;\n",
              "    padding: 0 0 0 0;\n",
              "    width: 32px;\n",
              "  }\n",
              "\n",
              "  .colab-df-quickchart:hover {\n",
              "    background-color: #E2EBFA;\n",
              "    box-shadow: 0px 1px 2px rgba(60, 64, 67, 0.3), 0px 1px 3px 1px rgba(60, 64, 67, 0.15);\n",
              "    fill: #174EA6;\n",
              "  }\n",
              "\n",
              "  [theme=dark] .colab-df-quickchart {\n",
              "    background-color: #3B4455;\n",
              "    fill: #D2E3FC;\n",
              "  }\n",
              "\n",
              "  [theme=dark] .colab-df-quickchart:hover {\n",
              "    background-color: #434B5C;\n",
              "    box-shadow: 0px 1px 3px 1px rgba(0, 0, 0, 0.15);\n",
              "    filter: drop-shadow(0px 1px 2px rgba(0, 0, 0, 0.3));\n",
              "    fill: #FFFFFF;\n",
              "  }\n",
              "</style>\n",
              "\n",
              "    <script>\n",
              "      async function quickchart(key) {\n",
              "        const containerElement = document.querySelector('#' + key);\n",
              "        const charts = await google.colab.kernel.invokeFunction(\n",
              "            'suggestCharts', [key], {});\n",
              "      }\n",
              "    </script>\n",
              "\n",
              "      <script>\n",
              "\n",
              "function displayQuickchartButton(domScope) {\n",
              "  let quickchartButtonEl =\n",
              "    domScope.querySelector('#df-27a15575-c72a-43f3-a2af-e0ee65638f7b button.colab-df-quickchart');\n",
              "  quickchartButtonEl.style.display =\n",
              "    google.colab.kernel.accessAllowed ? 'block' : 'none';\n",
              "}\n",
              "\n",
              "        displayQuickchartButton(document);\n",
              "      </script>\n",
              "      <style>\n",
              "    .colab-df-container {\n",
              "      display:flex;\n",
              "      flex-wrap:wrap;\n",
              "      gap: 12px;\n",
              "    }\n",
              "\n",
              "    .colab-df-convert {\n",
              "      background-color: #E8F0FE;\n",
              "      border: none;\n",
              "      border-radius: 50%;\n",
              "      cursor: pointer;\n",
              "      display: none;\n",
              "      fill: #1967D2;\n",
              "      height: 32px;\n",
              "      padding: 0 0 0 0;\n",
              "      width: 32px;\n",
              "    }\n",
              "\n",
              "    .colab-df-convert:hover {\n",
              "      background-color: #E2EBFA;\n",
              "      box-shadow: 0px 1px 2px rgba(60, 64, 67, 0.3), 0px 1px 3px 1px rgba(60, 64, 67, 0.15);\n",
              "      fill: #174EA6;\n",
              "    }\n",
              "\n",
              "    [theme=dark] .colab-df-convert {\n",
              "      background-color: #3B4455;\n",
              "      fill: #D2E3FC;\n",
              "    }\n",
              "\n",
              "    [theme=dark] .colab-df-convert:hover {\n",
              "      background-color: #434B5C;\n",
              "      box-shadow: 0px 1px 3px 1px rgba(0, 0, 0, 0.15);\n",
              "      filter: drop-shadow(0px 1px 2px rgba(0, 0, 0, 0.3));\n",
              "      fill: #FFFFFF;\n",
              "    }\n",
              "  </style>\n",
              "\n",
              "      <script>\n",
              "        const buttonEl =\n",
              "          document.querySelector('#df-aaf3febf-d914-485f-9bd6-d268e12b42c2 button.colab-df-convert');\n",
              "        buttonEl.style.display =\n",
              "          google.colab.kernel.accessAllowed ? 'block' : 'none';\n",
              "\n",
              "        async function convertToInteractive(key) {\n",
              "          const element = document.querySelector('#df-aaf3febf-d914-485f-9bd6-d268e12b42c2');\n",
              "          const dataTable =\n",
              "            await google.colab.kernel.invokeFunction('convertToInteractive',\n",
              "                                                     [key], {});\n",
              "          if (!dataTable) return;\n",
              "\n",
              "          const docLinkHtml = 'Like what you see? Visit the ' +\n",
              "            '<a target=\"_blank\" href=https://colab.research.google.com/notebooks/data_table.ipynb>data table notebook</a>'\n",
              "            + ' to learn more about interactive tables.';\n",
              "          element.innerHTML = '';\n",
              "          dataTable['output_type'] = 'display_data';\n",
              "          await google.colab.output.renderOutput(dataTable, element);\n",
              "          const docLink = document.createElement('div');\n",
              "          docLink.innerHTML = docLinkHtml;\n",
              "          element.appendChild(docLink);\n",
              "        }\n",
              "      </script>\n",
              "    </div>\n",
              "  </div>\n"
            ]
          },
          "metadata": {},
          "execution_count": 21
        }
      ]
    },
    {
      "cell_type": "code",
      "source": [
        "# get the number of missing data points in each column\n",
        "bank_data.isnull().sum()"
      ],
      "metadata": {
        "colab": {
          "base_uri": "https://localhost:8080/"
        },
        "id": "nX2V0Xv6tFff",
        "outputId": "81f78223-ca9a-45ae-ce3e-951ccdd7bcef"
      },
      "execution_count": 22,
      "outputs": [
        {
          "output_type": "execute_result",
          "data": {
            "text/plain": [
              "id                          0\n",
              "expected_recovery_amount    0\n",
              "actual_recovery_amount      0\n",
              "recovery_strategy           0\n",
              "age                         0\n",
              "sex                         0\n",
              "dtype: int64"
            ]
          },
          "metadata": {},
          "execution_count": 22
        }
      ]
    },
    {
      "cell_type": "markdown",
      "source": [
        "# #Graphical exploratory\n",
        "\n",
        "\n"
      ],
      "metadata": {
        "id": "SkzFc_zVuQrJ"
      }
    },
    {
      "cell_type": "code",
      "source": [
        "# Extract the columns for age and expected recovery amount\n",
        "age_data = bank_data[\"age\"]\n",
        "recovery_amount_data = bank_data[\"expected_recovery_amount\"]\n",
        "\n",
        "# Filter the data within the specified range ($0 to $2000)\n",
        "filtered_data = bank_data[(bank_data[\"expected_recovery_amount\"] >= 0) & (bank_data[\"expected_recovery_amount\"] <= 2000)]\n",
        "age_data_filtered= filtered_data[\"age\"]\n",
        "recovery_amount_data_filtered = filtered_data[\"expected_recovery_amount\"]\n"
      ],
      "metadata": {
        "id": "H8AKecEb5RzI"
      },
      "execution_count": 23,
      "outputs": []
    },
    {
      "cell_type": "code",
      "source": [
        "import matplotlib.pyplot as plt\n",
        "\n",
        "# # Scatter plot with different colors for male and female data points\n",
        "# plt.scatter(bank_data['expected_recovery_amount'][bank_data['sex'] == 'Male'], bank_data['age'][bank_data['sex'] == 'Male'], c='blue', label='Male')\n",
        "# plt.scatter(bank_data['expected_recovery_amount'][bank_data['sex'] == 'Female'], bank_data['age'][bank_data['sex'] == 'Female'], c='red', label='Female')\n",
        "\n",
        "# Assuming you have age_data and recovery_amount_data as lists/arrays containing the respective data points\n",
        "\n",
        "plt.scatter(recovery_amount_data_filtered,age_data_filtered)\n",
        "plt.xlabel(\"Expected Recovery Amount\")\n",
        "plt.ylabel(\"Age\")\n",
        "plt.title(\"Age vs. Expected Recovery Amount\")\n",
        "plt.show()"
      ],
      "metadata": {
        "colab": {
          "base_uri": "https://localhost:8080/",
          "height": 472
        },
        "id": "n2bYXYqAuozz",
        "outputId": "8e3247df-b086-49ff-a3a1-b957324a8d0d"
      },
      "execution_count": 24,
      "outputs": [
        {
          "output_type": "display_data",
          "data": {
            "text/plain": [
              "<Figure size 640x480 with 1 Axes>"
            ],
            "image/png": "[encoded data removed]"
          },
          "metadata": {}
        }
      ]
    },
    {
      "cell_type": "markdown",
      "source": [
        "  The $1000 threshold on the x-axis of the scatter plot. This is the point where the transition from Level 0 to Level 1 recovery strategy occurs.\n",
        "\n",
        "  \n",
        " If we pay attention at the density of data points around the $1000 threshold there are more data points clustered (concentration of customers) after the 1000 when we use the Level 1 recovery strategy."
      ],
      "metadata": {
        "id": "6faI5RaG7AWG"
      }
    },
    {
      "cell_type": "markdown",
      "source": [
        "#Statistical test:\n",
        "\n",
        "\n",
        "---\n",
        "\n",
        "\n",
        "**age vs. expected recovery amount**"
      ],
      "metadata": {
        "id": "2m-ESaq3upPO"
      }
    },
    {
      "cell_type": "markdown",
      "source": [
        "Divide the dataset into two groups based on the expected recovery amount, one group just above the $1000 threshold and another group just below the threshold."
      ],
      "metadata": {
        "id": "ESTqTRZCZNLS"
      }
    },
    {
      "cell_type": "code",
      "source": [
        "from scipy.stats import ttest_ind\n",
        "\n",
        "# Create two data subsets based on the threshold\n",
        "above_threshold_data = age_data_filtered[recovery_amount_data_filtered > 1000]\n",
        "below_threshold_data = age_data_filtered[recovery_amount_data_filtered <= 1000]\n",
        "\n",
        "# Perform the t-test\n",
        "t_stat, p_value = ttest_ind(above_threshold_data, below_threshold_data)\n",
        "\n",
        "# Set the significance level (alpha)\n",
        "alpha = 0.05\n",
        "\n",
        "# Check if the p-value is less than the significance level\n",
        "if p_value < alpha:\n",
        "    print(\"There is a significant difference in age across the $1000 threshold.\")\n",
        "else:\n",
        "    print(\"There is no significant difference in age across the $1000 threshold.\")"
      ],
      "metadata": {
        "colab": {
          "base_uri": "https://localhost:8080/"
        },
        "id": "MFg-A_c8u0eE",
        "outputId": "6d8c0bf6-4326-4619-9138-727b3e442662"
      },
      "execution_count": 25,
      "outputs": [
        {
          "output_type": "stream",
          "name": "stdout",
          "text": [
            "There is a significant difference in age across the $1000 threshold.\n"
          ]
        }
      ]
    },
    {
      "cell_type": "markdown",
      "source": [
        " If the p-value is less than the chosen significance level (usually 0.05), you can reject the null hypothesis and conclude that there is a significant difference in age across the $1000 threshold. Otherwise, you cannot reject the null hypothesis, suggesting no significant difference in age between the two groups."
      ],
      "metadata": {
        "id": "TwSOR37nYlUO"
      }
    },
    {
      "cell_type": "markdown",
      "source": [
        "Interpretation:\n",
        "The significant difference in age between the two groups suggests that age may be a factor influencing the bank's decision to assign customers to different recovery strategies. Specifically, customers above the $1000 threshold and those below it exhibit distinct average ages, indicating that age plays a role in determining which recovery strategy the bank employs for individual customers.texte en gras"
      ],
      "metadata": {
        "id": "fbJkcmuBZ-WD"
      }
    },
    {
      "cell_type": "markdown",
      "source": [
        "\n",
        "\n",
        "---\n",
        "\n",
        "**sex vs. expected recovery**\n"
      ],
      "metadata": {
        "id": "KnLiXWoVar7c"
      }
    },
    {
      "cell_type": "markdown",
      "source": [
        "The chi-square test will help you determine if there is a significant difference in the distribution of sex (male and female) across the threshold.\n",
        "\n"
      ],
      "metadata": {
        "id": "_teDdXahazn0"
      }
    },
    {
      "cell_type": "code",
      "source": [
        "from scipy.stats import chi2_contingency\n",
        "\n",
        "# Assuming you have the data already loaded and filtered in gender_data and recovery_amount_data_filtered as shown in previous steps.\n",
        "\n",
        "# Create the contingency table\n",
        "above_threshold_male = len(bank_data[(recovery_amount_data_filtered > 1000) & (bank_data == 'Male')])\n",
        "above_threshold_female = len(bank_data[(recovery_amount_data_filtered > 1000) & (bank_data == 'Female')])\n",
        "below_threshold_male = len(bank_data[(recovery_amount_data_filtered <= 1000) & (bank_data == 'Male')])\n",
        "below_threshold_female = len(bank_data[(recovery_amount_data_filtered <= 1000) & (bank_data == 'Female')])\n",
        "\n",
        "contingency_table = [[above_threshold_male, above_threshold_female], [below_threshold_male, below_threshold_female]]\n",
        "\n",
        "# Perform the chi-square test\n",
        "chi2_stat, p_value, dof, expected = chi2_contingency(contingency_table)\n",
        "\n",
        "# Set the significance level (alpha)\n",
        "alpha = 0.05\n",
        "\n",
        "# Check if the p-value is less than the significance level\n",
        "if p_value < alpha:\n",
        "    print(\"There is a significant difference in sex distribution across the $1000 threshold.\")\n",
        "else:\n",
        "    print(\"There is no significant difference in sex distribution across the $1000 threshold.\")"
      ],
      "metadata": {
        "colab": {
          "base_uri": "https://localhost:8080/"
        },
        "id": "uisXr9ZreTP1",
        "outputId": "0203fefb-576d-4096-a791-5dd5ca638d82"
      },
      "execution_count": 26,
      "outputs": [
        {
          "output_type": "stream",
          "name": "stdout",
          "text": [
            "There is no significant difference in sex distribution across the $1000 threshold.\n"
          ]
        }
      ]
    },
    {
      "cell_type": "markdown",
      "source": [
        "\n",
        "\n",
        " If the p-value is less than the chosen significance level (usually 0.05), you can reject the null hypothesis and conclude that there is a significant difference in sex distribution across the $1000 threshold. Otherwise, you cannot reject the null hypothesis, suggesting no significant difference in sex distribution between the two groups."
      ],
      "metadata": {
        "id": "9ZpT23Wgrzo1"
      }
    },
    {
      "cell_type": "markdown",
      "source": [
        "Interpretation:\n",
        "The \"no significant difference\" suggests that the proportion of male customers in the group above the $1000 threshold is not significantly different from the proportion of male customers in the group below the threshold. This outcome could mean that the bank's recovery strategy assignment is not influenced by gender, or that gender is not a significant factor in predicting the expected recovery amount."
      ],
      "metadata": {
        "id": "vdi24fR7tvyV"
      }
    },
    {
      "cell_type": "markdown",
      "source": [
        "\n",
        "\n",
        "---\n",
        "**Create a scatter plot of expected recovery amount (Y) vs. actual recovery amount (X) within the range of 900 to 1100**"
      ],
      "metadata": {
        "id": "90erEnJ6zZRs"
      }
    },
    {
      "cell_type": "markdown",
      "source": [
        " You need to filter the data to include only values within the specified range ($900 to 1100)."
      ],
      "metadata": {
        "id": "hfDk5T6dz014"
      }
    },
    {
      "cell_type": "code",
      "source": [
        "import matplotlib.pyplot as plt\n",
        "\n",
        "actual_recovery_amount_data = bank_data[\"actual_recovery_amount\"]\n",
        "\n",
        "# Assuming you have expected_recovery_amount_data and actual_recovery_amount_data as lists/arrays containing the respective data points\n",
        "\n",
        "# Filter data within the specified range ($900 to $1100)\n",
        "filtered_data = [(expected, actual) for expected, actual in zip(recovery_amount_data, actual_recovery_amount_data) if 900 <= expected <= 1100]\n",
        "\n",
        "# Unzip the filtered data to separate expected and actual recovery amounts\n",
        "expected_recovery_amount_filtered, actual_recovery_amount_filtered = zip(*filtered_data)\n",
        "\n",
        "# Create the scatter plot\n",
        "plt.scatter(expected_recovery_amount_filtered, actual_recovery_amount_filtered)\n",
        "plt.xlabel(\"Expected Recovery Amount\")\n",
        "plt.ylabel(\"Actual Recovery Amount\")\n",
        "plt.title(\"Actual Recovery Amount vs. Expected Recovery Amount\")\n",
        "plt.show()"
      ],
      "metadata": {
        "colab": {
          "base_uri": "https://localhost:8080/",
          "height": 472
        },
        "id": "Hkt_3NJzxsu4",
        "outputId": "a84994fc-26fa-4054-947a-c623dcdf1443"
      },
      "execution_count": 27,
      "outputs": [
        {
          "output_type": "display_data",
          "data": {
            "text/plain": [
              "<Figure size 640x480 with 1 Axes>"
            ],
            "image/png": "[encoded data removed]"
          },
          "metadata": {}
        }
      ]
    },
    {
      "cell_type": "markdown",
      "source": [
        "Interpretation:\n",
        "\n",
        "The scatter plot appears to be randomly scattered without any discernible pattern,this could mean that the recovery strategies do not have a significant impact on the actual recovery amounts or that other factors play a more dominant role in determining the recovery outcomes.\n",
        "\n",
        "There is data points cluster around specific values or form distinct groups. This could indicate different customer segments or behaviors based on their expected recovery amounts and actual recovery amounts."
      ],
      "metadata": {
        "id": "R2TTn_v53gp_"
      }
    },
    {
      "cell_type": "markdown",
      "source": [
        "\n",
        "\n",
        "---\n",
        "\n",
        "**Statistical test for the actual recovery amount**"
      ],
      "metadata": {
        "id": "W3vlRIR1u090"
      }
    },
    {
      "cell_type": "markdown",
      "source": [
        " We are going to perform the statistical analysis using the Kruskal-Wallis test to assess if there is a significant difference in the actual recovery amount above and below the $1000 threshold.\n",
        ""
      ],
      "metadata": {
        "id": "mXhkZzJLz_Eu"
      }
    },
    {
      "cell_type": "code",
      "source": [
        "from scipy.stats import kruskal\n",
        "\n",
        "# Assuming you have the data for expected_recovery_amount_data and actual_recovery_amount_data as lists/arrays containing the respective data points\n",
        "\n",
        "# Define the threshold and window ranges\n",
        "threshold = 1000\n",
        "wider_window_start = 900\n",
        "wider_window_end = 1100\n",
        "narrower_window_start = 950\n",
        "narrower_window_end = 1050\n",
        "\n",
        "# Filter data within the specified wider window ($900 to $1100)\n",
        "wider_window_data = [actual for expected, actual in zip(recovery_amount_data, actual_recovery_amount_data) if wider_window_start <= expected <= wider_window_end]\n",
        "\n",
        "# Filter data within the specified narrower window ($950 to $1050)\n",
        "narrower_window_data = [actual for expected, actual in zip(recovery_amount_data, actual_recovery_amount_data) if narrower_window_start <= expected <= narrower_window_end]\n",
        "\n",
        "# Perform the Kruskal-Wallis test for both windows\n",
        "kw_stat_wider, p_value_wider = kruskal(wider_window_data[:len(wider_window_data)//2], wider_window_data[len(wider_window_data)//2:])\n",
        "kw_stat_narrower, p_value_narrower = kruskal(narrower_window_data[:len(narrower_window_data)//2], narrower_window_data[len(narrower_window_data)//2:])\n",
        "\n",
        "# Set the significance level (alpha)\n",
        "alpha = 0.05\n",
        "\n",
        "# Check if the p-values are less than the significance level\n",
        "if p_value_wider < alpha:\n",
        "    print(\"There is a significant difference in actual recovery amount between the wider window groups.\")\n",
        "else:\n",
        "    print(\"There is no significant difference in actual recovery amount between the wider window groups.\")\n",
        "\n",
        "if p_value_narrower < alpha:\n",
        "    print(\"There is a significant difference in actual recovery amount between the narrower window groups.\")\n",
        "else:\n",
        "    print(\"There is no significant difference in actual recovery amount between the narrower window groups.\")"
      ],
      "metadata": {
        "colab": {
          "base_uri": "https://localhost:8080/"
        },
        "id": "NDX2sYsuvPbR",
        "outputId": "31a9d018-0364-479d-e4ef-3fa117699792"
      },
      "execution_count": 28,
      "outputs": [
        {
          "output_type": "stream",
          "name": "stdout",
          "text": [
            "There is a significant difference in actual recovery amount between the wider window groups.\n",
            "There is a significant difference in actual recovery amount between the narrower window groups.\n"
          ]
        }
      ]
    },
    {
      "cell_type": "markdown",
      "source": [
        "If the p-values are less than the chosen significance level (usually 0.05), you can reject the null hypothesis and conclude that there is a significant difference in actual recovery amount between the groups. Otherwise, you cannot reject the null hypothesis, suggesting no significant difference in actual recovery amount between the groups.\n",
        "\n"
      ],
      "metadata": {
        "id": "BumjCtDY2Ib9"
      }
    },
    {
      "cell_type": "markdown",
      "source": [
        "Interpretation:\n",
        "- Wider Window (e.g., $900 to 1100):\n",
        "\n",
        "This suggests that there is a significant difference in the actual recovery amount between the two groups (above and below the $1000 threshold) within the wider window. In other words, the recovery strategy level (higher or lower recovery strategy) does have a significant impact on the actual recovery amount within this broader range of expected recovery amounts.\n",
        "\n",
        "- Narrower Window (e.g., $950 to 1050):\n",
        "\n",
        "This indicates that there is a significant difference in the actual recovery amount between the two groups (above and below the $1000 threshold) within the narrower window. In other words, the recovery strategy level has a significant impact on the actual recovery amount within this more restricted range of expected recovery amounts."
      ],
      "metadata": {
        "id": "V1aTWsjr3N1k"
      }
    },
    {
      "cell_type": "markdown",
      "source": [
        "Based on the results of the Kruskal-Wallis test for both the wider and narrower windows, we can conclude that the recovery strategy level (higher or lower recovery strategy) has a statistically significant impact on the actual recovery amount for customers whose expected recovery amounts fall within the respective windows. The higher recovery strategy (Level 1) implemented for customers above the $1000 threshold leads to significantly different actual recovery amounts compared to the lower recovery strategy (Level 0) for customers below the threshold, both in the wider and narrower windows of expected recovery amounts.\n",
        "\n",
        "These findings support the bank's implementation of different recovery strategies based on expected recovery amounts and suggest that the incremental effort and cost associated with the higher recovery strategy are worthwhile, as it leads to a significant increase in the actual recovery amount for customers just above and below the $1000 threshold."
      ],
      "metadata": {
        "id": "N4ZAUrnVeRFJ"
      }
    },
    {
      "cell_type": "markdown",
      "source": [
        "\n",
        "---\n",
        "\n",
        " **Regression model without a threshold**\n"
      ],
      "metadata": {
        "id": "6aaW3hwivP0L"
      }
    },
    {
      "cell_type": "markdown",
      "source": [
        "To build the regression model we will use a statistical library 'statsmodels'. Specifically, you can use the ordinary least squares (OLS) regression method to estimate the relationship between the two variables; expected recovery amount (independent variable, X) and actual recovery amount (dependent variable, Y)."
      ],
      "metadata": {
        "id": "ZDMTdS-9-UXP"
      }
    },
    {
      "cell_type": "code",
      "source": [
        "import statsmodels.api as sm\n",
        "\n",
        "# Assuming you have expected_recovery_amount_data and actual_recovery_amount_data as lists/arrays containing the respective data points\n",
        "\n",
        "# Prepare the data as a DataFrame\n",
        "data = pd.DataFrame({'Expected Recovery Amount': recovery_amount_data, 'Actual Recovery Amount': actual_recovery_amount_data})\n",
        "\n",
        "# Add a constant term to the independent variable for the intercept in the regression model\n",
        "data['Intercept'] = 1\n",
        "\n",
        "# Define the independent and dependent variables\n",
        "X = data[['Intercept', 'Expected Recovery Amount']]\n",
        "Y = data['Actual Recovery Amount']\n",
        "\n",
        "# Build the regression model\n",
        "model = sm.OLS(Y, X).fit()\n",
        "\n",
        "# Get the model summary to assess the strength and significance of the relationship\n",
        "print(model.summary())"
      ],
      "metadata": {
        "colab": {
          "base_uri": "https://localhost:8080/"
        },
        "id": "NHMV4IwfvacC",
        "outputId": "fcd8b5b3-9b5a-441c-a22d-add00d6a05ca"
      },
      "execution_count": 29,
      "outputs": [
        {
          "output_type": "stream",
          "name": "stdout",
          "text": [
            "                              OLS Regression Results                              \n",
            "==================================================================================\n",
            "Dep. Variable:     Actual Recovery Amount   R-squared:                       0.817\n",
            "Model:                                OLS   Adj. R-squared:                  0.817\n",
            "Method:                     Least Squares   F-statistic:                     8378.\n",
            "Date:                    Thu, 20 Jul 2023   Prob (F-statistic):               0.00\n",
            "Time:                            19:47:18   Log-Likelihood:                -16936.\n",
            "No. Observations:                    1882   AIC:                         3.388e+04\n",
            "Df Residuals:                        1880   BIC:                         3.389e+04\n",
            "Df Model:                               1                                         \n",
            "Covariance Type:                nonrobust                                         \n",
            "============================================================================================\n",
            "                               coef    std err          t      P>|t|      [0.025      0.975]\n",
            "--------------------------------------------------------------------------------------------\n",
            "Intercept                -1650.4994     76.506    -21.573      0.000   -1800.545   -1500.454\n",
            "Expected Recovery Amount     2.0477      0.022     91.530      0.000       2.004       2.092\n",
            "==============================================================================\n",
            "Omnibus:                     1477.262   Durbin-Watson:                   2.090\n",
            "Prob(Omnibus):                  0.000   Jarque-Bera (JB):            77458.302\n",
            "Skew:                           3.224   Prob(JB):                         0.00\n",
            "Kurtosis:                      33.761   Cond. No.                     5.79e+03\n",
            "==============================================================================\n",
            "\n",
            "Notes:\n",
            "[1] Standard Errors assume that the covariance matrix of the errors is correctly specified.\n",
            "[2] The condition number is large, 5.79e+03. This might indicate that there are\n",
            "strong multicollinearity or other numerical problems.\n"
          ]
        }
      ]
    },
    {
      "cell_type": "markdown",
      "source": [
        "Interpretation:\n",
        "\n",
        "The regression model aims to predict the \"Actual Recovery Amount\" based on the \"Expected Recovery Amount\" for the data with 1,882 observations.\n",
        "Here's what each part of the summary means:\n",
        "\n",
        "Coefficients:\n",
        "\n",
        "Intercept: The intercept term in the regression model is -1650.4994. It represents the estimated actual recovery amount when the expected recovery amount is zero. However, in this context, it may not have practical significance since there are no expected recovery amounts close to zero in your dataset.\n",
        "\n",
        "Expected Recovery Amount: The coefficient for \"Expected Recovery Amount\" is 2.0477. It indicates that for each unit increase in the expected recovery amount, the actual recovery amount is estimated to increase by approximately $2.05. This positive coefficient suggests that there is a positive relationship between the expected recovery amount and the actual recovery amount.\n",
        "\n",
        "**R-squared and Adj. R-squared:**\n",
        "\n",
        "R-squared: The R-squared value is 0.817, which means that approximately 81.7% of the variance in the actual recovery amount can be explained by the linear relationship with the expected recovery amount. A higher R-squared value suggests that the model explains a significant portion of the variability in the actual recovery amount based on the expected recovery amount.\n",
        "\n",
        "Adj. R-squared: The adjusted R-squared value is also 0.817. It is similar to R-squared but takes into account the number of independent variables in the model. In your case, it is the same as R-squared because there is only one independent variable (Expected Recovery Amount).\n",
        "\n",
        "**F-statistic and Prob (F-statistic):**\n",
        "\n",
        "F-statistic: The F-statistic is 8378, indicating the overall significance of the model. A high F-statistic suggests that the model as a whole is statistically significant in predicting the actual recovery amount based on the expected recovery amount.\n",
        "\n",
        "Prob (F-statistic): The p-value associated with the F-statistic is 0.00, which means that the model is statistically significant at any reasonable significance level (e.g., 0.05). It indicates strong evidence against the null hypothesis, suggesting that at least one of the regression coefficients is not zero.\n",
        "\n",
        "**AIC and BIC:**\n",
        "\n",
        "AIC (Akaike Information Criterion): The AIC value is 33,880. A lower AIC value suggests a better fit of the model, but it is typically used to compare different models rather than being interpreted on its own.\n",
        "\n",
        "BIC (Bayesian Information Criterion): The BIC value is 33,890. Similar to AIC, it is used for model comparison, and a lower BIC value indicates a better-fitted model.\n",
        "\n",
        "**Omnibus, Prob(Omnibus), Skew, Kurtosis:**\n",
        "\n",
        "Omnibus: The Omnibus test checks for normality of the residuals. In this case, the Omnibus test has a p-value of 0.000, suggesting that the residuals are not normally distributed.\n",
        "\n",
        "Prob(Omnibus): The p-value associated with the Omnibus test indicates that there is strong evidence against the null hypothesis of normality.\n",
        "\n",
        "Skew: The skewness of 3.224 indicates that the distribution of the residuals is positively skewed.\n",
        "\n",
        "Kurtosis: The kurtosis of 33.761 suggests that the residuals have heavy tails, indicating a significant amount of outliers in the data.\n",
        "\n",
        "**Durbin-Watson:**\n",
        "\n",
        "The Durbin-Watson statistic tests for autocorrelation of the residuals. In this case, the value of 2.090 suggests that there is little to no autocorrelation in the residuals.\n",
        "\n",
        "**Jarque-Bera (JB), Prob(JB):**\n",
        "\n",
        "The Jarque-Bera test is another test for normality of the residuals. In this case, the JB statistic is 77458.302, and the p-value (Prob(JB)) is 0.00, which provides further evidence that the residuals are not normally distributed.\n",
        "\n",
        "**Cond. No. (Condition Number):**\n",
        "\n",
        "The condition number of 5.79e+03 suggests the presence of strong multicollinearity or other numerical problems in the model. Multicollinearity occurs when there are high correlations between independent variables, which can make the model less reliable.\n",
        "\n",
        "In summary, the regression model indicates a strong and significant positive relationship between the expected recovery amount and the actual recovery amount. The model explains approximately 81.7% of the variability in the actual recovery amount based on the expected recovery amount. However, it is essential to note that the residuals do not follow a normal distribution, and there might be multicollinearity or other numerical issues in the model. Further diagnostics and model refinement may be necessary to improve the model's performance"
      ],
      "metadata": {
        "id": "NxRrl2ehqNto"
      }
    },
    {
      "cell_type": "markdown",
      "source": [
        "\n",
        "\n",
        "\n",
        "---\n",
        "**Regression model with an indicator for the true threshold**\n",
        "\n"
      ],
      "metadata": {
        "id": "NSs9pFZRzeWP"
      }
    },
    {
      "cell_type": "markdown",
      "source": [
        "To build the regression model we will use a statistical library 'statsmodels' with the indicator variable (Add a new binary variable to the data, which takes the value of 1 if the expected recovery amount is above $1000 and 0 if it is below or equal to 1000) and the expected recovery amount as predictors."
      ],
      "metadata": {
        "id": "CUU1xAaezwmI"
      }
    },
    {
      "cell_type": "code",
      "source": [
        "\n",
        "# Prepare the data as a DataFrame\n",
        "data = pd.DataFrame({'Expected Recovery Amount': recovery_amount_data, 'Actual Recovery Amount': actual_recovery_amount_data})\n",
        "\n",
        "# Add a binary indicator variable for the true threshold (above vs. below $1000)\n",
        "data['Above Threshold'] = (data['Expected Recovery Amount'] > 1000).astype(int)\n",
        "\n",
        "# Add a constant term to the independent variables for the intercept in the regression model\n",
        "data['Intercept'] = 1\n",
        "\n",
        "# Define the independent variables (including the intercept and the indicator variable)\n",
        "X = data[['Intercept', 'Expected Recovery Amount', 'Above Threshold']]\n",
        "\n",
        "# Define the dependent variable\n",
        "Y = data['Actual Recovery Amount']\n",
        "\n",
        "# Build the regression model\n",
        "model = sm.OLS(Y, X).fit()\n",
        "\n",
        "# Get the model summary to assess the fit and significance of the coefficients\n",
        "print(model.summary())"
      ],
      "metadata": {
        "colab": {
          "base_uri": "https://localhost:8080/"
        },
        "id": "LVUIa-jo1R_k",
        "outputId": "c4d64f25-6789-41ac-efa7-7e358f85dd5c"
      },
      "execution_count": 30,
      "outputs": [
        {
          "output_type": "stream",
          "name": "stdout",
          "text": [
            "                              OLS Regression Results                              \n",
            "==================================================================================\n",
            "Dep. Variable:     Actual Recovery Amount   R-squared:                       0.819\n",
            "Model:                                OLS   Adj. R-squared:                  0.818\n",
            "Method:                     Least Squares   F-statistic:                     4242.\n",
            "Date:                    Thu, 20 Jul 2023   Prob (F-statistic):               0.00\n",
            "Time:                            19:47:18   Log-Likelihood:                -16926.\n",
            "No. Observations:                    1882   AIC:                         3.386e+04\n",
            "Df Residuals:                        1879   BIC:                         3.387e+04\n",
            "Df Model:                               2                                         \n",
            "Covariance Type:                nonrobust                                         \n",
            "============================================================================================\n",
            "                               coef    std err          t      P>|t|      [0.025      0.975]\n",
            "--------------------------------------------------------------------------------------------\n",
            "Intercept                -1202.1199    125.637     -9.568      0.000   -1448.522    -955.718\n",
            "Expected Recovery Amount     2.0877      0.024     87.048      0.000       2.041       2.135\n",
            "Above Threshold           -643.3944    143.424     -4.486      0.000    -924.682    -362.107\n",
            "==============================================================================\n",
            "Omnibus:                     1473.046   Durbin-Watson:                   2.113\n",
            "Prob(Omnibus):                  0.000   Jarque-Bera (JB):            79375.610\n",
            "Skew:                           3.198   Prob(JB):                         0.00\n",
            "Kurtosis:                      34.166   Cond. No.                     1.38e+04\n",
            "==============================================================================\n",
            "\n",
            "Notes:\n",
            "[1] Standard Errors assume that the covariance matrix of the errors is correctly specified.\n",
            "[2] The condition number is large, 1.38e+04. This might indicate that there are\n",
            "strong multicollinearity or other numerical problems.\n"
          ]
        }
      ]
    },
    {
      "cell_type": "markdown",
      "source": [
        " Interpretation the OLS regression results with the inclusion of the true threshold (Above Threshold) indicator variable:\n",
        "\n",
        "\n",
        "The regression model aims to predict the \"Actual Recovery Amount\" based on the \"Expected Recovery Amount\" and an indicator variable for the true threshold (Above Threshold) for the data with 1,882 observations. Here's what each part of the summary means:\n",
        "\n",
        "**Coefficients:**\n",
        "\n",
        "Intercept: The intercept term in the regression model is -1202.1199. It represents the estimated actual recovery amount when both the \"Expected Recovery Amount\" and \"Above Threshold\" are zero. However, in this context, it may not have practical significance since there are no expected recovery amounts close to zero in your dataset.\n",
        "\n",
        "Expected Recovery Amount: The coefficient for \"Expected Recovery Amount\" is 2.0877. It indicates that for each unit increase in the expected recovery amount, the actual recovery amount is estimated to increase by approximately $2.09. This positive coefficient suggests that there is a positive relationship between the expected recovery amount and the actual recovery amount.\n",
        "\n",
        "Above Threshold: The coefficient for the \"Above Threshold\" indicator variable is -643.3944. Since the indicator variable takes a value of 1 for customers above the $1000 threshold and 0 for customers below or equal to the threshold, this coefficient represents the difference in the actual recovery amount between the two groups. A negative coefficient indicates that being above the threshold is associated with a lower actual recovery amount compared to being below the threshold.\n",
        "\n",
        "**R-squared and Adj. R-squared:**\n",
        "\n",
        "R-squared: The R-squared value is 0.819, which means that approximately 81.9% of the variance in the actual recovery amount can be explained by the linear relationship with the expected recovery amount and the \"Above Threshold\" indicator variable. This indicates a strong fit of the model to the data.\n",
        "\n",
        "Adj. R-squared: The adjusted R-squared value is 0.818. It is similar to R-squared but takes into account the number of independent variables in the model. The fact that the adjusted R-squared is slightly lower than the R-squared suggests that adding the \"Above Threshold\" indicator variable does not provide a substantial improvement in the model's fit.\n",
        "\n",
        "**F-statistic and Prob (F-statistic):**\n",
        "\n",
        "F-statistic: The F-statistic is 4242, indicating the overall significance of the model with both predictors. A high F-statistic suggests that the model as a whole is statistically significant in predicting the actual recovery amount.\n",
        "\n",
        "Prob (F-statistic): The p-value associated with the F-statistic is 0.00, which means that the model with both predictors is statistically significant at any reasonable significance level (e.g., 0.05). It indicates strong evidence against the null hypothesis, suggesting that the regression coefficients are not all zero.\n",
        "\n",
        "**Omnibus, Prob(Omnibus), Skew, Kurtosis:**\n",
        "\n",
        "Omnibus: The Omnibus test checks for normality of the residuals. In this case, the Omnibus test has a p-value of 0.000, suggesting that the residuals are not normally distributed.\n",
        "\n",
        "Prob(Omnibus): The p-value associated with the Omnibus test indicates that there is strong evidence against the null hypothesis of normality.\n",
        "\n",
        "Skew: The skewness of 3.198 indicates that the distribution of the residuals is positively skewed.\n",
        "\n",
        "Kurtosis: The kurtosis of 34.166 suggests that the residuals have heavy tails, indicating a significant amount of outliers in the data.\n",
        "\n",
        "**Durbin-Watson:**\n",
        "\n",
        "The Durbin-Watson statistic tests for autocorrelation of the residuals. In this case, the value of 2.113 suggests that there is little to no autocorrelation in the residuals.\n",
        "\n",
        "**Cond. No. (Condition Number):**\n",
        "\n",
        "The condition number of 1.38e+04 suggests the presence of strong multicollinearity or other numerical problems in the model. Multicollinearity occurs when there are high correlations between independent variables, which can make the model less reliable.\n",
        "\n",
        "In summary, the regression model with both the \"Expected Recovery Amount\" and \"Above Threshold\" indicator variable has a strong fit to the data, as indicated by the high R-squared value. However, the \"Above Threshold\" coefficient is statistically significant and has a negative sign, suggesting that customers above the $1000 threshold have a lower actual recovery amount compared to customers below the threshold. This finding may warrant further investigation and consideration when implementing recovery strategies for different customer groups. Additionally, the presence of non-normality in the residuals and potential multicollinearity should be taken into account when interpreting the model results."
      ],
      "metadata": {
        "id": "hB3l_GwA2R4U"
      }
    },
    {
      "cell_type": "markdown",
      "source": [
        "\n",
        "\n",
        "\n",
        "---\n",
        "\n",
        "**Adjusting the window**"
      ],
      "metadata": {
        "id": "y8NN6xKP97Td"
      }
    },
    {
      "cell_type": "markdown",
      "source": [
        "Select only the data points where the expected recovery amount is within the new window ($950 to $1050).\n",
        "\n"
      ],
      "metadata": {
        "id": "gcOu1jGl_wum"
      }
    },
    {
      "cell_type": "code",
      "source": [
        "# Prepare the data as a DataFrame\n",
        "data = pd.DataFrame({'Expected Recovery Amount': recovery_amount_data, 'Actual Recovery Amount': actual_recovery_amount_data})\n",
        "\n",
        "# Filter the data within the new window ($950 to $1050)\n",
        "data_filtered = data[(data['Expected Recovery Amount'] >= 950) & (data['Expected Recovery Amount'] <= 1050)]\n",
        "\n",
        "# Add a binary indicator variable for the true threshold (Above Threshold)\n",
        "data_filtered['Above Threshold'] = (data_filtered['Expected Recovery Amount'] > 1000).astype(int)\n",
        "\n",
        "# Add a constant term to the independent variables for the intercept in the regression model\n",
        "data_filtered['Intercept'] = 1\n",
        "\n",
        "# Define the independent variables (including the intercept and the indicator variable)\n",
        "X = data_filtered[['Intercept', 'Expected Recovery Amount', 'Above Threshold']]\n",
        "\n",
        "# Define the dependent variable\n",
        "Y = data_filtered['Actual Recovery Amount']\n",
        "\n",
        "# Build the regression model\n",
        "model = sm.OLS(Y, X).fit()\n",
        "\n",
        "# Get the model summary to assess the fit and significance of the coefficients\n",
        "print(model.summary())"
      ],
      "metadata": {
        "colab": {
          "base_uri": "https://localhost:8080/"
        },
        "id": "KQ_wkAILAXhv",
        "outputId": "88425b10-06b6-4680-807e-22dbc39705c0"
      },
      "execution_count": 32,
      "outputs": [
        {
          "output_type": "stream",
          "name": "stdout",
          "text": [
            "                              OLS Regression Results                              \n",
            "==================================================================================\n",
            "Dep. Variable:     Actual Recovery Amount   R-squared:                       0.270\n",
            "Model:                                OLS   Adj. R-squared:                  0.255\n",
            "Method:                     Least Squares   F-statistic:                     17.90\n",
            "Date:                    Thu, 20 Jul 2023   Prob (F-statistic):           2.42e-07\n",
            "Time:                            20:33:27   Log-Likelihood:                -700.65\n",
            "No. Observations:                     100   AIC:                             1407.\n",
            "Df Residuals:                          97   BIC:                             1415.\n",
            "Df Model:                               2                                         \n",
            "Covariance Type:                nonrobust                                         \n",
            "============================================================================================\n",
            "                               coef    std err          t      P>|t|      [0.025      0.975]\n",
            "--------------------------------------------------------------------------------------------\n",
            "Intercept                -1102.7036   1840.645     -0.599      0.551   -4755.875    2550.468\n",
            "Expected Recovery Amount     1.7713      1.885      0.939      0.350      -1.971       5.513\n",
            "Above Threshold            229.6714    112.491      2.042      0.044       6.408     452.935\n",
            "==============================================================================\n",
            "Omnibus:                       39.950   Durbin-Watson:                   1.893\n",
            "Prob(Omnibus):                  0.000   Jarque-Bera (JB):               83.782\n",
            "Skew:                           1.581   Prob(JB):                     6.41e-19\n",
            "Kurtosis:                       6.179   Cond. No.                     6.80e+04\n",
            "==============================================================================\n",
            "\n",
            "Notes:\n",
            "[1] Standard Errors assume that the covariance matrix of the errors is correctly specified.\n",
            "[2] The condition number is large, 6.8e+04. This might indicate that there are\n",
            "strong multicollinearity or other numerical problems.\n"
          ]
        },
        {
          "output_type": "stream",
          "name": "stderr",
          "text": [
            "<ipython-input-32-01c0fa3bc68c>:8: SettingWithCopyWarning: \n",
            "A value is trying to be set on a copy of a slice from a DataFrame.\n",
            "Try using .loc[row_indexer,col_indexer] = value instead\n",
            "\n",
            "See the caveats in the documentation: https://pandas.pydata.org/pandas-docs/stable/user_guide/indexing.html#returning-a-view-versus-a-copy\n",
            "  data_filtered['Above Threshold'] = (data_filtered['Expected Recovery Amount'] > 1000).astype(int)\n",
            "<ipython-input-32-01c0fa3bc68c>:11: SettingWithCopyWarning: \n",
            "A value is trying to be set on a copy of a slice from a DataFrame.\n",
            "Try using .loc[row_indexer,col_indexer] = value instead\n",
            "\n",
            "See the caveats in the documentation: https://pandas.pydata.org/pandas-docs/stable/user_guide/indexing.html#returning-a-view-versus-a-copy\n",
            "  data_filtered['Intercept'] = 1\n"
          ]
        }
      ]
    },
    {
      "cell_type": "markdown",
      "source": [
        "Interpretation:\n",
        "The regression model aims to predict the \"Actual Recovery Amount\" based on the \"Expected Recovery Amount\" and an indicator variable for the true threshold (Above Threshold) for the data with 100 observations. Here's what each part of the summary means:\n",
        "\n",
        "**Coefficients:**\n",
        "\n",
        "Intercept: The intercept term in the regression model is -1102.7036. It represents the estimated actual recovery amount when both the \"Expected Recovery Amount\" and \"Above Threshold\" are zero. However, in this context, it may not have practical significance since there are no expected recovery amounts close to zero in your dataset.\n",
        "\n",
        "Expected Recovery Amount: The coefficient for \"Expected Recovery Amount\" is 1.7713. It indicates that for each unit increase in the expected recovery amount, the actual recovery amount is estimated to increase by approximately $1.77. However, this coefficient is not statistically significant at the conventional significance level (e.g., 0.05), as indicated by the p-value (0.350). This suggests that there is no strong evidence that the expected recovery amount has a significant impact on the actual recovery amount in this model.\n",
        "\n",
        "Above Threshold: The coefficient for the \"Above Threshold\" indicator variable is 229.6714. Since the indicator variable takes a value of 1 for customers above the 1000 threshold and 0 for customers below or equal to the threshold, this coefficient represents the difference in the actual recovery amount between the two groups. The coefficient is positive, indicating that being above the threshold is associated with a higher actual recovery amount compared to being below the threshold. This coefficient is statistically significant at the 0.05 significance level (p-value = 0.044), suggesting that being above the $1000 threshold has a significant impact on the actual recovery amount in this model.\n",
        "\n",
        "R-squared and Adj. R-squared:\n",
        "\n",
        "R-squared: The R-squared value is 0.270, which means that approximately 27.0% of the variance in the actual recovery amount can be explained by the linear relationship with the \"Expected Recovery Amount\" and \"Above Threshold\" indicator variable. This indicates a moderate fit of the model to the data.\n",
        "\n",
        "Adj. R-squared: The adjusted R-squared value is 0.255. It is similar to R-squared but takes into account the number of independent variables in the model. The fact that the adjusted R-squared is slightly lower than the R-squared suggests that the model may not be the best fit for the data.\n",
        "\n",
        "F-statistic and Prob (F-statistic):\n",
        "\n",
        "F-statistic: The F-statistic is 17.90, indicating the overall significance of the model with both predictors. However, a relatively low F-statistic compared to the previous models suggests that the model may not provide a strong fit to the data.\n",
        "\n",
        "Prob (F-statistic): The p-value associated with the F-statistic is 2.42e-07, which means that the model with both predictors is statistically significant at any reasonable significance level (e.g., 0.05). This indicates strong evidence against the null hypothesis, suggesting that at least one of the predictors has a significant impact on the actual recovery amount.\n",
        "\n",
        "Omnibus, Prob(Omnibus), Skew, Kurtosis:\n",
        "\n",
        "These statistics have similar interpretations to the previous models. The presence of non-normality in the residuals and potential multicollinearity should be taken into account when interpreting the model results.\n",
        "In summary, the regression model with the \"Expected Recovery Amount\" and \"Above Threshold\" indicator variable shows mixed results. The \"Above Threshold\" variable has a statistically significant and positive impact on the actual recovery amount, suggesting that being above the $1000 threshold is associated with a higher actual recovery amount. However, the \"Expected Recovery Amount\" variable is not statistically significant, indicating that it may not have a significant impact on the actual recovery amount in this model.\n",
        "\n",
        "The R-squared value suggests that the model explains a moderate amount of the variance in the actual recovery amount, but the relatively low R-squared and adjusted R-squared values and the lower F-statistic compared to previous models suggest that the model may not provide the best fit to the data. Further investigation and analysis may be required to understand the relationship between the predictors and the actual recovery amount more comprehensively."
      ],
      "metadata": {
        "id": "dnIwokxcBMmf"
      }
    }
  ]
}